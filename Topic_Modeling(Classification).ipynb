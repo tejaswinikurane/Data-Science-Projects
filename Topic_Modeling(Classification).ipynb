{
  "nbformat": 4,
  "nbformat_minor": 0,
  "metadata": {
    "colab": {
      "name": "Topic Modeling(Classification)",
      "provenance": [],
      "collapsed_sections": []
    },
    "kernelspec": {
      "display_name": "Python 3",
      "language": "python",
      "name": "python3"
    },
    "language_info": {
      "codemirror_mode": {
        "name": "ipython",
        "version": 3
      },
      "file_extension": ".py",
      "mimetype": "text/x-python",
      "name": "python",
      "nbconvert_exporter": "python",
      "pygments_lexer": "ipython3",
      "version": "3.8.8"
    }
  },
  "cells": [
    {
      "cell_type": "markdown",
      "metadata": {
        "id": "0py540iEyHH0"
      },
      "source": [
        "# **Topic Modeling(Model Building)**"
      ]
    },
    {
      "cell_type": "markdown",
      "metadata": {
        "id": "PDniKR05dB1m"
      },
      "source": [
        "###**Importing Libraries**"
      ]
    },
    {
      "cell_type": "code",
      "metadata": {
        "colab": {
          "base_uri": "https://localhost:8080/"
        },
        "id": "RBwYg13lafmX",
        "outputId": "5c89a930-480c-404b-e77f-76eccbdb3298"
      },
      "source": [
        "import pandas as pd\n",
        "import numpy as np \n",
        "import matplotlib.pyplot as plt\n",
        "import seaborn as sns\n",
        "%matplotlib inline\n",
        "\n",
        "import warnings\n",
        "warnings.filterwarnings('ignore')\n",
        "from wordcloud import WordCloud,STOPWORDS\n",
        "\n",
        "from sklearn.preprocessing import LabelEncoder\n",
        "from sklearn.model_selection import train_test_split\n",
        "from sklearn.model_selection import GridSearchCV,KFold\n",
        "from sklearn.metrics import classification_report\n",
        "\n",
        "from sklearn import metrics\n",
        "from sklearn.feature_extraction.text import CountVectorizer\n",
        "from sklearn.feature_extraction.text import TfidfTransformer\n",
        "from sklearn.metrics import accuracy_score\n",
        "\n",
        "import nltk\n",
        "nltk.download('stopwords')\n",
        "nltk.download('wordnet')\n",
        "from nltk.corpus import stopwords\n",
        "from nltk.stem.wordnet import WordNetLemmatizer\n",
        "import string\n",
        "\n",
        "from sklearn.naive_bayes import MultinomialNB\n",
        "from sklearn.svm import SVC\n",
        "from sklearn.ensemble import RandomForestClassifier\n",
        "from sklearn.ensemble import BaggingClassifier\n",
        "from sklearn.tree import DecisionTreeClassifier\n",
        "from sklearn.ensemble import AdaBoostClassifier\n",
        "from sklearn.ensemble import GradientBoostingClassifier\n",
        "from xgboost import XGBClassifier"
      ],
      "execution_count": null,
      "outputs": [
        {
          "output_type": "stream",
          "text": [
            "[nltk_data] Downloading package stopwords to /root/nltk_data...\n",
            "[nltk_data]   Package stopwords is already up-to-date!\n",
            "[nltk_data] Downloading package wordnet to /root/nltk_data...\n",
            "[nltk_data]   Package wordnet is already up-to-date!\n"
          ],
          "name": "stdout"
        }
      ]
    },
    {
      "cell_type": "code",
      "metadata": {
        "colab": {
          "base_uri": "https://localhost:8080/",
          "height": 354
        },
        "id": "46Dt_YCyJUFP",
        "outputId": "3b452e8b-19ae-48d0-9c80-cd2a534ce8ec"
      },
      "source": [
        "!pip install --upgrade scikit-learn"
      ],
      "execution_count": null,
      "outputs": [
        {
          "output_type": "stream",
          "text": [
            "Requirement already satisfied: scikit-learn in /usr/local/lib/python3.7/dist-packages (0.22.2.post1)\n",
            "Collecting scikit-learn\n",
            "  Downloading scikit_learn-0.24.2-cp37-cp37m-manylinux2010_x86_64.whl (22.3 MB)\n",
            "\u001b[K     |████████████████████████████████| 22.3 MB 1.5 MB/s \n",
            "\u001b[?25hRequirement already satisfied: scipy>=0.19.1 in /usr/local/lib/python3.7/dist-packages (from scikit-learn) (1.4.1)\n",
            "Requirement already satisfied: joblib>=0.11 in /usr/local/lib/python3.7/dist-packages (from scikit-learn) (1.0.1)\n",
            "Requirement already satisfied: numpy>=1.13.3 in /usr/local/lib/python3.7/dist-packages (from scikit-learn) (1.19.5)\n",
            "Collecting threadpoolctl>=2.0.0\n",
            "  Downloading threadpoolctl-2.2.0-py3-none-any.whl (12 kB)\n",
            "Installing collected packages: threadpoolctl, scikit-learn\n",
            "  Attempting uninstall: scikit-learn\n",
            "    Found existing installation: scikit-learn 0.22.2.post1\n",
            "    Uninstalling scikit-learn-0.22.2.post1:\n",
            "      Successfully uninstalled scikit-learn-0.22.2.post1\n",
            "Successfully installed scikit-learn-0.24.2 threadpoolctl-2.2.0\n"
          ],
          "name": "stdout"
        },
        {
          "output_type": "display_data",
          "data": {
            "application/vnd.colab-display-data+json": {
              "pip_warning": {
                "packages": [
                  "sklearn"
                ]
              }
            }
          },
          "metadata": {
            "tags": []
          }
        }
      ]
    },
    {
      "cell_type": "markdown",
      "metadata": {
        "id": "f9WTqwkwwMb2"
      },
      "source": [
        "##**Load Dataset**"
      ]
    },
    {
      "cell_type": "code",
      "metadata": {
        "id": "_jDbZSXgeNxn",
        "colab": {
          "base_uri": "https://localhost:8080/",
          "height": 203
        },
        "outputId": "0c982bdc-8e4a-4eae-c555-07968c0acf21"
      },
      "source": [
        "df = df=pd.read_csv('topic_data')\n",
        "df.head()"
      ],
      "execution_count": null,
      "outputs": [
        {
          "output_type": "execute_result",
          "data": {
            "text/html": [
              "<div>\n",
              "<style scoped>\n",
              "    .dataframe tbody tr th:only-of-type {\n",
              "        vertical-align: middle;\n",
              "    }\n",
              "\n",
              "    .dataframe tbody tr th {\n",
              "        vertical-align: top;\n",
              "    }\n",
              "\n",
              "    .dataframe thead th {\n",
              "        text-align: right;\n",
              "    }\n",
              "</style>\n",
              "<table border=\"1\" class=\"dataframe\">\n",
              "  <thead>\n",
              "    <tr style=\"text-align: right;\">\n",
              "      <th></th>\n",
              "      <th>Text</th>\n",
              "      <th>Topic</th>\n",
              "    </tr>\n",
              "  </thead>\n",
              "  <tbody>\n",
              "    <tr>\n",
              "      <th>0</th>\n",
              "      <td>statistic datum apply statistic scientific ind...</td>\n",
              "      <td>Statistic</td>\n",
              "    </tr>\n",
              "    <tr>\n",
              "      <th>1</th>\n",
              "      <td>today statistic widely employ government busin...</td>\n",
              "      <td>Statistic</td>\n",
              "    </tr>\n",
              "    <tr>\n",
              "      <th>2</th>\n",
              "      <td>sample mathematical discipline probability the...</td>\n",
              "      <td>Statistic</td>\n",
              "    </tr>\n",
              "    <tr>\n",
              "      <th>3</th>\n",
              "      <td>statistic random variable function random samp...</td>\n",
              "      <td>Statistic</td>\n",
              "    </tr>\n",
              "    <tr>\n",
              "      <th>4</th>\n",
              "      <td>critical region set value estimator lead refut...</td>\n",
              "      <td>Statistic</td>\n",
              "    </tr>\n",
              "  </tbody>\n",
              "</table>\n",
              "</div>"
            ],
            "text/plain": [
              "                                                Text      Topic\n",
              "0  statistic datum apply statistic scientific ind...  Statistic\n",
              "1  today statistic widely employ government busin...  Statistic\n",
              "2  sample mathematical discipline probability the...  Statistic\n",
              "3  statistic random variable function random samp...  Statistic\n",
              "4  critical region set value estimator lead refut...  Statistic"
            ]
          },
          "metadata": {
            "tags": []
          },
          "execution_count": 2
        }
      ]
    },
    {
      "cell_type": "markdown",
      "metadata": {
        "id": "-lQSsQz7zPn3"
      },
      "source": [
        "##**Data Preprocessing**"
      ]
    },
    {
      "cell_type": "code",
      "metadata": {
        "colab": {
          "base_uri": "https://localhost:8080/",
          "height": 634
        },
        "id": "68kJMWQgxJ4J",
        "outputId": "683e06c3-fd00-48b8-ea35-5bc9ed47a0a3"
      },
      "source": [
        "df.reset_index(inplace=True)\n",
        "df = df.drop(['index'],axis=1)\n",
        "df"
      ],
      "execution_count": null,
      "outputs": [
        {
          "output_type": "execute_result",
          "data": {
            "text/html": [
              "<div>\n",
              "<style scoped>\n",
              "    .dataframe tbody tr th:only-of-type {\n",
              "        vertical-align: middle;\n",
              "    }\n",
              "\n",
              "    .dataframe tbody tr th {\n",
              "        vertical-align: top;\n",
              "    }\n",
              "\n",
              "    .dataframe thead th {\n",
              "        text-align: right;\n",
              "    }\n",
              "</style>\n",
              "<table border=\"1\" class=\"dataframe\">\n",
              "  <thead>\n",
              "    <tr style=\"text-align: right;\">\n",
              "      <th></th>\n",
              "      <th>Text</th>\n",
              "      <th>Topic</th>\n",
              "    </tr>\n",
              "  </thead>\n",
              "  <tbody>\n",
              "    <tr>\n",
              "      <th>0</th>\n",
              "      <td>statistic datum apply statistic scientific ind...</td>\n",
              "      <td>Statistic</td>\n",
              "    </tr>\n",
              "    <tr>\n",
              "      <th>1</th>\n",
              "      <td>today statistic widely employ government busin...</td>\n",
              "      <td>Statistic</td>\n",
              "    </tr>\n",
              "    <tr>\n",
              "      <th>2</th>\n",
              "      <td>sample mathematical discipline probability the...</td>\n",
              "      <td>Statistic</td>\n",
              "    </tr>\n",
              "    <tr>\n",
              "      <th>3</th>\n",
              "      <td>statistic random variable function random samp...</td>\n",
              "      <td>Statistic</td>\n",
              "    </tr>\n",
              "    <tr>\n",
              "      <th>4</th>\n",
              "      <td>critical region set value estimator lead refut...</td>\n",
              "      <td>Statistic</td>\n",
              "    </tr>\n",
              "    <tr>\n",
              "      <th>5</th>\n",
              "      <td>comprise descriptive_statistics application in...</td>\n",
              "      <td>Statistic</td>\n",
              "    </tr>\n",
              "    <tr>\n",
              "      <th>6</th>\n",
              "      <td>statistic also heavily use management accounti...</td>\n",
              "      <td>Statistic</td>\n",
              "    </tr>\n",
              "    <tr>\n",
              "      <th>7</th>\n",
              "      <td>social medium interactive technology allow cre...</td>\n",
              "      <td>Social_medium</td>\n",
              "    </tr>\n",
              "    <tr>\n",
              "      <th>8</th>\n",
              "      <td>mobile social medium useful application mobile...</td>\n",
              "      <td>Social_medium</td>\n",
              "    </tr>\n",
              "    <tr>\n",
              "      <th>9</th>\n",
              "      <td>scientist use social medium share scientific k...</td>\n",
              "      <td>Researches</td>\n",
              "    </tr>\n",
              "    <tr>\n",
              "      <th>10</th>\n",
              "      <td>presidential observe echo chamber effect selec...</td>\n",
              "      <td>Researches</td>\n",
              "    </tr>\n",
              "    <tr>\n",
              "      <th>11</th>\n",
              "      <td>also give authority block access specific webs...</td>\n",
              "      <td>Social_medium</td>\n",
              "    </tr>\n",
              "    <tr>\n",
              "      <th>12</th>\n",
              "      <td>city set activity associate make decision grou...</td>\n",
              "      <td>Researches</td>\n",
              "    </tr>\n",
              "    <tr>\n",
              "      <th>13</th>\n",
              "      <td>chinese also write political manuscript contri...</td>\n",
              "      <td>Politics</td>\n",
              "    </tr>\n",
              "    <tr>\n",
              "      <th>14</th>\n",
              "      <td>contrast voluntary theory argument believe peo...</td>\n",
              "      <td>Researches</td>\n",
              "    </tr>\n",
              "    <tr>\n",
              "      <th>15</th>\n",
              "      <td>accord political system designate interaction ...</td>\n",
              "      <td>Democracy</td>\n",
              "    </tr>\n",
              "    <tr>\n",
              "      <th>16</th>\n",
              "      <td>form political corruption include bribery cron...</td>\n",
              "      <td>Researches</td>\n",
              "    </tr>\n",
              "    <tr>\n",
              "      <th>17</th>\n",
              "      <td>theory aggregative democracy claim aim democra...</td>\n",
              "      <td>Democracy</td>\n",
              "    </tr>\n",
              "    <tr>\n",
              "      <th>18</th>\n",
              "      <td>social equality require absence legally enforc...</td>\n",
              "      <td>Democracy</td>\n",
              "    </tr>\n",
              "  </tbody>\n",
              "</table>\n",
              "</div>"
            ],
            "text/plain": [
              "                                                 Text          Topic\n",
              "0   statistic datum apply statistic scientific ind...      Statistic\n",
              "1   today statistic widely employ government busin...      Statistic\n",
              "2   sample mathematical discipline probability the...      Statistic\n",
              "3   statistic random variable function random samp...      Statistic\n",
              "4   critical region set value estimator lead refut...      Statistic\n",
              "5   comprise descriptive_statistics application in...      Statistic\n",
              "6   statistic also heavily use management accounti...      Statistic\n",
              "7   social medium interactive technology allow cre...  Social_medium\n",
              "8   mobile social medium useful application mobile...  Social_medium\n",
              "9   scientist use social medium share scientific k...     Researches\n",
              "10  presidential observe echo chamber effect selec...     Researches\n",
              "11  also give authority block access specific webs...  Social_medium\n",
              "12  city set activity associate make decision grou...     Researches\n",
              "13  chinese also write political manuscript contri...       Politics\n",
              "14  contrast voluntary theory argument believe peo...     Researches\n",
              "15  accord political system designate interaction ...      Democracy\n",
              "16  form political corruption include bribery cron...     Researches\n",
              "17  theory aggregative democracy claim aim democra...      Democracy\n",
              "18  social equality require absence legally enforc...      Democracy"
            ]
          },
          "metadata": {
            "tags": []
          },
          "execution_count": 3
        }
      ]
    },
    {
      "cell_type": "code",
      "metadata": {
        "colab": {
          "base_uri": "https://localhost:8080/",
          "height": 286
        },
        "id": "2_klNGsAzXCa",
        "outputId": "0833dd3b-be8d-4885-ddb5-2dfadfcb681d"
      },
      "source": [
        "sns.heatmap(df.isnull(),cmap=\"GnBu_r\")"
      ],
      "execution_count": null,
      "outputs": [
        {
          "output_type": "execute_result",
          "data": {
            "text/plain": [
              "<matplotlib.axes._subplots.AxesSubplot at 0x7f34b3f51c90>"
            ]
          },
          "metadata": {
            "tags": []
          },
          "execution_count": 4
        },
        {
          "output_type": "display_data",
          "data": {
            "image/png": "[encoded data removed]",
            "text/plain": [
              "<Figure size 432x288 with 2 Axes>"
            ]
          },
          "metadata": {
            "tags": [],
            "needs_background": "light"
          }
        }
      ]
    },
    {
      "cell_type": "code",
      "metadata": {
        "id": "GywvgWcjm4or"
      },
      "source": [
        "df.dropna(inplace=True)"
      ],
      "execution_count": null,
      "outputs": []
    },
    {
      "cell_type": "markdown",
      "metadata": {
        "id": "64OdLDbWw1ik"
      },
      "source": [
        "##**EDA**"
      ]
    },
    {
      "cell_type": "code",
      "metadata": {
        "colab": {
          "base_uri": "https://localhost:8080/",
          "height": 110
        },
        "id": "WpMAj3htx-xZ",
        "outputId": "b71930a5-e844-4096-cc86-0375cd30ed57"
      },
      "source": [
        "df.describe().T"
      ],
      "execution_count": null,
      "outputs": [
        {
          "output_type": "execute_result",
          "data": {
            "text/html": [
              "<div>\n",
              "<style scoped>\n",
              "    .dataframe tbody tr th:only-of-type {\n",
              "        vertical-align: middle;\n",
              "    }\n",
              "\n",
              "    .dataframe tbody tr th {\n",
              "        vertical-align: top;\n",
              "    }\n",
              "\n",
              "    .dataframe thead th {\n",
              "        text-align: right;\n",
              "    }\n",
              "</style>\n",
              "<table border=\"1\" class=\"dataframe\">\n",
              "  <thead>\n",
              "    <tr style=\"text-align: right;\">\n",
              "      <th></th>\n",
              "      <th>count</th>\n",
              "      <th>unique</th>\n",
              "      <th>top</th>\n",
              "      <th>freq</th>\n",
              "    </tr>\n",
              "  </thead>\n",
              "  <tbody>\n",
              "    <tr>\n",
              "      <th>Text</th>\n",
              "      <td>19</td>\n",
              "      <td>19</td>\n",
              "      <td>comprise descriptive_statistics application in...</td>\n",
              "      <td>1</td>\n",
              "    </tr>\n",
              "    <tr>\n",
              "      <th>Topic</th>\n",
              "      <td>19</td>\n",
              "      <td>5</td>\n",
              "      <td>Statistic</td>\n",
              "      <td>7</td>\n",
              "    </tr>\n",
              "  </tbody>\n",
              "</table>\n",
              "</div>"
            ],
            "text/plain": [
              "      count unique                                                top freq\n",
              "Text     19     19  comprise descriptive_statistics application in...    1\n",
              "Topic    19      5                                          Statistic    7"
            ]
          },
          "metadata": {
            "tags": []
          },
          "execution_count": 5
        }
      ]
    },
    {
      "cell_type": "code",
      "metadata": {
        "colab": {
          "base_uri": "https://localhost:8080/"
        },
        "id": "n9rEXxxHyfQT",
        "outputId": "8e6d2089-a086-4542-a0df-19ec27237acb"
      },
      "source": [
        "df.info()"
      ],
      "execution_count": null,
      "outputs": [
        {
          "output_type": "stream",
          "text": [
            "<class 'pandas.core.frame.DataFrame'>\n",
            "RangeIndex: 19 entries, 0 to 18\n",
            "Data columns (total 2 columns):\n",
            " #   Column  Non-Null Count  Dtype \n",
            "---  ------  --------------  ----- \n",
            " 0   Text    19 non-null     object\n",
            " 1   Topic   19 non-null     object\n",
            "dtypes: object(2)\n",
            "memory usage: 432.0+ bytes\n"
          ],
          "name": "stdout"
        }
      ]
    },
    {
      "cell_type": "markdown",
      "metadata": {
        "id": "gVUg9ELA0P6x"
      },
      "source": [
        "####Let's add a column as a part of Feature Engg to check the number of words in the Article"
      ]
    },
    {
      "cell_type": "code",
      "metadata": {
        "colab": {
          "base_uri": "https://localhost:8080/",
          "height": 634
        },
        "id": "AJu_MUS5z__y",
        "outputId": "d79c49ea-cbb4-4ce5-ef5e-7a783a029847"
      },
      "source": [
        "df['length'] = df['Text'].apply(len)\n",
        "df"
      ],
      "execution_count": null,
      "outputs": [
        {
          "output_type": "execute_result",
          "data": {
            "text/html": [
              "<div>\n",
              "<style scoped>\n",
              "    .dataframe tbody tr th:only-of-type {\n",
              "        vertical-align: middle;\n",
              "    }\n",
              "\n",
              "    .dataframe tbody tr th {\n",
              "        vertical-align: top;\n",
              "    }\n",
              "\n",
              "    .dataframe thead th {\n",
              "        text-align: right;\n",
              "    }\n",
              "</style>\n",
              "<table border=\"1\" class=\"dataframe\">\n",
              "  <thead>\n",
              "    <tr style=\"text-align: right;\">\n",
              "      <th></th>\n",
              "      <th>Text</th>\n",
              "      <th>Topic</th>\n",
              "      <th>length</th>\n",
              "    </tr>\n",
              "  </thead>\n",
              "  <tbody>\n",
              "    <tr>\n",
              "      <th>0</th>\n",
              "      <td>statistic datum apply statistic scientific ind...</td>\n",
              "      <td>Statistic</td>\n",
              "      <td>4484</td>\n",
              "    </tr>\n",
              "    <tr>\n",
              "      <th>1</th>\n",
              "      <td>today statistic widely employ government busin...</td>\n",
              "      <td>Statistic</td>\n",
              "      <td>2547</td>\n",
              "    </tr>\n",
              "    <tr>\n",
              "      <th>2</th>\n",
              "      <td>sample mathematical discipline probability the...</td>\n",
              "      <td>Statistic</td>\n",
              "      <td>5039</td>\n",
              "    </tr>\n",
              "    <tr>\n",
              "      <th>3</th>\n",
              "      <td>statistic random variable function random samp...</td>\n",
              "      <td>Statistic</td>\n",
              "      <td>4543</td>\n",
              "    </tr>\n",
              "    <tr>\n",
              "      <th>4</th>\n",
              "      <td>critical region set value estimator lead refut...</td>\n",
              "      <td>Statistic</td>\n",
              "      <td>3184</td>\n",
              "    </tr>\n",
              "    <tr>\n",
              "      <th>5</th>\n",
              "      <td>comprise descriptive_statistics application in...</td>\n",
              "      <td>Statistic</td>\n",
              "      <td>2183</td>\n",
              "    </tr>\n",
              "    <tr>\n",
              "      <th>6</th>\n",
              "      <td>statistic also heavily use management accounti...</td>\n",
              "      <td>Statistic</td>\n",
              "      <td>1556</td>\n",
              "    </tr>\n",
              "    <tr>\n",
              "      <th>7</th>\n",
              "      <td>social medium interactive technology allow cre...</td>\n",
              "      <td>Social_medium</td>\n",
              "      <td>5379</td>\n",
              "    </tr>\n",
              "    <tr>\n",
              "      <th>8</th>\n",
              "      <td>mobile social medium useful application mobile...</td>\n",
              "      <td>Social_medium</td>\n",
              "      <td>14834</td>\n",
              "    </tr>\n",
              "    <tr>\n",
              "      <th>9</th>\n",
              "      <td>scientist use social medium share scientific k...</td>\n",
              "      <td>Researches</td>\n",
              "      <td>15914</td>\n",
              "    </tr>\n",
              "    <tr>\n",
              "      <th>10</th>\n",
              "      <td>presidential observe echo chamber effect selec...</td>\n",
              "      <td>Researches</td>\n",
              "      <td>16552</td>\n",
              "    </tr>\n",
              "    <tr>\n",
              "      <th>11</th>\n",
              "      <td>also give authority block access specific webs...</td>\n",
              "      <td>Social_medium</td>\n",
              "      <td>4052</td>\n",
              "    </tr>\n",
              "    <tr>\n",
              "      <th>12</th>\n",
              "      <td>city set activity associate make decision grou...</td>\n",
              "      <td>Researches</td>\n",
              "      <td>1240</td>\n",
              "    </tr>\n",
              "    <tr>\n",
              "      <th>13</th>\n",
              "      <td>chinese also write political manuscript contri...</td>\n",
              "      <td>Politics</td>\n",
              "      <td>2995</td>\n",
              "    </tr>\n",
              "    <tr>\n",
              "      <th>14</th>\n",
              "      <td>contrast voluntary theory argument believe peo...</td>\n",
              "      <td>Researches</td>\n",
              "      <td>3844</td>\n",
              "    </tr>\n",
              "    <tr>\n",
              "      <th>15</th>\n",
              "      <td>accord political system designate interaction ...</td>\n",
              "      <td>Democracy</td>\n",
              "      <td>3734</td>\n",
              "    </tr>\n",
              "    <tr>\n",
              "      <th>16</th>\n",
              "      <td>form political corruption include bribery cron...</td>\n",
              "      <td>Researches</td>\n",
              "      <td>2739</td>\n",
              "    </tr>\n",
              "    <tr>\n",
              "      <th>17</th>\n",
              "      <td>theory aggregative democracy claim aim democra...</td>\n",
              "      <td>Democracy</td>\n",
              "      <td>2726</td>\n",
              "    </tr>\n",
              "    <tr>\n",
              "      <th>18</th>\n",
              "      <td>social equality require absence legally enforc...</td>\n",
              "      <td>Democracy</td>\n",
              "      <td>3083</td>\n",
              "    </tr>\n",
              "  </tbody>\n",
              "</table>\n",
              "</div>"
            ],
            "text/plain": [
              "                                                 Text          Topic  length\n",
              "0   statistic datum apply statistic scientific ind...      Statistic    4484\n",
              "1   today statistic widely employ government busin...      Statistic    2547\n",
              "2   sample mathematical discipline probability the...      Statistic    5039\n",
              "3   statistic random variable function random samp...      Statistic    4543\n",
              "4   critical region set value estimator lead refut...      Statistic    3184\n",
              "5   comprise descriptive_statistics application in...      Statistic    2183\n",
              "6   statistic also heavily use management accounti...      Statistic    1556\n",
              "7   social medium interactive technology allow cre...  Social_medium    5379\n",
              "8   mobile social medium useful application mobile...  Social_medium   14834\n",
              "9   scientist use social medium share scientific k...     Researches   15914\n",
              "10  presidential observe echo chamber effect selec...     Researches   16552\n",
              "11  also give authority block access specific webs...  Social_medium    4052\n",
              "12  city set activity associate make decision grou...     Researches    1240\n",
              "13  chinese also write political manuscript contri...       Politics    2995\n",
              "14  contrast voluntary theory argument believe peo...     Researches    3844\n",
              "15  accord political system designate interaction ...      Democracy    3734\n",
              "16  form political corruption include bribery cron...     Researches    2739\n",
              "17  theory aggregative democracy claim aim democra...      Democracy    2726\n",
              "18  social equality require absence legally enforc...      Democracy    3083"
            ]
          },
          "metadata": {
            "tags": []
          },
          "execution_count": 7
        }
      ]
    },
    {
      "cell_type": "code",
      "metadata": {
        "colab": {
          "base_uri": "https://localhost:8080/",
          "height": 634
        },
        "id": "41vRKh4ICRMl",
        "outputId": "44787124-3017-42ec-80df-b1498256f01e"
      },
      "source": [
        "df.reset_index(inplace=True)\n",
        "df = df.drop(['index'],axis=1)\n",
        "df"
      ],
      "execution_count": null,
      "outputs": [
        {
          "output_type": "execute_result",
          "data": {
            "text/html": [
              "<div>\n",
              "<style scoped>\n",
              "    .dataframe tbody tr th:only-of-type {\n",
              "        vertical-align: middle;\n",
              "    }\n",
              "\n",
              "    .dataframe tbody tr th {\n",
              "        vertical-align: top;\n",
              "    }\n",
              "\n",
              "    .dataframe thead th {\n",
              "        text-align: right;\n",
              "    }\n",
              "</style>\n",
              "<table border=\"1\" class=\"dataframe\">\n",
              "  <thead>\n",
              "    <tr style=\"text-align: right;\">\n",
              "      <th></th>\n",
              "      <th>Text</th>\n",
              "      <th>Topic</th>\n",
              "      <th>length</th>\n",
              "    </tr>\n",
              "  </thead>\n",
              "  <tbody>\n",
              "    <tr>\n",
              "      <th>0</th>\n",
              "      <td>statistic datum apply statistic scientific ind...</td>\n",
              "      <td>Statistic</td>\n",
              "      <td>4484</td>\n",
              "    </tr>\n",
              "    <tr>\n",
              "      <th>1</th>\n",
              "      <td>today statistic widely employ government busin...</td>\n",
              "      <td>Statistic</td>\n",
              "      <td>2547</td>\n",
              "    </tr>\n",
              "    <tr>\n",
              "      <th>2</th>\n",
              "      <td>sample mathematical discipline probability the...</td>\n",
              "      <td>Statistic</td>\n",
              "      <td>5039</td>\n",
              "    </tr>\n",
              "    <tr>\n",
              "      <th>3</th>\n",
              "      <td>statistic random variable function random samp...</td>\n",
              "      <td>Statistic</td>\n",
              "      <td>4543</td>\n",
              "    </tr>\n",
              "    <tr>\n",
              "      <th>4</th>\n",
              "      <td>critical region set value estimator lead refut...</td>\n",
              "      <td>Statistic</td>\n",
              "      <td>3184</td>\n",
              "    </tr>\n",
              "    <tr>\n",
              "      <th>5</th>\n",
              "      <td>comprise descriptive_statistics application in...</td>\n",
              "      <td>Statistic</td>\n",
              "      <td>2183</td>\n",
              "    </tr>\n",
              "    <tr>\n",
              "      <th>6</th>\n",
              "      <td>statistic also heavily use management accounti...</td>\n",
              "      <td>Statistic</td>\n",
              "      <td>1556</td>\n",
              "    </tr>\n",
              "    <tr>\n",
              "      <th>7</th>\n",
              "      <td>social medium interactive technology allow cre...</td>\n",
              "      <td>Social_medium</td>\n",
              "      <td>5379</td>\n",
              "    </tr>\n",
              "    <tr>\n",
              "      <th>8</th>\n",
              "      <td>mobile social medium useful application mobile...</td>\n",
              "      <td>Social_medium</td>\n",
              "      <td>14834</td>\n",
              "    </tr>\n",
              "    <tr>\n",
              "      <th>9</th>\n",
              "      <td>scientist use social medium share scientific k...</td>\n",
              "      <td>Researches</td>\n",
              "      <td>15914</td>\n",
              "    </tr>\n",
              "    <tr>\n",
              "      <th>10</th>\n",
              "      <td>presidential observe echo chamber effect selec...</td>\n",
              "      <td>Researches</td>\n",
              "      <td>16552</td>\n",
              "    </tr>\n",
              "    <tr>\n",
              "      <th>11</th>\n",
              "      <td>also give authority block access specific webs...</td>\n",
              "      <td>Social_medium</td>\n",
              "      <td>4052</td>\n",
              "    </tr>\n",
              "    <tr>\n",
              "      <th>12</th>\n",
              "      <td>city set activity associate make decision grou...</td>\n",
              "      <td>Researches</td>\n",
              "      <td>1240</td>\n",
              "    </tr>\n",
              "    <tr>\n",
              "      <th>13</th>\n",
              "      <td>chinese also write political manuscript contri...</td>\n",
              "      <td>Politics</td>\n",
              "      <td>2995</td>\n",
              "    </tr>\n",
              "    <tr>\n",
              "      <th>14</th>\n",
              "      <td>contrast voluntary theory argument believe peo...</td>\n",
              "      <td>Researches</td>\n",
              "      <td>3844</td>\n",
              "    </tr>\n",
              "    <tr>\n",
              "      <th>15</th>\n",
              "      <td>accord political system designate interaction ...</td>\n",
              "      <td>Democracy</td>\n",
              "      <td>3734</td>\n",
              "    </tr>\n",
              "    <tr>\n",
              "      <th>16</th>\n",
              "      <td>form political corruption include bribery cron...</td>\n",
              "      <td>Researches</td>\n",
              "      <td>2739</td>\n",
              "    </tr>\n",
              "    <tr>\n",
              "      <th>17</th>\n",
              "      <td>theory aggregative democracy claim aim democra...</td>\n",
              "      <td>Democracy</td>\n",
              "      <td>2726</td>\n",
              "    </tr>\n",
              "    <tr>\n",
              "      <th>18</th>\n",
              "      <td>social equality require absence legally enforc...</td>\n",
              "      <td>Democracy</td>\n",
              "      <td>3083</td>\n",
              "    </tr>\n",
              "  </tbody>\n",
              "</table>\n",
              "</div>"
            ],
            "text/plain": [
              "                                                 Text          Topic  length\n",
              "0   statistic datum apply statistic scientific ind...      Statistic    4484\n",
              "1   today statistic widely employ government busin...      Statistic    2547\n",
              "2   sample mathematical discipline probability the...      Statistic    5039\n",
              "3   statistic random variable function random samp...      Statistic    4543\n",
              "4   critical region set value estimator lead refut...      Statistic    3184\n",
              "5   comprise descriptive_statistics application in...      Statistic    2183\n",
              "6   statistic also heavily use management accounti...      Statistic    1556\n",
              "7   social medium interactive technology allow cre...  Social_medium    5379\n",
              "8   mobile social medium useful application mobile...  Social_medium   14834\n",
              "9   scientist use social medium share scientific k...     Researches   15914\n",
              "10  presidential observe echo chamber effect selec...     Researches   16552\n",
              "11  also give authority block access specific webs...  Social_medium    4052\n",
              "12  city set activity associate make decision grou...     Researches    1240\n",
              "13  chinese also write political manuscript contri...       Politics    2995\n",
              "14  contrast voluntary theory argument believe peo...     Researches    3844\n",
              "15  accord political system designate interaction ...      Democracy    3734\n",
              "16  form political corruption include bribery cron...     Researches    2739\n",
              "17  theory aggregative democracy claim aim democra...      Democracy    2726\n",
              "18  social equality require absence legally enforc...      Democracy    3083"
            ]
          },
          "metadata": {
            "tags": []
          },
          "execution_count": 8
        }
      ]
    },
    {
      "cell_type": "code",
      "metadata": {
        "colab": {
          "base_uri": "https://localhost:8080/",
          "height": 282
        },
        "id": "KVYUb_j_03B1",
        "outputId": "38ca363d-52ea-4842-b1b7-32287c927d55"
      },
      "source": [
        "df['length'].plot(bins=40,kind='hist')"
      ],
      "execution_count": null,
      "outputs": [
        {
          "output_type": "execute_result",
          "data": {
            "text/plain": [
              "<matplotlib.axes._subplots.AxesSubplot at 0x7f34bdca8190>"
            ]
          },
          "metadata": {
            "tags": []
          },
          "execution_count": 9
        },
        {
          "output_type": "display_data",
          "data": {
            "image/png": "[encoded data removed]",
            "text/plain": [
              "<Figure size 432x288 with 1 Axes>"
            ]
          },
          "metadata": {
            "tags": [],
            "needs_background": "light"
          }
        }
      ]
    },
    {
      "cell_type": "code",
      "metadata": {
        "id": "qj6GEVxtCbiX"
      },
      "source": [
        "#df['length'] =np.(df['length'] )\n",
        "#df['length'].plot(bins=40,kind='hist')"
      ],
      "execution_count": null,
      "outputs": []
    },
    {
      "cell_type": "code",
      "metadata": {
        "colab": {
          "base_uri": "https://localhost:8080/"
        },
        "id": "y09Jkfeu04B8",
        "outputId": "9d662823-478c-4563-fce7-fb858702acc9"
      },
      "source": [
        "df.length.describe()"
      ],
      "execution_count": null,
      "outputs": [
        {
          "output_type": "execute_result",
          "data": {
            "text/plain": [
              "count       19.000000\n",
              "mean      5296.210526\n",
              "std       4791.717664\n",
              "min       1240.000000\n",
              "25%       2732.500000\n",
              "50%       3734.000000\n",
              "75%       4791.000000\n",
              "max      16552.000000\n",
              "Name: length, dtype: float64"
            ]
          },
          "metadata": {
            "tags": []
          },
          "execution_count": 10
        }
      ]
    },
    {
      "cell_type": "markdown",
      "metadata": {
        "id": "JXHyDQVaNW-a"
      },
      "source": [
        "##**Label Encoding**"
      ]
    },
    {
      "cell_type": "code",
      "metadata": {
        "id": "fDJwhtBDevt7",
        "colab": {
          "base_uri": "https://localhost:8080/"
        },
        "outputId": "9fa6cde0-2562-4dfe-e072-35e19a9d8b2d"
      },
      "source": [
        "df['Topic'] = LabelEncoder().fit_transform(df['Topic'])\n",
        "\n",
        "df['Topic']"
      ],
      "execution_count": null,
      "outputs": [
        {
          "output_type": "execute_result",
          "data": {
            "text/plain": [
              "0     4\n",
              "1     4\n",
              "2     4\n",
              "3     4\n",
              "4     4\n",
              "5     4\n",
              "6     4\n",
              "7     3\n",
              "8     3\n",
              "9     2\n",
              "10    2\n",
              "11    3\n",
              "12    2\n",
              "13    1\n",
              "14    2\n",
              "15    0\n",
              "16    2\n",
              "17    0\n",
              "18    0\n",
              "Name: Topic, dtype: int64"
            ]
          },
          "metadata": {
            "tags": []
          },
          "execution_count": 11
        }
      ]
    },
    {
      "cell_type": "markdown",
      "metadata": {
        "id": "3_YadeLNNKPM"
      },
      "source": [
        "##**Train Test Split**"
      ]
    },
    {
      "cell_type": "code",
      "metadata": {
        "id": "niApW6bbiHT6"
      },
      "source": [
        "X = df['Text'].values\n",
        "Y = df['Topic'].values"
      ],
      "execution_count": null,
      "outputs": []
    },
    {
      "cell_type": "code",
      "metadata": {
        "id": "pTdjAlyFNNZ-"
      },
      "source": [
        "x_train,x_test,y_train,y_test = train_test_split(X,Y,test_size=0.33)"
      ],
      "execution_count": null,
      "outputs": []
    },
    {
      "cell_type": "markdown",
      "metadata": {
        "id": "RI76dYcm4sWn"
      },
      "source": [
        "##**Text Preprocessing**"
      ]
    },
    {
      "cell_type": "code",
      "metadata": {
        "id": "QrOmpirk4y19"
      },
      "source": [
        "stop = set(stopwords.words('english'))\n",
        "exclude = set(string.punctuation)\n",
        "lemma = WordNetLemmatizer()"
      ],
      "execution_count": null,
      "outputs": []
    },
    {
      "cell_type": "code",
      "metadata": {
        "id": "pbcbrAP54yyg"
      },
      "source": [
        "def clean(doc):\n",
        "  stop_free = \" \".join([i for i in doc.lower().split() if i not in stop])\n",
        "  punc_free = ''.join(ch for ch in stop_free if ch not in exclude)\n",
        "  normalized = [lemma.lemmatize(word) for word in punc_free.split()]\n",
        "  return normalized"
      ],
      "execution_count": null,
      "outputs": []
    },
    {
      "cell_type": "markdown",
      "metadata": {
        "id": "i-zPnlU0x1nj"
      },
      "source": [
        "##**Text Vectorization**"
      ]
    },
    {
      "cell_type": "code",
      "metadata": {
        "id": "SV5fvbTe4yvG",
        "colab": {
          "base_uri": "https://localhost:8080/"
        },
        "outputId": "aed3f4b9-5e5f-4877-d81f-398893bcface"
      },
      "source": [
        "bow_trans = CountVectorizer().fit(X)\n",
        "print(len(bow_trans.vocabulary_))"
      ],
      "execution_count": null,
      "outputs": [
        {
          "output_type": "stream",
          "text": [
            "2860\n"
          ],
          "name": "stdout"
        }
      ]
    },
    {
      "cell_type": "code",
      "metadata": {
        "id": "35fdbar5zJRM"
      },
      "source": [
        "ev_bow = bow_trans.transform(x_train)"
      ],
      "execution_count": null,
      "outputs": []
    },
    {
      "cell_type": "code",
      "metadata": {
        "id": "m3QM8GnDPNTq"
      },
      "source": [
        "ev_test = bow_trans.transform(x_test)"
      ],
      "execution_count": null,
      "outputs": []
    },
    {
      "cell_type": "code",
      "metadata": {
        "id": "DsSro3ackd52"
      },
      "source": [
        "#from sklearn.feature_extraction.text import CountVectorizer\n",
        "#cv = CountVectorizer(max_features = 1500,ngram_range=(1,1))\n",
        "#X_train= cv.fit_transform(x_train).toarray()\n",
        "#X_test= cv.fit_transform(x_test).toarray()"
      ],
      "execution_count": null,
      "outputs": []
    },
    {
      "cell_type": "code",
      "metadata": {
        "id": "RrIF55fhcvar"
      },
      "source": [
        "#bows_trans= CountVectorizer()\n"
      ],
      "execution_count": null,
      "outputs": []
    },
    {
      "cell_type": "code",
      "metadata": {
        "id": "97jSJDXVY5y8"
      },
      "source": [
        "#X_train= bow_trans.transform(x_train)"
      ],
      "execution_count": null,
      "outputs": []
    },
    {
      "cell_type": "code",
      "metadata": {
        "id": "-t_RtOjzZwqL"
      },
      "source": [
        "#X_test = bow_trans.transform(x_test)#"
      ],
      "execution_count": null,
      "outputs": []
    },
    {
      "cell_type": "code",
      "metadata": {
        "id": "ypcP0c78Y52U"
      },
      "source": [
        "#X_train= X_train.reshape(1,-1) "
      ],
      "execution_count": null,
      "outputs": []
    },
    {
      "cell_type": "code",
      "metadata": {
        "colab": {
          "base_uri": "https://localhost:8080/"
        },
        "id": "TQy_jQse2ThA",
        "outputId": "11761561-e818-403d-fe40-e65f720cf61e"
      },
      "source": [
        "#X_train.shape"
      ],
      "execution_count": null,
      "outputs": [
        {
          "output_type": "execute_result",
          "data": {
            "text/plain": [
              "(15, 1500)"
            ]
          },
          "metadata": {
            "tags": []
          },
          "execution_count": 51
        }
      ]
    },
    {
      "cell_type": "code",
      "metadata": {
        "colab": {
          "base_uri": "https://localhost:8080/"
        },
        "id": "ctn3qP6s2aqX",
        "outputId": "0038ffa1-2ec2-404e-9cac-1aea5e1e6658"
      },
      "source": [
        "#X_test.shape"
      ],
      "execution_count": null,
      "outputs": [
        {
          "output_type": "execute_result",
          "data": {
            "text/plain": [
              "(4, 715)"
            ]
          },
          "metadata": {
            "tags": []
          },
          "execution_count": 52
        }
      ]
    },
    {
      "cell_type": "code",
      "metadata": {
        "id": "ppwkKLpRccT2"
      },
      "source": [
        "#X_test= X_test.reshape(1,-1) "
      ],
      "execution_count": null,
      "outputs": []
    },
    {
      "cell_type": "code",
      "metadata": {
        "colab": {
          "base_uri": "https://localhost:8080/"
        },
        "id": "aviy6Qwz2hRh",
        "outputId": "12806fda-a684-4e0d-bb4d-a5702c290c1b"
      },
      "source": [
        "print('Shape of Sparse Matrix : ',ev_bow.shape)\n",
        "print('Amount of non-zero occurences : ',ev_bow.nnz)"
      ],
      "execution_count": null,
      "outputs": [
        {
          "output_type": "stream",
          "text": [
            "Shape of Sparse Matrix :  (12, 2019)\n",
            "Amount of non-zero occurences :  3697\n"
          ],
          "name": "stdout"
        }
      ]
    },
    {
      "cell_type": "markdown",
      "metadata": {
        "id": "No4GT8Uzg2IL"
      },
      "source": [
        "##**Model Building**"
      ]
    },
    {
      "cell_type": "markdown",
      "metadata": {
        "id": "sS79uoovzDM9"
      },
      "source": [
        "### **Naive Bayes** "
      ]
    },
    {
      "cell_type": "code",
      "metadata": {
        "colab": {
          "base_uri": "https://localhost:8080/"
        },
        "id": "D7YO4RHIPjbd",
        "outputId": "c0dc67f0-1724-4eb8-8465-5a87614fddda"
      },
      "source": [
        "from sklearn.naive_bayes import MultinomialNB\n",
        "clf = MultinomialNB()\n",
        "alpha = [0.1,1,3]\n",
        "params = dict(alpha=alpha)\n",
        "cv = KFold(n_splits=10)\n",
        "grid  = GridSearchCV(clf,param_grid=params,scoring='accuracy',cv=cv,n_jobs=-1)\n",
        "grid.fit(ev_bow,y_train)\n",
        "print('Best Score is {} and Best params are {}'.format(grid.best_score_,grid.best_params_))"
      ],
      "execution_count": null,
      "outputs": [
        {
          "output_type": "stream",
          "text": [
            "Best Score is 0.55 and Best params are {'alpha': 0.1}\n"
          ],
          "name": "stdout"
        }
      ]
    },
    {
      "cell_type": "code",
      "metadata": {
        "colab": {
          "base_uri": "https://localhost:8080/"
        },
        "id": "Jl_8aGaXpA6h",
        "outputId": "960da7f1-6681-4d65-d14b-95058d6d9231"
      },
      "source": [
        "clf = MultinomialNB(alpha=1)\n",
        "clf.fit(ev_bow,y_train)\n",
        "y_pred_test = clf.predict(ev_test)\n",
        "print(classification_report(y_test,y_pred_test))"
      ],
      "execution_count": null,
      "outputs": [
        {
          "output_type": "stream",
          "text": [
            "              precision    recall  f1-score   support\n",
            "\n",
            "           0       1.00      1.00      1.00         1\n",
            "           2       0.50      1.00      0.67         2\n",
            "           3       0.00      0.00      0.00         2\n",
            "           4       1.00      1.00      1.00         2\n",
            "\n",
            "    accuracy                           0.71         7\n",
            "   macro avg       0.62      0.75      0.67         7\n",
            "weighted avg       0.57      0.71      0.62         7\n",
            "\n"
          ],
          "name": "stdout"
        }
      ]
    },
    {
      "cell_type": "markdown",
      "metadata": {
        "id": "oGubMw_PzQjR"
      },
      "source": [
        "### **SVM**"
      ]
    },
    {
      "cell_type": "code",
      "metadata": {
        "colab": {
          "base_uri": "https://localhost:8080/"
        },
        "id": "yQGcOONBFYIY",
        "outputId": "88fc71b1-ec2d-484e-f98a-fe972e3bd542"
      },
      "source": [
        "from sklearn.svm import SVC\n",
        "clf2 = SVC()\n",
        "kernel = ['rbf','poly']\n",
        "C = [50,10,1,0.1]\n",
        "gamma = ['auto','scale']\n",
        "params = dict(kernel=kernel,C=C,gamma=gamma)\n",
        "cv = KFold(n_splits=5)\n",
        "grid  = GridSearchCV(clf2,param_grid=params,scoring='accuracy',cv=cv,n_jobs=-1)\n",
        "grid.fit(ev_bow,y_train)\n",
        "print('Best Score is {} and Best params are {}'.format(grid.best_score_,grid.best_params_))"
      ],
      "execution_count": null,
      "outputs": [
        {
          "output_type": "stream",
          "text": [
            "Best Score is 0.5 and Best params are {'C': 50, 'gamma': 'auto', 'kernel': 'rbf'}\n"
          ],
          "name": "stdout"
        }
      ]
    },
    {
      "cell_type": "code",
      "metadata": {
        "colab": {
          "base_uri": "https://localhost:8080/"
        },
        "id": "mapHUB255icm",
        "outputId": "f95d98df-9e9c-41a8-de0f-2d7d3c63d6c4"
      },
      "source": [
        "clf2 = SVC(C=50,kernel='rbf',gamma='auto')\n",
        "clf2.fit(ev_bow,y_train)\n",
        "y_pred_test2 = clf2.predict(ev_test)\n",
        "print(classification_report(y_test,y_pred_test2))"
      ],
      "execution_count": null,
      "outputs": [
        {
          "output_type": "stream",
          "text": [
            "              precision    recall  f1-score   support\n",
            "\n",
            "           0       1.00      1.00      1.00         1\n",
            "           2       0.50      0.50      0.50         2\n",
            "           3       0.00      0.00      0.00         2\n",
            "           4       0.50      1.00      0.67         2\n",
            "\n",
            "    accuracy                           0.57         7\n",
            "   macro avg       0.50      0.62      0.54         7\n",
            "weighted avg       0.43      0.57      0.48         7\n",
            "\n"
          ],
          "name": "stdout"
        }
      ]
    },
    {
      "cell_type": "markdown",
      "metadata": {
        "id": "6UyFoLeizUZb"
      },
      "source": [
        "### **Random Forest**"
      ]
    },
    {
      "cell_type": "code",
      "metadata": {
        "colab": {
          "base_uri": "https://localhost:8080/"
        },
        "id": "Rt_v2WViIfL7",
        "outputId": "23c3427c-0b4b-41a4-9723-b7428ab4256f"
      },
      "source": [
        "from sklearn.ensemble import RandomForestClassifier\n",
        "clf3 = RandomForestClassifier()\n",
        "n_estimators = [50,100,200,500]\n",
        "max_depth = [50,100,200]\n",
        "params = dict(n_estimators=n_estimators,max_depth=max_depth)\n",
        "cv = KFold(n_splits=5)\n",
        "grid  = GridSearchCV(clf3,param_grid=params,scoring='accuracy',cv=cv,n_jobs=-1)\n",
        "grid.fit(ev_bow,y_train)\n",
        "print('Best Score is {} and Best params are {}'.format(grid.best_score_,grid.best_params_))"
      ],
      "execution_count": null,
      "outputs": [
        {
          "output_type": "stream",
          "text": [
            "Best Score is 0.5 and Best params are {'max_depth': 50, 'n_estimators': 50}\n"
          ],
          "name": "stdout"
        }
      ]
    },
    {
      "cell_type": "code",
      "metadata": {
        "colab": {
          "base_uri": "https://localhost:8080/"
        },
        "id": "o9YX3jV2olRV",
        "outputId": "8933f448-bc0c-4f30-fc9e-6df6331a9f81"
      },
      "source": [
        "clf3 = RandomForestClassifier(n_estimators=500,max_depth=100)\n",
        "clf3.fit(ev_bow,y_train)\n",
        "y_pred_test3 = clf3.predict(ev_test)\n",
        "print(classification_report(y_test,y_pred_test3))"
      ],
      "execution_count": null,
      "outputs": [
        {
          "output_type": "stream",
          "text": [
            "              precision    recall  f1-score   support\n",
            "\n",
            "           0       0.00      0.00      0.00         1\n",
            "           2       0.50      0.50      0.50         2\n",
            "           3       0.00      0.00      0.00         2\n",
            "           4       0.40      1.00      0.57         2\n",
            "\n",
            "    accuracy                           0.43         7\n",
            "   macro avg       0.23      0.38      0.27         7\n",
            "weighted avg       0.26      0.43      0.31         7\n",
            "\n"
          ],
          "name": "stdout"
        }
      ]
    },
    {
      "cell_type": "markdown",
      "metadata": {
        "id": "eqEiFiTvzbS_"
      },
      "source": [
        "### **Bagging Classifier**"
      ]
    },
    {
      "cell_type": "code",
      "metadata": {
        "colab": {
          "base_uri": "https://localhost:8080/"
        },
        "id": "W9C13IxwLqcU",
        "outputId": "26890b10-ebdb-43b4-93c2-dc936cf7bcba"
      },
      "source": [
        "from sklearn.ensemble import BaggingClassifier\n",
        "clf4 = BaggingClassifier()\n",
        "params = {'n_estimators':[10,50,100,200]}\n",
        "cv = KFold(n_splits=5)\n",
        "grid  = GridSearchCV(clf4,param_grid=params,scoring='accuracy',cv=cv,n_jobs=-1)\n",
        "grid.fit(ev_bow,y_train)\n",
        "print('Best Score is {} and Best params are {}'.format(grid.best_score_,grid.best_params_))"
      ],
      "execution_count": null,
      "outputs": [
        {
          "output_type": "stream",
          "text": [
            "Best Score is 0.4333333333333333 and Best params are {'n_estimators': 50}\n"
          ],
          "name": "stdout"
        }
      ]
    },
    {
      "cell_type": "code",
      "metadata": {
        "colab": {
          "base_uri": "https://localhost:8080/"
        },
        "id": "_SLs2kt5wsMF",
        "outputId": "025545d5-3007-44ae-cd23-d715856dd98a"
      },
      "source": [
        "clf4 = BaggingClassifier(base_estimator=DecisionTreeClassifier(),n_estimators=150)\n",
        "clf4.fit(ev_bow,y_train)\n",
        "y_pred_test4 = clf4.predict(ev_test)\n",
        "print(classification_report(y_test,y_pred_test4))"
      ],
      "execution_count": null,
      "outputs": [
        {
          "output_type": "stream",
          "text": [
            "              precision    recall  f1-score   support\n",
            "\n",
            "           0       0.50      1.00      0.67         1\n",
            "           2       0.33      0.50      0.40         2\n",
            "           3       0.00      0.00      0.00         2\n",
            "           4       1.00      1.00      1.00         2\n",
            "\n",
            "    accuracy                           0.57         7\n",
            "   macro avg       0.46      0.62      0.52         7\n",
            "weighted avg       0.45      0.57      0.50         7\n",
            "\n"
          ],
          "name": "stdout"
        }
      ]
    },
    {
      "cell_type": "markdown",
      "metadata": {
        "id": "0Ti10Z1Tzi1N"
      },
      "source": [
        "### **Decision Tree**"
      ]
    },
    {
      "cell_type": "code",
      "metadata": {
        "colab": {
          "base_uri": "https://localhost:8080/"
        },
        "id": "VACP7lW1NPnP",
        "outputId": "8c77c438-a34d-450b-fe87-eb06639a57c8"
      },
      "source": [
        "from sklearn.tree import DecisionTreeClassifier\n",
        "clf5 = DecisionTreeClassifier()\n",
        "params = {'criterion':['gini','entropy'],'max_depth':[50,100,200]}\n",
        "cv = KFold(n_splits=5)\n",
        "grid  = GridSearchCV(clf5,param_grid=params,scoring='accuracy',cv=cv,n_jobs=-1)\n",
        "grid.fit(ev_bow,y_train)\n",
        "print('Best Score is {} and Best params are {}'.format(grid.best_score_,grid.best_params_))"
      ],
      "execution_count": null,
      "outputs": [
        {
          "output_type": "stream",
          "text": [
            "Best Score is 0.7666666666666666 and Best params are {'criterion': 'entropy', 'max_depth': 100}\n"
          ],
          "name": "stdout"
        }
      ]
    },
    {
      "cell_type": "code",
      "metadata": {
        "colab": {
          "base_uri": "https://localhost:8080/"
        },
        "id": "2cb2i5uP5B84",
        "outputId": "f67724c6-90e0-4a4b-b7fd-2d97185fb796"
      },
      "source": [
        "clf5 = DecisionTreeClassifier(criterion='entropy',max_depth=50)\n",
        "clf5.fit(ev_bow,y_train)\n",
        "y_pred_test5 = clf5.predict(ev_test)\n",
        "print(classification_report(y_test,y_pred_test5))"
      ],
      "execution_count": null,
      "outputs": [
        {
          "output_type": "stream",
          "text": [
            "              precision    recall  f1-score   support\n",
            "\n",
            "           0       1.00      1.00      1.00         1\n",
            "           2       0.67      1.00      0.80         2\n",
            "           3       1.00      0.50      0.67         2\n",
            "           4       1.00      1.00      1.00         2\n",
            "\n",
            "    accuracy                           0.86         7\n",
            "   macro avg       0.92      0.88      0.87         7\n",
            "weighted avg       0.90      0.86      0.85         7\n",
            "\n"
          ],
          "name": "stdout"
        }
      ]
    },
    {
      "cell_type": "markdown",
      "metadata": {
        "id": "rncghgE7zpGu"
      },
      "source": [
        "### **AdaBoost**"
      ]
    },
    {
      "cell_type": "code",
      "metadata": {
        "colab": {
          "base_uri": "https://localhost:8080/"
        },
        "id": "XO8dKoAGPEud",
        "outputId": "3d6bedc2-12b1-46ec-9361-eebb039463fd"
      },
      "source": [
        "from sklearn.ensemble import AdaBoostClassifier\n",
        "clf6 = AdaBoostClassifier()\n",
        "params = {'n_estimators':[50,100,200],'learning_rate':[0.1,1]}\n",
        "cv = KFold(n_splits=5)\n",
        "grid  = GridSearchCV(clf6,param_grid=params,scoring='accuracy',cv=cv,n_jobs=-1)\n",
        "grid.fit(ev_bow,y_train)\n",
        "print('Best Score is {} and Best params are {}'.format(grid.best_score_,grid.best_params_))"
      ],
      "execution_count": null,
      "outputs": [
        {
          "output_type": "stream",
          "text": [
            "Best Score is 0.4333333333333333 and Best params are {'learning_rate': 0.1, 'n_estimators': 50}\n"
          ],
          "name": "stdout"
        }
      ]
    },
    {
      "cell_type": "code",
      "metadata": {
        "colab": {
          "base_uri": "https://localhost:8080/"
        },
        "id": "ySbHHZ266xJb",
        "outputId": "dbe8cae6-8223-43d2-a391-0689fbd4cacc"
      },
      "source": [
        "clf6 = AdaBoostClassifier(n_estimators=10,learning_rate=0.1)\n",
        "clf6.fit(ev_bow,y_train)\n",
        "y_pred_test6 = clf6.predict(ev_test)\n",
        "print(classification_report(y_test,y_pred_test6))"
      ],
      "execution_count": null,
      "outputs": [
        {
          "output_type": "stream",
          "text": [
            "              precision    recall  f1-score   support\n",
            "\n",
            "           0       1.00      1.00      1.00         1\n",
            "           2       1.00      0.50      0.67         2\n",
            "           3       0.67      1.00      0.80         2\n",
            "           4       1.00      1.00      1.00         2\n",
            "\n",
            "    accuracy                           0.86         7\n",
            "   macro avg       0.92      0.88      0.87         7\n",
            "weighted avg       0.90      0.86      0.85         7\n",
            "\n"
          ],
          "name": "stdout"
        }
      ]
    },
    {
      "cell_type": "markdown",
      "metadata": {
        "id": "WuMjNxzTztyz"
      },
      "source": [
        "### **Gradient Boosting**"
      ]
    },
    {
      "cell_type": "code",
      "metadata": {
        "colab": {
          "base_uri": "https://localhost:8080/"
        },
        "id": "XN3jYQ2TQFdw",
        "outputId": "38e0a49e-d768-4563-d62e-61ad0fd43c5f"
      },
      "source": [
        "from sklearn.ensemble import GradientBoostingClassifier\n",
        "clf7 = GradientBoostingClassifier()\n",
        "params = {'n_estimators':[50,100,200],'learning_rate':[0.1,1,10],'loss':['exponential','deviance']}\n",
        "cv = KFold(n_splits=5)\n",
        "grid  = GridSearchCV(clf7,param_grid=params,scoring='accuracy',cv=cv,n_jobs=-1)\n",
        "grid.fit(ev_bow,y_train)\n",
        "print('Best Score is {} and Best params are {}'.format(grid.best_score_,grid.best_params_))"
      ],
      "execution_count": null,
      "outputs": [
        {
          "output_type": "stream",
          "text": [
            "Best Score is 0.5333333333333333 and Best params are {'learning_rate': 10, 'loss': 'deviance', 'n_estimators': 200}\n"
          ],
          "name": "stdout"
        }
      ]
    },
    {
      "cell_type": "code",
      "metadata": {
        "colab": {
          "base_uri": "https://localhost:8080/"
        },
        "id": "3QM4KhVV9_99",
        "outputId": "d6866603-d88a-4f89-a2d9-cd2336888aff"
      },
      "source": [
        "clf7 = GradientBoostingClassifier(loss='deviance',n_estimators=50,learning_rate=0.1)\n",
        "clf7.fit(ev_bow,y_train)\n",
        "y_pred_test7 = clf7.predict(ev_test)\n",
        "print(classification_report(y_test,y_pred_test7))"
      ],
      "execution_count": null,
      "outputs": [
        {
          "output_type": "stream",
          "text": [
            "              precision    recall  f1-score   support\n",
            "\n",
            "           0       0.50      1.00      0.67         1\n",
            "           2       0.50      0.50      0.50         2\n",
            "           3       0.00      0.00      0.00         2\n",
            "           4       0.67      1.00      0.80         2\n",
            "\n",
            "    accuracy                           0.57         7\n",
            "   macro avg       0.42      0.62      0.49         7\n",
            "weighted avg       0.40      0.57      0.47         7\n",
            "\n"
          ],
          "name": "stdout"
        }
      ]
    },
    {
      "cell_type": "markdown",
      "metadata": {
        "id": "7olvHej0z-UI"
      },
      "source": [
        "### **XGBoost**"
      ]
    },
    {
      "cell_type": "code",
      "metadata": {
        "id": "M2S27jKVWOd8",
        "colab": {
          "base_uri": "https://localhost:8080/"
        },
        "outputId": "c5ee76f0-c484-43f0-f563-a19adb292e10"
      },
      "source": [
        "from xgboost import XGBClassifier\n",
        "clf8 = XGBClassifier()\n",
        "params = {'n_estimators': [50,100,200], \"learning_rate\" : [0.1,1], \"max_depth\" : [10,50,100]}\n",
        "cv = KFold(n_splits=5)\n",
        "grid  = GridSearchCV(clf8,param_grid=params,scoring='accuracy',cv=cv,n_jobs=-1)\n",
        "grid.fit(ev_bow,y_train)\n",
        "print('Best Score is {} and Best params are {}'.format(grid.best_score_,grid.best_params_))\n"
      ],
      "execution_count": null,
      "outputs": [
        {
          "output_type": "stream",
          "text": [
            "Best Score is 0.6666666666666666 and Best params are {'learning_rate': 1, 'max_depth': 10, 'n_estimators': 50}\n"
          ],
          "name": "stdout"
        }
      ]
    },
    {
      "cell_type": "code",
      "metadata": {
        "colab": {
          "base_uri": "https://localhost:8080/"
        },
        "id": "0KyCSFOqWYLL",
        "outputId": "965d00b4-e168-4820-dd28-0a4e86866510"
      },
      "source": [
        "clf8 = XGBClassifier(n_estimators=50,max_depth=30,learning_rate=0.01)\n",
        "clf8.fit(ev_bow,y_train)\n",
        "y_pred_test8 = clf8.predict(ev_test)\n",
        "print(classification_report(y_test,y_pred_test8))"
      ],
      "execution_count": null,
      "outputs": [
        {
          "output_type": "stream",
          "text": [
            "              precision    recall  f1-score   support\n",
            "\n",
            "           0       0.00      0.00      0.00         1\n",
            "           1       0.00      0.00      0.00         0\n",
            "           2       0.00      0.00      0.00         2\n",
            "           3       0.00      0.00      0.00         2\n",
            "           4       1.00      1.00      1.00         2\n",
            "\n",
            "    accuracy                           0.29         7\n",
            "   macro avg       0.20      0.20      0.20         7\n",
            "weighted avg       0.29      0.29      0.29         7\n",
            "\n"
          ],
          "name": "stdout"
        }
      ]
    },
    {
      "cell_type": "markdown",
      "metadata": {
        "id": "e5YUZKg-1CpB"
      },
      "source": [
        "## **Save Model**"
      ]
    },
    {
      "cell_type": "code",
      "metadata": {
        "id": "Ow6cmcSNqh6-"
      },
      "source": [
        "import pickle\n",
        "pickle.dump(clf, open('clff.pickle','wb'))"
      ],
      "execution_count": null,
      "outputs": []
    },
    {
      "cell_type": "code",
      "metadata": {
        "id": "dB9N9gl69vLH",
        "colab": {
          "base_uri": "https://localhost:8080/"
        },
        "outputId": "19ab2f90-3b05-49df-e15f-f39f19a693a9"
      },
      "source": [
        "loaded_model = pickle.load(open(\"clff.pickle\", \"rb\"))\n",
        "loaded_model.predict(ev_test)\n",
        "loaded_model.score(ev_test,y_test)"
      ],
      "execution_count": null,
      "outputs": [
        {
          "output_type": "execute_result",
          "data": {
            "text/plain": [
              "0.7142857142857143"
            ]
          },
          "metadata": {
            "tags": []
          },
          "execution_count": 158
        }
      ]
    }
  ]
}