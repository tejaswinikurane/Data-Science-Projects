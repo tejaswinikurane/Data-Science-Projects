{
  "nbformat": 4,
  "nbformat_minor": 0,
  "metadata": {
    "colab": {
      "name": "Topic_modeling(Gensim)",
      "provenance": [],
      "collapsed_sections": []
    },
    "kernelspec": {
      "display_name": "Python 3",
      "name": "python3"
    },
    "language_info": {
      "name": "python"
    }
  },
  "cells": [
    {
      "cell_type": "markdown",
      "metadata": {
        "id": "SQYJhme-dKEH"
      },
      "source": [
        "# **Topic Modeling Using Gensim**\n"
      ]
    },
    {
      "cell_type": "code",
      "metadata": {
        "id": "06ZIPIPSdKyB"
      },
      "source": [
        "!pip install stop-words\n",
        "!pip install --upgrade  scikit-learn\n",
        "!pip install pyLDAvis"
      ],
      "execution_count": null,
      "outputs": []
    },
    {
      "cell_type": "markdown",
      "metadata": {
        "id": "VrQwSf_z6YHq"
      },
      "source": [
        "## **Import The Libraries and Packages**"
      ]
    },
    {
      "cell_type": "code",
      "metadata": {
        "id": "p2MCG2cxZGjR",
        "colab": {
          "base_uri": "https://localhost:8080/"
        },
        "outputId": "940809f2-518f-4939-9022-4327592da6a8"
      },
      "source": [
        "import re\n",
        "import numpy as np\n",
        "import pandas as pd\n",
        "\n",
        "from pprint import pprint\n",
        "import nltk\n",
        "nltk.download('stopwords')"
      ],
      "execution_count": null,
      "outputs": [
        {
          "output_type": "stream",
          "text": [
            "[nltk_data] Downloading package stopwords to /root/nltk_data...\n",
            "[nltk_data]   Package stopwords is already up-to-date!\n"
          ],
          "name": "stdout"
        },
        {
          "output_type": "execute_result",
          "data": {
            "text/plain": [
              "True"
            ]
          },
          "metadata": {
            "tags": []
          },
          "execution_count": 1
        }
      ]
    },
    {
      "cell_type": "code",
      "metadata": {
        "id": "mSoFusji_lMp"
      },
      "source": [
        "import warnings\n",
        "warnings.filterwarnings(\"ignore\",category=DeprecationWarning)\n",
        "warnings.filterwarnings(\"ignore\",category=FutureWarning)\n",
        "warnings.filterwarnings(\"ignore\",category=UserWarning)\n"
      ],
      "execution_count": null,
      "outputs": []
    },
    {
      "cell_type": "code",
      "metadata": {
        "id": "kHYOgoQtaVFD"
      },
      "source": [
        "# Gensim\n",
        "import gensim\n",
        "import gensim.corpora as corpora\n",
        "from gensim.utils import simple_preprocess\n",
        "from gensim.models import CoherenceModel\n",
        "from gensim.models import LdaModel"
      ],
      "execution_count": null,
      "outputs": []
    },
    {
      "cell_type": "code",
      "metadata": {
        "id": "hnapo9xdaXo1"
      },
      "source": [
        "# spacy for lemmatization\n",
        "import spacy"
      ],
      "execution_count": null,
      "outputs": []
    },
    {
      "cell_type": "code",
      "metadata": {
        "id": "QAoOIew7acgM"
      },
      "source": [
        "# Plotting tools\n",
        "import pyLDAvis\n",
        "\n",
        "import matplotlib.pyplot as plt\n",
        "%matplotlib inline\n",
        "\n",
        "from wordcloud import WordCloud, STOPWORDS"
      ],
      "execution_count": null,
      "outputs": []
    },
    {
      "cell_type": "code",
      "metadata": {
        "id": "2Szs-SpQa0fg"
      },
      "source": [
        "# Enable logging for gensim - optional\n",
        "import logging\n",
        "logging.basicConfig(format='%(asctime)s : %(levelname)s : %(message)s', level=logging.ERROR)"
      ],
      "execution_count": null,
      "outputs": []
    },
    {
      "cell_type": "code",
      "metadata": {
        "id": "phRGUum9a45K"
      },
      "source": [
        "\n",
        "# NLTK Stop words\n",
        "from nltk.corpus import stopwords\n",
        "stop_words = stopwords.words('english')\n",
        "stop_words.extend(['from', 'subject', 're', 'edu', 'use','also','may','define','accord','concept','including','within','see','well','way','usually','based','often'])"
      ],
      "execution_count": null,
      "outputs": []
    },
    {
      "cell_type": "markdown",
      "metadata": {
        "id": "ApRHxAfRdgq_"
      },
      "source": [
        "## **Import Dataset**"
      ]
    },
    {
      "cell_type": "code",
      "metadata": {
        "id": "PD_3Rgib_Yc3"
      },
      "source": [
        "#!pip install -U pandas-profiling"
      ],
      "execution_count": null,
      "outputs": []
    },
    {
      "cell_type": "code",
      "metadata": {
        "colab": {
          "base_uri": "https://localhost:8080/",
          "height": 203
        },
        "id": "oKEZUkdgbFqf",
        "outputId": "7c37e003-4dfd-4f59-b4bd-b7ed982d5913"
      },
      "source": [
        "df = pd.read_table(\"Statistics.txt\",error_bad_lines=False)\n",
        "df.head()"
      ],
      "execution_count": null,
      "outputs": [
        {
          "output_type": "execute_result",
          "data": {
            "text/html": [
              "<div>\n",
              "<style scoped>\n",
              "    .dataframe tbody tr th:only-of-type {\n",
              "        vertical-align: middle;\n",
              "    }\n",
              "\n",
              "    .dataframe tbody tr th {\n",
              "        vertical-align: top;\n",
              "    }\n",
              "\n",
              "    .dataframe thead th {\n",
              "        text-align: right;\n",
              "    }\n",
              "</style>\n",
              "<table border=\"1\" class=\"dataframe\">\n",
              "  <thead>\n",
              "    <tr style=\"text-align: right;\">\n",
              "      <th></th>\n",
              "      <th>text</th>\n",
              "    </tr>\n",
              "  </thead>\n",
              "  <tbody>\n",
              "    <tr>\n",
              "      <th>0</th>\n",
              "      <td>statistics is the discipline that concerns the...</td>\n",
              "    </tr>\n",
              "    <tr>\n",
              "      <th>1</th>\n",
              "      <td>today, statistics is widely employed in govern...</td>\n",
              "    </tr>\n",
              "    <tr>\n",
              "      <th>2</th>\n",
              "      <td>sampling theory is part of the mathematical d...</td>\n",
              "    </tr>\n",
              "    <tr>\n",
              "      <th>3</th>\n",
              "      <td>a statistic is a random variable that is a fun...</td>\n",
              "    </tr>\n",
              "    <tr>\n",
              "      <th>4</th>\n",
              "      <td>a critical region is the set of values of the ...</td>\n",
              "    </tr>\n",
              "  </tbody>\n",
              "</table>\n",
              "</div>"
            ],
            "text/plain": [
              "                                                text\n",
              "0  statistics is the discipline that concerns the...\n",
              "1  today, statistics is widely employed in govern...\n",
              "2   sampling theory is part of the mathematical d...\n",
              "3  a statistic is a random variable that is a fun...\n",
              "4  a critical region is the set of values of the ..."
            ]
          },
          "metadata": {
            "tags": []
          },
          "execution_count": 3
        }
      ]
    },
    {
      "cell_type": "code",
      "metadata": {
        "colab": {
          "base_uri": "https://localhost:8080/"
        },
        "id": "ZfQRtEZVULcg",
        "outputId": "6284a132-cfb1-4404-afe8-c5df8399bbf2"
      },
      "source": [
        "# Convert to list\n",
        "data = df.text.values.tolist()\n",
        "\n",
        "# Remove Emails\n",
        "data = [re.sub('\\S*@\\S*\\s?', '', sent) for sent in data]\n",
        "\n",
        "# Remove new line characters\n",
        "data = [re.sub('\\s+', ' ', sent) for sent in data]\n",
        "\n",
        "# Remove distracting single quotes\n",
        "data = [re.sub(\"\\'\", \"\", sent) for sent in data]\n",
        "\n",
        "pprint(data[:1])"
      ],
      "execution_count": null,
      "outputs": [
        {
          "output_type": "stream",
          "text": [
            "['statistics is the discipline that concerns the collection, organization, '\n",
            " 'analysis, interpretation, and presentation of data. in applying statistics '\n",
            " 'to a scientific, industrial, or social problem, it is conventional to begin '\n",
            " 'with a statistical population or a statistical model to be studied. '\n",
            " 'populations can be diverse groups of people or objects such as \"all people '\n",
            " 'living in a country\" or \"every atom composing a crystal\". statistics deals '\n",
            " 'with every aspect of data, including the planning of data collection in '\n",
            " 'terms of the design of surveys and experiments. when census data cannot be '\n",
            " 'collected, statisticians collect data by developing specific experiment '\n",
            " 'designs and survey samples. representative sampling assures that inferences '\n",
            " 'and conclusions can reasonably extend from the sample to the population as a '\n",
            " 'whole. an experimental study involves taking measurements of the system '\n",
            " 'under study, manipulating the system, and then taking additional '\n",
            " 'measurements using the same procedure to determine if the manipulation has '\n",
            " 'modified the values of the measurements. in contrast, an observational study '\n",
            " 'does not involve experimental manipulation. two main statistical methods are '\n",
            " 'used in data analysis: descriptive statistics, which summarize data from a '\n",
            " 'sample using indexes such as the mean or standard deviation, and inferential '\n",
            " 'statistics, which draw conclusions from data that are subject to random '\n",
            " 'variation (e.g., observational errors, sampling variation). descriptive '\n",
            " 'statistics are most often concerned with two sets of properties of a '\n",
            " 'distribution (sample or population): central tendency (or location) seeks to '\n",
            " 'characterize the distributions central or typical value, while dispersion '\n",
            " '(or variability) characterizes the extent to which members of the '\n",
            " 'distribution depart from its center and each other. inferences on '\n",
            " 'mathematical statistics are made under the framework of probability theory, '\n",
            " 'which deals with the analysis of random phenomena. a standard statistical '\n",
            " 'procedure involves the collection of data leading to test of the '\n",
            " 'relationship between two statistical data sets, or a data set and synthetic '\n",
            " 'data drawn from an idealized model. a hypothesis is proposed for the '\n",
            " 'statistical relationship between the two data sets, and this is compared as '\n",
            " 'an alternative to an idealized null hypothesis of no relationship between '\n",
            " 'two data sets. rejecting or disproving the null hypothesis is done using '\n",
            " 'statistical tests that quantify the sense in which the null can be proven '\n",
            " 'false, given the data that are used in the test. working from a null '\n",
            " 'hypothesis, two basic forms of error are recognized: type i errors (null '\n",
            " 'hypothesis is falsely rejected giving a \"false positive\") and type ii errors '\n",
            " '(null hypothesis fails to be rejected and an actual relationship between '\n",
            " 'populations is missed giving a \"false negative\"). multiple problems have '\n",
            " 'come to be associated with this framework, ranging from obtaining a '\n",
            " 'sufficient sample size to specifying an adequate null hypothesis. '\n",
            " 'measurement processes that generate statistical data are also subject to '\n",
            " 'error. many of these errors are classified as random (noise) or systematic '\n",
            " '(bias), but other types of errors (e.g., blunder, such as when an analyst '\n",
            " 'reports incorrect units) can also occur. the presence of missing data or '\n",
            " 'censoring may result in biased estimates and specific techniques have been '\n",
            " 'developed to address these problems. statistics is a mathematical body of '\n",
            " 'science that pertains to the collection, analysis, interpretation or '\n",
            " 'explanation, and presentation of data, or as a branch of mathematics. some '\n",
            " 'consider statistics to be a distinct mathematical science rather than a '\n",
            " 'branch of mathematics. while many scientific investigations make use of '\n",
            " 'data, statistics is concerned with the use of data in the context of '\n",
            " 'uncertainty and decision making in the face of uncertainty. in applying '\n",
            " 'statistics to a problem, it is common practice to start with a population or '\n",
            " 'process to be studied. populations can be diverse topics such as \"all people '\n",
            " 'living in a country\" or \"every atom composing a crystal\". ideally, '\n",
            " 'statisticians compile data about the entire population (an operation called '\n",
            " 'census). this may be organized by governmental statistical institutes. '\n",
            " 'descriptive statistics can be used to summarize the population data. '\n",
            " 'numerical descriptors include mean and standard deviation for continuous '\n",
            " 'data (like income), while frequency and percentage are more useful in terms '\n",
            " 'of describing categorical data (like education). when a census is not '\n",
            " 'feasible, a chosen subset of the population called a sample is studied. once '\n",
            " 'a sample that is representative of the population is determined, data is '\n",
            " 'collected for the sample members in an observational or experimental '\n",
            " 'setting. again, descriptive statistics can be used to summarize the sample '\n",
            " 'data. however, drawing the sample contains an element of randomness; hence, '\n",
            " 'the numerical descriptors from the sample are also prone to uncertainty. to '\n",
            " 'draw meaningful conclusions about the entire population, inferential '\n",
            " 'statistics is needed. it uses patterns in the sample data to draw inferences '\n",
            " 'about the population represented while accounting for randomness. these '\n",
            " 'inferences may take the form of answering yes/no questions about the data '\n",
            " '(hypothesis testing), estimating numerical characteristics of the data '\n",
            " '(estimation), describing associations within the data (correlation), and '\n",
            " 'modeling relationships within the data (for example, using regression '\n",
            " 'analysis). inference can extend to forecasting, prediction, and estimation '\n",
            " 'of unobserved values either in or associated with the population being '\n",
            " 'studied. it can include extrapolation and interpolation of time series or '\n",
            " 'spatial data, and data mining. mathematical statistics is the application of '\n",
            " 'mathematics to statistics. mathematical techniques used for this include '\n",
            " 'mathematical analysis, linear algebra, stochastic analysis, differential '\n",
            " 'equations, and measure-theoretic probability theory. the early writings on '\n",
            " 'statistical inference date back to arab mathematicians and cryptographers, '\n",
            " 'during the islamic golden age between the th and th centuries. al-khalil ( – '\n",
            " ') wrote the book of cryptographic messages, which contains the first use of '\n",
            " 'permutations and combinations, to list all possible arabic words with and '\n",
            " 'without vowels. in his book, manuscript on deciphering cryptographic '\n",
            " 'messages, al-kindi gave a detailed description of how to use frequency '\n",
            " 'analysis to decipher encrypted messages. al-kindi also made the earliest '\n",
            " 'known use of statistical inference, while he and later arab cryptographers '\n",
            " 'developed the early statistical methods for decoding encrypted messages. ibn '\n",
            " 'adlan ( – ) later made an important contribution, on the use of sample size '\n",
            " 'in frequency analysis. the earliest european writing on statistics dates '\n",
            " 'back to , with the publication of natural and political observations upon '\n",
            " 'the bills of mortality by john graunt. early applications of statistical '\n",
            " 'thinking revolved around the needs of states to base policy on demographic '\n",
            " 'and economic data, hence its stat- etymology. the scope of the discipline of '\n",
            " 'statistics broadened in the early th century to include the collection and '\n",
            " 'analysis of data in general. ']\n"
          ],
          "name": "stdout"
        }
      ]
    },
    {
      "cell_type": "code",
      "metadata": {
        "id": "BbDYtJVMkdRM"
      },
      "source": [
        "# Convert to list\n",
        "#df= df.values.tolist()"
      ],
      "execution_count": null,
      "outputs": []
    },
    {
      "cell_type": "code",
      "metadata": {
        "id": "e5uZiA59lQCu"
      },
      "source": [
        "#pprint(df[:1])"
      ],
      "execution_count": null,
      "outputs": []
    },
    {
      "cell_type": "code",
      "metadata": {
        "colab": {
          "base_uri": "https://localhost:8080/"
        },
        "id": "dPLqsSiDbRf0",
        "outputId": "7b3a4890-9587-45f5-ca5b-897e0d599617"
      },
      "source": [
        "#remove punctuations\n",
        "def sent_to_words(sentences):\n",
        "    for sentence in sentences:\n",
        "        yield(gensim.utils.simple_preprocess(str(sentence), deacc=True))  # deacc=True removes punctuations\n",
        "\n",
        "df_words = list(sent_to_words(data))\n",
        "\n",
        "print(df_words[:1])"
      ],
      "execution_count": null,
      "outputs": [
        {
          "output_type": "stream",
          "text": [
            "[['statistics', 'is', 'the', 'discipline', 'that', 'concerns', 'the', 'collection', 'organization', 'analysis', 'interpretation', 'and', 'presentation', 'of', 'data', 'in', 'applying', 'statistics', 'to', 'scientific', 'industrial', 'or', 'social', 'problem', 'it', 'is', 'conventional', 'to', 'begin', 'with', 'statistical', 'population', 'or', 'statistical', 'model', 'to', 'be', 'studied', 'populations', 'can', 'be', 'diverse', 'groups', 'of', 'people', 'or', 'objects', 'such', 'as', 'all', 'people', 'living', 'in', 'country', 'or', 'every', 'atom', 'composing', 'crystal', 'statistics', 'deals', 'with', 'every', 'aspect', 'of', 'data', 'including', 'the', 'planning', 'of', 'data', 'collection', 'in', 'terms', 'of', 'the', 'design', 'of', 'surveys', 'and', 'experiments', 'when', 'census', 'data', 'cannot', 'be', 'collected', 'statisticians', 'collect', 'data', 'by', 'developing', 'specific', 'experiment', 'designs', 'and', 'survey', 'samples', 'representative', 'sampling', 'assures', 'that', 'inferences', 'and', 'conclusions', 'can', 'reasonably', 'extend', 'from', 'the', 'sample', 'to', 'the', 'population', 'as', 'whole', 'an', 'experimental', 'study', 'involves', 'taking', 'measurements', 'of', 'the', 'system', 'under', 'study', 'manipulating', 'the', 'system', 'and', 'then', 'taking', 'additional', 'measurements', 'using', 'the', 'same', 'procedure', 'to', 'determine', 'if', 'the', 'manipulation', 'has', 'modified', 'the', 'values', 'of', 'the', 'measurements', 'in', 'contrast', 'an', 'observational', 'study', 'does', 'not', 'involve', 'experimental', 'manipulation', 'two', 'main', 'statistical', 'methods', 'are', 'used', 'in', 'data', 'analysis', 'descriptive', 'statistics', 'which', 'summarize', 'data', 'from', 'sample', 'using', 'indexes', 'such', 'as', 'the', 'mean', 'or', 'standard', 'deviation', 'and', 'inferential', 'statistics', 'which', 'draw', 'conclusions', 'from', 'data', 'that', 'are', 'subject', 'to', 'random', 'variation', 'observational', 'errors', 'sampling', 'variation', 'descriptive', 'statistics', 'are', 'most', 'often', 'concerned', 'with', 'two', 'sets', 'of', 'properties', 'of', 'distribution', 'sample', 'or', 'population', 'central', 'tendency', 'or', 'location', 'seeks', 'to', 'characterize', 'the', 'distributions', 'central', 'or', 'typical', 'value', 'while', 'dispersion', 'or', 'variability', 'characterizes', 'the', 'extent', 'to', 'which', 'members', 'of', 'the', 'distribution', 'depart', 'from', 'its', 'center', 'and', 'each', 'other', 'inferences', 'on', 'mathematical', 'statistics', 'are', 'made', 'under', 'the', 'framework', 'of', 'probability', 'theory', 'which', 'deals', 'with', 'the', 'analysis', 'of', 'random', 'phenomena', 'standard', 'statistical', 'procedure', 'involves', 'the', 'collection', 'of', 'data', 'leading', 'to', 'test', 'of', 'the', 'relationship', 'between', 'two', 'statistical', 'data', 'sets', 'or', 'data', 'set', 'and', 'synthetic', 'data', 'drawn', 'from', 'an', 'idealized', 'model', 'hypothesis', 'is', 'proposed', 'for', 'the', 'statistical', 'relationship', 'between', 'the', 'two', 'data', 'sets', 'and', 'this', 'is', 'compared', 'as', 'an', 'alternative', 'to', 'an', 'idealized', 'null', 'hypothesis', 'of', 'no', 'relationship', 'between', 'two', 'data', 'sets', 'rejecting', 'or', 'disproving', 'the', 'null', 'hypothesis', 'is', 'done', 'using', 'statistical', 'tests', 'that', 'quantify', 'the', 'sense', 'in', 'which', 'the', 'null', 'can', 'be', 'proven', 'false', 'given', 'the', 'data', 'that', 'are', 'used', 'in', 'the', 'test', 'working', 'from', 'null', 'hypothesis', 'two', 'basic', 'forms', 'of', 'error', 'are', 'recognized', 'type', 'errors', 'null', 'hypothesis', 'is', 'falsely', 'rejected', 'giving', 'false', 'positive', 'and', 'type', 'ii', 'errors', 'null', 'hypothesis', 'fails', 'to', 'be', 'rejected', 'and', 'an', 'actual', 'relationship', 'between', 'populations', 'is', 'missed', 'giving', 'false', 'negative', 'multiple', 'problems', 'have', 'come', 'to', 'be', 'associated', 'with', 'this', 'framework', 'ranging', 'from', 'obtaining', 'sufficient', 'sample', 'size', 'to', 'specifying', 'an', 'adequate', 'null', 'hypothesis', 'measurement', 'processes', 'that', 'generate', 'statistical', 'data', 'are', 'also', 'subject', 'to', 'error', 'many', 'of', 'these', 'errors', 'are', 'classified', 'as', 'random', 'noise', 'or', 'systematic', 'bias', 'but', 'other', 'types', 'of', 'errors', 'blunder', 'such', 'as', 'when', 'an', 'analyst', 'reports', 'incorrect', 'units', 'can', 'also', 'occur', 'the', 'presence', 'of', 'missing', 'data', 'or', 'censoring', 'may', 'result', 'in', 'biased', 'estimates', 'and', 'specific', 'techniques', 'have', 'been', 'developed', 'to', 'address', 'these', 'problems', 'statistics', 'is', 'mathematical', 'body', 'of', 'science', 'that', 'pertains', 'to', 'the', 'collection', 'analysis', 'interpretation', 'or', 'explanation', 'and', 'presentation', 'of', 'data', 'or', 'as', 'branch', 'of', 'mathematics', 'some', 'consider', 'statistics', 'to', 'be', 'distinct', 'mathematical', 'science', 'rather', 'than', 'branch', 'of', 'mathematics', 'while', 'many', 'scientific', 'investigations', 'make', 'use', 'of', 'data', 'statistics', 'is', 'concerned', 'with', 'the', 'use', 'of', 'data', 'in', 'the', 'context', 'of', 'uncertainty', 'and', 'decision', 'making', 'in', 'the', 'face', 'of', 'uncertainty', 'in', 'applying', 'statistics', 'to', 'problem', 'it', 'is', 'common', 'practice', 'to', 'start', 'with', 'population', 'or', 'process', 'to', 'be', 'studied', 'populations', 'can', 'be', 'diverse', 'topics', 'such', 'as', 'all', 'people', 'living', 'in', 'country', 'or', 'every', 'atom', 'composing', 'crystal', 'ideally', 'statisticians', 'compile', 'data', 'about', 'the', 'entire', 'population', 'an', 'operation', 'called', 'census', 'this', 'may', 'be', 'organized', 'by', 'governmental', 'statistical', 'institutes', 'descriptive', 'statistics', 'can', 'be', 'used', 'to', 'summarize', 'the', 'population', 'data', 'numerical', 'descriptors', 'include', 'mean', 'and', 'standard', 'deviation', 'for', 'continuous', 'data', 'like', 'income', 'while', 'frequency', 'and', 'percentage', 'are', 'more', 'useful', 'in', 'terms', 'of', 'describing', 'categorical', 'data', 'like', 'education', 'when', 'census', 'is', 'not', 'feasible', 'chosen', 'subset', 'of', 'the', 'population', 'called', 'sample', 'is', 'studied', 'once', 'sample', 'that', 'is', 'representative', 'of', 'the', 'population', 'is', 'determined', 'data', 'is', 'collected', 'for', 'the', 'sample', 'members', 'in', 'an', 'observational', 'or', 'experimental', 'setting', 'again', 'descriptive', 'statistics', 'can', 'be', 'used', 'to', 'summarize', 'the', 'sample', 'data', 'however', 'drawing', 'the', 'sample', 'contains', 'an', 'element', 'of', 'randomness', 'hence', 'the', 'numerical', 'descriptors', 'from', 'the', 'sample', 'are', 'also', 'prone', 'to', 'uncertainty', 'to', 'draw', 'meaningful', 'conclusions', 'about', 'the', 'entire', 'population', 'inferential', 'statistics', 'is', 'needed', 'it', 'uses', 'patterns', 'in', 'the', 'sample', 'data', 'to', 'draw', 'inferences', 'about', 'the', 'population', 'represented', 'while', 'accounting', 'for', 'randomness', 'these', 'inferences', 'may', 'take', 'the', 'form', 'of', 'answering', 'yes', 'no', 'questions', 'about', 'the', 'data', 'hypothesis', 'testing', 'estimating', 'numerical', 'characteristics', 'of', 'the', 'data', 'estimation', 'describing', 'associations', 'within', 'the', 'data', 'correlation', 'and', 'modeling', 'relationships', 'within', 'the', 'data', 'for', 'example', 'using', 'regression', 'analysis', 'inference', 'can', 'extend', 'to', 'forecasting', 'prediction', 'and', 'estimation', 'of', 'unobserved', 'values', 'either', 'in', 'or', 'associated', 'with', 'the', 'population', 'being', 'studied', 'it', 'can', 'include', 'extrapolation', 'and', 'interpolation', 'of', 'time', 'series', 'or', 'spatial', 'data', 'and', 'data', 'mining', 'mathematical', 'statistics', 'is', 'the', 'application', 'of', 'mathematics', 'to', 'statistics', 'mathematical', 'techniques', 'used', 'for', 'this', 'include', 'mathematical', 'analysis', 'linear', 'algebra', 'stochastic', 'analysis', 'differential', 'equations', 'and', 'measure', 'theoretic', 'probability', 'theory', 'the', 'early', 'writings', 'on', 'statistical', 'inference', 'date', 'back', 'to', 'arab', 'mathematicians', 'and', 'cryptographers', 'during', 'the', 'islamic', 'golden', 'age', 'between', 'the', 'th', 'and', 'th', 'centuries', 'al', 'khalil', 'wrote', 'the', 'book', 'of', 'cryptographic', 'messages', 'which', 'contains', 'the', 'first', 'use', 'of', 'permutations', 'and', 'combinations', 'to', 'list', 'all', 'possible', 'arabic', 'words', 'with', 'and', 'without', 'vowels', 'in', 'his', 'book', 'manuscript', 'on', 'deciphering', 'cryptographic', 'messages', 'al', 'kindi', 'gave', 'detailed', 'description', 'of', 'how', 'to', 'use', 'frequency', 'analysis', 'to', 'decipher', 'encrypted', 'messages', 'al', 'kindi', 'also', 'made', 'the', 'earliest', 'known', 'use', 'of', 'statistical', 'inference', 'while', 'he', 'and', 'later', 'arab', 'cryptographers', 'developed', 'the', 'early', 'statistical', 'methods', 'for', 'decoding', 'encrypted', 'messages', 'ibn', 'adlan', 'later', 'made', 'an', 'important', 'contribution', 'on', 'the', 'use', 'of', 'sample', 'size', 'in', 'frequency', 'analysis', 'the', 'earliest', 'european', 'writing', 'on', 'statistics', 'dates', 'back', 'to', 'with', 'the', 'publication', 'of', 'natural', 'and', 'political', 'observations', 'upon', 'the', 'bills', 'of', 'mortality', 'by', 'john', 'graunt', 'early', 'applications', 'of', 'statistical', 'thinking', 'revolved', 'around', 'the', 'needs', 'of', 'states', 'to', 'base', 'policy', 'on', 'demographic', 'and', 'economic', 'data', 'hence', 'its', 'stat', 'etymology', 'the', 'scope', 'of', 'the', 'discipline', 'of', 'statistics', 'broadened', 'in', 'the', 'early', 'th', 'century', 'to', 'include', 'the', 'collection', 'and', 'analysis', 'of', 'data', 'in', 'general']]\n"
          ],
          "name": "stdout"
        }
      ]
    },
    {
      "cell_type": "code",
      "metadata": {
        "id": "kiEcKshLbetB"
      },
      "source": [
        "# Build the bigram and trigram models\n",
        "bigram = gensim.models.Phrases(df_words, min_count=5, threshold=100) # higher threshold fewer phrases.\n",
        "trigram = gensim.models.Phrases(bigram[df_words], threshold=100)  \n",
        "\n"
      ],
      "execution_count": null,
      "outputs": []
    },
    {
      "cell_type": "code",
      "metadata": {
        "id": "zJNXq8wmirv4"
      },
      "source": [
        "# Faster way to get a sentence clubbed as a trigram/bigram\n",
        "bigram_mod = gensim.models.phrases.Phraser(bigram)\n",
        "trigram_mod = gensim.models.phrases.Phraser(trigram)\n",
        "\n"
      ],
      "execution_count": null,
      "outputs": []
    },
    {
      "cell_type": "code",
      "metadata": {
        "colab": {
          "base_uri": "https://localhost:8080/"
        },
        "id": "ypDjzIrmitxW",
        "outputId": "74f292ed-75cd-496c-d525-af9d2f54d8c3"
      },
      "source": [
        "# See trigram example\n",
        "print(trigram_mod[bigram_mod[df_words[0]]])"
      ],
      "execution_count": null,
      "outputs": [
        {
          "output_type": "stream",
          "text": [
            "['statistics', 'is', 'the', 'discipline', 'that', 'concerns', 'the', 'collection', 'organization', 'analysis', 'interpretation', 'and', 'presentation', 'of', 'data', 'in', 'applying', 'statistics', 'to', 'scientific', 'industrial', 'or', 'social', 'problem', 'it', 'is', 'conventional', 'to', 'begin', 'with', 'statistical', 'population', 'or', 'statistical', 'model', 'to', 'be', 'studied', 'populations', 'can', 'be', 'diverse', 'groups', 'of', 'people', 'or', 'objects', 'such', 'as', 'all', 'people', 'living', 'in', 'country', 'or', 'every', 'atom', 'composing', 'crystal', 'statistics', 'deals', 'with', 'every', 'aspect', 'of', 'data', 'including', 'the', 'planning', 'of', 'data', 'collection', 'in', 'terms', 'of', 'the', 'design', 'of', 'surveys', 'and', 'experiments', 'when', 'census', 'data', 'cannot', 'be', 'collected', 'statisticians', 'collect', 'data', 'by', 'developing', 'specific', 'experiment', 'designs', 'and', 'survey', 'samples', 'representative', 'sampling', 'assures', 'that', 'inferences', 'and', 'conclusions', 'can', 'reasonably', 'extend', 'from', 'the', 'sample', 'to', 'the', 'population', 'as', 'whole', 'an', 'experimental', 'study', 'involves', 'taking', 'measurements', 'of', 'the', 'system', 'under', 'study', 'manipulating', 'the', 'system', 'and', 'then', 'taking', 'additional', 'measurements', 'using', 'the', 'same', 'procedure', 'to', 'determine', 'if', 'the', 'manipulation', 'has', 'modified', 'the', 'values', 'of', 'the', 'measurements', 'in', 'contrast', 'an', 'observational', 'study', 'does_not', 'involve', 'experimental', 'manipulation', 'two', 'main', 'statistical', 'methods', 'are', 'used', 'in', 'data', 'analysis', 'descriptive_statistics', 'which', 'summarize', 'data', 'from', 'sample', 'using', 'indexes', 'such', 'as', 'the', 'mean', 'or', 'standard', 'deviation', 'and', 'inferential', 'statistics', 'which', 'draw', 'conclusions', 'from', 'data', 'that', 'are', 'subject', 'to', 'random', 'variation', 'observational', 'errors', 'sampling', 'variation', 'descriptive_statistics', 'are', 'most', 'often', 'concerned', 'with', 'two', 'sets', 'of', 'properties', 'of', 'distribution', 'sample', 'or', 'population', 'central', 'tendency', 'or', 'location', 'seeks', 'to', 'characterize', 'the', 'distributions', 'central', 'or', 'typical', 'value', 'while', 'dispersion', 'or', 'variability', 'characterizes', 'the', 'extent', 'to', 'which', 'members', 'of', 'the', 'distribution', 'depart', 'from', 'its', 'center', 'and', 'each', 'other', 'inferences', 'on', 'mathematical', 'statistics', 'are', 'made', 'under', 'the', 'framework', 'of', 'probability', 'theory', 'which', 'deals', 'with', 'the', 'analysis', 'of', 'random', 'phenomena', 'standard', 'statistical', 'procedure', 'involves', 'the', 'collection', 'of', 'data', 'leading', 'to', 'test', 'of', 'the', 'relationship', 'between', 'two', 'statistical', 'data', 'sets', 'or', 'data', 'set', 'and', 'synthetic', 'data', 'drawn', 'from', 'an', 'idealized', 'model', 'hypothesis', 'is', 'proposed', 'for', 'the', 'statistical', 'relationship', 'between', 'the', 'two', 'data', 'sets', 'and', 'this', 'is', 'compared', 'as', 'an', 'alternative', 'to', 'an', 'idealized', 'null_hypothesis', 'of', 'no', 'relationship', 'between', 'two', 'data', 'sets', 'rejecting', 'or', 'disproving', 'the', 'null_hypothesis', 'is', 'done', 'using', 'statistical', 'tests', 'that', 'quantify', 'the', 'sense', 'in', 'which', 'the', 'null', 'can', 'be', 'proven', 'false', 'given', 'the', 'data', 'that', 'are', 'used', 'in', 'the', 'test', 'working', 'from', 'null_hypothesis', 'two', 'basic', 'forms', 'of', 'error', 'are', 'recognized', 'type', 'errors', 'null_hypothesis', 'is', 'falsely', 'rejected', 'giving', 'false', 'positive', 'and', 'type', 'ii', 'errors', 'null_hypothesis', 'fails', 'to', 'be', 'rejected', 'and', 'an', 'actual', 'relationship', 'between', 'populations', 'is', 'missed', 'giving', 'false', 'negative', 'multiple', 'problems', 'have', 'come', 'to', 'be', 'associated', 'with', 'this', 'framework', 'ranging', 'from', 'obtaining', 'sufficient', 'sample', 'size', 'to', 'specifying', 'an', 'adequate', 'null_hypothesis', 'measurement', 'processes', 'that', 'generate', 'statistical', 'data', 'are', 'also', 'subject', 'to', 'error', 'many', 'of', 'these', 'errors', 'are', 'classified', 'as', 'random', 'noise', 'or', 'systematic', 'bias', 'but', 'other', 'types', 'of', 'errors', 'blunder', 'such', 'as', 'when', 'an', 'analyst', 'reports', 'incorrect', 'units', 'can', 'also', 'occur', 'the', 'presence', 'of', 'missing', 'data', 'or', 'censoring', 'may', 'result', 'in', 'biased', 'estimates', 'and', 'specific', 'techniques', 'have', 'been', 'developed', 'to', 'address', 'these', 'problems', 'statistics', 'is', 'mathematical', 'body', 'of', 'science', 'that', 'pertains', 'to', 'the', 'collection', 'analysis', 'interpretation', 'or', 'explanation', 'and', 'presentation', 'of', 'data', 'or', 'as', 'branch', 'of', 'mathematics', 'some', 'consider', 'statistics', 'to', 'be', 'distinct', 'mathematical', 'science', 'rather', 'than', 'branch', 'of', 'mathematics', 'while', 'many', 'scientific', 'investigations', 'make', 'use', 'of', 'data', 'statistics', 'is', 'concerned', 'with', 'the', 'use', 'of', 'data', 'in', 'the', 'context', 'of', 'uncertainty', 'and', 'decision', 'making', 'in', 'the', 'face', 'of', 'uncertainty', 'in', 'applying', 'statistics', 'to', 'problem', 'it', 'is', 'common', 'practice', 'to', 'start', 'with', 'population', 'or', 'process', 'to', 'be', 'studied', 'populations', 'can', 'be', 'diverse', 'topics', 'such', 'as', 'all', 'people', 'living', 'in', 'country', 'or', 'every', 'atom', 'composing', 'crystal', 'ideally', 'statisticians', 'compile', 'data', 'about', 'the', 'entire', 'population', 'an', 'operation', 'called', 'census', 'this', 'may', 'be', 'organized', 'by', 'governmental', 'statistical', 'institutes', 'descriptive_statistics', 'can', 'be', 'used', 'to', 'summarize', 'the', 'population', 'data', 'numerical', 'descriptors', 'include', 'mean', 'and', 'standard', 'deviation', 'for', 'continuous', 'data', 'like', 'income', 'while', 'frequency', 'and', 'percentage', 'are', 'more', 'useful', 'in', 'terms', 'of', 'describing', 'categorical', 'data', 'like', 'education', 'when', 'census', 'is', 'not', 'feasible', 'chosen', 'subset', 'of', 'the', 'population', 'called', 'sample', 'is', 'studied', 'once', 'sample', 'that', 'is', 'representative', 'of', 'the', 'population', 'is', 'determined', 'data', 'is', 'collected', 'for', 'the', 'sample', 'members', 'in', 'an', 'observational', 'or', 'experimental', 'setting', 'again', 'descriptive_statistics', 'can', 'be', 'used', 'to', 'summarize', 'the', 'sample', 'data', 'however', 'drawing', 'the', 'sample', 'contains', 'an', 'element', 'of', 'randomness', 'hence', 'the', 'numerical', 'descriptors', 'from', 'the', 'sample', 'are', 'also', 'prone', 'to', 'uncertainty', 'to', 'draw', 'meaningful', 'conclusions', 'about', 'the', 'entire', 'population', 'inferential', 'statistics', 'is', 'needed', 'it', 'uses', 'patterns', 'in', 'the', 'sample', 'data', 'to', 'draw', 'inferences', 'about', 'the', 'population', 'represented', 'while', 'accounting', 'for', 'randomness', 'these', 'inferences', 'may', 'take', 'the', 'form', 'of', 'answering', 'yes', 'no', 'questions', 'about', 'the', 'data', 'hypothesis', 'testing', 'estimating', 'numerical', 'characteristics', 'of', 'the', 'data', 'estimation', 'describing', 'associations', 'within', 'the', 'data', 'correlation', 'and', 'modeling', 'relationships', 'within', 'the', 'data', 'for', 'example', 'using', 'regression', 'analysis', 'inference', 'can', 'extend', 'to', 'forecasting', 'prediction', 'and', 'estimation', 'of', 'unobserved', 'values', 'either', 'in', 'or', 'associated', 'with', 'the', 'population', 'being', 'studied', 'it', 'can', 'include', 'extrapolation', 'and', 'interpolation', 'of', 'time', 'series', 'or', 'spatial', 'data', 'and', 'data', 'mining', 'mathematical', 'statistics', 'is', 'the', 'application', 'of', 'mathematics', 'to', 'statistics', 'mathematical', 'techniques', 'used', 'for', 'this', 'include', 'mathematical', 'analysis', 'linear', 'algebra', 'stochastic', 'analysis', 'differential', 'equations', 'and', 'measure', 'theoretic', 'probability', 'theory', 'the', 'early', 'writings', 'on', 'statistical', 'inference', 'date', 'back', 'to', 'arab', 'mathematicians', 'and', 'cryptographers', 'during', 'the', 'islamic', 'golden', 'age', 'between', 'the', 'th', 'and', 'th', 'centuries', 'al', 'khalil', 'wrote', 'the', 'book', 'of', 'cryptographic', 'messages', 'which', 'contains', 'the', 'first', 'use', 'of', 'permutations', 'and', 'combinations', 'to', 'list', 'all', 'possible', 'arabic', 'words', 'with', 'and', 'without', 'vowels', 'in', 'his', 'book', 'manuscript', 'on', 'deciphering', 'cryptographic', 'messages', 'al', 'kindi', 'gave', 'detailed', 'description', 'of', 'how', 'to', 'use', 'frequency', 'analysis', 'to', 'decipher', 'encrypted', 'messages', 'al', 'kindi', 'also', 'made', 'the', 'earliest', 'known', 'use', 'of', 'statistical', 'inference', 'while', 'he', 'and', 'later', 'arab', 'cryptographers', 'developed', 'the', 'early', 'statistical', 'methods', 'for', 'decoding', 'encrypted', 'messages', 'ibn', 'adlan', 'later', 'made', 'an', 'important', 'contribution', 'on', 'the', 'use', 'of', 'sample', 'size', 'in', 'frequency', 'analysis', 'the', 'earliest', 'european', 'writing', 'on', 'statistics', 'dates', 'back', 'to', 'with', 'the', 'publication', 'of', 'natural', 'and', 'political', 'observations', 'upon', 'the', 'bills', 'of', 'mortality', 'by', 'john', 'graunt', 'early', 'applications', 'of', 'statistical', 'thinking', 'revolved', 'around', 'the', 'needs', 'of', 'states', 'to', 'base', 'policy', 'on', 'demographic', 'and', 'economic', 'data', 'hence', 'its', 'stat', 'etymology', 'the', 'scope', 'of', 'the', 'discipline', 'of', 'statistics', 'broadened', 'in', 'the', 'early', 'th_century', 'to', 'include', 'the', 'collection', 'and', 'analysis', 'of', 'data', 'in', 'general']\n"
          ],
          "name": "stdout"
        }
      ]
    },
    {
      "cell_type": "markdown",
      "metadata": {
        "id": "5kXkdzO9ops3"
      },
      "source": [
        "**Remove Stopwords, Make Bigrams and Lemmatize**"
      ]
    },
    {
      "cell_type": "code",
      "metadata": {
        "id": "UcxsMCsHo7LB"
      },
      "source": [
        "# Define functions for stopwords, bigrams, trigrams and lemmatization\n",
        "def remove_stopwords(texts):\n",
        "    return [[word for word in simple_preprocess(str(doc)) if word not in stop_words] for doc in texts]"
      ],
      "execution_count": null,
      "outputs": []
    },
    {
      "cell_type": "code",
      "metadata": {
        "id": "LKTmFTl1pQXa"
      },
      "source": [
        "def make_bigrams(texts):\n",
        "    return [bigram_mod[doc] for doc in texts]"
      ],
      "execution_count": null,
      "outputs": []
    },
    {
      "cell_type": "code",
      "metadata": {
        "id": "L7aKVb6XpeBw"
      },
      "source": [
        "def make_trigrams(texts):\n",
        "    return [trigram_mod[bigram_mod[doc]] for doc in texts]"
      ],
      "execution_count": null,
      "outputs": []
    },
    {
      "cell_type": "code",
      "metadata": {
        "id": "owK3PL11pqj1"
      },
      "source": [
        "def lemmatization(texts, allowed_postags=['NOUN', 'ADJ', 'VERB', 'ADV']):\n",
        "    \"\"\"https://spacy.io/api/annotation\"\"\"\n",
        "    texts_out = []\n",
        "    for sent in texts:\n",
        "        doc = nlp(\" \".join(sent)) \n",
        "        texts_out.append([token.lemma_ for token in doc if token.pos_ in allowed_postags])\n",
        "    return texts_out"
      ],
      "execution_count": null,
      "outputs": []
    },
    {
      "cell_type": "markdown",
      "metadata": {
        "id": "S-hFOAZbqJMV"
      },
      "source": [
        "Let’s call the functions in order."
      ]
    },
    {
      "cell_type": "code",
      "metadata": {
        "id": "UjS_VQwRqQtH"
      },
      "source": [
        "# Remove StopWords\n",
        "df_words_nostops = remove_stopwords(df_words)"
      ],
      "execution_count": null,
      "outputs": []
    },
    {
      "cell_type": "code",
      "metadata": {
        "id": "gnDTuvnpqYT5"
      },
      "source": [
        "# Form Bigrams\n",
        "df_words_bigrams = make_bigrams(df_words_nostops)"
      ],
      "execution_count": null,
      "outputs": []
    },
    {
      "cell_type": "code",
      "metadata": {
        "id": "keQn0LYGqsRF"
      },
      "source": [
        "# Initialize spacy 'en' model, keeping only tagger component (for efficiency)\n",
        "# python3 -m spacy download en\n",
        "nlp = spacy.load('en', disable=['parser', 'ner'])\n"
      ],
      "execution_count": null,
      "outputs": []
    },
    {
      "cell_type": "code",
      "metadata": {
        "id": "w5x7cOHWqxIt"
      },
      "source": [
        "# Do lemmatization keeping only noun, adj, vb, adv\n",
        "df_lemmatized = lemmatization(df_words_bigrams, allowed_postags=['NOUN', 'ADJ', 'VERB', 'ADV'])"
      ],
      "execution_count": null,
      "outputs": []
    },
    {
      "cell_type": "code",
      "metadata": {
        "colab": {
          "base_uri": "https://localhost:8080/"
        },
        "id": "yyw-_gTFrARo",
        "outputId": "6fd2f4a3-01f9-47e0-cab3-9fbf87f376db"
      },
      "source": [
        "print(df_lemmatized[:1])"
      ],
      "execution_count": null,
      "outputs": [
        {
          "output_type": "stream",
          "text": [
            "[['statistic', 'discipline', 'concern', 'datum', 'apply', 'statistic', 'scientific', 'industrial', 'social', 'problem', 'conventional', 'begin', 'statistical', 'population', 'statistical', 'model', 'study', 'population', 'diverse', 'group', 'people', 'object', 'people', 'live', 'country', 'atom', 'compose', 'statistic', 'deal', 'aspect', 'data', 'planning', 'datum', 'collection', 'term', 'design', 'survey', 'experiment', 'census', 'datum', 'can', 'collect', 'statistician', 'collect', 'datum', 'develop', 'specific', 'experiment', 'design', 'survey', 'sample', 'sampling', 'assure', 'inference', 'conclusion', 'reasonably', 'extend', 'sample', 'population', 'whole', 'experimental', 'study', 'involve', 'take', 'measurement', 'system', 'study', 'manipulating', 'system', 'take', 'additional', 'measurement', 'use', 'procedure', 'determine', 'manipulation', 'modify', 'value', 'measurement', 'contrast', 'observational', 'study', 'involve', 'experimental', 'manipulation', 'main', 'statistical', 'method', 'use', 'datum', 'analysis', 'summarize', 'datum', 'sample', 'use', 'index', 'mean', 'standard', 'deviation', 'inferential', 'statistic', 'draw', 'random', 'variation', 'observational', 'error', 'sampling', 'variation', 'descriptive_statistic', 'concern', 'set', 'property', 'distribution', 'sample', 'population', 'seek', 'characterize', 'distribution', 'central', 'typical', 'value', 'dispersion', 'variability', 'characterize', 'extent', 'member', 'distribution', 'inference', 'mathematical', 'statistic', 'make', 'framework', 'probability', 'theory', 'deal', 'standard', 'statistical', 'procedure', 'involve', 'collection', 'datum', 'lead', 'test', 'relationship', 'statistical', 'data', 'set', 'datum', 'set', 'synthetic', 'datum', 'draw', 'idealized', 'model', 'hypothesis', 'propose', 'statistical', 'relationship', 'data', 'set', 'compare', 'idealized', 'relationship', 'data', 'set', 'reject', 'disprove', 'do', 'use', 'statistical', 'test', 'quantify', 'sense', 'null', 'prove', 'false', 'give', 'datum', 'use', 'test', 'work', 'null_hypothesis', 'basic', 'form', 'error', 'recognize', 'type', 'error', 'falsely', 'reject', 'give', 'false', 'positive', 'type', 'error', 'fail', 'reject', 'actual', 'relationship', 'population', 'miss', 'give', 'false', 'negative', 'multiple', 'problem', 'come', 'associate', 'framework', 'range', 'obtain', 'sufficient', 'sample', 'size', 'specify', 'adequate', 'measurement', 'process', 'generate', 'statistical', 'data', 'error', 'many', 'error', 'classify', 'random', 'noise', 'systematic', 'bias', 'type', 'error', 'blunder', 'analyst', 'report', 'incorrect', 'unit', 'occur', 'presence', 'miss', 'datum', 'censor', 'result', 'bias', 'estimate', 'specific', 'technique', 'develop', 'address', 'problem', 'statistic', 'mathematical', 'body', 'science', 'pertain', 'collection', 'analysis', 'interpretation', 'explanation', 'presentation', 'datum', 'branch', 'mathematic', 'consider', 'statistic', 'distinct', 'mathematical', 'science', 'rather', 'branch', 'mathematic', 'many', 'scientific', 'investigation', 'make', 'datum', 'statistic', 'concern', 'datum', 'context', 'uncertainty', 'decision', 'make', 'face', 'uncertainty', 'apply', 'statistic', 'problem', 'common', 'practice', 'start', 'population', 'process', 'study', 'population', 'diverse', 'topic', 'people', 'live', 'country', 'atom', 'compose', 'crystal', 'ideally', 'compile', 'datum', 'entire', 'population', 'operation', 'call', 'organize', 'governmental', 'statistical', 'institute', 'descriptive_statistic', 'use', 'summarize', 'population', 'datum', 'numerical', 'descriptor', 'include', 'mean', 'standard', 'deviation', 'continuous', 'datum', 'income', 'frequency', 'percentage', 'useful', 'term', 'describe', 'categorical', 'datum', 'education', 'census', 'feasible', 'choose', 'subset', 'population', 'call', 'study', 'sample', 'representative', 'population', 'determine', 'datum', 'collect', 'sample', 'member', 'observational', 'experimental', 'set', 'use', 'summarize', 'sample', 'datum', 'however', 'draw', 'sample', 'contain', 'element', 'randomness', 'hence', 'numerical', 'descriptor', 'sample', 'prone', 'uncertainty', 'draw', 'meaningful', 'conclusion', 'entire', 'population', 'inferential', 'statistic', 'need', 'use', 'pattern', 'sample', 'datum', 'draw', 'inference', 'population', 'represent', 'account', 'randomness', 'inference', 'take', 'form', 'answer', 'question', 'datum', 'hypothesis', 'testing', 'estimate', 'numerical', 'characteristic', 'datum', 'estimation', 'describe', 'association', 'data', 'correlation', 'modeling', 'relationship', 'data', 'example', 'use', 'regression', 'analysis', 'inference', 'extend', 'forecast', 'prediction', 'estimation', 'unobserved', 'value', 'associate', 'population', 'study', 'include', 'extrapolation', 'interpolation', 'datum', 'mining', 'mathematical', 'statistic', 'application', 'mathematic', 'statistic', 'mathematical', 'technique', 'use', 'include', 'mathematical', 'analysis', 'linear', 'algebra', 'differential', 'equation', 'measure', 'theoretic', 'probability', 'theory', 'early', 'writing', 'statistical', 'inference', 'date', 'back', 'arab', 'mathematician', 'write', 'contain', 'first', 'permutation', 'combination', 'list', 'possible', 'arabic', 'word', 'vowel', 'book', 'manuscript', 'decipher', 'cryptographic', 'message', 'give', 'detailed', 'description', 'frequency', 'decipher', 'encrypt', 'message', 'make', 'earliest', 'know', 'statistical', 'inference', 'later', 'arab', 'cryptographer', 'develop', 'early', 'statistical', 'method', 'decode', 'encrypt', 'message', 'later', 'make', 'important', 'contribution', 'sample', 'size', 'early', 'european', 'statistic', 'date', 'back', 'publication', 'natural', 'political', 'observation', 'bill', 'early', 'application', 'statistical', 'thinking', 'revolve', 'need', 'base', 'policy', 'demographic', 'economic', 'datum', 'hence', 'stat', 'etymology', 'scope', 'discipline', 'statistic', 'broaden', 'early', 'include', 'collection', 'analysis', 'data', 'general']]\n"
          ],
          "name": "stdout"
        }
      ]
    },
    {
      "cell_type": "code",
      "metadata": {
        "colab": {
          "base_uri": "https://localhost:8080/"
        },
        "id": "ZTNPVOcsbrpa",
        "outputId": "1003034f-1131-4f10-adc2-500d20168f30"
      },
      "source": [
        "# Create Dictionary\n",
        "id2word = corpora.Dictionary(df_lemmatized)\n",
        "\n",
        "# Create Corpus\n",
        "texts = df_lemmatized\n",
        "\n",
        "# Term Document Frequency\n",
        "corpus = [id2word.doc2bow(text) for text in texts]\n",
        "\n",
        "# View\n",
        "print(corpus[:1])"
      ],
      "execution_count": null,
      "outputs": [
        {
          "output_type": "stream",
          "text": [
            "[[(0, 1), (1, 1), (2, 1), (3, 1), (4, 1), (5, 1), (6, 5), (7, 1), (8, 1), (9, 2), (10, 2), (11, 2), (12, 1), (13, 1), (14, 2), (15, 1), (16, 1), (17, 2), (18, 2), (19, 1), (20, 1), (21, 1), (22, 2), (23, 1), (24, 1), (25, 1), (26, 1), (27, 2), (28, 1), (29, 2), (30, 1), (31, 1), (32, 1), (33, 2), (34, 1), (35, 1), (36, 2), (37, 1), (38, 1), (39, 3), (40, 4), (41, 1), (42, 1), (43, 1), (44, 1), (45, 1), (46, 2), (47, 3), (48, 2), (49, 1), (50, 2), (51, 1), (52, 1), (53, 1), (54, 1), (55, 1), (56, 1), (57, 2), (58, 1), (59, 1), (60, 1), (61, 8), (62, 2), (63, 25), (64, 2), (65, 2), (66, 1), (67, 1), (68, 1), (69, 2), (70, 1), (71, 2), (72, 2), (73, 2), (74, 1), (75, 2), (76, 3), (77, 2), (78, 1), (79, 2), (80, 1), (81, 1), (82, 1), (83, 3), (84, 2), (85, 1), (86, 5), (87, 1), (88, 5), (89, 1), (90, 1), (91, 1), (92, 2), (93, 2), (94, 1), (95, 7), (96, 2), (97, 2), (98, 1), (99, 1), (100, 1), (101, 2), (102, 3), (103, 1), (104, 2), (105, 1), (106, 1), (107, 1), (108, 1), (109, 3), (110, 1), (111, 1), (112, 1), (113, 1), (114, 2), (115, 2), (116, 2), (117, 1), (118, 1), (119, 4), (120, 1), (121, 1), (122, 2), (123, 1), (124, 2), (125, 2), (126, 1), (127, 1), (128, 4), (129, 1), (130, 1), (131, 1), (132, 1), (133, 7), (134, 2), (135, 1), (136, 1), (137, 1), (138, 1), (139, 3), (140, 1), (141, 2), (142, 1), (143, 1), (144, 1), (145, 2), (146, 1), (147, 5), (148, 1), (149, 2), (150, 1), (151, 2), (152, 3), (153, 6), (154, 1), (155, 2), (156, 1), (157, 1), (158, 4), (159, 2), (160, 3), (161, 2), (162, 1), (163, 2), (164, 2), (165, 1), (166, 1), (167, 1), (168, 1), (169, 2), (170, 1), (171, 1), (172, 1), (173, 1), (174, 3), (175, 1), (176, 1), (177, 3), (178, 1), (179, 1), (180, 1), (181, 1), (182, 1), (183, 3), (184, 1), (185, 1), (186, 1), (187, 1), (188, 1), (189, 1), (190, 14), (191, 1), (192, 1), (193, 1), (194, 1), (195, 1), (196, 1), (197, 2), (198, 4), (199, 2), (200, 2), (201, 1), (202, 1), (203, 1), (204, 1), (205, 1), (206, 1), (207, 1), (208, 2), (209, 2), (210, 1), (211, 1), (212, 1), (213, 1), (214, 1), (215, 3), (216, 5), (217, 1), (218, 1), (219, 1), (220, 1), (221, 1), (222, 12), (223, 2), (224, 2), (225, 2), (226, 1), (227, 1), (228, 1), (229, 6), (230, 2), (231, 1), (232, 2), (233, 1), (234, 3), (235, 1), (236, 1), (237, 14), (238, 13), (239, 1), (240, 7), (241, 1), (242, 1), (243, 3), (244, 2), (245, 1), (246, 2), (247, 1), (248, 3), (249, 2), (250, 2), (251, 3), (252, 1), (253, 1), (254, 2), (255, 1), (256, 1), (257, 3), (258, 1), (259, 3), (260, 1), (261, 1), (262, 10), (263, 1), (264, 3), (265, 1), (266, 2), (267, 1), (268, 1), (269, 1), (270, 1), (271, 1), (272, 1)]]\n"
          ],
          "name": "stdout"
        }
      ]
    },
    {
      "cell_type": "code",
      "metadata": {
        "colab": {
          "base_uri": "https://localhost:8080/",
          "height": 35
        },
        "id": "mPZV-3KhrxiZ",
        "outputId": "25f0be69-5be8-4937-f6a2-e9da1ddcc730"
      },
      "source": [
        "id2word[0]"
      ],
      "execution_count": null,
      "outputs": [
        {
          "output_type": "execute_result",
          "data": {
            "application/vnd.google.colaboratory.intrinsic+json": {
              "type": "string"
            },
            "text/plain": [
              "'account'"
            ]
          },
          "metadata": {
            "tags": []
          },
          "execution_count": 27
        }
      ]
    },
    {
      "cell_type": "markdown",
      "metadata": {
        "id": "nCb0a5PosBeH"
      },
      "source": [
        "or see this also"
      ]
    },
    {
      "cell_type": "code",
      "metadata": {
        "id": "zZsCgUo3r_Iy",
        "colab": {
          "base_uri": "https://localhost:8080/"
        },
        "outputId": "5bdc68f8-9400-4bb3-83c8-d9c55e4bacf7"
      },
      "source": [
        "# Human readable format of corpus (term-frequency)\n",
        "[[(id2word[id], freq) for id, freq in cp] for cp in corpus[:1]]"
      ],
      "execution_count": null,
      "outputs": [
        {
          "output_type": "execute_result",
          "data": {
            "text/plain": [
              "[[('account', 1),\n",
              "  ('actual', 1),\n",
              "  ('additional', 1),\n",
              "  ('address', 1),\n",
              "  ('adequate', 1),\n",
              "  ('algebra', 1),\n",
              "  ('analysis', 5),\n",
              "  ('analyst', 1),\n",
              "  ('answer', 1),\n",
              "  ('application', 2),\n",
              "  ('apply', 2),\n",
              "  ('arab', 2),\n",
              "  ('arabic', 1),\n",
              "  ('aspect', 1),\n",
              "  ('associate', 2),\n",
              "  ('association', 1),\n",
              "  ('assure', 1),\n",
              "  ('atom', 2),\n",
              "  ('back', 2),\n",
              "  ('base', 1),\n",
              "  ('basic', 1),\n",
              "  ('begin', 1),\n",
              "  ('bias', 2),\n",
              "  ('bill', 1),\n",
              "  ('blunder', 1),\n",
              "  ('body', 1),\n",
              "  ('book', 1),\n",
              "  ('branch', 2),\n",
              "  ('broaden', 1),\n",
              "  ('call', 2),\n",
              "  ('can', 1),\n",
              "  ('categorical', 1),\n",
              "  ('censor', 1),\n",
              "  ('census', 2),\n",
              "  ('central', 1),\n",
              "  ('characteristic', 1),\n",
              "  ('characterize', 2),\n",
              "  ('choose', 1),\n",
              "  ('classify', 1),\n",
              "  ('collect', 3),\n",
              "  ('collection', 4),\n",
              "  ('combination', 1),\n",
              "  ('come', 1),\n",
              "  ('common', 1),\n",
              "  ('compare', 1),\n",
              "  ('compile', 1),\n",
              "  ('compose', 2),\n",
              "  ('concern', 3),\n",
              "  ('conclusion', 2),\n",
              "  ('consider', 1),\n",
              "  ('contain', 2),\n",
              "  ('context', 1),\n",
              "  ('continuous', 1),\n",
              "  ('contrast', 1),\n",
              "  ('contribution', 1),\n",
              "  ('conventional', 1),\n",
              "  ('correlation', 1),\n",
              "  ('country', 2),\n",
              "  ('cryptographer', 1),\n",
              "  ('cryptographic', 1),\n",
              "  ('crystal', 1),\n",
              "  ('data', 8),\n",
              "  ('date', 2),\n",
              "  ('datum', 25),\n",
              "  ('deal', 2),\n",
              "  ('decipher', 2),\n",
              "  ('decision', 1),\n",
              "  ('decode', 1),\n",
              "  ('demographic', 1),\n",
              "  ('describe', 2),\n",
              "  ('description', 1),\n",
              "  ('descriptive_statistic', 2),\n",
              "  ('descriptor', 2),\n",
              "  ('design', 2),\n",
              "  ('detailed', 1),\n",
              "  ('determine', 2),\n",
              "  ('develop', 3),\n",
              "  ('deviation', 2),\n",
              "  ('differential', 1),\n",
              "  ('discipline', 2),\n",
              "  ('dispersion', 1),\n",
              "  ('disprove', 1),\n",
              "  ('distinct', 1),\n",
              "  ('distribution', 3),\n",
              "  ('diverse', 2),\n",
              "  ('do', 1),\n",
              "  ('draw', 5),\n",
              "  ('earliest', 1),\n",
              "  ('early', 5),\n",
              "  ('economic', 1),\n",
              "  ('education', 1),\n",
              "  ('element', 1),\n",
              "  ('encrypt', 2),\n",
              "  ('entire', 2),\n",
              "  ('equation', 1),\n",
              "  ('error', 7),\n",
              "  ('estimate', 2),\n",
              "  ('estimation', 2),\n",
              "  ('etymology', 1),\n",
              "  ('european', 1),\n",
              "  ('example', 1),\n",
              "  ('experiment', 2),\n",
              "  ('experimental', 3),\n",
              "  ('explanation', 1),\n",
              "  ('extend', 2),\n",
              "  ('extent', 1),\n",
              "  ('extrapolation', 1),\n",
              "  ('face', 1),\n",
              "  ('fail', 1),\n",
              "  ('false', 3),\n",
              "  ('falsely', 1),\n",
              "  ('feasible', 1),\n",
              "  ('first', 1),\n",
              "  ('forecast', 1),\n",
              "  ('form', 2),\n",
              "  ('framework', 2),\n",
              "  ('frequency', 2),\n",
              "  ('general', 1),\n",
              "  ('generate', 1),\n",
              "  ('give', 4),\n",
              "  ('governmental', 1),\n",
              "  ('group', 1),\n",
              "  ('hence', 2),\n",
              "  ('however', 1),\n",
              "  ('hypothesis', 2),\n",
              "  ('idealized', 2),\n",
              "  ('ideally', 1),\n",
              "  ('important', 1),\n",
              "  ('include', 4),\n",
              "  ('income', 1),\n",
              "  ('incorrect', 1),\n",
              "  ('index', 1),\n",
              "  ('industrial', 1),\n",
              "  ('inference', 7),\n",
              "  ('inferential', 2),\n",
              "  ('institute', 1),\n",
              "  ('interpolation', 1),\n",
              "  ('interpretation', 1),\n",
              "  ('investigation', 1),\n",
              "  ('involve', 3),\n",
              "  ('know', 1),\n",
              "  ('later', 2),\n",
              "  ('lead', 1),\n",
              "  ('linear', 1),\n",
              "  ('list', 1),\n",
              "  ('live', 2),\n",
              "  ('main', 1),\n",
              "  ('make', 5),\n",
              "  ('manipulating', 1),\n",
              "  ('manipulation', 2),\n",
              "  ('manuscript', 1),\n",
              "  ('many', 2),\n",
              "  ('mathematic', 3),\n",
              "  ('mathematical', 6),\n",
              "  ('mathematician', 1),\n",
              "  ('mean', 2),\n",
              "  ('meaningful', 1),\n",
              "  ('measure', 1),\n",
              "  ('measurement', 4),\n",
              "  ('member', 2),\n",
              "  ('message', 3),\n",
              "  ('method', 2),\n",
              "  ('mining', 1),\n",
              "  ('miss', 2),\n",
              "  ('model', 2),\n",
              "  ('modeling', 1),\n",
              "  ('modify', 1),\n",
              "  ('multiple', 1),\n",
              "  ('natural', 1),\n",
              "  ('need', 2),\n",
              "  ('negative', 1),\n",
              "  ('noise', 1),\n",
              "  ('null', 1),\n",
              "  ('null_hypothesis', 1),\n",
              "  ('numerical', 3),\n",
              "  ('object', 1),\n",
              "  ('observation', 1),\n",
              "  ('observational', 3),\n",
              "  ('obtain', 1),\n",
              "  ('occur', 1),\n",
              "  ('operation', 1),\n",
              "  ('organize', 1),\n",
              "  ('pattern', 1),\n",
              "  ('people', 3),\n",
              "  ('percentage', 1),\n",
              "  ('permutation', 1),\n",
              "  ('pertain', 1),\n",
              "  ('planning', 1),\n",
              "  ('policy', 1),\n",
              "  ('political', 1),\n",
              "  ('population', 14),\n",
              "  ('positive', 1),\n",
              "  ('possible', 1),\n",
              "  ('practice', 1),\n",
              "  ('prediction', 1),\n",
              "  ('presence', 1),\n",
              "  ('presentation', 1),\n",
              "  ('probability', 2),\n",
              "  ('problem', 4),\n",
              "  ('procedure', 2),\n",
              "  ('process', 2),\n",
              "  ('prone', 1),\n",
              "  ('property', 1),\n",
              "  ('propose', 1),\n",
              "  ('prove', 1),\n",
              "  ('publication', 1),\n",
              "  ('quantify', 1),\n",
              "  ('question', 1),\n",
              "  ('random', 2),\n",
              "  ('randomness', 2),\n",
              "  ('range', 1),\n",
              "  ('rather', 1),\n",
              "  ('reasonably', 1),\n",
              "  ('recognize', 1),\n",
              "  ('regression', 1),\n",
              "  ('reject', 3),\n",
              "  ('relationship', 5),\n",
              "  ('report', 1),\n",
              "  ('represent', 1),\n",
              "  ('representative', 1),\n",
              "  ('result', 1),\n",
              "  ('revolve', 1),\n",
              "  ('sample', 12),\n",
              "  ('sampling', 2),\n",
              "  ('science', 2),\n",
              "  ('scientific', 2),\n",
              "  ('scope', 1),\n",
              "  ('seek', 1),\n",
              "  ('sense', 1),\n",
              "  ('set', 6),\n",
              "  ('size', 2),\n",
              "  ('social', 1),\n",
              "  ('specific', 2),\n",
              "  ('specify', 1),\n",
              "  ('standard', 3),\n",
              "  ('start', 1),\n",
              "  ('stat', 1),\n",
              "  ('statistic', 14),\n",
              "  ('statistical', 13),\n",
              "  ('statistician', 1),\n",
              "  ('study', 7),\n",
              "  ('subset', 1),\n",
              "  ('sufficient', 1),\n",
              "  ('summarize', 3),\n",
              "  ('survey', 2),\n",
              "  ('synthetic', 1),\n",
              "  ('system', 2),\n",
              "  ('systematic', 1),\n",
              "  ('take', 3),\n",
              "  ('technique', 2),\n",
              "  ('term', 2),\n",
              "  ('test', 3),\n",
              "  ('testing', 1),\n",
              "  ('theoretic', 1),\n",
              "  ('theory', 2),\n",
              "  ('thinking', 1),\n",
              "  ('topic', 1),\n",
              "  ('type', 3),\n",
              "  ('typical', 1),\n",
              "  ('uncertainty', 3),\n",
              "  ('unit', 1),\n",
              "  ('unobserved', 1),\n",
              "  ('use', 10),\n",
              "  ('useful', 1),\n",
              "  ('value', 3),\n",
              "  ('variability', 1),\n",
              "  ('variation', 2),\n",
              "  ('vowel', 1),\n",
              "  ('whole', 1),\n",
              "  ('word', 1),\n",
              "  ('work', 1),\n",
              "  ('write', 1),\n",
              "  ('writing', 1)]]"
            ]
          },
          "metadata": {
            "tags": []
          },
          "execution_count": 35
        }
      ]
    },
    {
      "cell_type": "markdown",
      "metadata": {
        "id": "jmWGl6flocKU"
      },
      "source": [
        "## **Wordcloud**"
      ]
    },
    {
      "cell_type": "code",
      "metadata": {
        "id": "39Ozg9SYg2ix"
      },
      "source": [
        "text=str(data)"
      ],
      "execution_count": null,
      "outputs": []
    },
    {
      "cell_type": "code",
      "metadata": {
        "colab": {
          "base_uri": "https://localhost:8080/",
          "height": 530
        },
        "id": "PgsTqOPcd95c",
        "outputId": "3350d00b-5462-4cd2-efbf-c6e9cbaa3438"
      },
      "source": [
        "# Generate wordcloud\n",
        "stopwords = STOPWORDS\n",
        "stopwords.add('will')\n",
        "stopwords.add('political')\n",
        "plt.figure(figsize=(12,12))\n",
        "#text = description_category.description.values\n",
        "cloud = WordCloud(stopwords=STOPWORDS, background_color='black', collocations=False, width=2500, height=1800).generate(text)\n",
        "plt.axis('off')\n",
        "plt.imshow(cloud)"
      ],
      "execution_count": null,
      "outputs": [
        {
          "output_type": "execute_result",
          "data": {
            "text/plain": [
              "<matplotlib.image.AxesImage at 0x7f6631ed91d0>"
            ]
          },
          "metadata": {
            "tags": []
          },
          "execution_count": 34
        },
        {
          "output_type": "display_data",
          "data": {
            "image/png": "[encoded data removed]",
            "text/plain": [
              "<Figure size 864x864 with 1 Axes>"
            ]
          },
          "metadata": {
            "tags": [],
            "needs_background": "light"
          }
        }
      ]
    },
    {
      "cell_type": "markdown",
      "metadata": {
        "id": "2Jef47dncxdA"
      },
      "source": [
        "## **LDA**"
      ]
    },
    {
      "cell_type": "code",
      "metadata": {
        "id": "7EFZlK8ER51i"
      },
      "source": [
        "ldamodel = LdaModel(corpus=corpus, num_topics=5, id2word=id2word)"
      ],
      "execution_count": null,
      "outputs": []
    },
    {
      "cell_type": "code",
      "metadata": {
        "id": "4Io8mlk1PKEe",
        "colab": {
          "base_uri": "https://localhost:8080/"
        },
        "outputId": "cdfe291f-d996-48f0-b9b6-fc8b9e74b07a"
      },
      "source": [
        "pprint(ldamodel.print_topics())\n",
        "doc_lda = ldamodel[corpus]"
      ],
      "execution_count": null,
      "outputs": [
        {
          "output_type": "stream",
          "text": [
            "[(0,\n",
            "  '0.014*\"medium\" + 0.010*\"social\" + 0.009*\"statistical\" + 0.009*\"political\" + '\n",
            "  '0.008*\"statistic\" + 0.007*\"datum\" + 0.006*\"study\" + 0.005*\"use\" + '\n",
            "  '0.005*\"sample\" + 0.004*\"people\"'),\n",
            " (1,\n",
            "  '0.037*\"social\" + 0.029*\"medium\" + 0.012*\"political\" + 0.008*\"user\" + '\n",
            "  '0.008*\"use\" + 0.006*\"platform\" + 0.006*\"people\" + 0.005*\"state\" + '\n",
            "  '0.005*\"information\" + 0.004*\"datum\"'),\n",
            " (2,\n",
            "  '0.027*\"social\" + 0.022*\"medium\" + 0.011*\"political\" + 0.008*\"use\" + '\n",
            "  '0.007*\"people\" + 0.007*\"state\" + 0.006*\"datum\" + 0.006*\"user\" + '\n",
            "  '0.006*\"study\" + 0.004*\"make\"'),\n",
            " (3,\n",
            "  '0.029*\"medium\" + 0.023*\"social\" + 0.009*\"use\" + 0.006*\"user\" + '\n",
            "  '0.006*\"statistical\" + 0.006*\"people\" + 0.006*\"datum\" + 0.005*\"statistic\" + '\n",
            "  '0.005*\"study\" + 0.004*\"political\"'),\n",
            " (4,\n",
            "  '0.022*\"social\" + 0.018*\"medium\" + 0.012*\"political\" + 0.009*\"use\" + '\n",
            "  '0.008*\"system\" + 0.005*\"datum\" + 0.005*\"statistic\" + 0.005*\"user\" + '\n",
            "  '0.005*\"politic\" + 0.005*\"study\"')]\n"
          ],
          "name": "stdout"
        }
      ]
    },
    {
      "cell_type": "markdown",
      "metadata": {
        "id": "av3m4V5kZ7lC"
      },
      "source": [
        "## **Topic Visualization**\n",
        "From the model we created, lets look at the most salient terms under each topic that contributes to it the most"
      ]
    },
    {
      "cell_type": "code",
      "metadata": {
        "id": "jQABGrdS-Hyl"
      },
      "source": [
        "from pandas.compat._optional import import_optional_dependency"
      ],
      "execution_count": null,
      "outputs": []
    },
    {
      "cell_type": "code",
      "metadata": {
        "id": "pxQG4iVZR553"
      },
      "source": [
        "import pyLDAvis\n",
        "import pyLDAvis.gensim_models as gensimvis\n",
        "pyLDAvis.enable_notebook()\n",
        "\n",
        "# feed the LDA model into the pyLDAvis instance\n",
        "lda_viz = gensimvis.prepare(ldamodel, corpus, id2word)"
      ],
      "execution_count": null,
      "outputs": []
    },
    {
      "cell_type": "code",
      "metadata": {
        "colab": {
          "base_uri": "https://localhost:8080/",
          "height": 881
        },
        "id": "AJt2oxBhV037",
        "outputId": "5d89b06e-45a6-427c-a173-2c2c950655c8"
      },
      "source": [
        "lda_viz"
      ],
      "execution_count": null,
      "outputs": [
        {
          "output_type": "execute_result",
          "data": {
            "text/html": [
              "\n",
              "<link rel=\"stylesheet\" type=\"text/css\" href=\"https://cdn.jsdelivr.net/gh/bmabey/pyLDAvis@3.3.1/pyLDAvis/js/ldavis.v1.0.0.css\">\n",
              "\n",
              "\n",
              "<div id=\"ldavis_el1164140189725612624792066304\"></div>\n",
              "<script type=\"text/javascript\">\n",
              "\n",
              "var ldavis_el1164140189725612624792066304_data = {\"mdsDat\": {\"x\": [-0.02225972039106244, -0.004327323749143095, 0.02306311120718835, 0.0026561273914505845, 0.0008678055415665979], \"y\": [0.0003863500732167719, -0.005689048826358931, -0.0005935102137085064, -0.004164173383138603, 0.01006038234998927], \"topics\": [1, 2, 3, 4, 5], \"cluster\": [1, 1, 1, 1, 1], \"Freq\": [61.651315100617076, 17.48059097025869, 11.409448484711325, 6.312576403695893, 3.1460690407170206]}, \"tinfo\": {\"Term\": [\"medium\", \"social\", \"use\", \"political\", \"datum\", \"statistical\", \"user\", \"statistic\", \"people\", \"study\", \"system\", \"make\", \"content\", \"platform\", \"include\", \"state\", \"many\", \"sample\", \"politic\", \"population\", \"online\", \"method\", \"find\", \"form\", \"probability\", \"post\", \"site\", \"value\", \"individual\", \"type\", \"freedom\", \"wing\", \"authoritarian\", \"conflict\", \"far\", \"absence\", \"liberalism\", \"platform\", \"leave\", \"libertarian\", \"interact\", \"believe\", \"christian\", \"right\", \"adult\", \"enforce\", \"motivate\", \"name\", \"formation\", \"inequality\", \"regard\", \"center\", \"feature\", \"activist\", \"mixed\", \"similar\", \"time\", \"personal\", \"origin\", \"stress\", \"social\", \"information\", \"share\", \"negative\", \"show\", \"medium\", \"survey\", \"create\", \"user\", \"post\", \"twitter\", \"service\", \"friend\", \"political\", \"increase\", \"access\", \"content\", \"news\", \"politic\", \"individual\", \"site\", \"use\", \"government\", \"state\", \"people\", \"online\", \"many\", \"become\", \"find\", \"datum\", \"study\", \"make\", \"form\", \"view\", \"include\", \"independent\", \"parameter\", \"capacity\", \"true\", \"consideration\", \"territory\", \"residual\", \"hypothesis\", \"legislature\", \"integrate\", \"error\", \"capitalist\", \"geniocracy\", \"interpret\", \"unbiased\", \"jury\", \"misuse\", \"vary\", \"govern\", \"least_square\", \"myth\", \"dictatorship\", \"commission\", \"death\", \"neuroscience\", \"interfere\", \"position\", \"norm\", \"economy\", \"tell\", \"variable\", \"estimator\", \"value\", \"population\", \"sample\", \"interval\", \"even\", \"state\", \"science\", \"would\", \"work\", \"contrast\", \"study\", \"people\", \"product\", \"give\", \"society\", \"rule\", \"datum\", \"use\", \"political\", \"social\", \"make\", \"probability\", \"medium\", \"statistical\", \"find\", \"example\", \"user\", \"view\", \"type\", \"issue\", \"democracy\", \"power\", \"post\", \"content\", \"many\", \"form\", \"statistic\", \"government\", \"share\", \"platform\", \"information\", \"individual\", \"compute\", \"bayesian\", \"applicable\", \"gibb\", \"intensive\", \"multilevel\", \"house\", \"tropical\", \"computationally\", \"bootstrap\", \"logical\", \"neural\", \"justification\", \"undergraduate\", \"software\", \"linear\", \"journal\", \"correct\", \"consultant\", \"theoretical\", \"substantial\", \"principal\", \"improvement\", \"deriving\", \"suitable\", \"probabilistic\", \"resample\", \"sustain\", \"generalize\", \"tukey\", \"discipline\", \"auditing\", \"mathematical\", \"statistical\", \"statistic\", \"management\", \"test\", \"sampling\", \"probability\", \"design\", \"experimental\", \"model\", \"computation\", \"procedure\", \"experiment\", \"population\", \"sample\", \"interval\", \"measurement\", \"method\", \"estimation\", \"inference\", \"datum\", \"apply\", \"random\", \"analysis\", \"study\", \"variable\", \"distribution\", \"political\", \"medium\", \"include\", \"make\", \"type\", \"system\", \"power\", \"social\", \"use\", \"people\", \"call\", \"value\", \"find\", \"user\", \"form\", \"information\", \"state\", \"patronage\", \"corruption\", \"outcomes\", \"devolve\", \"continuation\", \"electoral\", \"coalition\", \"system\", \"destabilize\", \"thieve\", \"irredentism\", \"repeatedly\", \"cronyism\", \"polarity\", \"bribery\", \"exert\", \"execute\", \"inherent\", \"mesopolitic\", \"pork\", \"terrorism\", \"nonviolent\", \"representation\", \"micropolitic\", \"entail\", \"educational\", \"processing\", \"macropolitic\", \"theorist\", \"disparate\", \"revolution\", \"random\", \"politic\", \"refer\", \"statistic\", \"organization\", \"describe\", \"include\", \"error\", \"party\", \"use\", \"political\", \"estimate\", \"form\", \"call\", \"statistical\", \"variable\", \"power\", \"international\", \"social\", \"business\", \"many\", \"medium\", \"mean\", \"datum\", \"study\", \"make\", \"online\", \"population\", \"service\", \"state\", \"user\", \"people\", \"probability\", \"value\", \"government\", \"increase\", \"platform\", \"individual\", \"sample\", \"content\", \"post\", \"compression\", \"manufacturing\", \"typical\", \"formalize\", \"tradition\", \"specialised\", \"tree\", \"purist\", \"methodology\", \"requirement\", \"forecasting\", \"certification\", \"spc\", \"variability\", \"biology\", \"owner\", \"dry\", \"perhaps\", \"jpeg\", \"deride\", \"accounting\", \"mathematic\", \"sixdegree\", \"linear_regression\", \"transmission\", \"specialized\", \"pc\", \"oxide\", \"linear\", \"analytic\", \"terminology\", \"probability\", \"discipline\", \"statistical\", \"statistic\", \"data\", \"develop\", \"experiment\", \"medium\", \"use\", \"error\", \"mathematical\", \"first\", \"inference\", \"content\", \"datum\", \"study\", \"marketing\", \"method\", \"social\", \"communication\", \"image\", \"include\", \"people\", \"time\", \"message\", \"user\", \"analysis\", \"population\", \"site\", \"many\", \"make\", \"student\", \"online\", \"allow\", \"twitter\", \"platform\", \"sample\", \"become\", \"value\", \"find\", \"post\", \"political\", \"share\", \"type\"], \"Freq\": [312.0, 386.0, 93.0, 136.0, 63.0, 42.0, 83.0, 41.0, 73.0, 55.0, 34.0, 45.0, 41.0, 62.0, 33.0, 65.0, 36.0, 33.0, 35.0, 28.0, 34.0, 27.0, 40.0, 34.0, 19.0, 45.0, 29.0, 25.0, 36.0, 29.0, 8.329282182743235, 5.8620983602924435, 3.5530549821006963, 11.095334865677248, 5.058722768161581, 3.479615498105605, 3.441920589750091, 48.410327151612805, 14.57250865606998, 3.3407426191485703, 5.176245035472355, 4.7344424820537885, 3.35585256759044, 26.325698062810897, 8.25661489132163, 3.1463256294961157, 5.45028328762198, 5.235397395521126, 6.97125908885069, 3.3242653857628883, 9.042813994226869, 2.289629493326419, 12.048545259415812, 4.265442779803447, 2.3245588281063494, 5.497152834084154, 18.23013818546459, 9.752499564018644, 2.2345120736746398, 4.532455908528879, 287.22581669653744, 37.5447791303947, 31.13881586030693, 15.698654498571342, 17.24405852933452, 220.41080817988563, 16.05296910553135, 20.70925552815418, 59.770135520180204, 32.85127936029624, 22.5886036276476, 16.99638054948989, 14.37514943873501, 89.23948085072453, 22.189536646931238, 14.343596160220908, 28.570787970282495, 20.24661091279113, 24.344793480065118, 25.03073780851605, 20.585852820344442, 58.41417785183084, 25.350811853274674, 41.48783084162283, 45.17042659260485, 23.054990098184778, 23.684385484183053, 19.271810353730995, 24.829751828834198, 34.298476198299106, 29.22333753498342, 25.753831246585545, 21.208414012104804, 19.185669171789684, 19.259410662932233, 2.7930007189136346, 2.918115823240841, 0.75186669241144, 2.40870576540622, 1.0696912506088683, 0.990737513289265, 0.7767787977393005, 3.1835455966346924, 0.7344278834941458, 1.4280377360821062, 5.959304002568576, 0.6920313710607168, 0.4505819441766292, 1.006443591052129, 0.7821457867150798, 0.6367960910724517, 1.2636532949325774, 0.6125837693136025, 1.1915590809067529, 0.7802400227685291, 0.45377716923376016, 0.6483302824445888, 0.7059197823475797, 1.1107239281877357, 0.6888410789559928, 0.44190845412115454, 1.6686583004758675, 0.4201741187880619, 0.7098438195013473, 0.6025809434489248, 5.378308457235842, 3.0473612000782135, 6.91083763551938, 7.626367694557408, 8.931868742589632, 2.766305604262581, 1.4388506412721762, 15.73457606134872, 4.366753189116483, 2.8493107500968184, 2.4545010188050567, 2.3329578779643163, 12.691332991128595, 16.14334528903639, 3.622963131140767, 5.554386019365183, 6.549864416132422, 3.3122367119990583, 13.074164502088614, 18.05980893584376, 24.66943897956341, 57.84338504992104, 9.476012350751366, 4.641488281553265, 47.14066532047575, 8.921444275780118, 8.472648313346722, 6.1972706385673995, 12.884245328477297, 5.97980383494034, 6.013904955471691, 5.0215355835804205, 4.957166878967713, 5.469598433394569, 7.548349131176798, 7.112418308620722, 6.560618252379568, 6.366922713971793, 7.03564183735899, 6.443976948399825, 6.349868359127344, 7.237927796168566, 6.573613419822896, 5.752257618200336, 0.9581768230688028, 0.6160117864025231, 0.5675745304902556, 0.5329095019138184, 0.5455564026691334, 0.574146764643893, 0.5469335676132214, 0.5463721013910746, 0.5360660879654131, 0.5468707008983024, 0.5046474668270867, 0.521548830204386, 0.5201866905289984, 0.5215739273565008, 1.34024183227262, 1.1499397043311044, 0.4898443574568575, 0.7160481678896241, 0.5111495693007192, 0.4848782584821448, 0.49059570344829384, 0.4859761350525344, 0.4915962047196065, 0.48295717055546383, 0.4930087038120667, 0.4958739482524342, 0.4856390571838348, 0.4801116158216074, 0.48110662709089497, 0.47000869119266425, 1.8598657356767285, 0.6370915779376695, 3.2368867013657705, 12.700154930748464, 11.648985811572881, 1.6465273941250136, 4.785260124246924, 1.7761439478016117, 5.07210637321441, 2.1285959686384133, 2.1659550609153824, 3.9363605118633807, 1.0510329836366437, 2.006569982573794, 2.316277095312363, 5.9528707829159, 6.752641729357698, 2.5599674703157365, 3.1825117399549785, 5.637972852623486, 1.4703554581626495, 2.6274234967021455, 9.750161040171866, 2.4037301032104392, 2.213856938434675, 3.065054426252307, 7.888455617199987, 3.678342304807951, 2.596371880135287, 12.2220713546975, 19.19462291675276, 4.841958883808133, 5.638530934032354, 4.3208313803005165, 4.66998923480941, 4.053674507618449, 14.681885502355179, 7.1981049517217865, 6.375451346613649, 3.1175276179390328, 3.579660632918309, 4.147423928666165, 4.2251722641122775, 3.3803033864486425, 3.5246546102221044, 3.6519869928305715, 0.3775081740877259, 0.6393899327427721, 0.36608370396867196, 0.23573929126696666, 0.2277778538037548, 0.2247281021549502, 0.22581618499194667, 6.19224523648371, 0.22281756818922724, 0.22313967889453545, 0.22214141890240408, 0.2241326175739657, 0.22227394927838984, 0.22075018110920647, 0.22192488943579694, 0.22064722626947805, 0.22330098546796084, 0.22096367308830608, 0.21835680082104833, 0.21611232593551422, 0.22019697013255585, 0.2182983120578397, 0.2150206803312157, 0.2139772919532584, 0.21004982060604172, 0.2116918224054988, 0.21247967358254197, 0.21628158022061342, 0.2137305703175916, 0.21228600520612298, 0.7921213820371756, 1.2780875010398463, 3.9446659930404246, 2.2724522922739947, 4.1550136016134624, 1.326693969929649, 2.0488882786584846, 3.174734804702509, 1.9845362967067945, 1.8814731123112116, 6.864763423955059, 9.063786716721824, 1.3266777090942703, 2.9786048301368266, 1.7561519502846221, 3.421725200918082, 1.835994661759599, 2.3615779309839677, 1.1552147823268328, 17.642866067534694, 1.495509486532642, 2.8680289570903263, 14.085233535346537, 1.3186312448191, 4.215239716323366, 3.7903660126030427, 3.2126788245873614, 2.649462318410488, 2.260669764041085, 1.9479326081515744, 3.651968398341846, 4.050491144272164, 3.5860477025411623, 1.72537457385735, 1.9324122802537782, 2.203782967176285, 2.060619101089011, 2.6279998427709232, 2.090764862820735, 2.0120721030072497, 1.9774663047314085, 1.9677273432817501, 0.25524214214655605, 0.09246290033181138, 0.18796147807141367, 0.08819833158396968, 0.0890522776949144, 0.09134294758859965, 0.08865537059948284, 0.08633979086156163, 0.25460572038251256, 0.13346365597371315, 0.0834749880421154, 0.08505620258000937, 0.08546928371640931, 0.12546343579665006, 0.17122623999540468, 0.09178936136326553, 0.07855901861544175, 0.1678267889427515, 0.14115687669053764, 0.07854568442191996, 0.07730518897576973, 0.2085682989519184, 0.17438501539972828, 0.2188159254549533, 0.21870456245929207, 0.12470157131233037, 0.17690302105714426, 0.08466035971598565, 0.19328978310339406, 0.0737310958417666, 0.15642312257694801, 1.1624825262150165, 0.32353201629664713, 2.272553055598778, 2.1184386891583715, 0.6063297161055151, 0.5971462299530893, 0.47412827272796465, 11.175679269686814, 3.4601628251929557, 0.9003012538247092, 0.5076147066600232, 0.7133082604808938, 0.5414485239350479, 1.6103284035090708, 2.2280876234701843, 1.987594362777824, 0.9288376799982743, 1.1137365846317715, 8.877694111093605, 0.7887528656375955, 0.8398218593429247, 1.2548662807383315, 2.256014148298746, 0.962848558062394, 0.6141004037631073, 2.4193125472349752, 0.6492891526615489, 1.0597676001776126, 1.0859636733548699, 1.222294015894532, 1.4187675696126412, 0.6849748464077593, 1.1477065779983837, 0.6963556801724491, 1.0193830800494676, 1.5069667890046303, 1.0397288170793513, 0.9538597522736015, 0.8889470543006006, 1.0927892324650657, 1.1020629563351532, 1.63168514899425, 0.979256160832791, 0.9096134949042527], \"Total\": [312.0, 386.0, 93.0, 136.0, 63.0, 42.0, 83.0, 41.0, 73.0, 55.0, 34.0, 45.0, 41.0, 62.0, 33.0, 65.0, 36.0, 33.0, 35.0, 28.0, 34.0, 27.0, 40.0, 34.0, 19.0, 45.0, 29.0, 25.0, 36.0, 29.0, 9.927958065677455, 7.401621782249134, 4.519106323790857, 14.15424137860317, 6.461746348308435, 4.467696812084584, 4.443954893828359, 62.59251852379825, 18.916826928545042, 4.33677375946252, 6.74261922630783, 6.179881147533462, 4.387275514016714, 34.42082643536965, 10.836890943259474, 4.131201970360448, 7.158797119277324, 6.881729327709013, 9.167985803166255, 4.388130960471446, 11.937959252201374, 3.0266532027526316, 15.932986974182926, 5.648391247971152, 3.078976480743316, 7.322271111523609, 24.29580263820217, 13.00109320719683, 2.9792346890621015, 6.044871298752762, 386.2716474274419, 50.20640195551291, 41.646119867596994, 21.038842792748692, 23.149797325922894, 312.00700922214753, 21.57291265226166, 28.070210781774456, 83.34935680427691, 45.84690536371762, 31.46278887477535, 23.530907734253912, 19.808236423096425, 136.82646305070153, 31.541532902235797, 19.902978589056517, 41.61398970794833, 28.81659479643507, 35.27845448782914, 36.43421069219323, 29.5477949614162, 93.9970179885444, 37.264265948915806, 65.01858668943795, 73.5312850790948, 34.85448729575419, 36.476301518240824, 28.695918812471785, 40.223781608603744, 63.566129080353136, 55.58108651869287, 45.49982092556927, 34.645315244004884, 29.215411409471972, 33.79638682926659, 8.106244544343141, 8.806798862536208, 2.286000100216934, 7.488507882063904, 3.3460553573823906, 3.115579510235643, 2.4570075154526525, 10.161408420245357, 2.3475699109588706, 4.622706704348363, 19.30449415568893, 2.2458653619908597, 1.470429632128215, 3.288313225672698, 2.5900671204627503, 2.122736971032413, 4.2510944233336, 2.0616942139691172, 4.026219441452588, 2.6393286300006666, 1.540530235290805, 2.2013313119395637, 2.4090503491559305, 3.8026777008070183, 2.363676238875804, 1.519655441239042, 5.7657879045543385, 1.4583041468260254, 2.4638968521239915, 2.100606525200992, 19.013581431255258, 10.724003405602884, 25.32421285968302, 28.073933160122714, 33.199586248739635, 9.918548045449844, 5.069059048888803, 65.01858668943795, 16.791922098365298, 10.686715082914924, 9.107267573938733, 8.662982151523977, 55.58108651869287, 73.5312850790948, 14.171777897697126, 23.019222467542885, 28.110486670229296, 13.02766823484909, 63.566129080353136, 93.9970179885444, 136.82646305070153, 386.2716474274419, 45.49982092556927, 19.49209857841944, 312.00700922214753, 42.650806508596524, 40.223781608603744, 27.954247929773942, 83.34935680427691, 29.215411409471972, 29.694726203702455, 23.23595772391949, 22.803278447171834, 26.660537953016167, 45.84690536371762, 41.61398970794833, 36.476301518240824, 34.645315244004884, 41.41349921975692, 37.264265948915806, 41.646119867596994, 62.59251852379825, 50.20640195551291, 36.43421069219323, 2.0331406422716967, 1.3579102842948239, 1.3741720908162294, 1.3035282617281125, 1.3344974811079156, 1.41413335698796, 1.3473090698976324, 1.3519336589894613, 1.3401059197536238, 1.3738046964247614, 1.2687825885336743, 1.329392431564724, 1.3453313436302783, 1.3529233283515447, 3.511699613743336, 3.030903042886305, 1.310682494336655, 1.9164235723258383, 1.3730865918203528, 1.3043173373710644, 1.3275030774139778, 1.315874884700167, 1.3313348725009366, 1.317831871185414, 1.3545244340264813, 1.3673093613852294, 1.3403249813676212, 1.3284229519200867, 1.3352293738978143, 1.3075644780461115, 5.246199596286467, 1.7785615391373113, 9.848746116504651, 42.650806508596524, 41.41349921975692, 5.115400550404807, 16.758497830631775, 5.8142164092903945, 19.49209857841944, 7.238417880148564, 7.5866833335867145, 15.529746057674569, 3.250585308912501, 7.0880175379775885, 8.548506400796748, 28.073933160122714, 33.199586248739635, 9.918548045449844, 13.277142844544509, 27.764422188877298, 4.940202121483508, 10.766236761237955, 63.566129080353136, 9.868702603685302, 9.038437440903348, 14.479111237520359, 55.58108651869287, 19.013581431255258, 12.14107842459561, 136.82646305070153, 312.00700922214753, 33.79638682926659, 45.49982092556927, 29.694726203702455, 34.12530561911847, 26.660537953016167, 386.2716474274419, 93.9970179885444, 73.5312850790948, 17.74204296281127, 25.32421285968302, 40.223781608603744, 83.34935680427691, 34.645315244004884, 50.20640195551291, 65.01858668943795, 1.7854352330860985, 3.077466796773836, 1.822444306358721, 1.1907432669746982, 1.2151428646144071, 1.2260617002617733, 1.2329783424258276, 34.12530561911847, 1.2325556402214755, 1.236217244292325, 1.2315853687118852, 1.2524068731454698, 1.2495753421348854, 1.242869332735863, 1.253544165181652, 1.2469998642651408, 1.2692678494087395, 1.2620282965906884, 1.2598222769531513, 1.2496070557966057, 1.2747779494852474, 1.27368847756171, 1.258609042219933, 1.2532485039015087, 1.2512921470886036, 1.2621583017796114, 1.2692946688655415, 1.2933853011947978, 1.2849167907973722, 1.2836958007941213, 5.338428228542421, 9.038437440903348, 35.27845448782914, 20.055297834550153, 41.41349921975692, 11.190960267830851, 19.446749280179837, 33.79638682926659, 19.30449415568893, 18.19931069821099, 93.9970179885444, 136.82646305070153, 12.181665430020127, 34.645315244004884, 17.74204296281127, 42.650806508596524, 19.013581431255258, 26.660537953016167, 10.555048082211199, 386.2716474274419, 15.179986608444594, 36.476301518240824, 312.00700922214753, 13.081757986003048, 63.566129080353136, 55.58108651869287, 45.49982092556927, 34.85448729575419, 28.073933160122714, 23.530907734253912, 65.01858668943795, 83.34935680427691, 73.5312850790948, 19.49209857841944, 25.32421285968302, 37.264265948915806, 31.541532902235797, 62.59251852379825, 36.43421069219323, 33.199586248739635, 41.61398970794833, 45.84690536371762, 3.0760500410210856, 1.178739416605492, 2.40394950763795, 1.1380377971303697, 1.1542748122776578, 1.1907385890946391, 1.1969286355265818, 1.1664874145645796, 3.4631924249061616, 1.8166808774748517, 1.162428692934887, 1.1929551736009736, 1.2090470178074728, 1.8030772163738593, 2.4638936112842456, 1.325416267322387, 1.1491112813287268, 2.4718622547901905, 2.085622479535241, 1.1861453320437025, 1.1760947730404538, 3.175354671111261, 2.6549502658534836, 3.3549110963096447, 3.36204977479822, 1.9433347950864128, 2.7587281069956457, 1.3223987957524794, 3.030903042886305, 1.169305047972716, 2.4923785146432604, 19.49209857841944, 5.246199596286467, 42.650806508596524, 41.41349921975692, 10.744189344975897, 10.83325090193849, 8.548506400796748, 312.00700922214753, 93.9970179885444, 19.30449415568893, 9.848746116504651, 14.876987050097558, 10.766236761237955, 41.61398970794833, 63.566129080353136, 55.58108651869287, 21.74125164549128, 27.764422188877298, 386.2716474274419, 18.129504970164813, 19.98170343338246, 33.79638682926659, 73.5312850790948, 24.29580263820217, 13.345200371500658, 83.34935680427691, 14.479111237520359, 28.073933160122714, 29.5477949614162, 36.476301518240824, 45.49982092556927, 15.668063011782381, 34.85448729575419, 16.320711214543056, 31.46278887477535, 62.59251852379825, 33.199586248739635, 28.695918812471785, 25.32421285968302, 40.223781608603744, 45.84690536371762, 136.82646305070153, 41.646119867596994, 29.694726203702455], \"Category\": [\"Default\", \"Default\", \"Default\", \"Default\", \"Default\", \"Default\", \"Default\", \"Default\", \"Default\", \"Default\", \"Default\", \"Default\", \"Default\", \"Default\", \"Default\", \"Default\", \"Default\", \"Default\", \"Default\", \"Default\", \"Default\", \"Default\", \"Default\", \"Default\", \"Default\", \"Default\", \"Default\", \"Default\", \"Default\", \"Default\", \"Topic1\", \"Topic1\", \"Topic1\", \"Topic1\", \"Topic1\", \"Topic1\", \"Topic1\", \"Topic1\", \"Topic1\", \"Topic1\", \"Topic1\", \"Topic1\", \"Topic1\", \"Topic1\", \"Topic1\", \"Topic1\", \"Topic1\", \"Topic1\", \"Topic1\", \"Topic1\", \"Topic1\", \"Topic1\", \"Topic1\", \"Topic1\", \"Topic1\", \"Topic1\", \"Topic1\", \"Topic1\", \"Topic1\", \"Topic1\", \"Topic1\", \"Topic1\", \"Topic1\", \"Topic1\", \"Topic1\", \"Topic1\", \"Topic1\", \"Topic1\", \"Topic1\", \"Topic1\", \"Topic1\", \"Topic1\", \"Topic1\", \"Topic1\", \"Topic1\", \"Topic1\", \"Topic1\", \"Topic1\", \"Topic1\", \"Topic1\", \"Topic1\", \"Topic1\", \"Topic1\", \"Topic1\", \"Topic1\", \"Topic1\", \"Topic1\", \"Topic1\", \"Topic1\", \"Topic1\", \"Topic1\", \"Topic1\", \"Topic1\", \"Topic1\", \"Topic1\", \"Topic2\", \"Topic2\", \"Topic2\", \"Topic2\", \"Topic2\", \"Topic2\", \"Topic2\", \"Topic2\", \"Topic2\", \"Topic2\", \"Topic2\", \"Topic2\", \"Topic2\", \"Topic2\", \"Topic2\", \"Topic2\", \"Topic2\", \"Topic2\", \"Topic2\", \"Topic2\", \"Topic2\", \"Topic2\", \"Topic2\", \"Topic2\", \"Topic2\", \"Topic2\", \"Topic2\", \"Topic2\", \"Topic2\", \"Topic2\", \"Topic2\", \"Topic2\", \"Topic2\", \"Topic2\", \"Topic2\", \"Topic2\", \"Topic2\", \"Topic2\", \"Topic2\", \"Topic2\", \"Topic2\", \"Topic2\", \"Topic2\", \"Topic2\", \"Topic2\", \"Topic2\", \"Topic2\", \"Topic2\", \"Topic2\", \"Topic2\", \"Topic2\", \"Topic2\", \"Topic2\", \"Topic2\", \"Topic2\", \"Topic2\", \"Topic2\", \"Topic2\", \"Topic2\", \"Topic2\", \"Topic2\", \"Topic2\", \"Topic2\", \"Topic2\", \"Topic2\", \"Topic2\", \"Topic2\", \"Topic2\", \"Topic2\", \"Topic2\", \"Topic2\", \"Topic2\", \"Topic2\", \"Topic2\", \"Topic3\", \"Topic3\", \"Topic3\", \"Topic3\", \"Topic3\", \"Topic3\", \"Topic3\", \"Topic3\", \"Topic3\", \"Topic3\", \"Topic3\", \"Topic3\", \"Topic3\", \"Topic3\", \"Topic3\", \"Topic3\", \"Topic3\", \"Topic3\", \"Topic3\", \"Topic3\", \"Topic3\", \"Topic3\", \"Topic3\", \"Topic3\", \"Topic3\", \"Topic3\", \"Topic3\", \"Topic3\", \"Topic3\", \"Topic3\", \"Topic3\", \"Topic3\", \"Topic3\", \"Topic3\", \"Topic3\", \"Topic3\", \"Topic3\", \"Topic3\", \"Topic3\", \"Topic3\", \"Topic3\", \"Topic3\", \"Topic3\", \"Topic3\", \"Topic3\", \"Topic3\", \"Topic3\", \"Topic3\", \"Topic3\", \"Topic3\", \"Topic3\", \"Topic3\", \"Topic3\", \"Topic3\", \"Topic3\", \"Topic3\", \"Topic3\", \"Topic3\", \"Topic3\", \"Topic3\", \"Topic3\", \"Topic3\", \"Topic3\", \"Topic3\", \"Topic3\", \"Topic3\", \"Topic3\", \"Topic3\", \"Topic3\", \"Topic3\", \"Topic3\", \"Topic3\", \"Topic3\", \"Topic3\", \"Topic3\", \"Topic3\", \"Topic4\", \"Topic4\", \"Topic4\", \"Topic4\", \"Topic4\", \"Topic4\", \"Topic4\", \"Topic4\", \"Topic4\", \"Topic4\", \"Topic4\", \"Topic4\", \"Topic4\", \"Topic4\", \"Topic4\", \"Topic4\", \"Topic4\", \"Topic4\", \"Topic4\", \"Topic4\", \"Topic4\", \"Topic4\", \"Topic4\", \"Topic4\", \"Topic4\", \"Topic4\", \"Topic4\", \"Topic4\", \"Topic4\", \"Topic4\", \"Topic4\", \"Topic4\", \"Topic4\", \"Topic4\", \"Topic4\", \"Topic4\", \"Topic4\", \"Topic4\", \"Topic4\", \"Topic4\", \"Topic4\", \"Topic4\", \"Topic4\", \"Topic4\", \"Topic4\", \"Topic4\", \"Topic4\", \"Topic4\", \"Topic4\", \"Topic4\", \"Topic4\", \"Topic4\", \"Topic4\", \"Topic4\", \"Topic4\", \"Topic4\", \"Topic4\", \"Topic4\", \"Topic4\", \"Topic4\", \"Topic4\", \"Topic4\", \"Topic4\", \"Topic4\", \"Topic4\", \"Topic4\", \"Topic4\", \"Topic4\", \"Topic4\", \"Topic4\", \"Topic4\", \"Topic4\", \"Topic5\", \"Topic5\", \"Topic5\", \"Topic5\", \"Topic5\", \"Topic5\", \"Topic5\", \"Topic5\", \"Topic5\", \"Topic5\", \"Topic5\", \"Topic5\", \"Topic5\", \"Topic5\", \"Topic5\", \"Topic5\", \"Topic5\", \"Topic5\", \"Topic5\", \"Topic5\", \"Topic5\", \"Topic5\", \"Topic5\", \"Topic5\", \"Topic5\", \"Topic5\", \"Topic5\", \"Topic5\", \"Topic5\", \"Topic5\", \"Topic5\", \"Topic5\", \"Topic5\", \"Topic5\", \"Topic5\", \"Topic5\", \"Topic5\", \"Topic5\", \"Topic5\", \"Topic5\", \"Topic5\", \"Topic5\", \"Topic5\", \"Topic5\", \"Topic5\", \"Topic5\", \"Topic5\", \"Topic5\", \"Topic5\", \"Topic5\", \"Topic5\", \"Topic5\", \"Topic5\", \"Topic5\", \"Topic5\", \"Topic5\", \"Topic5\", \"Topic5\", \"Topic5\", \"Topic5\", \"Topic5\", \"Topic5\", \"Topic5\", \"Topic5\", \"Topic5\", \"Topic5\", \"Topic5\", \"Topic5\", \"Topic5\", \"Topic5\", \"Topic5\", \"Topic5\", \"Topic5\", \"Topic5\", \"Topic5\"], \"logprob\": [30.0, 29.0, 28.0, 27.0, 26.0, 25.0, 24.0, 23.0, 22.0, 21.0, 20.0, 19.0, 18.0, 17.0, 16.0, 15.0, 14.0, 13.0, 12.0, 11.0, 10.0, 9.0, 8.0, 7.0, 6.0, 5.0, 4.0, 3.0, 2.0, 1.0, -6.8245, -7.1758, -7.6765, -6.5377, -7.3232, -7.6974, -7.7082, -5.0646, -6.2651, -7.7381, -7.3002, -7.3894, -7.7336, -5.6737, -6.8333, -7.798, -7.2486, -7.2888, -7.0025, -7.743, -6.7423, -8.1159, -6.4553, -7.4937, -8.1007, -7.24, -6.0412, -6.6667, -8.1403, -7.433, -3.284, -5.3187, -5.5058, -6.1907, -6.0968, -3.5488, -6.1684, -5.9137, -4.8538, -5.4523, -5.8268, -6.1113, -6.2788, -4.4529, -5.8447, -6.281, -5.5919, -5.9363, -5.752, -5.7242, -5.9197, -4.8767, -5.7115, -5.2189, -5.1338, -5.8064, -5.7795, -5.9856, -5.7322, -5.4092, -5.5693, -5.6957, -5.8899, -5.9901, -5.9863, -6.6568, -6.6129, -7.9691, -6.8048, -7.6165, -7.6932, -7.9365, -6.5259, -7.9925, -7.3276, -5.8989, -8.052, -8.4811, -7.6774, -7.9296, -8.1352, -7.4499, -8.1739, -7.5086, -7.932, -8.474, -8.1172, -8.0321, -7.5789, -8.0566, -8.5005, -7.1718, -8.551, -8.0266, -8.1904, -6.0015, -6.5696, -5.7508, -5.6523, -5.4942, -6.6664, -7.32, -4.928, -6.2098, -6.6368, -6.7859, -6.8367, -5.143, -4.9024, -6.3966, -5.9693, -5.8044, -6.4862, -5.1132, -4.7902, -4.4783, -3.6261, -5.4351, -6.1488, -3.8307, -5.4954, -5.547, -5.8598, -5.1279, -5.8955, -5.8898, -6.0701, -6.083, -5.9847, -5.6625, -5.722, -5.8028, -5.8328, -5.7329, -5.8207, -5.8354, -5.7045, -5.8008, -5.9343, -7.2999, -7.7417, -7.8236, -7.8866, -7.8632, -7.8121, -7.8606, -7.8617, -7.8807, -7.8608, -7.9411, -7.9082, -7.9108, -7.9081, -6.9644, -7.1175, -7.9709, -7.5912, -7.9283, -7.9811, -7.9694, -7.9788, -7.9673, -7.985, -7.9644, -7.9587, -7.9795, -7.991, -7.9889, -8.0122, -6.6367, -7.7081, -6.0826, -4.7156, -4.802, -6.7586, -5.6917, -6.6828, -5.6335, -6.5018, -6.4844, -5.887, -7.2074, -6.5608, -6.4173, -5.4733, -5.3473, -6.3172, -6.0995, -5.5277, -6.8717, -6.2912, -4.9799, -6.3802, -6.4625, -6.1372, -5.1918, -5.9548, -6.3031, -4.754, -4.3026, -5.6799, -5.5276, -5.7938, -5.7161, -5.8576, -4.5706, -5.2834, -5.4048, -6.1202, -5.982, -5.8347, -5.8162, -6.0393, -5.9974, -5.9619, -7.6395, -7.1126, -7.6702, -8.1104, -8.1447, -8.1582, -8.1534, -4.842, -8.1667, -8.1653, -8.1698, -8.1608, -8.1692, -8.176, -8.1707, -8.1765, -8.1646, -8.1751, -8.1869, -8.1973, -8.1786, -8.1872, -8.2023, -8.2072, -8.2257, -8.2179, -8.2142, -8.1965, -8.2084, -8.2151, -6.8984, -6.42, -5.293, -5.8445, -5.241, -6.3826, -5.948, -5.5101, -5.9799, -6.0333, -4.7389, -4.461, -6.3826, -5.5739, -6.1022, -5.4352, -6.0577, -5.806, -6.521, -3.795, -6.2629, -5.6117, -4.0202, -6.3887, -5.2266, -5.3329, -5.4982, -5.691, -5.8497, -5.9986, -5.3701, -5.2665, -5.3883, -6.1199, -6.0066, -5.8751, -5.9423, -5.6991, -5.9278, -5.9662, -5.9835, -5.9884, -7.3345, -8.3499, -7.6405, -8.3971, -8.3875, -8.3621, -8.3919, -8.4184, -7.337, -7.9829, -8.4521, -8.4334, -8.4285, -8.0447, -7.7337, -8.3572, -8.5128, -7.7538, -7.9268, -8.513, -8.5289, -7.5364, -7.7154, -7.4885, -7.489, -8.0508, -7.7011, -8.438, -7.6125, -8.5763, -7.8241, -5.8184, -7.0974, -5.148, -5.2183, -6.4693, -6.4845, -6.7152, -3.5552, -4.7276, -6.074, -6.647, -6.3068, -6.5824, -5.4925, -5.1678, -5.282, -6.0428, -5.8612, -3.7854, -6.2062, -6.1435, -5.7419, -5.1553, -6.0068, -6.4565, -5.0854, -6.4008, -5.9109, -5.8865, -5.7682, -5.6191, -6.3473, -5.8312, -6.3308, -5.9497, -5.5588, -5.93, -6.0162, -6.0866, -5.8802, -5.8717, -5.4793, -5.9899, -6.0637], \"loglift\": [30.0, 29.0, 28.0, 27.0, 26.0, 25.0, 24.0, 23.0, 22.0, 21.0, 20.0, 19.0, 18.0, 17.0, 16.0, 15.0, 14.0, 13.0, 12.0, 11.0, 10.0, 9.0, 8.0, 7.0, 6.0, 5.0, 4.0, 3.0, 2.0, 1.0, 0.3081, 0.2505, 0.2432, 0.2402, 0.2389, 0.2337, 0.2282, 0.2267, 0.2228, 0.2227, 0.2193, 0.2172, 0.2157, 0.2156, 0.2117, 0.2113, 0.211, 0.2102, 0.2098, 0.206, 0.2059, 0.2046, 0.2042, 0.2029, 0.2026, 0.197, 0.1964, 0.1962, 0.196, 0.1957, 0.1874, 0.1931, 0.1929, 0.1909, 0.1892, 0.1361, 0.1881, 0.1795, 0.1511, 0.1504, 0.1523, 0.1584, 0.1631, 0.0563, 0.132, 0.1561, 0.1076, 0.1307, 0.1127, 0.1083, 0.1223, 0.008, 0.0985, 0.0344, -0.0036, 0.0704, 0.0518, 0.0856, 0.0013, -0.1333, -0.1592, -0.0854, -0.0071, 0.0631, -0.0787, 0.6786, 0.6395, 0.6321, 0.6098, 0.6037, 0.5984, 0.5925, 0.5835, 0.582, 0.5694, 0.5687, 0.5669, 0.5613, 0.5601, 0.5467, 0.5401, 0.5309, 0.5305, 0.5265, 0.5254, 0.5218, 0.5217, 0.5166, 0.5134, 0.5111, 0.5089, 0.5042, 0.4997, 0.4996, 0.4953, 0.4813, 0.4859, 0.4454, 0.4408, 0.4312, 0.4672, 0.4848, 0.3253, 0.3972, 0.4222, 0.4329, 0.4322, 0.2672, 0.2279, 0.3801, 0.3223, 0.2874, 0.3746, 0.1626, 0.0945, 0.0309, -0.1547, 0.1751, 0.3091, -0.1458, 0.1795, 0.1865, 0.2376, -0.123, 0.1578, 0.1472, 0.2121, 0.218, 0.1601, -0.0599, -0.0225, 0.0285, 0.05, -0.0285, -0.0108, -0.1367, -0.4132, -0.289, -0.1018, 1.4184, 1.3803, 1.2865, 1.2763, 1.2762, 1.2693, 1.2692, 1.2647, 1.2545, 1.2496, 1.2488, 1.2351, 1.2205, 1.2176, 1.2075, 1.2016, 1.1865, 1.1863, 1.1826, 1.1812, 1.1753, 1.1746, 1.1744, 1.1669, 1.16, 1.1565, 1.1555, 1.153, 1.15, 1.1476, 1.1337, 1.1441, 1.058, 0.9593, 0.9023, 1.0371, 0.9174, 0.9849, 0.8245, 0.9468, 0.9172, 0.7982, 1.0417, 0.9087, 0.8649, 0.6198, 0.5781, 0.8163, 0.7424, 0.5765, 0.9588, 0.7603, 0.2959, 0.7584, 0.764, 0.6181, 0.2183, 0.528, 0.6282, -0.2447, -0.6177, 0.2277, 0.0826, 0.2432, 0.1818, 0.2872, -1.0992, -0.3987, -0.2745, 0.4318, 0.2142, -0.1012, -0.8113, -0.1565, -0.4856, -0.7087, 1.2088, 1.1913, 1.1576, 1.143, 1.0884, 1.066, 1.0652, 1.0559, 1.0521, 1.0506, 1.0499, 1.042, 1.036, 1.0345, 1.0312, 1.0307, 1.025, 1.0201, 1.01, 1.0078, 1.0066, 0.9988, 0.9956, 0.995, 0.978, 0.9772, 0.9753, 0.9742, 0.9689, 0.9631, 0.8547, 0.8065, 0.5717, 0.585, 0.4633, 0.6302, 0.5122, 0.3975, 0.4877, 0.4933, 0.1458, 0.0482, 0.5454, 0.3089, 0.4498, 0.2397, 0.4251, 0.3388, 0.5503, -0.3236, 0.4451, 0.2196, -0.3353, 0.468, 0.0493, 0.0772, 0.112, 0.1858, 0.2434, 0.2711, -0.1168, -0.2616, -0.258, 0.3381, 0.1896, -0.0652, 0.0343, -0.4078, -0.0954, -0.0407, -0.284, -0.3858, 0.9698, 0.9136, 0.9104, 0.9015, 0.897, 0.8913, 0.8563, 0.8556, 0.8488, 0.8481, 0.8253, 0.8181, 0.8096, 0.7938, 0.7925, 0.789, 0.7761, 0.7692, 0.7661, 0.7442, 0.7368, 0.7361, 0.7361, 0.7291, 0.7264, 0.7128, 0.7121, 0.7105, 0.7066, 0.6953, 0.6906, 0.6396, 0.6731, 0.5269, 0.4861, 0.5843, 0.5608, 0.567, 0.1297, 0.1571, 0.3937, 0.4936, 0.4214, 0.4691, 0.207, 0.1081, 0.1281, 0.306, 0.243, -0.314, 0.3242, 0.2896, 0.1657, -0.0251, 0.2309, 0.3803, -0.0805, 0.3544, 0.1822, 0.1555, 0.0631, -0.0089, 0.329, 0.0456, 0.3047, 0.0294, -0.2675, -0.0046, 0.055, 0.1095, -0.1467, -0.2691, -0.9701, -0.2912, -0.0267]}, \"token.table\": {\"Topic\": [1, 1, 2, 3, 4, 5, 1, 2, 1, 2, 3, 1, 2, 3, 4, 5, 1, 2, 3, 4, 5, 1, 3, 1, 2, 3, 4, 1, 3, 1, 3, 1, 2, 3, 4, 5, 1, 2, 1, 3, 1, 3, 1, 1, 2, 3, 4, 5, 1, 2, 3, 4, 5, 1, 2, 1, 2, 1, 1, 2, 1, 1, 2, 1, 2, 3, 4, 5, 1, 1, 2, 3, 1, 3, 1, 3, 1, 2, 3, 4, 1, 2, 1, 3, 1, 2, 3, 4, 5, 1, 1, 2, 3, 1, 3, 1, 3, 4, 1, 2, 3, 4, 5, 1, 1, 2, 3, 4, 5, 1, 2, 3, 4, 5, 1, 2, 1, 2, 3, 4, 5, 1, 1, 1, 2, 3, 4, 1, 2, 3, 4, 1, 1, 2, 3, 4, 5, 1, 2, 1, 2, 3, 4, 1, 1, 2, 3, 4, 5, 1, 2, 1, 1, 1, 1, 1, 2, 3, 4, 5, 1, 2, 3, 4, 1, 2, 3, 1, 2, 3, 4, 1, 2, 3, 1, 2, 3, 4, 5, 1, 1, 1, 2, 3, 4, 1, 2, 3, 4, 1, 2, 1, 2, 3, 4, 1, 2, 3, 4, 5, 1, 2, 3, 4, 5, 1, 2, 3, 4, 5, 1, 2, 1, 2, 1, 2, 3, 4, 5, 1, 1, 3, 1, 2, 3, 4, 5, 1, 2, 1, 2, 3, 4, 5, 1, 3, 1, 2, 3, 4, 1, 2, 3, 4, 5, 1, 1, 2, 3, 4, 5, 1, 2, 3, 4, 5, 1, 2, 3, 1, 2, 3, 4, 5, 1, 2, 1, 2, 3, 4, 5, 1, 2, 3, 4, 5, 1, 1, 2, 3, 1, 2, 1, 1, 2, 3, 4, 1, 2, 1, 2, 3, 4, 1, 1, 2, 3, 4, 5, 1, 1, 1, 2, 1, 3, 1, 2, 3, 1, 2, 3, 4, 1, 2, 1, 1, 1, 3, 1, 2, 3, 3, 1, 1, 2, 3, 4, 5, 1, 3, 4, 1, 1, 2, 3, 4, 5, 1, 2, 3, 4, 5, 1, 2, 3, 1, 2, 3, 4, 5, 1, 2, 3, 4, 1, 2, 3, 4, 5, 1, 2, 3, 4, 5, 1, 1, 2, 3, 4, 5, 1, 2, 3, 4, 5, 1, 2, 3, 1, 1, 2, 1, 1, 2, 3, 4, 5, 1, 2, 1, 3, 1, 1, 2, 1, 2, 3, 4, 3, 1, 2, 1, 2, 3, 4, 5, 1, 1, 1, 2, 3, 4, 5, 1, 2, 3, 4, 1, 1, 3, 1, 1, 1, 2, 3, 4, 1, 2, 3, 4, 1, 1, 1, 2, 3, 4, 5, 1, 2, 1, 2, 3, 4, 1, 2, 3, 4, 5, 1, 1, 2, 3, 4, 1, 2, 3, 4, 5, 1, 2, 3, 4, 5, 1, 1, 2, 1, 2, 3, 4, 5, 1, 2, 3, 4, 1, 1, 1, 2, 3, 4, 5, 1, 2, 3, 4, 1, 1, 2, 3, 4, 1, 1, 2, 3, 4, 1, 2, 3, 4, 1, 2, 4, 1, 1, 1, 1, 1, 2, 1, 2, 3, 4, 1, 2, 3, 4, 1, 2, 3, 4, 1, 2, 3, 4, 5, 1, 2, 3, 1, 2, 3, 4, 1, 2, 3, 4, 5, 1, 2, 3, 4, 5, 1, 2, 3, 4, 5, 1, 2, 1, 2, 3, 4, 5, 1, 1, 2, 3, 4, 5, 1, 2, 3, 4, 1, 3, 1, 1, 1, 1, 2, 3, 4, 1, 2, 3, 4, 5, 1, 2, 3, 4, 5, 1, 2, 1, 2, 3, 4, 5, 1, 2, 3, 4, 5, 1, 1, 1, 2, 3, 4, 1, 1, 2, 3, 4, 5, 1, 2, 1, 1, 2, 1, 1, 2, 3, 4, 5, 1, 1, 1, 1, 2, 3, 4, 5, 1, 2, 1, 3, 1, 2, 3, 4, 1, 1, 2, 3, 4, 5, 1, 2, 3, 4, 5, 1, 3, 1, 2, 3, 1, 3, 1, 2, 3, 4, 5, 1, 2, 3, 4, 5, 1, 2, 3, 4, 5, 1, 1, 2, 3, 4, 5, 1, 2, 1, 2, 3, 4, 5, 1, 2, 1, 2, 3, 4, 1, 2, 3, 4], \"Freq\": [0.671486926302913, 0.7034123027041681, 0.15073120772232174, 0.050243735907440586, 0.050243735907440586, 0.050243735907440586, 0.7081662413942663, 0.17704156034856658, 0.7382191111719164, 0.09227738889648955, 0.09227738889648955, 0.5514465565679688, 0.2450873584746528, 0.0612718396186632, 0.0612718396186632, 0.0612718396186632, 0.4834550881728563, 0.207195037788367, 0.207195037788367, 0.06906501259612233, 0.06906501259612233, 0.7277108934777019, 0.7277108934777019, 0.4053217692978474, 0.2026608846489237, 0.2026608846489237, 0.10133044232446185, 0.5622521222881322, 0.5622521222881322, 0.8851307567033732, 0.736425676692853, 0.6621150597813318, 0.17424080520561364, 0.06969632208224545, 0.06969632208224545, 0.034848161041122726, 0.809077048673601, 0.1618154097347202, 0.4058616798307188, 0.4058616798307188, 0.7279055040373903, 0.7279055040373903, 0.797738147387164, 0.592885898528614, 0.13175242189524755, 0.13175242189524755, 0.06587621094762378, 0.06587621094762378, 0.563632949202118, 0.1690898847606354, 0.1690898847606354, 0.11272658984042361, 0.056363294920211804, 0.4374453001577311, 0.4374453001577311, 0.44526266664246716, 0.44526266664246716, 0.6607958910459488, 0.6837956700953545, 0.22793189003178482, 0.8110442540560335, 0.41510132835138724, 0.41510132835138724, 0.6619044491147466, 0.16547611227868664, 0.05515870409289554, 0.05515870409289554, 0.05515870409289554, 0.6501844811783706, 0.3076369038087343, 0.3076369038087343, 0.3076369038087343, 0.7462096728770874, 0.7462096728770874, 0.49184988938230373, 0.49184988938230373, 0.7771522122427976, 0.0706502011129816, 0.0706502011129816, 0.0706502011129816, 0.2988593711678151, 0.2988593711678151, 0.7282861881815205, 0.7282861881815205, 0.6968810297576673, 0.168212662355299, 0.04806076067294257, 0.04806076067294257, 0.04806076067294257, 0.822948501876216, 0.5771684522194714, 0.23086738088778855, 0.11543369044389427, 0.5218053119574005, 0.5218053119574005, 0.32494257973743795, 0.32494257973743795, 0.32494257973743795, 0.7481240580364636, 0.10687486543378051, 0.07124991028918701, 0.07124991028918701, 0.035624955144593504, 0.8002718733962142, 0.5584413870000967, 0.18614712900003222, 0.18614712900003222, 0.09307356450001611, 0.09307356450001611, 0.5348760494291076, 0.20451143066407057, 0.15731648512620813, 0.06292659405048324, 0.03146329702524162, 0.5259451779401533, 0.26297258897007664, 0.5700934639778659, 0.2192667169145638, 0.13156003014873827, 0.0877066867658255, 0.04385334338291275, 0.8430670112548703, 0.7588221395043979, 0.5656472370531984, 0.20568990438298124, 0.10284495219149062, 0.10284495219149062, 0.4144552096429154, 0.13815173654763846, 0.2763034730952769, 0.13815173654763846, 0.8113223998717916, 0.5538503681223119, 0.18461678937410397, 0.18461678937410397, 0.09230839468705199, 0.09230839468705199, 0.4542705564474588, 0.4542705564474588, 0.38122834697629576, 0.19061417348814788, 0.38122834697629576, 0.19061417348814788, 0.7790007565510294, 0.49419003734010103, 0.16473001244670035, 0.24709501867005051, 0.08236500622335018, 0.08236500622335018, 0.4058611459882967, 0.4058611459882967, 0.7922936438242534, 0.8156196378913823, 0.7261809084919297, 0.7991738798383031, 0.4144112731201736, 0.3108084548401302, 0.1036028182800434, 0.1036028182800434, 0.0518014091400217, 0.4925434895965688, 0.2462717447982844, 0.16418116319885626, 0.08209058159942813, 0.4048417353821576, 0.2024208676910788, 0.2024208676910788, 0.46624379076452827, 0.27974627445871697, 0.18649751630581132, 0.09324875815290566, 0.591825814429531, 0.19727527147651033, 0.19727527147651033, 0.6081365537970126, 0.21463643075188682, 0.07154547691729561, 0.07154547691729561, 0.035772738458647806, 0.7878557709200844, 0.8019247063746088, 0.4679179978887525, 0.11697949947218812, 0.23395899894437625, 0.11697949947218812, 0.3954297112571992, 0.13180990375239973, 0.26361980750479946, 0.13180990375239973, 0.773784628873417, 0.1547569257746834, 0.7531544474017486, 0.12552574123362475, 0.06276287061681238, 0.06276287061681238, 0.6215228653352816, 0.1988873169072901, 0.09944365845364506, 0.04972182922682253, 0.024860914613411264, 0.6049612041532954, 0.13443582314517674, 0.13443582314517674, 0.06721791157258837, 0.06721791157258837, 0.606142557863834, 0.17318358796109543, 0.08659179398054771, 0.08659179398054771, 0.028863931326849238, 0.7635264877463576, 0.10907521253519394, 0.8058051763592037, 0.10072564704490046, 0.7067767014167897, 0.1514521503035978, 0.05048405010119927, 0.05048405010119927, 0.05048405010119927, 0.7489349916567447, 0.6800733460142921, 0.7671486912560536, 0.5213034461489742, 0.2606517230744871, 0.13032586153724354, 0.0868839076914957, 0.04344195384574785, 0.4967439130139504, 0.2483719565069752, 0.6708840054510015, 0.16101216130824036, 0.053670720436080115, 0.053670720436080115, 0.026835360218040057, 0.7422201945660317, 0.7422201945660317, 0.4920577732155825, 0.2952346639293495, 0.0984115546431165, 0.0984115546431165, 0.700640966205658, 0.1501373499012124, 0.05004578330040414, 0.05004578330040414, 0.05004578330040414, 0.7511258216510786, 0.5621902748357291, 0.14794480916729716, 0.14794480916729716, 0.08876688550037828, 0.02958896183345943, 0.6974930504547718, 0.09511268869837798, 0.09511268869837798, 0.06340845913225199, 0.031704229566125994, 0.493446746902221, 0.37008506017666576, 0.12336168672555525, 0.686168288678112, 0.16468038928274686, 0.08234019464137343, 0.05489346309424896, 0.02744673154712448, 0.6836623671955521, 0.22788745573185068, 0.4644148285872431, 0.18576593143489722, 0.27864889715234586, 0.09288296571744861, 0.09288296571744861, 0.756875587971255, 0.1394244504157575, 0.07967111452329, 0.039835557261645, 0.0199177786308225, 0.7923752602865198, 0.4326469594358418, 0.2163234797179209, 0.7493457381199312, 0.7415515888086023, 0.14831031776172046, 0.6580439044686709, 0.5684483815959128, 0.18948279386530428, 0.09474139693265214, 0.09474139693265214, 0.30410728278338744, 0.30410728278338744, 0.3024636253464797, 0.3024636253464797, 0.3024636253464797, 0.10082120844882655, 0.8119615784701143, 0.6025144375946321, 0.2151837277123686, 0.08607349108494744, 0.04303674554247372, 0.04303674554247372, 0.7629612849190501, 0.47947315960213444, 0.4710899247746369, 0.4710899247746369, 0.7433113074594494, 0.7433113074594494, 0.3788842316311885, 0.3788842316311885, 0.3788842316311885, 0.7929448240267694, 0.10572597653690258, 0.05286298826845129, 0.05286298826845129, 0.42597240462651337, 0.42597240462651337, 0.6750743586903452, 0.6917584744775356, 0.3299346715649828, 0.3299346715649828, 0.2980704916741269, 0.2980704916741269, 0.2980704916741269, 0.7881570956578896, 0.7731648094935241, 0.5714308204098653, 0.19780297629572258, 0.13186865086381505, 0.06593432543190753, 0.02197810847730251, 0.3909762256724412, 0.3909762256724412, 0.1954881128362206, 0.8483639266766679, 0.6579614434867592, 0.19190542101697144, 0.05483012029056327, 0.0822451804358449, 0.027415060145281635, 0.6899326793409668, 0.13798653586819334, 0.0919910239121289, 0.0919910239121289, 0.04599551195606445, 0.3149254504064693, 0.3149254504064693, 0.3149254504064693, 0.40614307168470415, 0.10153576792117604, 0.30460730376352807, 0.10153576792117604, 0.10153576792117604, 0.5350962773879258, 0.22932697602339677, 0.1528846506822645, 0.07644232534113225, 0.3765870457629721, 0.22595222745778323, 0.22595222745778323, 0.07531740915259441, 0.07531740915259441, 0.7051123644576877, 0.15063764149777872, 0.06089606783952757, 0.04487078682912558, 0.03525561822288438, 0.7937627539167469, 0.674399765418281, 0.14986661453739578, 0.07493330726869789, 0.07493330726869789, 0.07493330726869789, 0.5402597575399624, 0.18008658584665413, 0.21610390301598495, 0.03601731716933083, 0.03601731716933083, 0.28875092033821825, 0.28875092033821825, 0.28875092033821825, 0.7979263465201701, 0.47046708466937576, 0.23523354233468788, 0.649566507736742, 0.5151404260114427, 0.12878510650286068, 0.25757021300572136, 0.06439255325143034, 0.06439255325143034, 0.698441360565439, 0.13968827211308782, 0.707146886153619, 0.707146886153619, 0.6491271492709331, 0.7265615606047882, 0.14531231212095763, 0.7604981014219377, 0.14259339401661333, 0.04753113133887111, 0.04753113133887111, 0.7522233286848024, 0.42306978576542, 0.42306978576542, 0.6940445302882984, 0.13880890605765966, 0.06940445302882983, 0.06940445302882983, 0.034702226514414916, 0.7851213366665242, 0.685728009603815, 0.6598863384457746, 0.17214426220324555, 0.057381420734415184, 0.08607213110162278, 0.028690710367207592, 0.5361470201308277, 0.17871567337694255, 0.08935783668847128, 0.08935783668847128, 0.6713133434377484, 0.5487136130914306, 0.5487136130914306, 0.7544799506801024, 0.7562015355821418, 0.34064590855615967, 0.34064590855615967, 0.2270972723707731, 0.11354863618538655, 0.604418495975307, 0.16484140799326552, 0.16484140799326552, 0.10989427199551036, 0.5600875245816196, 0.7249717704794301, 0.6119844084269058, 0.21759445632956653, 0.08159792112358745, 0.05439861408239163, 0.027199307041195817, 0.4045532869245091, 0.4045532869245091, 0.7691660878536308, 0.15383321757072618, 0.07691660878536309, 0.07691660878536309, 0.766864812793081, 0.11183445186565764, 0.047929050799567566, 0.047929050799567566, 0.031952700533045046, 0.8045898097740914, 0.6803019108526951, 0.14172956476097814, 0.05669182590439126, 0.11338365180878252, 0.6504589683577564, 0.18271319335892036, 0.08770233281228176, 0.06577674960921133, 0.014617055468713627, 0.3918225471742883, 0.2849618524903915, 0.21372138936779364, 0.07124046312259788, 0.03562023156129894, 0.8002515633704669, 0.5203105021657716, 0.3468736681105144, 0.7197868588555942, 0.17449378396499254, 0.043623445991248136, 0.043623445991248136, 0.021811722995624068, 0.5251206867870477, 0.1875431024239456, 0.15003448193915647, 0.07501724096957824, 0.7599506697993239, 0.7313633828900973, 0.359119874745042, 0.25651419624645855, 0.25651419624645855, 0.10260567849858342, 0.05130283924929171, 0.28216634471966284, 0.28216634471966284, 0.28216634471966284, 0.14108317235983142, 0.7878391239866869, 0.5645022140306035, 0.28225110701530176, 0.07056277675382544, 0.07056277675382544, 0.8572745728022062, 0.331915778541934, 0.22127718569462265, 0.22127718569462265, 0.11063859284731133, 0.5484835025012599, 0.19944854636409448, 0.09972427318204724, 0.09972427318204724, 0.7538976980793756, 0.16753282179541681, 0.08376641089770841, 0.7984625615224069, 0.7945279006070076, 0.5504544096869556, 0.746087712981097, 0.4069991620745087, 0.4069991620745087, 0.5619631606097486, 0.18732105353658285, 0.18732105353658285, 0.18732105353658285, 0.7553566457452429, 0.1452608934125467, 0.05810435736501868, 0.02905217868250934, 0.537317950826761, 0.23027912178289758, 0.1535194145219317, 0.07675970726096586, 0.42169200227703096, 0.2710877157495199, 0.21084600113851548, 0.06024171461100442, 0.03012085730550221, 0.3439844441985766, 0.1719922220992883, 0.3439844441985766, 0.5359719957774313, 0.23820977590108056, 0.11910488795054028, 0.05955244397527014, 0.7224540673054071, 0.08499459615357731, 0.042497298076788655, 0.08499459615357731, 0.042497298076788655, 0.7443670646522759, 0.14407104477140822, 0.04802368159046941, 0.04802368159046941, 0.024011840795234704, 0.7343476817813684, 0.12959076737318267, 0.043196922457727556, 0.043196922457727556, 0.043196922457727556, 0.682848248015718, 0.13656964960314358, 0.710712932299077, 0.16921736483311356, 0.06768694593324542, 0.06768694593324542, 0.03384347296662271, 0.753309779743487, 0.7430004296494753, 0.1501533969326466, 0.03883277506878791, 0.04659933008254549, 0.023299665041272746, 0.6047565166491418, 0.24901738920847014, 0.07114782548813432, 0.07114782548813432, 0.28476239712713886, 0.28476239712713886, 0.8270976936971683, 0.8398148923352988, 0.5145793728020671, 0.6305889144566765, 0.2460834788123616, 0.0615208697030904, 0.0615208697030904, 0.38634745436741463, 0.1690270112857439, 0.289760590775561, 0.09658686359185366, 0.04829343179592683, 0.35169323227162563, 0.21101593936297539, 0.30480080130207554, 0.07033864645432512, 0.046892430969550085, 0.8271474697950393, 0.16542949395900786, 0.7020650856285171, 0.12764819738700312, 0.12764819738700312, 0.06382409869350156, 0.06382409869350156, 0.5217602212624398, 0.23389251297971436, 0.1439338541413627, 0.07196692707068135, 0.035983463535340675, 0.7532939222619618, 0.7382664903484862, 0.7416708285018061, 0.09270885356272576, 0.09270885356272576, 0.04635442678136288, 0.7527722993302787, 0.4981640366753482, 0.14651883431627888, 0.14651883431627888, 0.17582260117953466, 0.029303766863255778, 0.47605298184262146, 0.47605298184262146, 0.4012231665955972, 0.6419351499229536, 0.3209675749614768, 0.7844503432176544, 0.4773697547865726, 0.11934243869664315, 0.2983560967416079, 0.11934243869664315, 0.05967121934832158, 0.766684587675239, 0.7782605124020807, 0.8089193097872146, 0.7408687116883806, 0.12347811861473011, 0.0411593728715767, 0.0411593728715767, 0.0411593728715767, 0.5948751904245778, 0.2974375952122889, 0.8354716984108712, 0.7396812656824274, 0.40061385355358287, 0.26707590236905526, 0.13353795118452763, 0.13353795118452763, 0.7647806412531917, 0.7310222908573684, 0.15891788931681922, 0.06356715572672769, 0.031783577863363846, 0.031783577863363846, 0.5724922292053454, 0.20205608089600424, 0.1347040539306695, 0.033676013482667376, 0.033676013482667376, 0.4159821147751854, 0.4159821147751854, 0.3860903804768336, 0.3860903804768336, 0.3860903804768336, 0.7391401855849729, 0.7391401855849729, 0.6170408513073103, 0.19149543661261356, 0.07447044757157194, 0.07447044757157194, 0.03191590610210226, 0.719861583825938, 0.15597000982895323, 0.047990772255062535, 0.047990772255062535, 0.023995386127531267, 0.47385480711640976, 0.276415304151239, 0.15795160237213657, 0.07897580118606828, 0.03948790059303414, 0.5546074183173832, 0.3681578888916283, 0.26296992063687735, 0.21037593650950187, 0.10518796825475094, 0.05259398412737547, 0.48503798149330174, 0.48503798149330174, 0.6503416889703625, 0.2053710596748513, 0.0684570198916171, 0.0684570198916171, 0.03422850994580855, 0.8106331526408767, 0.13510552544014612, 0.4392096715645382, 0.2196048357822691, 0.2196048357822691, 0.10980241789113455, 0.5614447426966894, 0.2807223713483447, 0.09357412378278157, 0.09357412378278157], \"Term\": [\"absence\", \"access\", \"access\", \"access\", \"access\", \"access\", \"activist\", \"activist\", \"adult\", \"adult\", \"adult\", \"allow\", \"allow\", \"allow\", \"allow\", \"allow\", \"analysis\", \"analysis\", \"analysis\", \"analysis\", \"analysis\", \"applicable\", \"applicable\", \"apply\", \"apply\", \"apply\", \"apply\", \"auditing\", \"auditing\", \"authoritarian\", \"bayesian\", \"become\", \"become\", \"become\", \"become\", \"become\", \"believe\", \"believe\", \"biology\", \"biology\", \"bootstrap\", \"bootstrap\", \"bribery\", \"business\", \"business\", \"business\", \"business\", \"business\", \"call\", \"call\", \"call\", \"call\", \"call\", \"capacity\", \"capacity\", \"capitalist\", \"capitalist\", \"center\", \"christian\", \"christian\", \"coalition\", \"commission\", \"commission\", \"communication\", \"communication\", \"communication\", \"communication\", \"communication\", \"compression\", \"computation\", \"computation\", \"computation\", \"computationally\", \"computationally\", \"compute\", \"compute\", \"conflict\", \"conflict\", \"conflict\", \"conflict\", \"consideration\", \"consideration\", \"consultant\", \"consultant\", \"content\", \"content\", \"content\", \"content\", \"content\", \"continuation\", \"contrast\", \"contrast\", \"contrast\", \"correct\", \"correct\", \"corruption\", \"corruption\", \"corruption\", \"create\", \"create\", \"create\", \"create\", \"create\", \"cronyism\", \"data\", \"data\", \"data\", \"data\", \"data\", \"datum\", \"datum\", \"datum\", \"datum\", \"datum\", \"death\", \"death\", \"democracy\", \"democracy\", \"democracy\", \"democracy\", \"democracy\", \"deride\", \"deriving\", \"describe\", \"describe\", \"describe\", \"describe\", \"design\", \"design\", \"design\", \"design\", \"destabilize\", \"develop\", \"develop\", \"develop\", \"develop\", \"develop\", \"dictatorship\", \"dictatorship\", \"discipline\", \"discipline\", \"discipline\", \"discipline\", \"disparate\", \"distribution\", \"distribution\", \"distribution\", \"distribution\", \"distribution\", \"economy\", \"economy\", \"educational\", \"electoral\", \"enforce\", \"entail\", \"error\", \"error\", \"error\", \"error\", \"error\", \"estimate\", \"estimate\", \"estimate\", \"estimate\", \"estimation\", \"estimation\", \"estimation\", \"estimator\", \"estimator\", \"estimator\", \"estimator\", \"even\", \"even\", \"even\", \"example\", \"example\", \"example\", \"example\", \"example\", \"execute\", \"exert\", \"experiment\", \"experiment\", \"experiment\", \"experiment\", \"experimental\", \"experimental\", \"experimental\", \"experimental\", \"far\", \"far\", \"feature\", \"feature\", \"feature\", \"feature\", \"find\", \"find\", \"find\", \"find\", \"find\", \"first\", \"first\", \"first\", \"first\", \"first\", \"form\", \"form\", \"form\", \"form\", \"form\", \"formation\", \"formation\", \"freedom\", \"freedom\", \"friend\", \"friend\", \"friend\", \"friend\", \"friend\", \"generalize\", \"geniocracy\", \"gibb\", \"give\", \"give\", \"give\", \"give\", \"give\", \"govern\", \"govern\", \"government\", \"government\", \"government\", \"government\", \"government\", \"house\", \"house\", \"hypothesis\", \"hypothesis\", \"hypothesis\", \"hypothesis\", \"image\", \"image\", \"image\", \"image\", \"image\", \"improvement\", \"include\", \"include\", \"include\", \"include\", \"include\", \"increase\", \"increase\", \"increase\", \"increase\", \"increase\", \"independent\", \"independent\", \"independent\", \"individual\", \"individual\", \"individual\", \"individual\", \"individual\", \"inequality\", \"inequality\", \"inference\", \"inference\", \"inference\", \"inference\", \"inference\", \"information\", \"information\", \"information\", \"information\", \"information\", \"inherent\", \"integrate\", \"integrate\", \"intensive\", \"interact\", \"interact\", \"interfere\", \"international\", \"international\", \"international\", \"international\", \"interpret\", \"interpret\", \"interval\", \"interval\", \"interval\", \"interval\", \"irredentism\", \"issue\", \"issue\", \"issue\", \"issue\", \"issue\", \"journal\", \"jpeg\", \"jury\", \"jury\", \"justification\", \"justification\", \"least_square\", \"least_square\", \"least_square\", \"leave\", \"leave\", \"leave\", \"leave\", \"legislature\", \"legislature\", \"liberalism\", \"libertarian\", \"linear\", \"linear\", \"linear_regression\", \"linear_regression\", \"linear_regression\", \"logical\", \"macropolitic\", \"make\", \"make\", \"make\", \"make\", \"make\", \"management\", \"management\", \"management\", \"manufacturing\", \"many\", \"many\", \"many\", \"many\", \"many\", \"marketing\", \"marketing\", \"marketing\", \"marketing\", \"marketing\", \"mathematic\", \"mathematic\", \"mathematic\", \"mathematical\", \"mathematical\", \"mathematical\", \"mathematical\", \"mathematical\", \"mean\", \"mean\", \"mean\", \"mean\", \"measurement\", \"measurement\", \"measurement\", \"measurement\", \"measurement\", \"medium\", \"medium\", \"medium\", \"medium\", \"medium\", \"mesopolitic\", \"message\", \"message\", \"message\", \"message\", \"message\", \"method\", \"method\", \"method\", \"method\", \"method\", \"methodology\", \"methodology\", \"methodology\", \"micropolitic\", \"misuse\", \"misuse\", \"mixed\", \"model\", \"model\", \"model\", \"model\", \"model\", \"motivate\", \"motivate\", \"multilevel\", \"multilevel\", \"myth\", \"name\", \"name\", \"negative\", \"negative\", \"negative\", \"negative\", \"neural\", \"neuroscience\", \"neuroscience\", \"news\", \"news\", \"news\", \"news\", \"news\", \"nonviolent\", \"norm\", \"online\", \"online\", \"online\", \"online\", \"online\", \"organization\", \"organization\", \"organization\", \"organization\", \"origin\", \"outcomes\", \"outcomes\", \"owner\", \"oxide\", \"parameter\", \"parameter\", \"parameter\", \"parameter\", \"party\", \"party\", \"party\", \"party\", \"patronage\", \"pc\", \"people\", \"people\", \"people\", \"people\", \"people\", \"perhaps\", \"perhaps\", \"personal\", \"personal\", \"personal\", \"personal\", \"platform\", \"platform\", \"platform\", \"platform\", \"platform\", \"polarity\", \"politic\", \"politic\", \"politic\", \"politic\", \"political\", \"political\", \"political\", \"political\", \"political\", \"population\", \"population\", \"population\", \"population\", \"population\", \"pork\", \"position\", \"position\", \"post\", \"post\", \"post\", \"post\", \"post\", \"power\", \"power\", \"power\", \"power\", \"principal\", \"probabilistic\", \"probability\", \"probability\", \"probability\", \"probability\", \"probability\", \"procedure\", \"procedure\", \"procedure\", \"procedure\", \"processing\", \"product\", \"product\", \"product\", \"product\", \"purist\", \"random\", \"random\", \"random\", \"random\", \"refer\", \"refer\", \"refer\", \"refer\", \"regard\", \"regard\", \"regard\", \"repeatedly\", \"representation\", \"requirement\", \"resample\", \"residual\", \"residual\", \"revolution\", \"revolution\", \"revolution\", \"revolution\", \"right\", \"right\", \"right\", \"right\", \"rule\", \"rule\", \"rule\", \"rule\", \"sample\", \"sample\", \"sample\", \"sample\", \"sample\", \"sampling\", \"sampling\", \"sampling\", \"science\", \"science\", \"science\", \"science\", \"service\", \"service\", \"service\", \"service\", \"service\", \"share\", \"share\", \"share\", \"share\", \"share\", \"show\", \"show\", \"show\", \"show\", \"show\", \"similar\", \"similar\", \"site\", \"site\", \"site\", \"site\", \"site\", \"sixdegree\", \"social\", \"social\", \"social\", \"social\", \"social\", \"society\", \"society\", \"society\", \"society\", \"software\", \"software\", \"spc\", \"specialised\", \"specialized\", \"state\", \"state\", \"state\", \"state\", \"statistic\", \"statistic\", \"statistic\", \"statistic\", \"statistic\", \"statistical\", \"statistical\", \"statistical\", \"statistical\", \"statistical\", \"stress\", \"stress\", \"student\", \"student\", \"student\", \"student\", \"student\", \"study\", \"study\", \"study\", \"study\", \"study\", \"substantial\", \"suitable\", \"survey\", \"survey\", \"survey\", \"survey\", \"sustain\", \"system\", \"system\", \"system\", \"system\", \"system\", \"tell\", \"tell\", \"terminology\", \"territory\", \"territory\", \"terrorism\", \"test\", \"test\", \"test\", \"test\", \"test\", \"theoretical\", \"theorist\", \"thieve\", \"time\", \"time\", \"time\", \"time\", \"time\", \"transmission\", \"transmission\", \"tree\", \"tropical\", \"true\", \"true\", \"true\", \"true\", \"tukey\", \"twitter\", \"twitter\", \"twitter\", \"twitter\", \"twitter\", \"type\", \"type\", \"type\", \"type\", \"type\", \"typical\", \"typical\", \"unbiased\", \"unbiased\", \"unbiased\", \"undergraduate\", \"undergraduate\", \"use\", \"use\", \"use\", \"use\", \"use\", \"user\", \"user\", \"user\", \"user\", \"user\", \"value\", \"value\", \"value\", \"value\", \"value\", \"variability\", \"variable\", \"variable\", \"variable\", \"variable\", \"variable\", \"vary\", \"vary\", \"view\", \"view\", \"view\", \"view\", \"view\", \"wing\", \"wing\", \"work\", \"work\", \"work\", \"work\", \"would\", \"would\", \"would\", \"would\"]}, \"R\": 30, \"lambda.step\": 0.01, \"plot.opts\": {\"xlab\": \"PC1\", \"ylab\": \"PC2\"}, \"topic.order\": [2, 3, 1, 5, 4]};\n",
              "\n",
              "function LDAvis_load_lib(url, callback){\n",
              "  var s = document.createElement('script');\n",
              "  s.src = url;\n",
              "  s.async = true;\n",
              "  s.onreadystatechange = s.onload = callback;\n",
              "  s.onerror = function(){console.warn(\"failed to load library \" + url);};\n",
              "  document.getElementsByTagName(\"head\")[0].appendChild(s);\n",
              "}\n",
              "\n",
              "if(typeof(LDAvis) !== \"undefined\"){\n",
              "   // already loaded: just create the visualization\n",
              "   !function(LDAvis){\n",
              "       new LDAvis(\"#\" + \"ldavis_el1164140189725612624792066304\", ldavis_el1164140189725612624792066304_data);\n",
              "   }(LDAvis);\n",
              "}else if(typeof define === \"function\" && define.amd){\n",
              "   // require.js is available: use it to load d3/LDAvis\n",
              "   require.config({paths: {d3: \"https://d3js.org/d3.v5\"}});\n",
              "   require([\"d3\"], function(d3){\n",
              "      window.d3 = d3;\n",
              "      LDAvis_load_lib(\"https://cdn.jsdelivr.net/gh/bmabey/pyLDAvis@3.3.1/pyLDAvis/js/ldavis.v3.0.0.js\", function(){\n",
              "        new LDAvis(\"#\" + \"ldavis_el1164140189725612624792066304\", ldavis_el1164140189725612624792066304_data);\n",
              "      });\n",
              "    });\n",
              "}else{\n",
              "    // require.js not available: dynamically load d3 & LDAvis\n",
              "    LDAvis_load_lib(\"https://d3js.org/d3.v5.js\", function(){\n",
              "         LDAvis_load_lib(\"https://cdn.jsdelivr.net/gh/bmabey/pyLDAvis@3.3.1/pyLDAvis/js/ldavis.v3.0.0.js\", function(){\n",
              "                 new LDAvis(\"#\" + \"ldavis_el1164140189725612624792066304\", ldavis_el1164140189725612624792066304_data);\n",
              "            })\n",
              "         });\n",
              "}\n",
              "</script>"
            ],
            "text/plain": [
              "PreparedData(topic_coordinates=              x         y  topics  cluster       Freq\n",
              "topic                                                \n",
              "1     -0.022260  0.000386       1        1  61.651315\n",
              "2     -0.004327 -0.005689       2        1  17.480591\n",
              "0      0.023063 -0.000594       3        1  11.409448\n",
              "4      0.002656 -0.004164       4        1   6.312576\n",
              "3      0.000868  0.010060       5        1   3.146069, topic_info=           Term        Freq       Total Category  logprob  loglift\n",
              "1058     medium  312.000000  312.000000  Default  30.0000  30.0000\n",
              "231      social  386.000000  386.000000  Default  29.0000  29.0000\n",
              "262         use   93.000000   93.000000  Default  28.0000  28.0000\n",
              "189   political  136.000000  136.000000  Default  27.0000  27.0000\n",
              "63        datum   63.000000   63.000000  Default  26.0000  26.0000\n",
              "...         ...         ...         ...      ...      ...      ...\n",
              "321        find    1.092789   40.223782   Topic5  -5.8802  -0.1467\n",
              "1097       post    1.102063   45.846905   Topic5  -5.8717  -0.2691\n",
              "189   political    1.631685  136.826463   Topic5  -5.4793  -0.9701\n",
              "1117      share    0.979256   41.646120   Topic5  -5.9899  -0.2912\n",
              "257        type    0.909613   29.694726   Topic5  -6.0637  -0.0267\n",
              "\n",
              "[392 rows x 6 columns], token_table=      Topic      Freq     Term\n",
              "term                          \n",
              "2790      1  0.671487  absence\n",
              "940       1  0.703412   access\n",
              "940       2  0.150731   access\n",
              "940       3  0.050244   access\n",
              "940       4  0.050244   access\n",
              "...     ...       ...      ...\n",
              "270       4  0.109802     work\n",
              "588       1  0.561445    would\n",
              "588       2  0.280722    would\n",
              "588       3  0.093574    would\n",
              "588       4  0.093574    would\n",
              "\n",
              "[691 rows x 3 columns], R=30, lambda_step=0.01, plot_opts={'xlab': 'PC1', 'ylab': 'PC2'}, topic_order=[2, 3, 1, 5, 4])"
            ]
          },
          "metadata": {
            "tags": []
          },
          "execution_count": 32
        }
      ]
    },
    {
      "cell_type": "markdown",
      "metadata": {
        "id": "AStFBqCOn8D3"
      },
      "source": [
        "## **Coherence Values**"
      ]
    },
    {
      "cell_type": "code",
      "metadata": {
        "id": "AJH3AARjmIct"
      },
      "source": [
        "def compute_coherence_values(dictionary, corpus, texts, limit, start=2, step=3):\n",
        "    coherence_values = []\n",
        "    model_list = []\n",
        "    for num_topics in range(start, limit, step):\n",
        "        model = LdaModel(corpus=corpus, num_topics=num_topics, id2word=id2word)\n",
        "        model_list.append(model)\n",
        "        coherencemodel = CoherenceModel(model=model, texts=texts, dictionary=dictionary, coherence='c_v')\n",
        "        coherence_values.append(coherencemodel.get_coherence())\n",
        "\n",
        "    return model_list, coherence_values"
      ],
      "execution_count": null,
      "outputs": []
    },
    {
      "cell_type": "code",
      "metadata": {
        "id": "pfCCmfTAmIgE"
      },
      "source": [
        "model_list, coherence_values = compute_coherence_values(dictionary=id2word, corpus=corpus, texts=df_lemmatized, start=1, limit=6, step=1)"
      ],
      "execution_count": null,
      "outputs": []
    },
    {
      "cell_type": "code",
      "metadata": {
        "colab": {
          "base_uri": "https://localhost:8080/",
          "height": 714
        },
        "id": "2y-2sLzQmIjQ",
        "outputId": "e2e562e3-7b86-4257-b7f0-7083f21f3ffc"
      },
      "source": [
        "limit=6; start=1; step=1;\n",
        "x = range(start, limit, step)\n",
        "plt.figure(figsize=(12,12))\n",
        "plt.plot(x, coherence_values)\n",
        "plt.xlabel(\"Num Topics\")\n",
        "plt.ylabel(\"Coherence score\")\n",
        "plt.legend((\"coherence_values\"), loc='best')\n",
        "plt.show()"
      ],
      "execution_count": null,
      "outputs": [
        {
          "output_type": "display_data",
          "data": {
            "image/png": "[encoded data removed]",
            "text/plain": [
              "<Figure size 864x864 with 1 Axes>"
            ]
          },
          "metadata": {
            "tags": [],
            "needs_background": "light"
          }
        }
      ]
    },
    {
      "cell_type": "code",
      "metadata": {
        "colab": {
          "base_uri": "https://localhost:8080/"
        },
        "id": "sLQ6YmvTmIm2",
        "outputId": "cca369f0-6fdb-49c4-ab61-4695bb55b32e"
      },
      "source": [
        "for m, cv in zip(x, coherence_values):\n",
        "    print(\"Num Topics =\", m, \" has Coherence Value of\", round(cv, 4))"
      ],
      "execution_count": null,
      "outputs": [
        {
          "output_type": "stream",
          "text": [
            "Num Topics = 1  has Coherence Value of 0.2356\n",
            "Num Topics = 2  has Coherence Value of 0.2289\n",
            "Num Topics = 3  has Coherence Value of 0.2427\n",
            "Num Topics = 4  has Coherence Value of 0.2851\n",
            "Num Topics = 5  has Coherence Value of 0.2715\n"
          ],
          "name": "stdout"
        }
      ]
    },
    {
      "cell_type": "markdown",
      "metadata": {
        "id": "EAg2ROmMSbkv"
      },
      "source": [
        "### **Prominant Topic**"
      ]
    },
    {
      "cell_type": "code",
      "metadata": {
        "colab": {
          "base_uri": "https://localhost:8080/"
        },
        "id": "daMh9SdTmR7m",
        "outputId": "fed19dd8-8d1a-425c-f8f2-269bbbed74a6"
      },
      "source": [
        "# Select the model and print the topics\n",
        "\n",
        "optimal_model = model_list[4]\n",
        "model_topics = optimal_model.show_topics(formatted=False)\n",
        "pprint(optimal_model.print_topics(num_words=10))"
      ],
      "execution_count": null,
      "outputs": [
        {
          "output_type": "stream",
          "text": [
            "[(0,\n",
            "  '0.013*\"social\" + 0.013*\"medium\" + 0.010*\"political\" + 0.010*\"statistic\" + '\n",
            "  '0.009*\"statistical\" + 0.009*\"datum\" + 0.008*\"study\" + 0.006*\"use\" + '\n",
            "  '0.005*\"population\" + 0.005*\"sample\"'),\n",
            " (1,\n",
            "  '0.030*\"social\" + 0.028*\"medium\" + 0.014*\"political\" + 0.011*\"use\" + '\n",
            "  '0.008*\"user\" + 0.007*\"state\" + 0.006*\"people\" + 0.005*\"platform\" + '\n",
            "  '0.005*\"system\" + 0.004*\"make\"'),\n",
            " (2,\n",
            "  '0.034*\"medium\" + 0.027*\"social\" + 0.008*\"user\" + 0.008*\"political\" + '\n",
            "  '0.007*\"people\" + 0.007*\"use\" + 0.005*\"study\" + 0.005*\"information\" + '\n",
            "  '0.005*\"platform\" + 0.004*\"find\"'),\n",
            " (3,\n",
            "  '0.034*\"social\" + 0.019*\"medium\" + 0.008*\"datum\" + 0.008*\"use\" + '\n",
            "  '0.006*\"political\" + 0.006*\"people\" + 0.005*\"user\" + 0.005*\"study\" + '\n",
            "  '0.005*\"platform\" + 0.004*\"information\"'),\n",
            " (4,\n",
            "  '0.025*\"social\" + 0.017*\"medium\" + 0.009*\"political\" + 0.006*\"use\" + '\n",
            "  '0.006*\"people\" + 0.005*\"statistical\" + 0.005*\"statistic\" + 0.005*\"datum\" + '\n",
            "  '0.005*\"state\" + 0.004*\"study\"')]\n"
          ],
          "name": "stdout"
        }
      ]
    },
    {
      "cell_type": "markdown",
      "metadata": {
        "id": "OPY5EyOUSinK"
      },
      "source": [
        "# **Dataset**"
      ]
    },
    {
      "cell_type": "code",
      "metadata": {
        "colab": {
          "base_uri": "https://localhost:8080/",
          "height": 634
        },
        "id": "7EmSHVwsWQkF",
        "outputId": "c86bc7de-3151-479f-eaad-e4cfa9c9f9e1"
      },
      "source": [
        "def format_topics_sentences(ldamodel=ldamodel, corpus=corpus, texts=data):\n",
        "    # Init output\n",
        "    sent_topics_df = pd.DataFrame()\n",
        "\n",
        "    # Get main topic in each document\n",
        "    for i, row in enumerate(ldamodel[corpus]):\n",
        "        row = sorted(row, key=lambda x: (x[1]), reverse=True)\n",
        "        # Get the Dominant topic, Perc Contribution and Keywords for each document\n",
        "        for j, (topic_num, prop_topic) in enumerate(row):\n",
        "            if j == 0:  # => dominant topic\n",
        "                wp = ldamodel.show_topic(topic_num)\n",
        "                topic_keywords = \", \".join([word for word, prop in wp])\n",
        "                sent_topics_df = sent_topics_df.append(pd.Series([int(topic_num), round(prop_topic,4), topic_keywords]), ignore_index=True)\n",
        "            else:\n",
        "                break\n",
        "    sent_topics_df.columns = ['Dominant_Topic', 'Perc_Contribution', 'Topic_Keywords']\n",
        "\n",
        "    # Add original text to the end of the output\n",
        "    contents = pd.Series(texts)\n",
        "    sent_topics_df = pd.concat([sent_topics_df, contents], axis=1)\n",
        "    return(sent_topics_df)\n",
        "\n",
        "\n",
        "df_topic_sents_keywords = format_topics_sentences(ldamodel=optimal_model, corpus=corpus, texts=data)\n",
        "\n",
        "# Format\n",
        "dataa= df_topic_sents_keywords.reset_index()\n",
        "dataa.columns = ['Document_No', 'Dominant_Topic', 'Topic_Perc_Contrib', 'Keywords', 'Text']\n",
        "\n",
        "# Show\n",
        "dataa"
      ],
      "execution_count": null,
      "outputs": [
        {
          "output_type": "execute_result",
          "data": {
            "text/html": [
              "<div>\n",
              "<style scoped>\n",
              "    .dataframe tbody tr th:only-of-type {\n",
              "        vertical-align: middle;\n",
              "    }\n",
              "\n",
              "    .dataframe tbody tr th {\n",
              "        vertical-align: top;\n",
              "    }\n",
              "\n",
              "    .dataframe thead th {\n",
              "        text-align: right;\n",
              "    }\n",
              "</style>\n",
              "<table border=\"1\" class=\"dataframe\">\n",
              "  <thead>\n",
              "    <tr style=\"text-align: right;\">\n",
              "      <th></th>\n",
              "      <th>Document_No</th>\n",
              "      <th>Dominant_Topic</th>\n",
              "      <th>Topic_Perc_Contrib</th>\n",
              "      <th>Keywords</th>\n",
              "      <th>Text</th>\n",
              "    </tr>\n",
              "  </thead>\n",
              "  <tbody>\n",
              "    <tr>\n",
              "      <th>0</th>\n",
              "      <td>0</td>\n",
              "      <td>0.0</td>\n",
              "      <td>0.9985</td>\n",
              "      <td>social, medium, political, statistic, statisti...</td>\n",
              "      <td>statistics is the discipline that concerns the...</td>\n",
              "    </tr>\n",
              "    <tr>\n",
              "      <th>1</th>\n",
              "      <td>1</td>\n",
              "      <td>4.0</td>\n",
              "      <td>0.7031</td>\n",
              "      <td>social, medium, political, use, people, statis...</td>\n",
              "      <td>today, statistics is widely employed in govern...</td>\n",
              "    </tr>\n",
              "    <tr>\n",
              "      <th>2</th>\n",
              "      <td>2</td>\n",
              "      <td>0.0</td>\n",
              "      <td>0.9986</td>\n",
              "      <td>social, medium, political, statistic, statisti...</td>\n",
              "      <td>sampling theory is part of the mathematical d...</td>\n",
              "    </tr>\n",
              "    <tr>\n",
              "      <th>3</th>\n",
              "      <td>3</td>\n",
              "      <td>4.0</td>\n",
              "      <td>0.8532</td>\n",
              "      <td>social, medium, political, use, people, statis...</td>\n",
              "      <td>a statistic is a random variable that is a fun...</td>\n",
              "    </tr>\n",
              "    <tr>\n",
              "      <th>4</th>\n",
              "      <td>4</td>\n",
              "      <td>0.0</td>\n",
              "      <td>0.9956</td>\n",
              "      <td>social, medium, political, statistic, statisti...</td>\n",
              "      <td>a critical region is the set of values of the ...</td>\n",
              "    </tr>\n",
              "    <tr>\n",
              "      <th>5</th>\n",
              "      <td>5</td>\n",
              "      <td>0.0</td>\n",
              "      <td>0.9965</td>\n",
              "      <td>social, medium, political, statistic, statisti...</td>\n",
              "      <td>applied statistics comprises descriptive stat...</td>\n",
              "    </tr>\n",
              "    <tr>\n",
              "      <th>6</th>\n",
              "      <td>6</td>\n",
              "      <td>4.0</td>\n",
              "      <td>0.9951</td>\n",
              "      <td>social, medium, political, use, people, statis...</td>\n",
              "      <td>statistics is also heavily used in management...</td>\n",
              "    </tr>\n",
              "    <tr>\n",
              "      <th>7</th>\n",
              "      <td>7</td>\n",
              "      <td>1.0</td>\n",
              "      <td>0.9988</td>\n",
              "      <td>social, medium, political, use, user, state, p...</td>\n",
              "      <td>social media are interactive technologies that...</td>\n",
              "    </tr>\n",
              "    <tr>\n",
              "      <th>8</th>\n",
              "      <td>8</td>\n",
              "      <td>1.0</td>\n",
              "      <td>0.9996</td>\n",
              "      <td>social, medium, political, use, user, state, p...</td>\n",
              "      <td>mobile social media are a useful application ...</td>\n",
              "    </tr>\n",
              "    <tr>\n",
              "      <th>9</th>\n",
              "      <td>9</td>\n",
              "      <td>2.0</td>\n",
              "      <td>0.8816</td>\n",
              "      <td>medium, social, user, political, people, use, ...</td>\n",
              "      <td>scientists use social media to share their sc...</td>\n",
              "    </tr>\n",
              "    <tr>\n",
              "      <th>10</th>\n",
              "      <td>10</td>\n",
              "      <td>2.0</td>\n",
              "      <td>0.9874</td>\n",
              "      <td>medium, social, user, political, people, use, ...</td>\n",
              "      <td>presidential election observed an \"echo chamb...</td>\n",
              "    </tr>\n",
              "    <tr>\n",
              "      <th>11</th>\n",
              "      <td>11</td>\n",
              "      <td>1.0</td>\n",
              "      <td>0.9985</td>\n",
              "      <td>social, medium, political, use, user, state, p...</td>\n",
              "      <td>the ti̇b was also given the authority to bloc...</td>\n",
              "    </tr>\n",
              "    <tr>\n",
              "      <th>12</th>\n",
              "      <td>12</td>\n",
              "      <td>1.0</td>\n",
              "      <td>0.9946</td>\n",
              "      <td>social, medium, political, use, user, state, p...</td>\n",
              "      <td>politics (from greek: πολιτικά, politiká, aff...</td>\n",
              "    </tr>\n",
              "    <tr>\n",
              "      <th>13</th>\n",
              "      <td>13</td>\n",
              "      <td>4.0</td>\n",
              "      <td>0.9979</td>\n",
              "      <td>social, medium, political, use, people, statis...</td>\n",
              "      <td>chinese philosopher confucius also wrote poli...</td>\n",
              "    </tr>\n",
              "    <tr>\n",
              "      <th>14</th>\n",
              "      <td>14</td>\n",
              "      <td>1.0</td>\n",
              "      <td>0.9982</td>\n",
              "      <td>social, medium, political, use, user, state, p...</td>\n",
              "      <td>in contrast with voluntary theories, these arg...</td>\n",
              "    </tr>\n",
              "    <tr>\n",
              "      <th>15</th>\n",
              "      <td>15</td>\n",
              "      <td>1.0</td>\n",
              "      <td>0.9980</td>\n",
              "      <td>social, medium, political, use, user, state, p...</td>\n",
              "      <td>according to david easton, \"a political system...</td>\n",
              "    </tr>\n",
              "    <tr>\n",
              "      <th>16</th>\n",
              "      <td>16</td>\n",
              "      <td>1.0</td>\n",
              "      <td>0.9975</td>\n",
              "      <td>social, medium, political, use, user, state, p...</td>\n",
              "      <td>forms of political corruption include bribery,...</td>\n",
              "    </tr>\n",
              "    <tr>\n",
              "      <th>17</th>\n",
              "      <td>17</td>\n",
              "      <td>1.0</td>\n",
              "      <td>0.9975</td>\n",
              "      <td>social, medium, political, use, user, state, p...</td>\n",
              "      <td>the theory of aggregative democracy claims tha...</td>\n",
              "    </tr>\n",
              "    <tr>\n",
              "      <th>18</th>\n",
              "      <td>18</td>\n",
              "      <td>1.0</td>\n",
              "      <td>0.9563</td>\n",
              "      <td>social, medium, political, use, user, state, p...</td>\n",
              "      <td>social equality requires the absence of legall...</td>\n",
              "    </tr>\n",
              "  </tbody>\n",
              "</table>\n",
              "</div>"
            ],
            "text/plain": [
              "    Document_No  ...                                               Text\n",
              "0             0  ...  statistics is the discipline that concerns the...\n",
              "1             1  ...  today, statistics is widely employed in govern...\n",
              "2             2  ...   sampling theory is part of the mathematical d...\n",
              "3             3  ...  a statistic is a random variable that is a fun...\n",
              "4             4  ...  a critical region is the set of values of the ...\n",
              "5             5  ...   applied statistics comprises descriptive stat...\n",
              "6             6  ...   statistics is also heavily used in management...\n",
              "7             7  ...  social media are interactive technologies that...\n",
              "8             8  ...   mobile social media are a useful application ...\n",
              "9             9  ...   scientists use social media to share their sc...\n",
              "10           10  ...   presidential election observed an \"echo chamb...\n",
              "11           11  ...   the ti̇b was also given the authority to bloc...\n",
              "12           12  ...   politics (from greek: πολιτικά, politiká, aff...\n",
              "13           13  ...   chinese philosopher confucius also wrote poli...\n",
              "14           14  ...  in contrast with voluntary theories, these arg...\n",
              "15           15  ...  according to david easton, \"a political system...\n",
              "16           16  ...  forms of political corruption include bribery,...\n",
              "17           17  ...  the theory of aggregative democracy claims tha...\n",
              "18           18  ...  social equality requires the absence of legall...\n",
              "\n",
              "[19 rows x 5 columns]"
            ]
          },
          "metadata": {
            "tags": []
          },
          "execution_count": 38
        }
      ]
    },
    {
      "cell_type": "code",
      "metadata": {
        "id": "2mGkuQ2x_QUE"
      },
      "source": [
        "#label Encoding\n",
        "from sklearn.preprocessing import LabelEncoder\n",
        "dataa['Dominant_Topic'] = LabelEncoder().fit_transform(dataa['Dominant_Topic'])"
      ],
      "execution_count": null,
      "outputs": []
    },
    {
      "cell_type": "code",
      "metadata": {
        "id": "HrKEnX43M0Bt"
      },
      "source": [
        "#split the data into x and y\n",
        "x= dataa['Text'].values\n",
        "y=dataa['Dominant_Topic'].values"
      ],
      "execution_count": null,
      "outputs": []
    },
    {
      "cell_type": "code",
      "metadata": {
        "colab": {
          "base_uri": "https://localhost:8080/"
        },
        "id": "zECSOcLGZhyZ",
        "outputId": "eb0a62c1-13a0-465a-90b7-c492a217f729"
      },
      "source": [
        "y=dataa['Dominant_Topic']# dependent feature\n",
        "y"
      ],
      "execution_count": null,
      "outputs": [
        {
          "output_type": "execute_result",
          "data": {
            "text/plain": [
              "0     3\n",
              "1     0\n",
              "2     3\n",
              "3     3\n",
              "4     0\n",
              "5     0\n",
              "6     3\n",
              "7     2\n",
              "8     2\n",
              "9     2\n",
              "10    2\n",
              "11    2\n",
              "12    1\n",
              "13    1\n",
              "14    2\n",
              "15    1\n",
              "16    2\n",
              "17    1\n",
              "18    3\n",
              "Name: Dominant_Topic, dtype: int64"
            ]
          },
          "metadata": {
            "tags": []
          },
          "execution_count": 111
        }
      ]
    },
    {
      "cell_type": "code",
      "metadata": {
        "colab": {
          "base_uri": "https://localhost:8080/"
        },
        "id": "Cfg3do68V663",
        "outputId": "efd0b9af-776e-4a7d-b355-ec86eab7970c"
      },
      "source": [
        "#y.values.reshape(1,-1) "
      ],
      "execution_count": null,
      "outputs": [
        {
          "output_type": "execute_result",
          "data": {
            "text/plain": [
              "array([[4.],\n",
              "       [1.],\n",
              "       [1.],\n",
              "       [4.],\n",
              "       [1.],\n",
              "       [1.],\n",
              "       [4.],\n",
              "       [3.],\n",
              "       [3.],\n",
              "       [3.],\n",
              "       [3.],\n",
              "       [3.],\n",
              "       [2.],\n",
              "       [2.],\n",
              "       [3.],\n",
              "       [2.],\n",
              "       [3.],\n",
              "       [2.],\n",
              "       [4.]])"
            ]
          },
          "metadata": {
            "tags": []
          },
          "execution_count": 37
        }
      ]
    },
    {
      "cell_type": "code",
      "metadata": {
        "id": "Ceo83Ylls1Uw"
      },
      "source": [
        "## TFidf Vectorizer\n",
        "from sklearn.feature_extraction.text import TfidfVectorizer\n",
        "tfidf_v=TfidfVectorizer(max_features=5000,ngram_range=(1,3),lowercase=False)\n",
        "X=tfidf_v.fit_transform(dataa['Text']).toarray()  #Independent feature"
      ],
      "execution_count": null,
      "outputs": []
    },
    {
      "cell_type": "code",
      "metadata": {
        "id": "a5QpryTxE1j-"
      },
      "source": [
        "#x=np.array(X).reshape(-1,1)"
      ],
      "execution_count": null,
      "outputs": []
    },
    {
      "cell_type": "code",
      "metadata": {
        "id": "pSU4cpTwD3rA"
      },
      "source": [
        "#X=np.shape(X)\n"
      ],
      "execution_count": null,
      "outputs": []
    },
    {
      "cell_type": "code",
      "metadata": {
        "id": "8FdmiED4bZnP"
      },
      "source": [
        "from sklearn.feature_extraction.text import CountVectorizer\n",
        "cv = CountVectorizer(max_features = 1500,ngram_range=(1,1))\n",
        "X = cv.fit_transform(x).toarray()"
      ],
      "execution_count": null,
      "outputs": []
    },
    {
      "cell_type": "code",
      "metadata": {
        "colab": {
          "base_uri": "https://localhost:8080/"
        },
        "id": "KVBovmpd8SJ5",
        "outputId": "f49d3462-6e37-4cb3-d4e7-40d393d460ce"
      },
      "source": [
        "#X.reshape(1,-1) \n"
      ],
      "execution_count": null,
      "outputs": [
        {
          "output_type": "execute_result",
          "data": {
            "text/plain": [
              "array([[0.],\n",
              "       [0.],\n",
              "       [0.],\n",
              "       ...,\n",
              "       [0.],\n",
              "       [0.],\n",
              "       [0.]])"
            ]
          },
          "metadata": {
            "tags": []
          },
          "execution_count": 113
        }
      ]
    },
    {
      "cell_type": "code",
      "metadata": {
        "id": "o_yU6jtopOha"
      },
      "source": [
        "# Splitting the dataset into the Training set and Test set\n",
        "from sklearn.model_selection import train_test_split \n",
        "X_train, X_test, y_train, y_test = train_test_split(X, y, test_size = 0.33, random_state =0)"
      ],
      "execution_count": null,
      "outputs": []
    },
    {
      "cell_type": "code",
      "metadata": {
        "colab": {
          "base_uri": "https://localhost:8080/"
        },
        "id": "Oavgt77ncUgy",
        "outputId": "49e39402-322a-426e-9afe-a9931300cd18"
      },
      "source": [
        "X_test"
      ],
      "execution_count": null,
      "outputs": [
        {
          "output_type": "execute_result",
          "data": {
            "text/plain": [
              "array([[0.        , 0.        , 0.01284456, ..., 0.02599024, 0.0039544 ,\n",
              "        0.        ],\n",
              "       [0.        , 0.        , 0.        , ..., 0.        , 0.        ,\n",
              "        0.        ],\n",
              "       [0.01971337, 0.01971337, 0.0135207 , ..., 0.00547168, 0.02081278,\n",
              "        0.        ],\n",
              "       ...,\n",
              "       [0.        , 0.        , 0.        , ..., 0.        , 0.        ,\n",
              "        0.        ],\n",
              "       [0.        , 0.        , 0.02422754, ..., 0.        , 0.        ,\n",
              "        0.        ],\n",
              "       [0.        , 0.        , 0.        , ..., 0.        , 0.        ,\n",
              "        0.        ]])"
            ]
          },
          "metadata": {
            "tags": []
          },
          "execution_count": 109
        }
      ]
    },
    {
      "cell_type": "markdown",
      "metadata": {
        "id": "QOKeZ_qcTI6c"
      },
      "source": [
        "# **Model Building**"
      ]
    },
    {
      "cell_type": "code",
      "metadata": {
        "id": "M-8s7rZI7SDp"
      },
      "source": [
        "!pip install --upgrade xgboost"
      ],
      "execution_count": null,
      "outputs": []
    },
    {
      "cell_type": "code",
      "metadata": {
        "id": "4ujdJR7_Oe_k"
      },
      "source": [
        "import xgboost\n",
        "from xgboost import XGBClassifier"
      ],
      "execution_count": null,
      "outputs": []
    },
    {
      "cell_type": "code",
      "metadata": {
        "id": "EGR2WbjT8ok9"
      },
      "source": [
        "!pip install --upgrade  scikit-learn"
      ],
      "execution_count": null,
      "outputs": []
    },
    {
      "cell_type": "code",
      "metadata": {
        "id": "_vrgizWf7SHK"
      },
      "source": [
        "!pip install --upgrade naive_bayes"
      ],
      "execution_count": null,
      "outputs": []
    },
    {
      "cell_type": "markdown",
      "metadata": {
        "id": "oMOZt9t4rWel"
      },
      "source": [
        "### **Naive Bayes**"
      ]
    },
    {
      "cell_type": "code",
      "metadata": {
        "id": "JU9e7Z7hOFuU"
      },
      "source": [
        "from sklearn.metrics import confusion_matrix,accuracy_score,classification_report"
      ],
      "execution_count": null,
      "outputs": []
    },
    {
      "cell_type": "code",
      "metadata": {
        "colab": {
          "base_uri": "https://localhost:8080/"
        },
        "id": "7dt5oEnjn-nG",
        "outputId": "e631c41d-c428-4744-ac86-58ede1a4b1c1"
      },
      "source": [
        "# Fitting Naive Bayes to the Training set\n",
        "from sklearn.naive_bayes import GaussianNB\n",
        "classifier = GaussianNB()\n",
        "classifier.fit(X_train, y_train)"
      ],
      "execution_count": null,
      "outputs": [
        {
          "output_type": "execute_result",
          "data": {
            "text/plain": [
              "GaussianNB()"
            ]
          },
          "metadata": {
            "tags": []
          },
          "execution_count": 93
        }
      ]
    },
    {
      "cell_type": "code",
      "metadata": {
        "colab": {
          "base_uri": "https://localhost:8080/"
        },
        "id": "kIqWAx6Ccm_2",
        "outputId": "9d4f4bd7-5c0f-44b6-cf4a-ca9195fd2493"
      },
      "source": [
        "y_pred=classifier.predict(X_train)\n",
        "print(confusion_matrix(y_train,y_pred))\n",
        "print(accuracy_score(y_train,y_pred))\n",
        "print(classification_report(y_train,y_pred))"
      ],
      "execution_count": null,
      "outputs": [
        {
          "output_type": "stream",
          "text": [
            "[[4 0 0 0]\n",
            " [0 5 0 0]\n",
            " [0 0 1 0]\n",
            " [0 0 0 2]]\n",
            "1.0\n",
            "              precision    recall  f1-score   support\n",
            "\n",
            "           0       1.00      1.00      1.00         4\n",
            "           1       1.00      1.00      1.00         5\n",
            "           2       1.00      1.00      1.00         1\n",
            "           3       1.00      1.00      1.00         2\n",
            "\n",
            "    accuracy                           1.00        12\n",
            "   macro avg       1.00      1.00      1.00        12\n",
            "weighted avg       1.00      1.00      1.00        12\n",
            "\n"
          ],
          "name": "stdout"
        }
      ]
    },
    {
      "cell_type": "code",
      "metadata": {
        "colab": {
          "base_uri": "https://localhost:8080/"
        },
        "id": "OS3JXoqIbECO",
        "outputId": "74665f68-3259-476c-853a-297c5e2ddeda"
      },
      "source": [
        "y_pred=classifier.predict(X_test)\n",
        "print(confusion_matrix(y_test,y_pred))\n",
        "print(accuracy_score(y_test,y_pred))\n",
        "print(classification_report(y_test,y_pred))"
      ],
      "execution_count": null,
      "outputs": [
        {
          "output_type": "stream",
          "text": [
            "[[0 0 0 0]\n",
            " [0 4 0 0]\n",
            " [0 1 0 0]\n",
            " [2 0 0 0]]\n",
            "0.5714285714285714\n",
            "              precision    recall  f1-score   support\n",
            "\n",
            "           0       0.00      0.00      0.00         0\n",
            "           1       0.80      1.00      0.89         4\n",
            "           2       0.00      0.00      0.00         1\n",
            "           3       0.00      0.00      0.00         2\n",
            "\n",
            "    accuracy                           0.57         7\n",
            "   macro avg       0.20      0.25      0.22         7\n",
            "weighted avg       0.46      0.57      0.51         7\n",
            "\n"
          ],
          "name": "stdout"
        }
      ]
    },
    {
      "cell_type": "code",
      "metadata": {
        "id": "Z2ywMZUFHs0U"
      },
      "source": [
        "import pickle\n",
        "with open('nby_model','wb') as f:\n",
        "  pickle.dump(classifier,f)"
      ],
      "execution_count": null,
      "outputs": []
    },
    {
      "cell_type": "code",
      "metadata": {
        "colab": {
          "base_uri": "https://localhost:8080/"
        },
        "id": "KVJIWMM3wc5l",
        "outputId": "fce1b221-dbca-4570-deab-7cf36701d112"
      },
      "source": [
        "classifier.fit(X, y)"
      ],
      "execution_count": null,
      "outputs": [
        {
          "output_type": "execute_result",
          "data": {
            "text/plain": [
              "GaussianNB()"
            ]
          },
          "metadata": {
            "tags": []
          },
          "execution_count": 48
        }
      ]
    },
    {
      "cell_type": "code",
      "metadata": {
        "id": "kFPazxVPn-qb"
      },
      "source": [
        "# Predicting the Test set results\n",
        "y_pred = classifier.predict(X)"
      ],
      "execution_count": null,
      "outputs": []
    },
    {
      "cell_type": "code",
      "metadata": {
        "id": "om7nVuQBrrJW",
        "colab": {
          "base_uri": "https://localhost:8080/"
        },
        "outputId": "d9fbc4a9-0924-4432-dc21-386e84d42f82"
      },
      "source": [
        "# Making the Confusion Matrix\n",
        "from sklearn.metrics import confusion_matrix,accuracy_score,classification_report\n",
        "cm = confusion_matrix(y, y_pred)\n",
        "acc=accuracy_score(y, y_pred)\n",
        "acc\n"
      ],
      "execution_count": null,
      "outputs": [
        {
          "output_type": "execute_result",
          "data": {
            "text/plain": [
              "1.0"
            ]
          },
          "metadata": {
            "tags": []
          },
          "execution_count": 50
        }
      ]
    },
    {
      "cell_type": "markdown",
      "metadata": {
        "id": "tXPaVP8wr7Kc"
      },
      "source": [
        "### **Random Forest**"
      ]
    },
    {
      "cell_type": "code",
      "metadata": {
        "id": "Xffd3jlBgb9f"
      },
      "source": [
        "params={\n",
        " \"learning_rate\"    : [0.05, 0.10, 0.15, 0.20, 0.25, 0.30 ] ,\n",
        " \"max_depth\"        : [ 3, 4, 5, 6, 8, 10, 12, 15],\n",
        " \"max_features\"     : [ 0, 1, 3, 5, 6, 7, 8 ],\n",
        " \"n_estimators\"     : [ 10,15,20,30,50,100],\n",
        " \" min_samples_leaf\" : [3,4,5,6,7,8 ]\n",
        "}"
      ],
      "execution_count": null,
      "outputs": []
    },
    {
      "cell_type": "code",
      "metadata": {
        "id": "K83OSBg-gcA7"
      },
      "source": [
        "from sklearn.model_selection import GridSearchCV\n",
        "classifier=RandomForestClassifier()\n",
        "gd=GridSearchCV(classifier,param_grid=params,n_jobs=-1)"
      ],
      "execution_count": null,
      "outputs": []
    },
    {
      "cell_type": "code",
      "metadata": {
        "colab": {
          "base_uri": "https://localhost:8080/"
        },
        "id": "rtHqTCOGgf49",
        "outputId": "725592d0-e7b1-462c-bff7-767503d7ab21"
      },
      "source": [
        "gd.estimator"
      ],
      "execution_count": null,
      "outputs": [
        {
          "output_type": "execute_result",
          "data": {
            "text/plain": [
              "RandomForestClassifier()"
            ]
          },
          "metadata": {
            "tags": []
          },
          "execution_count": 55
        }
      ]
    },
    {
      "cell_type": "code",
      "metadata": {
        "colab": {
          "base_uri": "https://localhost:8080/"
        },
        "id": "ImljLAFOaRlD",
        "outputId": "dc278df2-b40f-4973-8751-f861c5298a2b"
      },
      "source": [
        "from sklearn.ensemble import RandomForestClassifier\n",
        "classifier=RandomForestClassifier(n_estimators=900,max_features=6,min_samples_leaf=6,min_samples_split=5,n_jobs=-1)\n",
        "classifier.fit(X_train,y_train)"
      ],
      "execution_count": null,
      "outputs": [
        {
          "output_type": "execute_result",
          "data": {
            "text/plain": [
              "RandomForestClassifier(max_features=6, min_samples_leaf=6, min_samples_split=5,\n",
              "                       n_estimators=900, n_jobs=-1)"
            ]
          },
          "metadata": {
            "tags": []
          },
          "execution_count": 84
        }
      ]
    },
    {
      "cell_type": "code",
      "metadata": {
        "colab": {
          "base_uri": "https://localhost:8080/"
        },
        "id": "mU6uHwT8aRou",
        "outputId": "d9c3e130-0e5a-4e71-b9d2-355aebd4d137"
      },
      "source": [
        "y_pred=classifier.predict(X_test)\n",
        "print(confusion_matrix(y_test,y_pred))\n",
        "print(accuracy_score(y_test,y_pred))\n",
        "print(classification_report(y_test,y_pred))"
      ],
      "execution_count": null,
      "outputs": [
        {
          "output_type": "stream",
          "text": [
            "[[4 0 0]\n",
            " [1 0 0]\n",
            " [2 0 0]]\n",
            "0.5714285714285714\n",
            "              precision    recall  f1-score   support\n",
            "\n",
            "           1       0.57      1.00      0.73         4\n",
            "           2       0.00      0.00      0.00         1\n",
            "           3       0.00      0.00      0.00         2\n",
            "\n",
            "    accuracy                           0.57         7\n",
            "   macro avg       0.19      0.33      0.24         7\n",
            "weighted avg       0.33      0.57      0.42         7\n",
            "\n"
          ],
          "name": "stdout"
        }
      ]
    },
    {
      "cell_type": "markdown",
      "metadata": {
        "id": "l22_43N6sEs4"
      },
      "source": [
        "### **XGBoost**"
      ]
    },
    {
      "cell_type": "code",
      "metadata": {
        "colab": {
          "base_uri": "https://localhost:8080/"
        },
        "id": "pxxmz0btybPz",
        "outputId": "68257b2b-2f4f-4274-c0b4-0c613cf79a0a"
      },
      "source": [
        "import xgboost \n",
        "from xgboost import XGBClassifier\n",
        "clf =XGBClassifier(n_estimators =800,max_depth=3,n_jobs=-1)\n",
        "clf.fit(X_train, y_train)\n",
        "y_pred=clf.predict(X_test)\n",
        "print(confusion_matrix(y_test,y_pred))\n",
        "print(accuracy_score(y_test,y_pred))\n",
        "print(classification_report(y_test,y_pred))"
      ],
      "execution_count": null,
      "outputs": [
        {
          "output_type": "stream",
          "text": [
            "[11:12:19] WARNING: ../src/learner.cc:1095: Starting in XGBoost 1.3.0, the default evaluation metric used with the objective 'multi:softprob' was changed from 'merror' to 'mlogloss'. Explicitly set eval_metric if you'd like to restore the old behavior.\n",
            "[[0 0 0 0]\n",
            " [1 3 0 0]\n",
            " [1 0 0 0]\n",
            " [0 2 0 0]]\n",
            "0.42857142857142855\n",
            "              precision    recall  f1-score   support\n",
            "\n",
            "           0       0.00      0.00      0.00         0\n",
            "           1       0.60      0.75      0.67         4\n",
            "           2       0.00      0.00      0.00         1\n",
            "           3       0.00      0.00      0.00         2\n",
            "\n",
            "    accuracy                           0.43         7\n",
            "   macro avg       0.15      0.19      0.17         7\n",
            "weighted avg       0.34      0.43      0.38         7\n",
            "\n"
          ],
          "name": "stdout"
        }
      ]
    },
    {
      "cell_type": "code",
      "metadata": {
        "id": "PRmEde6muHR6"
      },
      "source": [
        "from sklearn.model_selection import RandomizedSearchCV\n",
        "params={\n",
        " \"learning_rate\"    : [0.05, 0.10, 0.15, 0.20, 0.25, 0.30 ] ,\n",
        " \"max_depth\"        : [ 3, 4, 5, 6, 8, 10, 12, 15],\n",
        " \"min_child_weight\" : [ 1, 3, 5, 7 ],\n",
        " \"gamma\"            : [ 0.0, 0.1, 0.2 , 0.3, 0.4 ],\n",
        " \"colsample_bytree\" : [ 0.3, 0.4, 0.5 , 0.7 ]\n",
        "}"
      ],
      "execution_count": null,
      "outputs": []
    },
    {
      "cell_type": "code",
      "metadata": {
        "id": "gr41c9MwuHVr"
      },
      "source": [
        "classifier=xgboost.XGBClassifier()\n",
        "random_search=RandomizedSearchCV(classifier,param_distributions=params,n_iter=5,scoring='auccuracy',n_jobs=-1,refit=True,cv=10,verbose=3)"
      ],
      "execution_count": null,
      "outputs": []
    },
    {
      "cell_type": "code",
      "metadata": {
        "colab": {
          "base_uri": "https://localhost:8080/"
        },
        "id": "D4aipXyPuHZf",
        "outputId": "e5034a95-235e-4a55-c3af-318c7cd9fa9d"
      },
      "source": [
        "random_search.estimator"
      ],
      "execution_count": null,
      "outputs": [
        {
          "output_type": "execute_result",
          "data": {
            "text/plain": [
              "XGBClassifier(base_score=None, booster=None, colsample_bylevel=None,\n",
              "              colsample_bynode=None, colsample_bytree=None, gamma=None,\n",
              "              gpu_id=None, importance_type='gain', interaction_constraints=None,\n",
              "              learning_rate=None, max_delta_step=None, max_depth=None,\n",
              "              min_child_weight=None, missing=nan, monotone_constraints=None,\n",
              "              n_estimators=100, n_jobs=None, num_parallel_tree=None,\n",
              "              random_state=None, reg_alpha=None, reg_lambda=None,\n",
              "              scale_pos_weight=None, subsample=None, tree_method=None,\n",
              "              validate_parameters=None, verbosity=None)"
            ]
          },
          "metadata": {
            "tags": []
          },
          "execution_count": 61
        }
      ]
    },
    {
      "cell_type": "code",
      "metadata": {
        "colab": {
          "base_uri": "https://localhost:8080/"
        },
        "id": "gSKZNmg0uHc7",
        "outputId": "2c0637db-f37b-4dd3-87da-fc7705205a21"
      },
      "source": [
        "s=XGBClassifier(base_score=None, booster=None, colsample_bylevel=None,\n",
        "              colsample_bynode=None, colsample_bytree=None, gamma=None,\n",
        "              gpu_id=None, importance_type='gain', interaction_constraints=None,\n",
        "              learning_rate=None, max_delta_step=None, max_depth=None,\n",
        "              min_child_weight=None, monotone_constraints=None,\n",
        "              n_estimators=100, n_jobs=None, num_parallel_tree=None,\n",
        "              objective='binary:logistic', random_state=None, reg_alpha=None,\n",
        "              reg_lambda=None, scale_pos_weight=None, subsample=None,\n",
        "              tree_method=None, use_label_encoder=True,\n",
        "              validate_parameters=None, verbosity=None)\n",
        "s.fit(X_train,y_train)"
      ],
      "execution_count": null,
      "outputs": [
        {
          "output_type": "stream",
          "text": [
            "[11:07:13] WARNING: ../src/learner.cc:1095: Starting in XGBoost 1.3.0, the default evaluation metric used with the objective 'multi:softprob' was changed from 'merror' to 'mlogloss'. Explicitly set eval_metric if you'd like to restore the old behavior.\n"
          ],
          "name": "stdout"
        },
        {
          "output_type": "execute_result",
          "data": {
            "text/plain": [
              "XGBClassifier(base_score=0.5, booster='gbtree', colsample_bylevel=1,\n",
              "              colsample_bynode=1, colsample_bytree=1, gamma=0, gpu_id=-1,\n",
              "              importance_type='gain', interaction_constraints='',\n",
              "              learning_rate=0.300000012, max_delta_step=0, max_depth=6,\n",
              "              min_child_weight=1, missing=nan, monotone_constraints='()',\n",
              "              n_estimators=100, n_jobs=2, num_parallel_tree=1,\n",
              "              objective='multi:softprob', random_state=0, reg_alpha=0,\n",
              "              reg_lambda=1, scale_pos_weight=None, subsample=1,\n",
              "              tree_method='exact', validate_parameters=1, verbosity=None)"
            ]
          },
          "metadata": {
            "tags": []
          },
          "execution_count": 62
        }
      ]
    },
    {
      "cell_type": "code",
      "metadata": {
        "colab": {
          "base_uri": "https://localhost:8080/"
        },
        "id": "llH5_mG2ufB7",
        "outputId": "14604a7f-c3ce-42bd-8aa6-a4072b01195d"
      },
      "source": [
        "y_pred=s.predict(X_test)\n",
        "print(confusion_matrix(y_test,y_pred))\n",
        "print(accuracy_score(y_test,y_pred))\n",
        "print(classification_report(y_test,y_pred))"
      ],
      "execution_count": null,
      "outputs": [
        {
          "output_type": "stream",
          "text": [
            "[[0 0 0 0]\n",
            " [1 3 0 0]\n",
            " [1 0 0 0]\n",
            " [0 2 0 0]]\n",
            "0.42857142857142855\n",
            "              precision    recall  f1-score   support\n",
            "\n",
            "           0       0.00      0.00      0.00         0\n",
            "           1       0.60      0.75      0.67         4\n",
            "           2       0.00      0.00      0.00         1\n",
            "           3       0.00      0.00      0.00         2\n",
            "\n",
            "    accuracy                           0.43         7\n",
            "   macro avg       0.15      0.19      0.17         7\n",
            "weighted avg       0.34      0.43      0.38         7\n",
            "\n"
          ],
          "name": "stdout"
        }
      ]
    },
    {
      "cell_type": "code",
      "metadata": {
        "id": "xQynPSsvrdk7"
      },
      "source": [
        "import pickle\n",
        "with open('gbb_final','wb') as f:\n",
        "  pickle.dump(classifier,f)"
      ],
      "execution_count": null,
      "outputs": []
    },
    {
      "cell_type": "markdown",
      "metadata": {
        "id": "OX3GDh8HsMN_"
      },
      "source": [
        "### **Gradient Boosting**"
      ]
    },
    {
      "cell_type": "code",
      "metadata": {
        "colab": {
          "base_uri": "https://localhost:8080/"
        },
        "id": "JBY-i-6RaRzx",
        "outputId": "f7907847-5ff9-494d-b75b-830b26be9c57"
      },
      "source": [
        "from sklearn.ensemble import GradientBoostingClassifier\n",
        "clf_gr = GradientBoostingClassifier()\n",
        "clf_gr.fit(X_train, y_train)"
      ],
      "execution_count": null,
      "outputs": [
        {
          "output_type": "execute_result",
          "data": {
            "text/plain": [
              "GradientBoostingClassifier()"
            ]
          },
          "metadata": {
            "tags": []
          },
          "execution_count": 64
        }
      ]
    },
    {
      "cell_type": "code",
      "metadata": {
        "colab": {
          "base_uri": "https://localhost:8080/"
        },
        "id": "5xRsPcTNaR3T",
        "outputId": "17ee3598-9e81-4257-e2d4-e91e9e835b83"
      },
      "source": [
        "y_pred=clf_gr.predict(X_test)\n",
        "print(confusion_matrix(y_test,y_pred))\n",
        "print(accuracy_score(y_test,y_pred))\n",
        "print(classification_report(y_test,y_pred))"
      ],
      "execution_count": null,
      "outputs": [
        {
          "output_type": "stream",
          "text": [
            "[[0 0 0 0]\n",
            " [0 3 0 1]\n",
            " [0 1 0 0]\n",
            " [2 0 0 0]]\n",
            "0.42857142857142855\n",
            "              precision    recall  f1-score   support\n",
            "\n",
            "           0       0.00      0.00      0.00         0\n",
            "           1       0.75      0.75      0.75         4\n",
            "           2       0.00      0.00      0.00         1\n",
            "           3       0.00      0.00      0.00         2\n",
            "\n",
            "    accuracy                           0.43         7\n",
            "   macro avg       0.19      0.19      0.19         7\n",
            "weighted avg       0.43      0.43      0.43         7\n",
            "\n"
          ],
          "name": "stdout"
        }
      ]
    },
    {
      "cell_type": "code",
      "metadata": {
        "colab": {
          "base_uri": "https://localhost:8080/"
        },
        "id": "R9PQ-XdmbiaA",
        "outputId": "10bf8826-1487-4727-c183-6fca434c50cc"
      },
      "source": [
        "from sklearn.naive_bayes import MultinomialNB\n",
        "clf = MultinomialNB()\n",
        "clf.fit(X_train,y_train)"
      ],
      "execution_count": null,
      "outputs": [
        {
          "output_type": "execute_result",
          "data": {
            "text/plain": [
              "MultinomialNB()"
            ]
          },
          "metadata": {
            "tags": []
          },
          "execution_count": 66
        }
      ]
    },
    {
      "cell_type": "code",
      "metadata": {
        "colab": {
          "base_uri": "https://localhost:8080/"
        },
        "id": "667b1ouTbidf",
        "outputId": "b64eed38-22dd-4a6a-cdf8-72a33f981f1d"
      },
      "source": [
        "y_pred=clf.predict(X_test)\n",
        "print(confusion_matrix(y_test,y_pred))\n",
        "print(accuracy_score(y_test,y_pred))\n",
        "print(classification_report(y_test,y_pred))"
      ],
      "execution_count": null,
      "outputs": [
        {
          "output_type": "stream",
          "text": [
            "[[0 0 0 0]\n",
            " [0 3 1 0]\n",
            " [0 0 1 0]\n",
            " [2 0 0 0]]\n",
            "0.5714285714285714\n",
            "              precision    recall  f1-score   support\n",
            "\n",
            "           0       0.00      0.00      0.00         0\n",
            "           1       1.00      0.75      0.86         4\n",
            "           2       0.50      1.00      0.67         1\n",
            "           3       0.00      0.00      0.00         2\n",
            "\n",
            "    accuracy                           0.57         7\n",
            "   macro avg       0.38      0.44      0.38         7\n",
            "weighted avg       0.64      0.57      0.59         7\n",
            "\n"
          ],
          "name": "stdout"
        }
      ]
    },
    {
      "cell_type": "markdown",
      "metadata": {
        "id": "MdHdEZ5gsV_O"
      },
      "source": [
        "### **AdaBoost**"
      ]
    },
    {
      "cell_type": "code",
      "metadata": {
        "colab": {
          "base_uri": "https://localhost:8080/"
        },
        "id": "-Kiwbwu4big8",
        "outputId": "ab6a7a03-8033-4f8e-97d8-9fa02efb53bc"
      },
      "source": [
        "from sklearn.model_selection import KFold\n",
        "from sklearn.model_selection import cross_val_score\n",
        "from sklearn.ensemble import AdaBoostClassifier\n",
        "num_trees = 1000\n",
        "seed=7\n",
        "kfold = KFold(n_splits=10, random_state=None)\n",
        "model = AdaBoostClassifier(n_estimators=num_trees, random_state=None)\n",
        "model.fit(X_train,y_train)"
      ],
      "execution_count": null,
      "outputs": [
        {
          "output_type": "execute_result",
          "data": {
            "text/plain": [
              "AdaBoostClassifier(n_estimators=1000)"
            ]
          },
          "metadata": {
            "tags": []
          },
          "execution_count": 74
        }
      ]
    },
    {
      "cell_type": "code",
      "metadata": {
        "colab": {
          "base_uri": "https://localhost:8080/"
        },
        "id": "GtQS1PK1cNtj",
        "outputId": "01197ac6-70b3-4bce-889c-4ef77de841da"
      },
      "source": [
        "y_pred=model.predict(X_test)\n",
        "print(confusion_matrix(y_test,y_pred))\n",
        "print(accuracy_score(y_test,y_pred))\n",
        "print(classification_report(y_test,y_pred))"
      ],
      "execution_count": null,
      "outputs": [
        {
          "output_type": "stream",
          "text": [
            "[[4 0 0]\n",
            " [0 1 0]\n",
            " [2 0 0]]\n",
            "0.7142857142857143\n",
            "              precision    recall  f1-score   support\n",
            "\n",
            "           1       0.67      1.00      0.80         4\n",
            "           2       1.00      1.00      1.00         1\n",
            "           3       0.00      0.00      0.00         2\n",
            "\n",
            "    accuracy                           0.71         7\n",
            "   macro avg       0.56      0.67      0.60         7\n",
            "weighted avg       0.52      0.71      0.60         7\n",
            "\n"
          ],
          "name": "stdout"
        }
      ]
    },
    {
      "cell_type": "markdown",
      "metadata": {
        "id": "sSjYCQwBscJT"
      },
      "source": [
        "### **KNN**"
      ]
    },
    {
      "cell_type": "code",
      "metadata": {
        "colab": {
          "base_uri": "https://localhost:8080/"
        },
        "id": "N4oNNSDdcN3B",
        "outputId": "e7b12941-9d37-4cc7-dee1-2ef42821fb8e"
      },
      "source": [
        "from sklearn.neighbors import KNeighborsClassifier\n",
        "knn_classifier=KNeighborsClassifier()\n",
        "knn_classifier.fit(X_train, y_train)"
      ],
      "execution_count": null,
      "outputs": [
        {
          "output_type": "execute_result",
          "data": {
            "text/plain": [
              "KNeighborsClassifier()"
            ]
          },
          "metadata": {
            "tags": []
          },
          "execution_count": 76
        }
      ]
    },
    {
      "cell_type": "code",
      "metadata": {
        "colab": {
          "base_uri": "https://localhost:8080/"
        },
        "id": "8wz8tF-ichKE",
        "outputId": "599e13ac-f810-4787-bc27-6db9d9497308"
      },
      "source": [
        "y_pred = knn_classifier.predict(X_test)\n",
        "print(confusion_matrix(y_test,y_pred))\n",
        "print(accuracy_score(y_test,y_pred))\n",
        "print(classification_report(y_test,y_pred))"
      ],
      "execution_count": null,
      "outputs": [
        {
          "output_type": "stream",
          "text": [
            "[[0 0 0 0]\n",
            " [2 2 0 0]\n",
            " [0 1 0 0]\n",
            " [2 0 0 0]]\n",
            "0.2857142857142857\n",
            "              precision    recall  f1-score   support\n",
            "\n",
            "           0       0.00      0.00      0.00         0\n",
            "           1       0.67      0.50      0.57         4\n",
            "           2       0.00      0.00      0.00         1\n",
            "           3       0.00      0.00      0.00         2\n",
            "\n",
            "    accuracy                           0.29         7\n",
            "   macro avg       0.17      0.12      0.14         7\n",
            "weighted avg       0.38      0.29      0.33         7\n",
            "\n"
          ],
          "name": "stdout"
        }
      ]
    },
    {
      "cell_type": "markdown",
      "metadata": {
        "id": "0ESelrJDsjFe"
      },
      "source": [
        "### **Decision Tree**"
      ]
    },
    {
      "cell_type": "code",
      "metadata": {
        "colab": {
          "base_uri": "https://localhost:8080/"
        },
        "id": "mdcvbNbpchM6",
        "outputId": "9206b06f-d8a7-4ef1-d220-ff856c2a8086"
      },
      "source": [
        "#Decision Tree Classifier\n",
        "from sklearn.tree import DecisionTreeClassifier\n",
        "model= DecisionTreeClassifier()\n",
        "model.fit(X_train, y_train)"
      ],
      "execution_count": null,
      "outputs": [
        {
          "output_type": "execute_result",
          "data": {
            "text/plain": [
              "DecisionTreeClassifier()"
            ]
          },
          "metadata": {
            "tags": []
          },
          "execution_count": 78
        }
      ]
    },
    {
      "cell_type": "code",
      "metadata": {
        "colab": {
          "base_uri": "https://localhost:8080/"
        },
        "id": "5pyV1N8TchQ3",
        "outputId": "a036a0c6-53ac-46b3-d18c-9ffca8a7c639"
      },
      "source": [
        "y_pred=model.predict(X_test)\n",
        "print(confusion_matrix(y_test,y_pred))\n",
        "print(accuracy_score(y_test,y_pred))\n",
        "print(classification_report(y_test,y_pred))"
      ],
      "execution_count": null,
      "outputs": [
        {
          "output_type": "stream",
          "text": [
            "[[0 0 0 0]\n",
            " [1 2 0 1]\n",
            " [1 0 0 0]\n",
            " [0 2 0 0]]\n",
            "0.2857142857142857\n",
            "              precision    recall  f1-score   support\n",
            "\n",
            "           0       0.00      0.00      0.00         0\n",
            "           1       0.50      0.50      0.50         4\n",
            "           2       0.00      0.00      0.00         1\n",
            "           3       0.00      0.00      0.00         2\n",
            "\n",
            "    accuracy                           0.29         7\n",
            "   macro avg       0.12      0.12      0.12         7\n",
            "weighted avg       0.29      0.29      0.29         7\n",
            "\n"
          ],
          "name": "stdout"
        }
      ]
    },
    {
      "cell_type": "markdown",
      "metadata": {
        "id": "tcnNee1SstZD"
      },
      "source": [
        "### **BaggingClassifier**"
      ]
    },
    {
      "cell_type": "code",
      "metadata": {
        "colab": {
          "base_uri": "https://localhost:8080/"
        },
        "id": "ATrTGJjvcw21",
        "outputId": "24dcba96-1881-4d4f-dcf0-aa2572d51206"
      },
      "source": [
        "from sklearn.model_selection import KFold\n",
        "from sklearn.model_selection import cross_val_score\n",
        "from sklearn.ensemble import BaggingClassifier\n",
        "from sklearn.tree import DecisionTreeClassifier\n",
        "seed = 7\n",
        "kfold = KFold(n_splits=10, random_state=seed,shuffle=True)\n",
        "cart = DecisionTreeClassifier()\n",
        "num_trees = 1000\n",
        "\n",
        "model1 = BaggingClassifier(base_estimator=cart, n_estimators=num_trees, random_state=seed)\n",
        "model1.fit(X_train,y_train)"
      ],
      "execution_count": null,
      "outputs": [
        {
          "output_type": "execute_result",
          "data": {
            "text/plain": [
              "BaggingClassifier(base_estimator=DecisionTreeClassifier(), n_estimators=1000,\n",
              "                  random_state=7)"
            ]
          },
          "metadata": {
            "tags": []
          },
          "execution_count": 80
        }
      ]
    },
    {
      "cell_type": "code",
      "metadata": {
        "colab": {
          "base_uri": "https://localhost:8080/"
        },
        "id": "tEYKn_X1cw6Y",
        "outputId": "efdba104-563f-47c6-d909-c6999eea2df8"
      },
      "source": [
        "y_pred=model1.predict(X_test)\n",
        "print(confusion_matrix(y_test,y_pred))\n",
        "print(accuracy_score(y_test,y_pred))\n",
        "print(classification_report(y_test,y_pred))"
      ],
      "execution_count": null,
      "outputs": [
        {
          "output_type": "stream",
          "text": [
            "[[0 0 0 0]\n",
            " [0 4 0 0]\n",
            " [0 1 0 0]\n",
            " [1 1 0 0]]\n",
            "0.5714285714285714\n",
            "              precision    recall  f1-score   support\n",
            "\n",
            "           0       0.00      0.00      0.00         0\n",
            "           1       0.67      1.00      0.80         4\n",
            "           2       0.00      0.00      0.00         1\n",
            "           3       0.00      0.00      0.00         2\n",
            "\n",
            "    accuracy                           0.57         7\n",
            "   macro avg       0.17      0.25      0.20         7\n",
            "weighted avg       0.38      0.57      0.46         7\n",
            "\n"
          ],
          "name": "stdout"
        }
      ]
    },
    {
      "cell_type": "markdown",
      "metadata": {
        "id": "61m5AAtws8Vl"
      },
      "source": [
        "### **SVM**"
      ]
    },
    {
      "cell_type": "code",
      "metadata": {
        "id": "KyQEpjaWc-vw",
        "colab": {
          "base_uri": "https://localhost:8080/"
        },
        "outputId": "5a4e654a-a052-4457-abb1-27e18dc3b3ba"
      },
      "source": [
        "from sklearn import svm\n",
        "\n",
        "from sklearn.svm import SVC\n",
        "from sklearn.model_selection import GridSearchCV\n",
        "from sklearn.model_selection import KFold\n",
        "clff = SVC(probability=True)\n",
        "clff.fit(X_train,y_train)\n"
      ],
      "execution_count": null,
      "outputs": [
        {
          "output_type": "execute_result",
          "data": {
            "text/plain": [
              "SVC(probability=True)"
            ]
          },
          "metadata": {
            "tags": []
          },
          "execution_count": 82
        }
      ]
    },
    {
      "cell_type": "code",
      "metadata": {
        "colab": {
          "base_uri": "https://localhost:8080/"
        },
        "id": "GXJf8NytdDHV",
        "outputId": "06ab957d-1ab1-4238-fdde-614d9c74a177"
      },
      "source": [
        "y_pred=clff.predict(X_test)\n",
        "print(confusion_matrix(y_test,y_pred))\n",
        "print(accuracy_score(y_test,y_pred))\n",
        "print(classification_report(y_test,y_pred))"
      ],
      "execution_count": null,
      "outputs": [
        {
          "output_type": "stream",
          "text": [
            "[[3 1 0]\n",
            " [0 1 0]\n",
            " [2 0 0]]\n",
            "0.5714285714285714\n",
            "              precision    recall  f1-score   support\n",
            "\n",
            "           1       0.60      0.75      0.67         4\n",
            "           2       0.50      1.00      0.67         1\n",
            "           3       0.00      0.00      0.00         2\n",
            "\n",
            "    accuracy                           0.57         7\n",
            "   macro avg       0.37      0.58      0.44         7\n",
            "weighted avg       0.41      0.57      0.48         7\n",
            "\n"
          ],
          "name": "stdout"
        }
      ]
    },
    {
      "cell_type": "markdown",
      "metadata": {
        "id": "0KwXfFVcTbqH"
      },
      "source": [
        "## **Save The Model**"
      ]
    },
    {
      "cell_type": "code",
      "metadata": {
        "id": "7rk633-3mOAD"
      },
      "source": [
        "import pickle\n",
        "with open('svm_final','wb') as f:\n",
        "  pickle.dump(clff,f)"
      ],
      "execution_count": null,
      "outputs": []
    }
  ]
}