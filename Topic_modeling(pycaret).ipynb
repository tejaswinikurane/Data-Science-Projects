{
 "cells": [
  {
   "cell_type": "markdown",
   "metadata": {
    "id": "tNpAExaMHoaa"
   },
   "source": [
    "# **Topic Modeling using pyCaret**"
   ]
  },
  {
   "cell_type": "code",
   "execution_count": null,
   "metadata": {},
   "outputs": [],
   "source": [
    "#!pip install pycaret"
   ]
  },
  {
   "cell_type": "code",
   "execution_count": 1,
   "metadata": {
    "id": "J8ib_znn2Bjc"
   },
   "outputs": [],
   "source": [
    "# Import packages\n",
    "import pycaret\n",
    "from pycaret.nlp import *\n",
    "from pycaret.nlp import load_model\n",
    "\n",
    "import pandas as pd\n",
    "import matplotlib.pyplot as plt\n",
    "%matplotlib inline\n",
    "from wordcloud import WordCloud, STOPWORDS\n",
    "\n",
    "import spacy\n",
    "spacy.load('en_core_web_sm')\n",
    "\n",
    "import warnings\n",
    "warnings.filterwarnings(\"ignore\",category=DeprecationWarning)\n",
    "warnings.filterwarnings(\"ignore\",category=FutureWarning)"
   ]
  },
  {
   "cell_type": "markdown",
   "metadata": {
    "id": "2tfTuXwbH0zM"
   },
   "source": [
    "## **Load The Dataset**"
   ]
  },
  {
   "cell_type": "code",
   "execution_count": 2,
   "metadata": {
    "colab": {
     "base_uri": "https://localhost:8080/",
     "height": 203
    },
    "id": "UlkEZft32Bnj",
    "outputId": "a1bd3188-22f4-4156-d671-294dcf88e8b7"
   },
   "outputs": [
    {
     "data": {
      "text/html": [
       "<div>\n",
       "<style scoped>\n",
       "    .dataframe tbody tr th:only-of-type {\n",
       "        vertical-align: middle;\n",
       "    }\n",
       "\n",
       "    .dataframe tbody tr th {\n",
       "        vertical-align: top;\n",
       "    }\n",
       "\n",
       "    .dataframe thead th {\n",
       "        text-align: right;\n",
       "    }\n",
       "</style>\n",
       "<table border=\"1\" class=\"dataframe\">\n",
       "  <thead>\n",
       "    <tr style=\"text-align: right;\">\n",
       "      <th></th>\n",
       "      <th>text</th>\n",
       "    </tr>\n",
       "  </thead>\n",
       "  <tbody>\n",
       "    <tr>\n",
       "      <th>0</th>\n",
       "      <td>statistics is the discipline that concerns the...</td>\n",
       "    </tr>\n",
       "    <tr>\n",
       "      <th>1</th>\n",
       "      <td>today, statistics is widely employed in govern...</td>\n",
       "    </tr>\n",
       "    <tr>\n",
       "      <th>2</th>\n",
       "      <td>sampling theory is part of the mathematical d...</td>\n",
       "    </tr>\n",
       "    <tr>\n",
       "      <th>3</th>\n",
       "      <td>a statistic is a random variable that is a fun...</td>\n",
       "    </tr>\n",
       "    <tr>\n",
       "      <th>4</th>\n",
       "      <td>a critical region is the set of values of the ...</td>\n",
       "    </tr>\n",
       "  </tbody>\n",
       "</table>\n",
       "</div>"
      ],
      "text/plain": [
       "                                                text\n",
       "0  statistics is the discipline that concerns the...\n",
       "1  today, statistics is widely employed in govern...\n",
       "2   sampling theory is part of the mathematical d...\n",
       "3  a statistic is a random variable that is a fun...\n",
       "4  a critical region is the set of values of the ..."
      ]
     },
     "execution_count": 2,
     "metadata": {},
     "output_type": "execute_result"
    }
   ],
   "source": [
    "df=pd.read_table(\"Statistics.txt\",error_bad_lines=False)\n",
    "df.head()"
   ]
  },
  {
   "cell_type": "markdown",
   "metadata": {
    "id": "YEn7xXo_CRic"
   },
   "source": [
    "## **Setting up Environment in PyCaret(*using setup function*)**"
   ]
  },
  {
   "cell_type": "code",
   "execution_count": 3,
   "metadata": {
    "colab": {
     "base_uri": "https://localhost:8080/",
     "height": 121,
     "referenced_widgets": [
      "3f34b93ff5b6405c929aaf9eacdca757",
      "d9c2e47984b54929a0314ca5609c3bfe",
      "eb87395d8e1d44bcb40e096a9d0b5cac"
     ]
    },
    "id": "zCZwO-UL2Bq8",
    "outputId": "6872e1af-2a14-4cec-93c8-8f0fa1083c01"
   },
   "outputs": [
    {
     "data": {
      "text/html": [
       "<style  type=\"text/css\" >\n",
       "</style><table id=\"T_9f5354ae_f338_11eb_929e_5c3a45949134\" ><thead>    <tr>        <th class=\"col_heading level0 col0\" >Description</th>        <th class=\"col_heading level0 col1\" >Value</th>    </tr></thead><tbody>\n",
       "                <tr>\n",
       "                                <td id=\"T_9f5354ae_f338_11eb_929e_5c3a45949134row0_col0\" class=\"data row0 col0\" >session_id</td>\n",
       "                        <td id=\"T_9f5354ae_f338_11eb_929e_5c3a45949134row0_col1\" class=\"data row0 col1\" >8382</td>\n",
       "            </tr>\n",
       "            <tr>\n",
       "                                <td id=\"T_9f5354ae_f338_11eb_929e_5c3a45949134row1_col0\" class=\"data row1 col0\" >Documents</td>\n",
       "                        <td id=\"T_9f5354ae_f338_11eb_929e_5c3a45949134row1_col1\" class=\"data row1 col1\" >19</td>\n",
       "            </tr>\n",
       "            <tr>\n",
       "                                <td id=\"T_9f5354ae_f338_11eb_929e_5c3a45949134row2_col0\" class=\"data row2 col0\" >Vocab Size</td>\n",
       "                        <td id=\"T_9f5354ae_f338_11eb_929e_5c3a45949134row2_col1\" class=\"data row2 col1\" >2861</td>\n",
       "            </tr>\n",
       "            <tr>\n",
       "                                <td id=\"T_9f5354ae_f338_11eb_929e_5c3a45949134row3_col0\" class=\"data row3 col0\" >Custom Stopwords</td>\n",
       "                        <td id=\"T_9f5354ae_f338_11eb_929e_5c3a45949134row3_col1\" class=\"data row3 col1\" >False</td>\n",
       "            </tr>\n",
       "    </tbody></table>"
      ],
      "text/plain": [
       "<pandas.io.formats.style.Styler at 0x230f88ac7c0>"
      ]
     },
     "metadata": {},
     "output_type": "display_data"
    }
   ],
   "source": [
    "text=setup(df,target='text')"
   ]
  },
  {
   "cell_type": "code",
   "execution_count": 4,
   "metadata": {
    "colab": {
     "base_uri": "https://localhost:8080/"
    },
    "id": "MT8oF-Sw2BwT",
    "outputId": "49bfcc94-8089-4906-ee26-425fdc243afd"
   },
   "outputs": [
    {
     "data": {
      "text/plain": [
       "list"
      ]
     },
     "execution_count": 4,
     "metadata": {},
     "output_type": "execute_result"
    }
   ],
   "source": [
    "#convert 'x' column of dataset into list format\n",
    "text_list = list(df['text'])\n",
    "type(text_list)"
   ]
  },
  {
   "cell_type": "code",
   "execution_count": 5,
   "metadata": {
    "colab": {
     "base_uri": "https://localhost:8080/",
     "height": 121,
     "referenced_widgets": [
      "55d42d7608ab4b55b29d385b657c7a73",
      "4bcee0b386c0469ab82fcec5b37e31f8",
      "e11b102edd994be8969aa9f041b9317a"
     ]
    },
    "id": "Jn-AJf_E2Bz5",
    "outputId": "659fef99-da7d-4413-f40e-5aa89965b37c"
   },
   "outputs": [
    {
     "data": {
      "text/html": [
       "<style  type=\"text/css\" >\n",
       "</style><table id=\"T_a353a743_f338_11eb_8425_5c3a45949134\" ><thead>    <tr>        <th class=\"col_heading level0 col0\" >Description</th>        <th class=\"col_heading level0 col1\" >Value</th>    </tr></thead><tbody>\n",
       "                <tr>\n",
       "                                <td id=\"T_a353a743_f338_11eb_8425_5c3a45949134row0_col0\" class=\"data row0 col0\" >session_id</td>\n",
       "                        <td id=\"T_a353a743_f338_11eb_8425_5c3a45949134row0_col1\" class=\"data row0 col1\" >225</td>\n",
       "            </tr>\n",
       "            <tr>\n",
       "                                <td id=\"T_a353a743_f338_11eb_8425_5c3a45949134row1_col0\" class=\"data row1 col0\" >Documents</td>\n",
       "                        <td id=\"T_a353a743_f338_11eb_8425_5c3a45949134row1_col1\" class=\"data row1 col1\" >19</td>\n",
       "            </tr>\n",
       "            <tr>\n",
       "                                <td id=\"T_a353a743_f338_11eb_8425_5c3a45949134row2_col0\" class=\"data row2 col0\" >Vocab Size</td>\n",
       "                        <td id=\"T_a353a743_f338_11eb_8425_5c3a45949134row2_col1\" class=\"data row2 col1\" >2861</td>\n",
       "            </tr>\n",
       "            <tr>\n",
       "                                <td id=\"T_a353a743_f338_11eb_8425_5c3a45949134row3_col0\" class=\"data row3 col0\" >Custom Stopwords</td>\n",
       "                        <td id=\"T_a353a743_f338_11eb_8425_5c3a45949134row3_col1\" class=\"data row3 col1\" >False</td>\n",
       "            </tr>\n",
       "    </tbody></table>"
      ],
      "text/plain": [
       "<pandas.io.formats.style.Styler at 0x230fe1f4f70>"
      ]
     },
     "metadata": {},
     "output_type": "display_data"
    }
   ],
   "source": [
    "nlp_list = setup(data = text_list, session_id = 225)"
   ]
  },
  {
   "cell_type": "markdown",
   "metadata": {
    "id": "NVP_e6y7HCqW"
   },
   "source": [
    "## **Wordcloud**"
   ]
  },
  {
   "cell_type": "code",
   "execution_count": 6,
   "metadata": {
    "id": "cFEReGpI2B3X"
   },
   "outputs": [],
   "source": [
    "train_data=str(text_list)"
   ]
  },
  {
   "cell_type": "code",
   "execution_count": 7,
   "metadata": {
    "colab": {
     "base_uri": "https://localhost:8080/",
     "height": 530
    },
    "id": "aHOEHmmW2B6t",
    "outputId": "aae8cfb4-cc8c-47b1-a60e-dfd7c162cdf3"
   },
   "outputs": [
    {
     "data": {
      "text/plain": [
       "<matplotlib.image.AxesImage at 0x22cfe6c7a30>"
      ]
     },
     "execution_count": 7,
     "metadata": {},
     "output_type": "execute_result"
    },
    {
     "data": {
      "image/png": "[encoded data removed]",
      "text/plain": [
       "<Figure size 936x936 with 1 Axes>"
      ]
     },
     "metadata": {
      "needs_background": "light"
     },
     "output_type": "display_data"
    }
   ],
   "source": [
    "# Generate wordcloud\n",
    "stopwords = STOPWORDS\n",
    "stopwords.add('will')\n",
    "stopwords.add('statistical')\n",
    "stopwords.add('may')\n",
    "plt.figure(figsize=(13,13))\n",
    "#text = description_category.description.values\n",
    "cloud = WordCloud(stopwords=STOPWORDS, background_color='black', collocations=False, width=2500, height=1800).generate(train_data)\n",
    "plt.axis('off')\n",
    "plt.imshow(cloud)"
   ]
  },
  {
   "cell_type": "markdown",
   "metadata": {
    "id": "ZdSi1ZKtGypY"
   },
   "source": [
    "## **Create a Topic Model(LDA)**"
   ]
  },
  {
   "cell_type": "code",
   "execution_count": 6,
   "metadata": {
    "colab": {
     "base_uri": "https://localhost:8080/"
    },
    "id": "-EIMU1Jd2Cef",
    "outputId": "b8443a9f-332e-446a-e587-2ff1ffe21f19"
   },
   "outputs": [
    {
     "name": "stdout",
     "output_type": "stream",
     "text": [
      "LdaModel(num_terms=2861, num_topics=4, decay=0.5, chunksize=100)\n"
     ]
    }
   ],
   "source": [
    "lda = create_model('lda')\n",
    "print(lda)"
   ]
  },
  {
   "cell_type": "code",
   "execution_count": 7,
   "metadata": {
    "colab": {
     "base_uri": "https://localhost:8080/"
    },
    "id": "yLqXCLlo2_tf",
    "outputId": "75c21451-eea1-4961-bbd9-2375dbeea8d6"
   },
   "outputs": [
    {
     "name": "stdout",
     "output_type": "stream",
     "text": [
      "LdaModel(num_terms=2861, num_topics=5, decay=0.5, chunksize=100)\n"
     ]
    }
   ],
   "source": [
    "lda2 = create_model('lda', num_topics =5, multi_core = True)\n",
    "print(lda2)"
   ]
  },
  {
   "cell_type": "markdown",
   "metadata": {
    "id": "4wBCqi8EGS7j"
   },
   "source": [
    "## **Assign a Model**"
   ]
  },
  {
   "cell_type": "code",
   "execution_count": 8,
   "metadata": {
    "colab": {
     "base_uri": "https://localhost:8080/",
     "height": 203
    },
    "id": "amQYcjHE2_wX",
    "outputId": "42ec969a-e6b5-4b63-b1dc-07fbaab87f31"
   },
   "outputs": [
    {
     "data": {
      "text/html": [
       "<div>\n",
       "<style scoped>\n",
       "    .dataframe tbody tr th:only-of-type {\n",
       "        vertical-align: middle;\n",
       "    }\n",
       "\n",
       "    .dataframe tbody tr th {\n",
       "        vertical-align: top;\n",
       "    }\n",
       "\n",
       "    .dataframe thead th {\n",
       "        text-align: right;\n",
       "    }\n",
       "</style>\n",
       "<table border=\"1\" class=\"dataframe\">\n",
       "  <thead>\n",
       "    <tr style=\"text-align: right;\">\n",
       "      <th></th>\n",
       "      <th>en</th>\n",
       "      <th>Topic_0</th>\n",
       "      <th>Topic_1</th>\n",
       "      <th>Topic_2</th>\n",
       "      <th>Topic_3</th>\n",
       "      <th>Topic_4</th>\n",
       "      <th>Dominant_Topic</th>\n",
       "      <th>Perc_Dominant_Topic</th>\n",
       "    </tr>\n",
       "  </thead>\n",
       "  <tbody>\n",
       "    <tr>\n",
       "      <th>0</th>\n",
       "      <td>statistic datum apply statistic scientific ind...</td>\n",
       "      <td>0.000373</td>\n",
       "      <td>0.998513</td>\n",
       "      <td>0.000371</td>\n",
       "      <td>0.000370</td>\n",
       "      <td>0.000373</td>\n",
       "      <td>Topic 1</td>\n",
       "      <td>1.00</td>\n",
       "    </tr>\n",
       "    <tr>\n",
       "      <th>1</th>\n",
       "      <td>today statistic widely employ government busin...</td>\n",
       "      <td>0.000649</td>\n",
       "      <td>0.997409</td>\n",
       "      <td>0.000649</td>\n",
       "      <td>0.000648</td>\n",
       "      <td>0.000646</td>\n",
       "      <td>Topic 1</td>\n",
       "      <td>1.00</td>\n",
       "    </tr>\n",
       "    <tr>\n",
       "      <th>2</th>\n",
       "      <td>sample mathematical discipline probability the...</td>\n",
       "      <td>0.000343</td>\n",
       "      <td>0.998632</td>\n",
       "      <td>0.000342</td>\n",
       "      <td>0.000341</td>\n",
       "      <td>0.000341</td>\n",
       "      <td>Topic 1</td>\n",
       "      <td>1.00</td>\n",
       "    </tr>\n",
       "    <tr>\n",
       "      <th>3</th>\n",
       "      <td>statistic random variable function random samp...</td>\n",
       "      <td>0.000364</td>\n",
       "      <td>0.998544</td>\n",
       "      <td>0.000364</td>\n",
       "      <td>0.000363</td>\n",
       "      <td>0.000365</td>\n",
       "      <td>Topic 1</td>\n",
       "      <td>1.00</td>\n",
       "    </tr>\n",
       "    <tr>\n",
       "      <th>4</th>\n",
       "      <td>critical region set value estimator lead refut...</td>\n",
       "      <td>0.000507</td>\n",
       "      <td>0.997987</td>\n",
       "      <td>0.000504</td>\n",
       "      <td>0.000500</td>\n",
       "      <td>0.000502</td>\n",
       "      <td>Topic 1</td>\n",
       "      <td>1.00</td>\n",
       "    </tr>\n",
       "    <tr>\n",
       "      <th>5</th>\n",
       "      <td>comprise descriptive_statistics application in...</td>\n",
       "      <td>0.000830</td>\n",
       "      <td>0.996685</td>\n",
       "      <td>0.000835</td>\n",
       "      <td>0.000822</td>\n",
       "      <td>0.000827</td>\n",
       "      <td>Topic 1</td>\n",
       "      <td>1.00</td>\n",
       "    </tr>\n",
       "    <tr>\n",
       "      <th>6</th>\n",
       "      <td>statistic also heavily use management accounti...</td>\n",
       "      <td>0.001114</td>\n",
       "      <td>0.995563</td>\n",
       "      <td>0.001123</td>\n",
       "      <td>0.001096</td>\n",
       "      <td>0.001103</td>\n",
       "      <td>Topic 1</td>\n",
       "      <td>1.00</td>\n",
       "    </tr>\n",
       "    <tr>\n",
       "      <th>7</th>\n",
       "      <td>social medium interactive technology allow cre...</td>\n",
       "      <td>0.000289</td>\n",
       "      <td>0.000288</td>\n",
       "      <td>0.998851</td>\n",
       "      <td>0.000285</td>\n",
       "      <td>0.000287</td>\n",
       "      <td>Topic 2</td>\n",
       "      <td>1.00</td>\n",
       "    </tr>\n",
       "    <tr>\n",
       "      <th>8</th>\n",
       "      <td>mobile social medium useful application mobile...</td>\n",
       "      <td>0.000103</td>\n",
       "      <td>0.000102</td>\n",
       "      <td>0.999592</td>\n",
       "      <td>0.000101</td>\n",
       "      <td>0.000102</td>\n",
       "      <td>Topic 2</td>\n",
       "      <td>1.00</td>\n",
       "    </tr>\n",
       "    <tr>\n",
       "      <th>9</th>\n",
       "      <td>scientist use social medium share scientific k...</td>\n",
       "      <td>0.999619</td>\n",
       "      <td>0.000095</td>\n",
       "      <td>0.000096</td>\n",
       "      <td>0.000095</td>\n",
       "      <td>0.000095</td>\n",
       "      <td>Topic 0</td>\n",
       "      <td>1.00</td>\n",
       "    </tr>\n",
       "    <tr>\n",
       "      <th>10</th>\n",
       "      <td>presidential observe echo chamber effect selec...</td>\n",
       "      <td>0.999620</td>\n",
       "      <td>0.000095</td>\n",
       "      <td>0.000096</td>\n",
       "      <td>0.000094</td>\n",
       "      <td>0.000095</td>\n",
       "      <td>Topic 0</td>\n",
       "      <td>1.00</td>\n",
       "    </tr>\n",
       "    <tr>\n",
       "      <th>11</th>\n",
       "      <td>also give authority block access specific webs...</td>\n",
       "      <td>0.000377</td>\n",
       "      <td>0.000374</td>\n",
       "      <td>0.998500</td>\n",
       "      <td>0.000373</td>\n",
       "      <td>0.000376</td>\n",
       "      <td>Topic 2</td>\n",
       "      <td>1.00</td>\n",
       "    </tr>\n",
       "    <tr>\n",
       "      <th>12</th>\n",
       "      <td>city set activity associate make decision grou...</td>\n",
       "      <td>0.693711</td>\n",
       "      <td>0.001293</td>\n",
       "      <td>0.001284</td>\n",
       "      <td>0.111658</td>\n",
       "      <td>0.192053</td>\n",
       "      <td>Topic 0</td>\n",
       "      <td>0.69</td>\n",
       "    </tr>\n",
       "    <tr>\n",
       "      <th>13</th>\n",
       "      <td>chinese also write political manuscript contri...</td>\n",
       "      <td>0.000536</td>\n",
       "      <td>0.000532</td>\n",
       "      <td>0.000535</td>\n",
       "      <td>0.997863</td>\n",
       "      <td>0.000535</td>\n",
       "      <td>Topic 3</td>\n",
       "      <td>1.00</td>\n",
       "    </tr>\n",
       "    <tr>\n",
       "      <th>14</th>\n",
       "      <td>contrast voluntary theory argument believe peo...</td>\n",
       "      <td>0.987651</td>\n",
       "      <td>0.000440</td>\n",
       "      <td>0.000433</td>\n",
       "      <td>0.000438</td>\n",
       "      <td>0.011038</td>\n",
       "      <td>Topic 0</td>\n",
       "      <td>0.99</td>\n",
       "    </tr>\n",
       "    <tr>\n",
       "      <th>15</th>\n",
       "      <td>accord political system designate interaction ...</td>\n",
       "      <td>0.000457</td>\n",
       "      <td>0.000457</td>\n",
       "      <td>0.000455</td>\n",
       "      <td>0.000455</td>\n",
       "      <td>0.998177</td>\n",
       "      <td>Topic 4</td>\n",
       "      <td>1.00</td>\n",
       "    </tr>\n",
       "    <tr>\n",
       "      <th>16</th>\n",
       "      <td>form political corruption include bribery cron...</td>\n",
       "      <td>0.735488</td>\n",
       "      <td>0.000596</td>\n",
       "      <td>0.000596</td>\n",
       "      <td>0.000599</td>\n",
       "      <td>0.262721</td>\n",
       "      <td>Topic 0</td>\n",
       "      <td>0.74</td>\n",
       "    </tr>\n",
       "    <tr>\n",
       "      <th>17</th>\n",
       "      <td>theory aggregative democracy claim aim democra...</td>\n",
       "      <td>0.000607</td>\n",
       "      <td>0.000603</td>\n",
       "      <td>0.000606</td>\n",
       "      <td>0.000602</td>\n",
       "      <td>0.997582</td>\n",
       "      <td>Topic 4</td>\n",
       "      <td>1.00</td>\n",
       "    </tr>\n",
       "    <tr>\n",
       "      <th>18</th>\n",
       "      <td>social equality require absence legally enforc...</td>\n",
       "      <td>0.000537</td>\n",
       "      <td>0.000533</td>\n",
       "      <td>0.000536</td>\n",
       "      <td>0.000533</td>\n",
       "      <td>0.997860</td>\n",
       "      <td>Topic 4</td>\n",
       "      <td>1.00</td>\n",
       "    </tr>\n",
       "  </tbody>\n",
       "</table>\n",
       "</div>"
      ],
      "text/plain": [
       "                                                   en   Topic_0   Topic_1  \\\n",
       "0   statistic datum apply statistic scientific ind...  0.000373  0.998513   \n",
       "1   today statistic widely employ government busin...  0.000649  0.997409   \n",
       "2   sample mathematical discipline probability the...  0.000343  0.998632   \n",
       "3   statistic random variable function random samp...  0.000364  0.998544   \n",
       "4   critical region set value estimator lead refut...  0.000507  0.997987   \n",
       "5   comprise descriptive_statistics application in...  0.000830  0.996685   \n",
       "6   statistic also heavily use management accounti...  0.001114  0.995563   \n",
       "7   social medium interactive technology allow cre...  0.000289  0.000288   \n",
       "8   mobile social medium useful application mobile...  0.000103  0.000102   \n",
       "9   scientist use social medium share scientific k...  0.999619  0.000095   \n",
       "10  presidential observe echo chamber effect selec...  0.999620  0.000095   \n",
       "11  also give authority block access specific webs...  0.000377  0.000374   \n",
       "12  city set activity associate make decision grou...  0.693711  0.001293   \n",
       "13  chinese also write political manuscript contri...  0.000536  0.000532   \n",
       "14  contrast voluntary theory argument believe peo...  0.987651  0.000440   \n",
       "15  accord political system designate interaction ...  0.000457  0.000457   \n",
       "16  form political corruption include bribery cron...  0.735488  0.000596   \n",
       "17  theory aggregative democracy claim aim democra...  0.000607  0.000603   \n",
       "18  social equality require absence legally enforc...  0.000537  0.000533   \n",
       "\n",
       "     Topic_2   Topic_3   Topic_4 Dominant_Topic  Perc_Dominant_Topic  \n",
       "0   0.000371  0.000370  0.000373        Topic 1                 1.00  \n",
       "1   0.000649  0.000648  0.000646        Topic 1                 1.00  \n",
       "2   0.000342  0.000341  0.000341        Topic 1                 1.00  \n",
       "3   0.000364  0.000363  0.000365        Topic 1                 1.00  \n",
       "4   0.000504  0.000500  0.000502        Topic 1                 1.00  \n",
       "5   0.000835  0.000822  0.000827        Topic 1                 1.00  \n",
       "6   0.001123  0.001096  0.001103        Topic 1                 1.00  \n",
       "7   0.998851  0.000285  0.000287        Topic 2                 1.00  \n",
       "8   0.999592  0.000101  0.000102        Topic 2                 1.00  \n",
       "9   0.000096  0.000095  0.000095        Topic 0                 1.00  \n",
       "10  0.000096  0.000094  0.000095        Topic 0                 1.00  \n",
       "11  0.998500  0.000373  0.000376        Topic 2                 1.00  \n",
       "12  0.001284  0.111658  0.192053        Topic 0                 0.69  \n",
       "13  0.000535  0.997863  0.000535        Topic 3                 1.00  \n",
       "14  0.000433  0.000438  0.011038        Topic 0                 0.99  \n",
       "15  0.000455  0.000455  0.998177        Topic 4                 1.00  \n",
       "16  0.000596  0.000599  0.262721        Topic 0                 0.74  \n",
       "17  0.000606  0.000602  0.997582        Topic 4                 1.00  \n",
       "18  0.000536  0.000533  0.997860        Topic 4                 1.00  "
      ]
     },
     "execution_count": 8,
     "metadata": {},
     "output_type": "execute_result"
    }
   ],
   "source": [
    "lda_results = assign_model(lda2)\n",
    "lda_results"
   ]
  },
  {
   "cell_type": "markdown",
   "metadata": {
    "id": "EIA5SPSoGYFw"
   },
   "source": [
    "## **Topics**"
   ]
  },
  {
   "cell_type": "code",
   "execution_count": 9,
   "metadata": {
    "colab": {
     "base_uri": "https://localhost:8080/",
     "height": 265
    },
    "id": "4jr0x9g92_zg",
    "outputId": "50a85dcd-709d-417b-c3c4-35872c4319ea"
   },
   "outputs": [
    {
     "data": {
      "text/html": [
       "<div>\n",
       "<style scoped>\n",
       "    .dataframe tbody tr th:only-of-type {\n",
       "        vertical-align: middle;\n",
       "    }\n",
       "\n",
       "    .dataframe tbody tr th {\n",
       "        vertical-align: top;\n",
       "    }\n",
       "\n",
       "    .dataframe thead th {\n",
       "        text-align: right;\n",
       "    }\n",
       "</style>\n",
       "<table border=\"1\" class=\"dataframe\">\n",
       "  <thead>\n",
       "    <tr style=\"text-align: right;\">\n",
       "      <th></th>\n",
       "      <th>Text</th>\n",
       "      <th>Researches</th>\n",
       "      <th>Statistic</th>\n",
       "      <th>Social_medium</th>\n",
       "      <th>Politic</th>\n",
       "      <th>Democracy</th>\n",
       "      <th>Dominant_Topic</th>\n",
       "      <th>Perc_Dominant_Topic</th>\n",
       "    </tr>\n",
       "  </thead>\n",
       "  <tbody>\n",
       "    <tr>\n",
       "      <th>0</th>\n",
       "      <td>statistic datum apply statistic scientific ind...</td>\n",
       "      <td>0.000373</td>\n",
       "      <td>0.998513</td>\n",
       "      <td>0.000371</td>\n",
       "      <td>0.000370</td>\n",
       "      <td>0.000373</td>\n",
       "      <td>Topic 1</td>\n",
       "      <td>1.00</td>\n",
       "    </tr>\n",
       "    <tr>\n",
       "      <th>1</th>\n",
       "      <td>today statistic widely employ government busin...</td>\n",
       "      <td>0.000649</td>\n",
       "      <td>0.997409</td>\n",
       "      <td>0.000649</td>\n",
       "      <td>0.000648</td>\n",
       "      <td>0.000646</td>\n",
       "      <td>Topic 1</td>\n",
       "      <td>1.00</td>\n",
       "    </tr>\n",
       "    <tr>\n",
       "      <th>2</th>\n",
       "      <td>sample mathematical discipline probability the...</td>\n",
       "      <td>0.000343</td>\n",
       "      <td>0.998632</td>\n",
       "      <td>0.000342</td>\n",
       "      <td>0.000341</td>\n",
       "      <td>0.000341</td>\n",
       "      <td>Topic 1</td>\n",
       "      <td>1.00</td>\n",
       "    </tr>\n",
       "    <tr>\n",
       "      <th>3</th>\n",
       "      <td>statistic random variable function random samp...</td>\n",
       "      <td>0.000364</td>\n",
       "      <td>0.998544</td>\n",
       "      <td>0.000364</td>\n",
       "      <td>0.000363</td>\n",
       "      <td>0.000365</td>\n",
       "      <td>Topic 1</td>\n",
       "      <td>1.00</td>\n",
       "    </tr>\n",
       "    <tr>\n",
       "      <th>4</th>\n",
       "      <td>critical region set value estimator lead refut...</td>\n",
       "      <td>0.000507</td>\n",
       "      <td>0.997987</td>\n",
       "      <td>0.000504</td>\n",
       "      <td>0.000500</td>\n",
       "      <td>0.000502</td>\n",
       "      <td>Topic 1</td>\n",
       "      <td>1.00</td>\n",
       "    </tr>\n",
       "    <tr>\n",
       "      <th>5</th>\n",
       "      <td>comprise descriptive_statistics application in...</td>\n",
       "      <td>0.000830</td>\n",
       "      <td>0.996685</td>\n",
       "      <td>0.000835</td>\n",
       "      <td>0.000822</td>\n",
       "      <td>0.000827</td>\n",
       "      <td>Topic 1</td>\n",
       "      <td>1.00</td>\n",
       "    </tr>\n",
       "    <tr>\n",
       "      <th>6</th>\n",
       "      <td>statistic also heavily use management accounti...</td>\n",
       "      <td>0.001114</td>\n",
       "      <td>0.995563</td>\n",
       "      <td>0.001123</td>\n",
       "      <td>0.001096</td>\n",
       "      <td>0.001103</td>\n",
       "      <td>Topic 1</td>\n",
       "      <td>1.00</td>\n",
       "    </tr>\n",
       "    <tr>\n",
       "      <th>7</th>\n",
       "      <td>social medium interactive technology allow cre...</td>\n",
       "      <td>0.000289</td>\n",
       "      <td>0.000288</td>\n",
       "      <td>0.998851</td>\n",
       "      <td>0.000285</td>\n",
       "      <td>0.000287</td>\n",
       "      <td>Topic 2</td>\n",
       "      <td>1.00</td>\n",
       "    </tr>\n",
       "    <tr>\n",
       "      <th>8</th>\n",
       "      <td>mobile social medium useful application mobile...</td>\n",
       "      <td>0.000103</td>\n",
       "      <td>0.000102</td>\n",
       "      <td>0.999592</td>\n",
       "      <td>0.000101</td>\n",
       "      <td>0.000102</td>\n",
       "      <td>Topic 2</td>\n",
       "      <td>1.00</td>\n",
       "    </tr>\n",
       "    <tr>\n",
       "      <th>9</th>\n",
       "      <td>scientist use social medium share scientific k...</td>\n",
       "      <td>0.999619</td>\n",
       "      <td>0.000095</td>\n",
       "      <td>0.000096</td>\n",
       "      <td>0.000095</td>\n",
       "      <td>0.000095</td>\n",
       "      <td>Topic 0</td>\n",
       "      <td>1.00</td>\n",
       "    </tr>\n",
       "    <tr>\n",
       "      <th>10</th>\n",
       "      <td>presidential observe echo chamber effect selec...</td>\n",
       "      <td>0.999620</td>\n",
       "      <td>0.000095</td>\n",
       "      <td>0.000096</td>\n",
       "      <td>0.000094</td>\n",
       "      <td>0.000095</td>\n",
       "      <td>Topic 0</td>\n",
       "      <td>1.00</td>\n",
       "    </tr>\n",
       "    <tr>\n",
       "      <th>11</th>\n",
       "      <td>also give authority block access specific webs...</td>\n",
       "      <td>0.000377</td>\n",
       "      <td>0.000374</td>\n",
       "      <td>0.998500</td>\n",
       "      <td>0.000373</td>\n",
       "      <td>0.000376</td>\n",
       "      <td>Topic 2</td>\n",
       "      <td>1.00</td>\n",
       "    </tr>\n",
       "    <tr>\n",
       "      <th>12</th>\n",
       "      <td>city set activity associate make decision grou...</td>\n",
       "      <td>0.693711</td>\n",
       "      <td>0.001293</td>\n",
       "      <td>0.001284</td>\n",
       "      <td>0.111658</td>\n",
       "      <td>0.192053</td>\n",
       "      <td>Topic 0</td>\n",
       "      <td>0.69</td>\n",
       "    </tr>\n",
       "    <tr>\n",
       "      <th>13</th>\n",
       "      <td>chinese also write political manuscript contri...</td>\n",
       "      <td>0.000536</td>\n",
       "      <td>0.000532</td>\n",
       "      <td>0.000535</td>\n",
       "      <td>0.997863</td>\n",
       "      <td>0.000535</td>\n",
       "      <td>Topic 3</td>\n",
       "      <td>1.00</td>\n",
       "    </tr>\n",
       "    <tr>\n",
       "      <th>14</th>\n",
       "      <td>contrast voluntary theory argument believe peo...</td>\n",
       "      <td>0.987651</td>\n",
       "      <td>0.000440</td>\n",
       "      <td>0.000433</td>\n",
       "      <td>0.000438</td>\n",
       "      <td>0.011038</td>\n",
       "      <td>Topic 0</td>\n",
       "      <td>0.99</td>\n",
       "    </tr>\n",
       "    <tr>\n",
       "      <th>15</th>\n",
       "      <td>accord political system designate interaction ...</td>\n",
       "      <td>0.000457</td>\n",
       "      <td>0.000457</td>\n",
       "      <td>0.000455</td>\n",
       "      <td>0.000455</td>\n",
       "      <td>0.998177</td>\n",
       "      <td>Topic 4</td>\n",
       "      <td>1.00</td>\n",
       "    </tr>\n",
       "    <tr>\n",
       "      <th>16</th>\n",
       "      <td>form political corruption include bribery cron...</td>\n",
       "      <td>0.735488</td>\n",
       "      <td>0.000596</td>\n",
       "      <td>0.000596</td>\n",
       "      <td>0.000599</td>\n",
       "      <td>0.262721</td>\n",
       "      <td>Topic 0</td>\n",
       "      <td>0.74</td>\n",
       "    </tr>\n",
       "    <tr>\n",
       "      <th>17</th>\n",
       "      <td>theory aggregative democracy claim aim democra...</td>\n",
       "      <td>0.000607</td>\n",
       "      <td>0.000603</td>\n",
       "      <td>0.000606</td>\n",
       "      <td>0.000602</td>\n",
       "      <td>0.997582</td>\n",
       "      <td>Topic 4</td>\n",
       "      <td>1.00</td>\n",
       "    </tr>\n",
       "    <tr>\n",
       "      <th>18</th>\n",
       "      <td>social equality require absence legally enforc...</td>\n",
       "      <td>0.000537</td>\n",
       "      <td>0.000533</td>\n",
       "      <td>0.000536</td>\n",
       "      <td>0.000533</td>\n",
       "      <td>0.997860</td>\n",
       "      <td>Topic 4</td>\n",
       "      <td>1.00</td>\n",
       "    </tr>\n",
       "  </tbody>\n",
       "</table>\n",
       "</div>"
      ],
      "text/plain": [
       "                                                 Text  Researches  Statistic  \\\n",
       "0   statistic datum apply statistic scientific ind...    0.000373   0.998513   \n",
       "1   today statistic widely employ government busin...    0.000649   0.997409   \n",
       "2   sample mathematical discipline probability the...    0.000343   0.998632   \n",
       "3   statistic random variable function random samp...    0.000364   0.998544   \n",
       "4   critical region set value estimator lead refut...    0.000507   0.997987   \n",
       "5   comprise descriptive_statistics application in...    0.000830   0.996685   \n",
       "6   statistic also heavily use management accounti...    0.001114   0.995563   \n",
       "7   social medium interactive technology allow cre...    0.000289   0.000288   \n",
       "8   mobile social medium useful application mobile...    0.000103   0.000102   \n",
       "9   scientist use social medium share scientific k...    0.999619   0.000095   \n",
       "10  presidential observe echo chamber effect selec...    0.999620   0.000095   \n",
       "11  also give authority block access specific webs...    0.000377   0.000374   \n",
       "12  city set activity associate make decision grou...    0.693711   0.001293   \n",
       "13  chinese also write political manuscript contri...    0.000536   0.000532   \n",
       "14  contrast voluntary theory argument believe peo...    0.987651   0.000440   \n",
       "15  accord political system designate interaction ...    0.000457   0.000457   \n",
       "16  form political corruption include bribery cron...    0.735488   0.000596   \n",
       "17  theory aggregative democracy claim aim democra...    0.000607   0.000603   \n",
       "18  social equality require absence legally enforc...    0.000537   0.000533   \n",
       "\n",
       "    Social_medium   Politic  Democracy Dominant_Topic  Perc_Dominant_Topic  \n",
       "0        0.000371  0.000370   0.000373        Topic 1                 1.00  \n",
       "1        0.000649  0.000648   0.000646        Topic 1                 1.00  \n",
       "2        0.000342  0.000341   0.000341        Topic 1                 1.00  \n",
       "3        0.000364  0.000363   0.000365        Topic 1                 1.00  \n",
       "4        0.000504  0.000500   0.000502        Topic 1                 1.00  \n",
       "5        0.000835  0.000822   0.000827        Topic 1                 1.00  \n",
       "6        0.001123  0.001096   0.001103        Topic 1                 1.00  \n",
       "7        0.998851  0.000285   0.000287        Topic 2                 1.00  \n",
       "8        0.999592  0.000101   0.000102        Topic 2                 1.00  \n",
       "9        0.000096  0.000095   0.000095        Topic 0                 1.00  \n",
       "10       0.000096  0.000094   0.000095        Topic 0                 1.00  \n",
       "11       0.998500  0.000373   0.000376        Topic 2                 1.00  \n",
       "12       0.001284  0.111658   0.192053        Topic 0                 0.69  \n",
       "13       0.000535  0.997863   0.000535        Topic 3                 1.00  \n",
       "14       0.000433  0.000438   0.011038        Topic 0                 0.99  \n",
       "15       0.000455  0.000455   0.998177        Topic 4                 1.00  \n",
       "16       0.000596  0.000599   0.262721        Topic 0                 0.74  \n",
       "17       0.000606  0.000602   0.997582        Topic 4                 1.00  \n",
       "18       0.000536  0.000533   0.997860        Topic 4                 1.00  "
      ]
     },
     "execution_count": 9,
     "metadata": {},
     "output_type": "execute_result"
    }
   ],
   "source": [
    "df1=lda_results.rename({'en':'Text','Topic_0': 'Researches','Topic_1':'Statistic','Topic_2':'Social_medium','Topic_3':'Politic','Topic_4':'Democracy'}, axis=1)\n",
    "df1"
   ]
  },
  {
   "cell_type": "code",
   "execution_count": 10,
   "metadata": {
    "scrolled": true
   },
   "outputs": [
    {
     "data": {
      "text/html": [
       "<div>\n",
       "<style scoped>\n",
       "    .dataframe tbody tr th:only-of-type {\n",
       "        vertical-align: middle;\n",
       "    }\n",
       "\n",
       "    .dataframe tbody tr th {\n",
       "        vertical-align: top;\n",
       "    }\n",
       "\n",
       "    .dataframe thead th {\n",
       "        text-align: right;\n",
       "    }\n",
       "</style>\n",
       "<table border=\"1\" class=\"dataframe\">\n",
       "  <thead>\n",
       "    <tr style=\"text-align: right;\">\n",
       "      <th></th>\n",
       "      <th>Text</th>\n",
       "      <th>Researches</th>\n",
       "      <th>Statistic</th>\n",
       "      <th>Social_medium</th>\n",
       "      <th>Politic</th>\n",
       "      <th>Democracy</th>\n",
       "      <th>Dominant_Topic</th>\n",
       "      <th>Perc_Dominant_Topic</th>\n",
       "    </tr>\n",
       "  </thead>\n",
       "  <tbody>\n",
       "    <tr>\n",
       "      <th>0</th>\n",
       "      <td>statistic datum apply statistic scientific ind...</td>\n",
       "      <td>0.000373</td>\n",
       "      <td>0.998513</td>\n",
       "      <td>0.000371</td>\n",
       "      <td>0.000370</td>\n",
       "      <td>0.000373</td>\n",
       "      <td>Statistic</td>\n",
       "      <td>1.0</td>\n",
       "    </tr>\n",
       "    <tr>\n",
       "      <th>1</th>\n",
       "      <td>today statistic widely employ government busin...</td>\n",
       "      <td>0.000649</td>\n",
       "      <td>0.997409</td>\n",
       "      <td>0.000649</td>\n",
       "      <td>0.000648</td>\n",
       "      <td>0.000646</td>\n",
       "      <td>Statistic</td>\n",
       "      <td>1.0</td>\n",
       "    </tr>\n",
       "    <tr>\n",
       "      <th>2</th>\n",
       "      <td>sample mathematical discipline probability the...</td>\n",
       "      <td>0.000343</td>\n",
       "      <td>0.998632</td>\n",
       "      <td>0.000342</td>\n",
       "      <td>0.000341</td>\n",
       "      <td>0.000341</td>\n",
       "      <td>Statistic</td>\n",
       "      <td>1.0</td>\n",
       "    </tr>\n",
       "    <tr>\n",
       "      <th>3</th>\n",
       "      <td>statistic random variable function random samp...</td>\n",
       "      <td>0.000364</td>\n",
       "      <td>0.998544</td>\n",
       "      <td>0.000364</td>\n",
       "      <td>0.000363</td>\n",
       "      <td>0.000365</td>\n",
       "      <td>Statistic</td>\n",
       "      <td>1.0</td>\n",
       "    </tr>\n",
       "    <tr>\n",
       "      <th>4</th>\n",
       "      <td>critical region set value estimator lead refut...</td>\n",
       "      <td>0.000507</td>\n",
       "      <td>0.997987</td>\n",
       "      <td>0.000504</td>\n",
       "      <td>0.000500</td>\n",
       "      <td>0.000502</td>\n",
       "      <td>Statistic</td>\n",
       "      <td>1.0</td>\n",
       "    </tr>\n",
       "    <tr>\n",
       "      <th>5</th>\n",
       "      <td>comprise descriptive_statistics application in...</td>\n",
       "      <td>0.000830</td>\n",
       "      <td>0.996685</td>\n",
       "      <td>0.000835</td>\n",
       "      <td>0.000822</td>\n",
       "      <td>0.000827</td>\n",
       "      <td>Statistic</td>\n",
       "      <td>1.0</td>\n",
       "    </tr>\n",
       "    <tr>\n",
       "      <th>6</th>\n",
       "      <td>statistic also heavily use management accounti...</td>\n",
       "      <td>0.001114</td>\n",
       "      <td>0.995563</td>\n",
       "      <td>0.001123</td>\n",
       "      <td>0.001096</td>\n",
       "      <td>0.001103</td>\n",
       "      <td>Statistic</td>\n",
       "      <td>1.0</td>\n",
       "    </tr>\n",
       "    <tr>\n",
       "      <th>7</th>\n",
       "      <td>social medium interactive technology allow cre...</td>\n",
       "      <td>0.000289</td>\n",
       "      <td>0.000288</td>\n",
       "      <td>0.998851</td>\n",
       "      <td>0.000285</td>\n",
       "      <td>0.000287</td>\n",
       "      <td>Social_medium</td>\n",
       "      <td>1.0</td>\n",
       "    </tr>\n",
       "    <tr>\n",
       "      <th>8</th>\n",
       "      <td>mobile social medium useful application mobile...</td>\n",
       "      <td>0.000103</td>\n",
       "      <td>0.000102</td>\n",
       "      <td>0.999592</td>\n",
       "      <td>0.000101</td>\n",
       "      <td>0.000102</td>\n",
       "      <td>Social_medium</td>\n",
       "      <td>1.0</td>\n",
       "    </tr>\n",
       "    <tr>\n",
       "      <th>9</th>\n",
       "      <td>scientist use social medium share scientific k...</td>\n",
       "      <td>0.999619</td>\n",
       "      <td>0.000095</td>\n",
       "      <td>0.000096</td>\n",
       "      <td>0.000095</td>\n",
       "      <td>0.000095</td>\n",
       "      <td>Researches</td>\n",
       "      <td>1.0</td>\n",
       "    </tr>\n",
       "    <tr>\n",
       "      <th>10</th>\n",
       "      <td>presidential observe echo chamber effect selec...</td>\n",
       "      <td>0.999620</td>\n",
       "      <td>0.000095</td>\n",
       "      <td>0.000096</td>\n",
       "      <td>0.000094</td>\n",
       "      <td>0.000095</td>\n",
       "      <td>Researches</td>\n",
       "      <td>1.0</td>\n",
       "    </tr>\n",
       "  </tbody>\n",
       "</table>\n",
       "</div>"
      ],
      "text/plain": [
       "                                                 Text  Researches  Statistic  \\\n",
       "0   statistic datum apply statistic scientific ind...    0.000373   0.998513   \n",
       "1   today statistic widely employ government busin...    0.000649   0.997409   \n",
       "2   sample mathematical discipline probability the...    0.000343   0.998632   \n",
       "3   statistic random variable function random samp...    0.000364   0.998544   \n",
       "4   critical region set value estimator lead refut...    0.000507   0.997987   \n",
       "5   comprise descriptive_statistics application in...    0.000830   0.996685   \n",
       "6   statistic also heavily use management accounti...    0.001114   0.995563   \n",
       "7   social medium interactive technology allow cre...    0.000289   0.000288   \n",
       "8   mobile social medium useful application mobile...    0.000103   0.000102   \n",
       "9   scientist use social medium share scientific k...    0.999619   0.000095   \n",
       "10  presidential observe echo chamber effect selec...    0.999620   0.000095   \n",
       "\n",
       "    Social_medium   Politic  Democracy Dominant_Topic  Perc_Dominant_Topic  \n",
       "0        0.000371  0.000370   0.000373      Statistic                  1.0  \n",
       "1        0.000649  0.000648   0.000646      Statistic                  1.0  \n",
       "2        0.000342  0.000341   0.000341      Statistic                  1.0  \n",
       "3        0.000364  0.000363   0.000365      Statistic                  1.0  \n",
       "4        0.000504  0.000500   0.000502      Statistic                  1.0  \n",
       "5        0.000835  0.000822   0.000827      Statistic                  1.0  \n",
       "6        0.001123  0.001096   0.001103      Statistic                  1.0  \n",
       "7        0.998851  0.000285   0.000287  Social_medium                  1.0  \n",
       "8        0.999592  0.000101   0.000102  Social_medium                  1.0  \n",
       "9        0.000096  0.000095   0.000095     Researches                  1.0  \n",
       "10       0.000096  0.000094   0.000095     Researches                  1.0  "
      ]
     },
     "execution_count": 10,
     "metadata": {},
     "output_type": "execute_result"
    }
   ],
   "source": [
    "data=df1.replace(('Topic 0','Topic 1','Topic 2','Topic 3','Topic 4'),('Researches','Statistic','Social_medium','Politic','Democracy'))\n",
    "data.head(11)"
   ]
  },
  {
   "cell_type": "code",
   "execution_count": 11,
   "metadata": {},
   "outputs": [
    {
     "name": "stdout",
     "output_type": "stream",
     "text": [
      "<class 'pandas.core.frame.DataFrame'>\n",
      "RangeIndex: 19 entries, 0 to 18\n",
      "Data columns (total 8 columns):\n",
      " #   Column               Non-Null Count  Dtype  \n",
      "---  ------               --------------  -----  \n",
      " 0   Text                 19 non-null     object \n",
      " 1   Researches           19 non-null     float64\n",
      " 2   Statistic            19 non-null     float64\n",
      " 3   Social_medium        19 non-null     float64\n",
      " 4   Politic              19 non-null     float64\n",
      " 5   Democracy            19 non-null     float64\n",
      " 6   Dominant_Topic       19 non-null     object \n",
      " 7   Perc_Dominant_Topic  19 non-null     float64\n",
      "dtypes: float64(6), object(2)\n",
      "memory usage: 1.3+ KB\n"
     ]
    }
   ],
   "source": [
    "data.info()"
   ]
  },
  {
   "cell_type": "markdown",
   "metadata": {
    "id": "xOERDMHyGLmp"
   },
   "source": [
    "## **Plot a Model**"
   ]
  },
  {
   "cell_type": "code",
   "execution_count": 12,
   "metadata": {
    "colab": {
     "base_uri": "https://localhost:8080/",
     "height": 542
    },
    "id": "wgmLNc2BC_vT",
    "outputId": "d73f4f5b-b3ac-4d35-951b-e5b1ec53f9f6"
   },
   "outputs": [
    {
     "data": {
      "text/html": [
       "        <script type=\"text/javascript\">\n",
       "        window.PlotlyConfig = {MathJaxConfig: 'local'};\n",
       "        if (window.MathJax) {MathJax.Hub.Config({SVG: {font: \"STIX-Web\"}});}\n",
       "        if (typeof require !== 'undefined') {\n",
       "        require.undef(\"plotly\");\n",
       "        requirejs.config({\n",
       "            paths: {\n",
       "                'plotly': ['https://cdn.plot.ly/plotly-2.2.0.min']\n",
       "            }\n",
       "        });\n",
       "        require(['plotly'], function(Plotly) {\n",
       "            window._Plotly = Plotly;\n",
       "        });\n",
       "        }\n",
       "        </script>\n",
       "        "
      ]
     },
     "metadata": {},
     "output_type": "display_data"
    },
    {
     "data": {
      "application/vnd.plotly.v1+json": {
       "config": {
        "linkText": "Export to plot.ly",
        "plotlyServerURL": "https://plot.ly",
        "showLink": true
       },
       "data": [
        {
         "marker": {
          "color": "rgba(255, 153, 51, 0.6)",
          "line": {
           "color": "rgba(255, 153, 51, 1.0)",
           "width": 1
          }
         },
         "name": "count",
         "orientation": "v",
         "text": "",
         "type": "bar",
         "x": [
          "social medium",
          "use social",
          "medium platform",
          "political system",
          "medium use",
          "medium site",
          "social networking",
          "medium user",
          "social network",
          "medium marketing",
          "statistical method",
          "nation state",
          "political culture",
          "political party",
          "news medium",
          "study find",
          "medium service",
          "political polarization",
          "increase political",
          "unknown parameter",
          "content social",
          "also know",
          "may also",
          "people use",
          "probability distribution",
          "year old",
          "medium also",
          "networking service",
          "medium post",
          "user social",
          "medium become",
          "use hashtag",
          "state formation",
          "common sense",
          "third party",
          "statistical inference",
          "probability theory",
          "medium example",
          "networking site",
          "medium social",
          "form government",
          "observational study",
          "personal information",
          "inferential statistic",
          "people live",
          "political philosophy",
          "sense medium",
          "wide range",
          "video platform",
          "use datum",
          "statistical significance",
          "statistical analysis",
          "stateless society",
          "political science",
          "sleep disturbance",
          "law enforcement",
          "right wing",
          "effect social",
          "random variable",
          "many social",
          "expect value",
          "age find",
          "example social",
          "alternative hypothesis",
          "collective memory",
          "confidence interval",
          "datum type",
          "datum collect",
          "design experiment",
          "datum analysis",
          "include use",
          "decision make",
          "group people",
          "form social",
          "data set",
          "young people",
          "mathematical statistic",
          "medium account",
          "weight loss",
          "use twitter",
          "use statistical",
          "type error",
          "twitter user",
          "survey find",
          "study involve",
          "statistical model",
          "standard deviation",
          "selective exposure",
          "sample population",
          "rise social",
          "promote product",
          "post social",
          "popular social",
          "political belief",
          "number people",
          "mobile social",
          "misuse statistic",
          "medium tool",
          "medium outlet",
          "activitie social"
         ],
         "y": [
          333,
          51,
          27,
          18,
          17,
          15,
          14,
          11,
          10,
          9,
          9,
          8,
          8,
          8,
          7,
          7,
          7,
          7,
          7,
          7,
          6,
          6,
          6,
          6,
          6,
          6,
          6,
          6,
          6,
          6,
          6,
          6,
          6,
          6,
          6,
          6,
          6,
          5,
          5,
          5,
          5,
          5,
          5,
          5,
          5,
          5,
          5,
          5,
          5,
          5,
          5,
          5,
          5,
          5,
          5,
          5,
          5,
          5,
          5,
          4,
          4,
          4,
          4,
          4,
          4,
          4,
          4,
          4,
          4,
          4,
          4,
          4,
          4,
          4,
          4,
          4,
          4,
          4,
          4,
          4,
          4,
          4,
          4,
          4,
          4,
          4,
          4,
          4,
          4,
          4,
          4,
          4,
          4,
          4,
          4,
          4,
          4,
          4,
          4,
          4
         ]
        }
       ],
       "layout": {
        "legend": {
         "bgcolor": "#F5F6F9",
         "font": {
          "color": "#4D5663"
         }
        },
        "paper_bgcolor": "#F5F6F9",
        "plot_bgcolor": "#F5F6F9",
        "template": {
         "data": {
          "bar": [
           {
            "error_x": {
             "color": "#2a3f5f"
            },
            "error_y": {
             "color": "#2a3f5f"
            },
            "marker": {
             "line": {
              "color": "#E5ECF6",
              "width": 0.5
             },
             "pattern": {
              "fillmode": "overlay",
              "size": 10,
              "solidity": 0.2
             }
            },
            "type": "bar"
           }
          ],
          "barpolar": [
           {
            "marker": {
             "line": {
              "color": "#E5ECF6",
              "width": 0.5
             },
             "pattern": {
              "fillmode": "overlay",
              "size": 10,
              "solidity": 0.2
             }
            },
            "type": "barpolar"
           }
          ],
          "carpet": [
           {
            "aaxis": {
             "endlinecolor": "#2a3f5f",
             "gridcolor": "white",
             "linecolor": "white",
             "minorgridcolor": "white",
             "startlinecolor": "#2a3f5f"
            },
            "baxis": {
             "endlinecolor": "#2a3f5f",
             "gridcolor": "white",
             "linecolor": "white",
             "minorgridcolor": "white",
             "startlinecolor": "#2a3f5f"
            },
            "type": "carpet"
           }
          ],
          "choropleth": [
           {
            "colorbar": {
             "outlinewidth": 0,
             "ticks": ""
            },
            "type": "choropleth"
           }
          ],
          "contour": [
           {
            "colorbar": {
             "outlinewidth": 0,
             "ticks": ""
            },
            "colorscale": [
             [
              0,
              "#0d0887"
             ],
             [
              0.1111111111111111,
              "#46039f"
             ],
             [
              0.2222222222222222,
              "#7201a8"
             ],
             [
              0.3333333333333333,
              "#9c179e"
             ],
             [
              0.4444444444444444,
              "#bd3786"
             ],
             [
              0.5555555555555556,
              "#d8576b"
             ],
             [
              0.6666666666666666,
              "#ed7953"
             ],
             [
              0.7777777777777778,
              "#fb9f3a"
             ],
             [
              0.8888888888888888,
              "#fdca26"
             ],
             [
              1,
              "#f0f921"
             ]
            ],
            "type": "contour"
           }
          ],
          "contourcarpet": [
           {
            "colorbar": {
             "outlinewidth": 0,
             "ticks": ""
            },
            "type": "contourcarpet"
           }
          ],
          "heatmap": [
           {
            "colorbar": {
             "outlinewidth": 0,
             "ticks": ""
            },
            "colorscale": [
             [
              0,
              "#0d0887"
             ],
             [
              0.1111111111111111,
              "#46039f"
             ],
             [
              0.2222222222222222,
              "#7201a8"
             ],
             [
              0.3333333333333333,
              "#9c179e"
             ],
             [
              0.4444444444444444,
              "#bd3786"
             ],
             [
              0.5555555555555556,
              "#d8576b"
             ],
             [
              0.6666666666666666,
              "#ed7953"
             ],
             [
              0.7777777777777778,
              "#fb9f3a"
             ],
             [
              0.8888888888888888,
              "#fdca26"
             ],
             [
              1,
              "#f0f921"
             ]
            ],
            "type": "heatmap"
           }
          ],
          "heatmapgl": [
           {
            "colorbar": {
             "outlinewidth": 0,
             "ticks": ""
            },
            "colorscale": [
             [
              0,
              "#0d0887"
             ],
             [
              0.1111111111111111,
              "#46039f"
             ],
             [
              0.2222222222222222,
              "#7201a8"
             ],
             [
              0.3333333333333333,
              "#9c179e"
             ],
             [
              0.4444444444444444,
              "#bd3786"
             ],
             [
              0.5555555555555556,
              "#d8576b"
             ],
             [
              0.6666666666666666,
              "#ed7953"
             ],
             [
              0.7777777777777778,
              "#fb9f3a"
             ],
             [
              0.8888888888888888,
              "#fdca26"
             ],
             [
              1,
              "#f0f921"
             ]
            ],
            "type": "heatmapgl"
           }
          ],
          "histogram": [
           {
            "marker": {
             "pattern": {
              "fillmode": "overlay",
              "size": 10,
              "solidity": 0.2
             }
            },
            "type": "histogram"
           }
          ],
          "histogram2d": [
           {
            "colorbar": {
             "outlinewidth": 0,
             "ticks": ""
            },
            "colorscale": [
             [
              0,
              "#0d0887"
             ],
             [
              0.1111111111111111,
              "#46039f"
             ],
             [
              0.2222222222222222,
              "#7201a8"
             ],
             [
              0.3333333333333333,
              "#9c179e"
             ],
             [
              0.4444444444444444,
              "#bd3786"
             ],
             [
              0.5555555555555556,
              "#d8576b"
             ],
             [
              0.6666666666666666,
              "#ed7953"
             ],
             [
              0.7777777777777778,
              "#fb9f3a"
             ],
             [
              0.8888888888888888,
              "#fdca26"
             ],
             [
              1,
              "#f0f921"
             ]
            ],
            "type": "histogram2d"
           }
          ],
          "histogram2dcontour": [
           {
            "colorbar": {
             "outlinewidth": 0,
             "ticks": ""
            },
            "colorscale": [
             [
              0,
              "#0d0887"
             ],
             [
              0.1111111111111111,
              "#46039f"
             ],
             [
              0.2222222222222222,
              "#7201a8"
             ],
             [
              0.3333333333333333,
              "#9c179e"
             ],
             [
              0.4444444444444444,
              "#bd3786"
             ],
             [
              0.5555555555555556,
              "#d8576b"
             ],
             [
              0.6666666666666666,
              "#ed7953"
             ],
             [
              0.7777777777777778,
              "#fb9f3a"
             ],
             [
              0.8888888888888888,
              "#fdca26"
             ],
             [
              1,
              "#f0f921"
             ]
            ],
            "type": "histogram2dcontour"
           }
          ],
          "mesh3d": [
           {
            "colorbar": {
             "outlinewidth": 0,
             "ticks": ""
            },
            "type": "mesh3d"
           }
          ],
          "parcoords": [
           {
            "line": {
             "colorbar": {
              "outlinewidth": 0,
              "ticks": ""
             }
            },
            "type": "parcoords"
           }
          ],
          "pie": [
           {
            "automargin": true,
            "type": "pie"
           }
          ],
          "scatter": [
           {
            "marker": {
             "colorbar": {
              "outlinewidth": 0,
              "ticks": ""
             }
            },
            "type": "scatter"
           }
          ],
          "scatter3d": [
           {
            "line": {
             "colorbar": {
              "outlinewidth": 0,
              "ticks": ""
             }
            },
            "marker": {
             "colorbar": {
              "outlinewidth": 0,
              "ticks": ""
             }
            },
            "type": "scatter3d"
           }
          ],
          "scattercarpet": [
           {
            "marker": {
             "colorbar": {
              "outlinewidth": 0,
              "ticks": ""
             }
            },
            "type": "scattercarpet"
           }
          ],
          "scattergeo": [
           {
            "marker": {
             "colorbar": {
              "outlinewidth": 0,
              "ticks": ""
             }
            },
            "type": "scattergeo"
           }
          ],
          "scattergl": [
           {
            "marker": {
             "colorbar": {
              "outlinewidth": 0,
              "ticks": ""
             }
            },
            "type": "scattergl"
           }
          ],
          "scattermapbox": [
           {
            "marker": {
             "colorbar": {
              "outlinewidth": 0,
              "ticks": ""
             }
            },
            "type": "scattermapbox"
           }
          ],
          "scatterpolar": [
           {
            "marker": {
             "colorbar": {
              "outlinewidth": 0,
              "ticks": ""
             }
            },
            "type": "scatterpolar"
           }
          ],
          "scatterpolargl": [
           {
            "marker": {
             "colorbar": {
              "outlinewidth": 0,
              "ticks": ""
             }
            },
            "type": "scatterpolargl"
           }
          ],
          "scatterternary": [
           {
            "marker": {
             "colorbar": {
              "outlinewidth": 0,
              "ticks": ""
             }
            },
            "type": "scatterternary"
           }
          ],
          "surface": [
           {
            "colorbar": {
             "outlinewidth": 0,
             "ticks": ""
            },
            "colorscale": [
             [
              0,
              "#0d0887"
             ],
             [
              0.1111111111111111,
              "#46039f"
             ],
             [
              0.2222222222222222,
              "#7201a8"
             ],
             [
              0.3333333333333333,
              "#9c179e"
             ],
             [
              0.4444444444444444,
              "#bd3786"
             ],
             [
              0.5555555555555556,
              "#d8576b"
             ],
             [
              0.6666666666666666,
              "#ed7953"
             ],
             [
              0.7777777777777778,
              "#fb9f3a"
             ],
             [
              0.8888888888888888,
              "#fdca26"
             ],
             [
              1,
              "#f0f921"
             ]
            ],
            "type": "surface"
           }
          ],
          "table": [
           {
            "cells": {
             "fill": {
              "color": "#EBF0F8"
             },
             "line": {
              "color": "white"
             }
            },
            "header": {
             "fill": {
              "color": "#C8D4E3"
             },
             "line": {
              "color": "white"
             }
            },
            "type": "table"
           }
          ]
         },
         "layout": {
          "annotationdefaults": {
           "arrowcolor": "#2a3f5f",
           "arrowhead": 0,
           "arrowwidth": 1
          },
          "autotypenumbers": "strict",
          "coloraxis": {
           "colorbar": {
            "outlinewidth": 0,
            "ticks": ""
           }
          },
          "colorscale": {
           "diverging": [
            [
             0,
             "#8e0152"
            ],
            [
             0.1,
             "#c51b7d"
            ],
            [
             0.2,
             "#de77ae"
            ],
            [
             0.3,
             "#f1b6da"
            ],
            [
             0.4,
             "#fde0ef"
            ],
            [
             0.5,
             "#f7f7f7"
            ],
            [
             0.6,
             "#e6f5d0"
            ],
            [
             0.7,
             "#b8e186"
            ],
            [
             0.8,
             "#7fbc41"
            ],
            [
             0.9,
             "#4d9221"
            ],
            [
             1,
             "#276419"
            ]
           ],
           "sequential": [
            [
             0,
             "#0d0887"
            ],
            [
             0.1111111111111111,
             "#46039f"
            ],
            [
             0.2222222222222222,
             "#7201a8"
            ],
            [
             0.3333333333333333,
             "#9c179e"
            ],
            [
             0.4444444444444444,
             "#bd3786"
            ],
            [
             0.5555555555555556,
             "#d8576b"
            ],
            [
             0.6666666666666666,
             "#ed7953"
            ],
            [
             0.7777777777777778,
             "#fb9f3a"
            ],
            [
             0.8888888888888888,
             "#fdca26"
            ],
            [
             1,
             "#f0f921"
            ]
           ],
           "sequentialminus": [
            [
             0,
             "#0d0887"
            ],
            [
             0.1111111111111111,
             "#46039f"
            ],
            [
             0.2222222222222222,
             "#7201a8"
            ],
            [
             0.3333333333333333,
             "#9c179e"
            ],
            [
             0.4444444444444444,
             "#bd3786"
            ],
            [
             0.5555555555555556,
             "#d8576b"
            ],
            [
             0.6666666666666666,
             "#ed7953"
            ],
            [
             0.7777777777777778,
             "#fb9f3a"
            ],
            [
             0.8888888888888888,
             "#fdca26"
            ],
            [
             1,
             "#f0f921"
            ]
           ]
          },
          "colorway": [
           "#636efa",
           "#EF553B",
           "#00cc96",
           "#ab63fa",
           "#FFA15A",
           "#19d3f3",
           "#FF6692",
           "#B6E880",
           "#FF97FF",
           "#FECB52"
          ],
          "font": {
           "color": "#2a3f5f"
          },
          "geo": {
           "bgcolor": "white",
           "lakecolor": "white",
           "landcolor": "#E5ECF6",
           "showlakes": true,
           "showland": true,
           "subunitcolor": "white"
          },
          "hoverlabel": {
           "align": "left"
          },
          "hovermode": "closest",
          "mapbox": {
           "style": "light"
          },
          "paper_bgcolor": "white",
          "plot_bgcolor": "#E5ECF6",
          "polar": {
           "angularaxis": {
            "gridcolor": "white",
            "linecolor": "white",
            "ticks": ""
           },
           "bgcolor": "#E5ECF6",
           "radialaxis": {
            "gridcolor": "white",
            "linecolor": "white",
            "ticks": ""
           }
          },
          "scene": {
           "xaxis": {
            "backgroundcolor": "#E5ECF6",
            "gridcolor": "white",
            "gridwidth": 2,
            "linecolor": "white",
            "showbackground": true,
            "ticks": "",
            "zerolinecolor": "white"
           },
           "yaxis": {
            "backgroundcolor": "#E5ECF6",
            "gridcolor": "white",
            "gridwidth": 2,
            "linecolor": "white",
            "showbackground": true,
            "ticks": "",
            "zerolinecolor": "white"
           },
           "zaxis": {
            "backgroundcolor": "#E5ECF6",
            "gridcolor": "white",
            "gridwidth": 2,
            "linecolor": "white",
            "showbackground": true,
            "ticks": "",
            "zerolinecolor": "white"
           }
          },
          "shapedefaults": {
           "line": {
            "color": "#2a3f5f"
           }
          },
          "ternary": {
           "aaxis": {
            "gridcolor": "white",
            "linecolor": "white",
            "ticks": ""
           },
           "baxis": {
            "gridcolor": "white",
            "linecolor": "white",
            "ticks": ""
           },
           "bgcolor": "#E5ECF6",
           "caxis": {
            "gridcolor": "white",
            "linecolor": "white",
            "ticks": ""
           }
          },
          "title": {
           "x": 0.05
          },
          "xaxis": {
           "automargin": true,
           "gridcolor": "white",
           "linecolor": "white",
           "ticks": "",
           "title": {
            "standoff": 15
           },
           "zerolinecolor": "white",
           "zerolinewidth": 2
          },
          "yaxis": {
           "automargin": true,
           "gridcolor": "white",
           "linecolor": "white",
           "ticks": "",
           "title": {
            "standoff": 15
           },
           "zerolinecolor": "white",
           "zerolinewidth": 2
          }
         }
        },
        "title": {
         "font": {
          "color": "#4D5663"
         },
         "text": "Top 100 bigrams after removing stop words"
        },
        "xaxis": {
         "gridcolor": "#E1E5ED",
         "linecolor": "black",
         "showgrid": true,
         "tickfont": {
          "color": "#4D5663"
         },
         "title": {
          "font": {
           "color": "#4D5663"
          },
          "text": ""
         },
         "zerolinecolor": "#E1E5ED"
        },
        "yaxis": {
         "gridcolor": "#E1E5ED",
         "linecolor": "black",
         "showgrid": true,
         "tickfont": {
          "color": "#4D5663"
         },
         "title": {
          "font": {
           "color": "#4D5663"
          },
          "text": "Count"
         },
         "zerolinecolor": "#E1E5ED"
        }
       }
      },
      "text/html": [
       "<div>                            <div id=\"53486e51-6435-415a-a4d0-baca841ac9ea\" class=\"plotly-graph-div\" style=\"height:525px; width:100%;\"></div>            <script type=\"text/javascript\">                require([\"plotly\"], function(Plotly) {                    window.PLOTLYENV=window.PLOTLYENV || {};\n",
       "                    window.PLOTLYENV.BASE_URL='https://plot.ly';                                    if (document.getElementById(\"53486e51-6435-415a-a4d0-baca841ac9ea\")) {                    Plotly.newPlot(                        \"53486e51-6435-415a-a4d0-baca841ac9ea\",                        [{\"marker\":{\"color\":\"rgba(255, 153, 51, 0.6)\",\"line\":{\"color\":\"rgba(255, 153, 51, 1.0)\",\"width\":1}},\"name\":\"count\",\"orientation\":\"v\",\"text\":\"\",\"type\":\"bar\",\"x\":[\"social medium\",\"use social\",\"medium platform\",\"political system\",\"medium use\",\"medium site\",\"social networking\",\"medium user\",\"social network\",\"medium marketing\",\"statistical method\",\"nation state\",\"political culture\",\"political party\",\"news medium\",\"study find\",\"medium service\",\"political polarization\",\"increase political\",\"unknown parameter\",\"content social\",\"also know\",\"may also\",\"people use\",\"probability distribution\",\"year old\",\"medium also\",\"networking service\",\"medium post\",\"user social\",\"medium become\",\"use hashtag\",\"state formation\",\"common sense\",\"third party\",\"statistical inference\",\"probability theory\",\"medium example\",\"networking site\",\"medium social\",\"form government\",\"observational study\",\"personal information\",\"inferential statistic\",\"people live\",\"political philosophy\",\"sense medium\",\"wide range\",\"video platform\",\"use datum\",\"statistical significance\",\"statistical analysis\",\"stateless society\",\"political science\",\"sleep disturbance\",\"law enforcement\",\"right wing\",\"effect social\",\"random variable\",\"many social\",\"expect value\",\"age find\",\"example social\",\"alternative hypothesis\",\"collective memory\",\"confidence interval\",\"datum type\",\"datum collect\",\"design experiment\",\"datum analysis\",\"include use\",\"decision make\",\"group people\",\"form social\",\"data set\",\"young people\",\"mathematical statistic\",\"medium account\",\"weight loss\",\"use twitter\",\"use statistical\",\"type error\",\"twitter user\",\"survey find\",\"study involve\",\"statistical model\",\"standard deviation\",\"selective exposure\",\"sample population\",\"rise social\",\"promote product\",\"post social\",\"popular social\",\"political belief\",\"number people\",\"mobile social\",\"misuse statistic\",\"medium tool\",\"medium outlet\",\"activitie social\"],\"y\":[333,51,27,18,17,15,14,11,10,9,9,8,8,8,7,7,7,7,7,7,6,6,6,6,6,6,6,6,6,6,6,6,6,6,6,6,6,5,5,5,5,5,5,5,5,5,5,5,5,5,5,5,5,5,5,5,5,5,5,4,4,4,4,4,4,4,4,4,4,4,4,4,4,4,4,4,4,4,4,4,4,4,4,4,4,4,4,4,4,4,4,4,4,4,4,4,4,4,4,4]}],                        {\"legend\":{\"bgcolor\":\"#F5F6F9\",\"font\":{\"color\":\"#4D5663\"}},\"paper_bgcolor\":\"#F5F6F9\",\"plot_bgcolor\":\"#F5F6F9\",\"template\":{\"data\":{\"bar\":[{\"error_x\":{\"color\":\"#2a3f5f\"},\"error_y\":{\"color\":\"#2a3f5f\"},\"marker\":{\"line\":{\"color\":\"#E5ECF6\",\"width\":0.5},\"pattern\":{\"fillmode\":\"overlay\",\"size\":10,\"solidity\":0.2}},\"type\":\"bar\"}],\"barpolar\":[{\"marker\":{\"line\":{\"color\":\"#E5ECF6\",\"width\":0.5},\"pattern\":{\"fillmode\":\"overlay\",\"size\":10,\"solidity\":0.2}},\"type\":\"barpolar\"}],\"carpet\":[{\"aaxis\":{\"endlinecolor\":\"#2a3f5f\",\"gridcolor\":\"white\",\"linecolor\":\"white\",\"minorgridcolor\":\"white\",\"startlinecolor\":\"#2a3f5f\"},\"baxis\":{\"endlinecolor\":\"#2a3f5f\",\"gridcolor\":\"white\",\"linecolor\":\"white\",\"minorgridcolor\":\"white\",\"startlinecolor\":\"#2a3f5f\"},\"type\":\"carpet\"}],\"choropleth\":[{\"colorbar\":{\"outlinewidth\":0,\"ticks\":\"\"},\"type\":\"choropleth\"}],\"contour\":[{\"colorbar\":{\"outlinewidth\":0,\"ticks\":\"\"},\"colorscale\":[[0.0,\"#0d0887\"],[0.1111111111111111,\"#46039f\"],[0.2222222222222222,\"#7201a8\"],[0.3333333333333333,\"#9c179e\"],[0.4444444444444444,\"#bd3786\"],[0.5555555555555556,\"#d8576b\"],[0.6666666666666666,\"#ed7953\"],[0.7777777777777778,\"#fb9f3a\"],[0.8888888888888888,\"#fdca26\"],[1.0,\"#f0f921\"]],\"type\":\"contour\"}],\"contourcarpet\":[{\"colorbar\":{\"outlinewidth\":0,\"ticks\":\"\"},\"type\":\"contourcarpet\"}],\"heatmap\":[{\"colorbar\":{\"outlinewidth\":0,\"ticks\":\"\"},\"colorscale\":[[0.0,\"#0d0887\"],[0.1111111111111111,\"#46039f\"],[0.2222222222222222,\"#7201a8\"],[0.3333333333333333,\"#9c179e\"],[0.4444444444444444,\"#bd3786\"],[0.5555555555555556,\"#d8576b\"],[0.6666666666666666,\"#ed7953\"],[0.7777777777777778,\"#fb9f3a\"],[0.8888888888888888,\"#fdca26\"],[1.0,\"#f0f921\"]],\"type\":\"heatmap\"}],\"heatmapgl\":[{\"colorbar\":{\"outlinewidth\":0,\"ticks\":\"\"},\"colorscale\":[[0.0,\"#0d0887\"],[0.1111111111111111,\"#46039f\"],[0.2222222222222222,\"#7201a8\"],[0.3333333333333333,\"#9c179e\"],[0.4444444444444444,\"#bd3786\"],[0.5555555555555556,\"#d8576b\"],[0.6666666666666666,\"#ed7953\"],[0.7777777777777778,\"#fb9f3a\"],[0.8888888888888888,\"#fdca26\"],[1.0,\"#f0f921\"]],\"type\":\"heatmapgl\"}],\"histogram\":[{\"marker\":{\"pattern\":{\"fillmode\":\"overlay\",\"size\":10,\"solidity\":0.2}},\"type\":\"histogram\"}],\"histogram2d\":[{\"colorbar\":{\"outlinewidth\":0,\"ticks\":\"\"},\"colorscale\":[[0.0,\"#0d0887\"],[0.1111111111111111,\"#46039f\"],[0.2222222222222222,\"#7201a8\"],[0.3333333333333333,\"#9c179e\"],[0.4444444444444444,\"#bd3786\"],[0.5555555555555556,\"#d8576b\"],[0.6666666666666666,\"#ed7953\"],[0.7777777777777778,\"#fb9f3a\"],[0.8888888888888888,\"#fdca26\"],[1.0,\"#f0f921\"]],\"type\":\"histogram2d\"}],\"histogram2dcontour\":[{\"colorbar\":{\"outlinewidth\":0,\"ticks\":\"\"},\"colorscale\":[[0.0,\"#0d0887\"],[0.1111111111111111,\"#46039f\"],[0.2222222222222222,\"#7201a8\"],[0.3333333333333333,\"#9c179e\"],[0.4444444444444444,\"#bd3786\"],[0.5555555555555556,\"#d8576b\"],[0.6666666666666666,\"#ed7953\"],[0.7777777777777778,\"#fb9f3a\"],[0.8888888888888888,\"#fdca26\"],[1.0,\"#f0f921\"]],\"type\":\"histogram2dcontour\"}],\"mesh3d\":[{\"colorbar\":{\"outlinewidth\":0,\"ticks\":\"\"},\"type\":\"mesh3d\"}],\"parcoords\":[{\"line\":{\"colorbar\":{\"outlinewidth\":0,\"ticks\":\"\"}},\"type\":\"parcoords\"}],\"pie\":[{\"automargin\":true,\"type\":\"pie\"}],\"scatter\":[{\"marker\":{\"colorbar\":{\"outlinewidth\":0,\"ticks\":\"\"}},\"type\":\"scatter\"}],\"scatter3d\":[{\"line\":{\"colorbar\":{\"outlinewidth\":0,\"ticks\":\"\"}},\"marker\":{\"colorbar\":{\"outlinewidth\":0,\"ticks\":\"\"}},\"type\":\"scatter3d\"}],\"scattercarpet\":[{\"marker\":{\"colorbar\":{\"outlinewidth\":0,\"ticks\":\"\"}},\"type\":\"scattercarpet\"}],\"scattergeo\":[{\"marker\":{\"colorbar\":{\"outlinewidth\":0,\"ticks\":\"\"}},\"type\":\"scattergeo\"}],\"scattergl\":[{\"marker\":{\"colorbar\":{\"outlinewidth\":0,\"ticks\":\"\"}},\"type\":\"scattergl\"}],\"scattermapbox\":[{\"marker\":{\"colorbar\":{\"outlinewidth\":0,\"ticks\":\"\"}},\"type\":\"scattermapbox\"}],\"scatterpolar\":[{\"marker\":{\"colorbar\":{\"outlinewidth\":0,\"ticks\":\"\"}},\"type\":\"scatterpolar\"}],\"scatterpolargl\":[{\"marker\":{\"colorbar\":{\"outlinewidth\":0,\"ticks\":\"\"}},\"type\":\"scatterpolargl\"}],\"scatterternary\":[{\"marker\":{\"colorbar\":{\"outlinewidth\":0,\"ticks\":\"\"}},\"type\":\"scatterternary\"}],\"surface\":[{\"colorbar\":{\"outlinewidth\":0,\"ticks\":\"\"},\"colorscale\":[[0.0,\"#0d0887\"],[0.1111111111111111,\"#46039f\"],[0.2222222222222222,\"#7201a8\"],[0.3333333333333333,\"#9c179e\"],[0.4444444444444444,\"#bd3786\"],[0.5555555555555556,\"#d8576b\"],[0.6666666666666666,\"#ed7953\"],[0.7777777777777778,\"#fb9f3a\"],[0.8888888888888888,\"#fdca26\"],[1.0,\"#f0f921\"]],\"type\":\"surface\"}],\"table\":[{\"cells\":{\"fill\":{\"color\":\"#EBF0F8\"},\"line\":{\"color\":\"white\"}},\"header\":{\"fill\":{\"color\":\"#C8D4E3\"},\"line\":{\"color\":\"white\"}},\"type\":\"table\"}]},\"layout\":{\"annotationdefaults\":{\"arrowcolor\":\"#2a3f5f\",\"arrowhead\":0,\"arrowwidth\":1},\"autotypenumbers\":\"strict\",\"coloraxis\":{\"colorbar\":{\"outlinewidth\":0,\"ticks\":\"\"}},\"colorscale\":{\"diverging\":[[0,\"#8e0152\"],[0.1,\"#c51b7d\"],[0.2,\"#de77ae\"],[0.3,\"#f1b6da\"],[0.4,\"#fde0ef\"],[0.5,\"#f7f7f7\"],[0.6,\"#e6f5d0\"],[0.7,\"#b8e186\"],[0.8,\"#7fbc41\"],[0.9,\"#4d9221\"],[1,\"#276419\"]],\"sequential\":[[0.0,\"#0d0887\"],[0.1111111111111111,\"#46039f\"],[0.2222222222222222,\"#7201a8\"],[0.3333333333333333,\"#9c179e\"],[0.4444444444444444,\"#bd3786\"],[0.5555555555555556,\"#d8576b\"],[0.6666666666666666,\"#ed7953\"],[0.7777777777777778,\"#fb9f3a\"],[0.8888888888888888,\"#fdca26\"],[1.0,\"#f0f921\"]],\"sequentialminus\":[[0.0,\"#0d0887\"],[0.1111111111111111,\"#46039f\"],[0.2222222222222222,\"#7201a8\"],[0.3333333333333333,\"#9c179e\"],[0.4444444444444444,\"#bd3786\"],[0.5555555555555556,\"#d8576b\"],[0.6666666666666666,\"#ed7953\"],[0.7777777777777778,\"#fb9f3a\"],[0.8888888888888888,\"#fdca26\"],[1.0,\"#f0f921\"]]},\"colorway\":[\"#636efa\",\"#EF553B\",\"#00cc96\",\"#ab63fa\",\"#FFA15A\",\"#19d3f3\",\"#FF6692\",\"#B6E880\",\"#FF97FF\",\"#FECB52\"],\"font\":{\"color\":\"#2a3f5f\"},\"geo\":{\"bgcolor\":\"white\",\"lakecolor\":\"white\",\"landcolor\":\"#E5ECF6\",\"showlakes\":true,\"showland\":true,\"subunitcolor\":\"white\"},\"hoverlabel\":{\"align\":\"left\"},\"hovermode\":\"closest\",\"mapbox\":{\"style\":\"light\"},\"paper_bgcolor\":\"white\",\"plot_bgcolor\":\"#E5ECF6\",\"polar\":{\"angularaxis\":{\"gridcolor\":\"white\",\"linecolor\":\"white\",\"ticks\":\"\"},\"bgcolor\":\"#E5ECF6\",\"radialaxis\":{\"gridcolor\":\"white\",\"linecolor\":\"white\",\"ticks\":\"\"}},\"scene\":{\"xaxis\":{\"backgroundcolor\":\"#E5ECF6\",\"gridcolor\":\"white\",\"gridwidth\":2,\"linecolor\":\"white\",\"showbackground\":true,\"ticks\":\"\",\"zerolinecolor\":\"white\"},\"yaxis\":{\"backgroundcolor\":\"#E5ECF6\",\"gridcolor\":\"white\",\"gridwidth\":2,\"linecolor\":\"white\",\"showbackground\":true,\"ticks\":\"\",\"zerolinecolor\":\"white\"},\"zaxis\":{\"backgroundcolor\":\"#E5ECF6\",\"gridcolor\":\"white\",\"gridwidth\":2,\"linecolor\":\"white\",\"showbackground\":true,\"ticks\":\"\",\"zerolinecolor\":\"white\"}},\"shapedefaults\":{\"line\":{\"color\":\"#2a3f5f\"}},\"ternary\":{\"aaxis\":{\"gridcolor\":\"white\",\"linecolor\":\"white\",\"ticks\":\"\"},\"baxis\":{\"gridcolor\":\"white\",\"linecolor\":\"white\",\"ticks\":\"\"},\"bgcolor\":\"#E5ECF6\",\"caxis\":{\"gridcolor\":\"white\",\"linecolor\":\"white\",\"ticks\":\"\"}},\"title\":{\"x\":0.05},\"xaxis\":{\"automargin\":true,\"gridcolor\":\"white\",\"linecolor\":\"white\",\"ticks\":\"\",\"title\":{\"standoff\":15},\"zerolinecolor\":\"white\",\"zerolinewidth\":2},\"yaxis\":{\"automargin\":true,\"gridcolor\":\"white\",\"linecolor\":\"white\",\"ticks\":\"\",\"title\":{\"standoff\":15},\"zerolinecolor\":\"white\",\"zerolinewidth\":2}}},\"title\":{\"font\":{\"color\":\"#4D5663\"},\"text\":\"Top 100 bigrams after removing stop words\"},\"xaxis\":{\"gridcolor\":\"#E1E5ED\",\"linecolor\":\"black\",\"showgrid\":true,\"tickfont\":{\"color\":\"#4D5663\"},\"title\":{\"font\":{\"color\":\"#4D5663\"},\"text\":\"\"},\"zerolinecolor\":\"#E1E5ED\"},\"yaxis\":{\"gridcolor\":\"#E1E5ED\",\"linecolor\":\"black\",\"showgrid\":true,\"tickfont\":{\"color\":\"#4D5663\"},\"title\":{\"font\":{\"color\":\"#4D5663\"},\"text\":\"Count\"},\"zerolinecolor\":\"#E1E5ED\"}},                        {\"showLink\": true, \"linkText\": \"Export to plot.ly\", \"plotlyServerURL\": \"https://plot.ly\", \"responsive\": true}                    ).then(function(){\n",
       "                            \n",
       "var gd = document.getElementById('53486e51-6435-415a-a4d0-baca841ac9ea');\n",
       "var x = new MutationObserver(function (mutations, observer) {{\n",
       "        var display = window.getComputedStyle(gd).display;\n",
       "        if (!display || display === 'none') {{\n",
       "            console.log([gd, 'removed!']);\n",
       "            Plotly.purge(gd);\n",
       "            observer.disconnect();\n",
       "        }}\n",
       "}});\n",
       "\n",
       "// Listen for the removal of the full notebook cells\n",
       "var notebookContainer = gd.closest('#notebook-container');\n",
       "if (notebookContainer) {{\n",
       "    x.observe(notebookContainer, {childList: true});\n",
       "}}\n",
       "\n",
       "// Listen for the clearing of the current output cell\n",
       "var outputEl = gd.closest('.output');\n",
       "if (outputEl) {{\n",
       "    x.observe(outputEl, {childList: true});\n",
       "}}\n",
       "\n",
       "                        })                };                });            </script>        </div>"
      ]
     },
     "metadata": {},
     "output_type": "display_data"
    }
   ],
   "source": [
    "plot_model(plot='bigram')"
   ]
  },
  {
   "cell_type": "code",
   "execution_count": 13,
   "metadata": {},
   "outputs": [
    {
     "data": {
      "text/html": [
       "        <script type=\"text/javascript\">\n",
       "        window.PlotlyConfig = {MathJaxConfig: 'local'};\n",
       "        if (window.MathJax) {MathJax.Hub.Config({SVG: {font: \"STIX-Web\"}});}\n",
       "        if (typeof require !== 'undefined') {\n",
       "        require.undef(\"plotly\");\n",
       "        requirejs.config({\n",
       "            paths: {\n",
       "                'plotly': ['https://cdn.plot.ly/plotly-2.2.0.min']\n",
       "            }\n",
       "        });\n",
       "        require(['plotly'], function(Plotly) {\n",
       "            window._Plotly = Plotly;\n",
       "        });\n",
       "        }\n",
       "        </script>\n",
       "        "
      ]
     },
     "metadata": {},
     "output_type": "display_data"
    },
    {
     "data": {
      "application/vnd.plotly.v1+json": {
       "config": {
        "linkText": "Export to plot.ly",
        "plotlyServerURL": "https://plot.ly",
        "showLink": true
       },
       "data": [
        {
         "marker": {
          "color": "rgba(255, 153, 51, 0.6)",
          "line": {
           "color": "rgba(255, 153, 51, 1.0)",
           "width": 1
          }
         },
         "name": "count",
         "orientation": "v",
         "text": "",
         "type": "bar",
         "x": [
          "use social medium",
          "social medium platform",
          "social medium use",
          "social medium site",
          "social medium user",
          "social medium marketing",
          "social medium service",
          "social networking service",
          "social medium also",
          "social medium post",
          "content social medium",
          "social medium become",
          "social networking site",
          "common sense medium",
          "effect social medium",
          "medium social medium",
          "social medium example",
          "post social medium",
          "social medium social",
          "social medium account",
          "social medium tool",
          "mobile social medium",
          "increase political polarization",
          "many social medium",
          "activitie social medium",
          "social medium extremely",
          "share personal information",
          "social medium allow",
          "shape collective memory",
          "rise social medium",
          "relationship social medium",
          "user social medium",
          "popular social medium",
          "medium extremely important",
          "social medium firm",
          "social medium may",
          "type social medium",
          "social medium usage",
          "social medium website",
          "dedicated video platform",
          "social medium outlet",
          "use social networking",
          "think social medium",
          "live country atom",
          "error many error",
          "experiment design survey",
          "atom composing crystal",
          "extend sample population",
          "also subject error",
          "experimental study involve",
          "generate statistical datum",
          "additional measurement use",
          "involve experimental manipulation",
          "error classify random",
          "census datum collect",
          "bias type analyst",
          "diverse group people",
          "classify random noise",
          "develop specific experiment",
          "determine manipulation modify",
          "collect statistician collect",
          "contrast observational study",
          "design survey sample",
          "country atom composing",
          "datum also subject",
          "datum collect statistician",
          "datum develop specific",
          "involve take measurement",
          "value measurement contrast",
          "manipulating system take",
          "statistical datum also",
          "use procedure determine",
          "use datum analysis",
          "type analyst report",
          "take measurement system",
          "take additional measurement",
          "systematic bias type",
          "system take additional",
          "system study manipulating",
          "subject error many",
          "study population diverse",
          "study manipulating system",
          "study involve take",
          "study involve experimental",
          "specific experiment design",
          "manipulation modify value",
          "sample population whole",
          "relationship data set",
          "random noise systematic",
          "procedure determine manipulation",
          "people live country",
          "observational study involve",
          "noise systematic bias",
          "modify value measurement",
          "measurement use procedure",
          "measurement system study",
          "measurement process generate",
          "measurement contrast observational",
          "many error classify",
          "process generate statistical"
         ],
         "y": [
          48,
          27,
          17,
          15,
          11,
          9,
          7,
          6,
          6,
          6,
          5,
          5,
          5,
          5,
          5,
          5,
          4,
          4,
          4,
          4,
          4,
          4,
          4,
          4,
          4,
          3,
          3,
          3,
          3,
          3,
          3,
          3,
          3,
          3,
          3,
          3,
          3,
          3,
          3,
          3,
          3,
          3,
          3,
          2,
          2,
          2,
          2,
          2,
          2,
          2,
          2,
          2,
          2,
          2,
          2,
          2,
          2,
          2,
          2,
          2,
          2,
          2,
          2,
          2,
          2,
          2,
          2,
          2,
          2,
          2,
          2,
          2,
          2,
          2,
          2,
          2,
          2,
          2,
          2,
          2,
          2,
          2,
          2,
          2,
          2,
          2,
          2,
          2,
          2,
          2,
          2,
          2,
          2,
          2,
          2,
          2,
          2,
          2,
          2,
          2
         ]
        }
       ],
       "layout": {
        "legend": {
         "bgcolor": "#F5F6F9",
         "font": {
          "color": "#4D5663"
         }
        },
        "paper_bgcolor": "#F5F6F9",
        "plot_bgcolor": "#F5F6F9",
        "template": {
         "data": {
          "bar": [
           {
            "error_x": {
             "color": "#2a3f5f"
            },
            "error_y": {
             "color": "#2a3f5f"
            },
            "marker": {
             "line": {
              "color": "#E5ECF6",
              "width": 0.5
             },
             "pattern": {
              "fillmode": "overlay",
              "size": 10,
              "solidity": 0.2
             }
            },
            "type": "bar"
           }
          ],
          "barpolar": [
           {
            "marker": {
             "line": {
              "color": "#E5ECF6",
              "width": 0.5
             },
             "pattern": {
              "fillmode": "overlay",
              "size": 10,
              "solidity": 0.2
             }
            },
            "type": "barpolar"
           }
          ],
          "carpet": [
           {
            "aaxis": {
             "endlinecolor": "#2a3f5f",
             "gridcolor": "white",
             "linecolor": "white",
             "minorgridcolor": "white",
             "startlinecolor": "#2a3f5f"
            },
            "baxis": {
             "endlinecolor": "#2a3f5f",
             "gridcolor": "white",
             "linecolor": "white",
             "minorgridcolor": "white",
             "startlinecolor": "#2a3f5f"
            },
            "type": "carpet"
           }
          ],
          "choropleth": [
           {
            "colorbar": {
             "outlinewidth": 0,
             "ticks": ""
            },
            "type": "choropleth"
           }
          ],
          "contour": [
           {
            "colorbar": {
             "outlinewidth": 0,
             "ticks": ""
            },
            "colorscale": [
             [
              0,
              "#0d0887"
             ],
             [
              0.1111111111111111,
              "#46039f"
             ],
             [
              0.2222222222222222,
              "#7201a8"
             ],
             [
              0.3333333333333333,
              "#9c179e"
             ],
             [
              0.4444444444444444,
              "#bd3786"
             ],
             [
              0.5555555555555556,
              "#d8576b"
             ],
             [
              0.6666666666666666,
              "#ed7953"
             ],
             [
              0.7777777777777778,
              "#fb9f3a"
             ],
             [
              0.8888888888888888,
              "#fdca26"
             ],
             [
              1,
              "#f0f921"
             ]
            ],
            "type": "contour"
           }
          ],
          "contourcarpet": [
           {
            "colorbar": {
             "outlinewidth": 0,
             "ticks": ""
            },
            "type": "contourcarpet"
           }
          ],
          "heatmap": [
           {
            "colorbar": {
             "outlinewidth": 0,
             "ticks": ""
            },
            "colorscale": [
             [
              0,
              "#0d0887"
             ],
             [
              0.1111111111111111,
              "#46039f"
             ],
             [
              0.2222222222222222,
              "#7201a8"
             ],
             [
              0.3333333333333333,
              "#9c179e"
             ],
             [
              0.4444444444444444,
              "#bd3786"
             ],
             [
              0.5555555555555556,
              "#d8576b"
             ],
             [
              0.6666666666666666,
              "#ed7953"
             ],
             [
              0.7777777777777778,
              "#fb9f3a"
             ],
             [
              0.8888888888888888,
              "#fdca26"
             ],
             [
              1,
              "#f0f921"
             ]
            ],
            "type": "heatmap"
           }
          ],
          "heatmapgl": [
           {
            "colorbar": {
             "outlinewidth": 0,
             "ticks": ""
            },
            "colorscale": [
             [
              0,
              "#0d0887"
             ],
             [
              0.1111111111111111,
              "#46039f"
             ],
             [
              0.2222222222222222,
              "#7201a8"
             ],
             [
              0.3333333333333333,
              "#9c179e"
             ],
             [
              0.4444444444444444,
              "#bd3786"
             ],
             [
              0.5555555555555556,
              "#d8576b"
             ],
             [
              0.6666666666666666,
              "#ed7953"
             ],
             [
              0.7777777777777778,
              "#fb9f3a"
             ],
             [
              0.8888888888888888,
              "#fdca26"
             ],
             [
              1,
              "#f0f921"
             ]
            ],
            "type": "heatmapgl"
           }
          ],
          "histogram": [
           {
            "marker": {
             "pattern": {
              "fillmode": "overlay",
              "size": 10,
              "solidity": 0.2
             }
            },
            "type": "histogram"
           }
          ],
          "histogram2d": [
           {
            "colorbar": {
             "outlinewidth": 0,
             "ticks": ""
            },
            "colorscale": [
             [
              0,
              "#0d0887"
             ],
             [
              0.1111111111111111,
              "#46039f"
             ],
             [
              0.2222222222222222,
              "#7201a8"
             ],
             [
              0.3333333333333333,
              "#9c179e"
             ],
             [
              0.4444444444444444,
              "#bd3786"
             ],
             [
              0.5555555555555556,
              "#d8576b"
             ],
             [
              0.6666666666666666,
              "#ed7953"
             ],
             [
              0.7777777777777778,
              "#fb9f3a"
             ],
             [
              0.8888888888888888,
              "#fdca26"
             ],
             [
              1,
              "#f0f921"
             ]
            ],
            "type": "histogram2d"
           }
          ],
          "histogram2dcontour": [
           {
            "colorbar": {
             "outlinewidth": 0,
             "ticks": ""
            },
            "colorscale": [
             [
              0,
              "#0d0887"
             ],
             [
              0.1111111111111111,
              "#46039f"
             ],
             [
              0.2222222222222222,
              "#7201a8"
             ],
             [
              0.3333333333333333,
              "#9c179e"
             ],
             [
              0.4444444444444444,
              "#bd3786"
             ],
             [
              0.5555555555555556,
              "#d8576b"
             ],
             [
              0.6666666666666666,
              "#ed7953"
             ],
             [
              0.7777777777777778,
              "#fb9f3a"
             ],
             [
              0.8888888888888888,
              "#fdca26"
             ],
             [
              1,
              "#f0f921"
             ]
            ],
            "type": "histogram2dcontour"
           }
          ],
          "mesh3d": [
           {
            "colorbar": {
             "outlinewidth": 0,
             "ticks": ""
            },
            "type": "mesh3d"
           }
          ],
          "parcoords": [
           {
            "line": {
             "colorbar": {
              "outlinewidth": 0,
              "ticks": ""
             }
            },
            "type": "parcoords"
           }
          ],
          "pie": [
           {
            "automargin": true,
            "type": "pie"
           }
          ],
          "scatter": [
           {
            "marker": {
             "colorbar": {
              "outlinewidth": 0,
              "ticks": ""
             }
            },
            "type": "scatter"
           }
          ],
          "scatter3d": [
           {
            "line": {
             "colorbar": {
              "outlinewidth": 0,
              "ticks": ""
             }
            },
            "marker": {
             "colorbar": {
              "outlinewidth": 0,
              "ticks": ""
             }
            },
            "type": "scatter3d"
           }
          ],
          "scattercarpet": [
           {
            "marker": {
             "colorbar": {
              "outlinewidth": 0,
              "ticks": ""
             }
            },
            "type": "scattercarpet"
           }
          ],
          "scattergeo": [
           {
            "marker": {
             "colorbar": {
              "outlinewidth": 0,
              "ticks": ""
             }
            },
            "type": "scattergeo"
           }
          ],
          "scattergl": [
           {
            "marker": {
             "colorbar": {
              "outlinewidth": 0,
              "ticks": ""
             }
            },
            "type": "scattergl"
           }
          ],
          "scattermapbox": [
           {
            "marker": {
             "colorbar": {
              "outlinewidth": 0,
              "ticks": ""
             }
            },
            "type": "scattermapbox"
           }
          ],
          "scatterpolar": [
           {
            "marker": {
             "colorbar": {
              "outlinewidth": 0,
              "ticks": ""
             }
            },
            "type": "scatterpolar"
           }
          ],
          "scatterpolargl": [
           {
            "marker": {
             "colorbar": {
              "outlinewidth": 0,
              "ticks": ""
             }
            },
            "type": "scatterpolargl"
           }
          ],
          "scatterternary": [
           {
            "marker": {
             "colorbar": {
              "outlinewidth": 0,
              "ticks": ""
             }
            },
            "type": "scatterternary"
           }
          ],
          "surface": [
           {
            "colorbar": {
             "outlinewidth": 0,
             "ticks": ""
            },
            "colorscale": [
             [
              0,
              "#0d0887"
             ],
             [
              0.1111111111111111,
              "#46039f"
             ],
             [
              0.2222222222222222,
              "#7201a8"
             ],
             [
              0.3333333333333333,
              "#9c179e"
             ],
             [
              0.4444444444444444,
              "#bd3786"
             ],
             [
              0.5555555555555556,
              "#d8576b"
             ],
             [
              0.6666666666666666,
              "#ed7953"
             ],
             [
              0.7777777777777778,
              "#fb9f3a"
             ],
             [
              0.8888888888888888,
              "#fdca26"
             ],
             [
              1,
              "#f0f921"
             ]
            ],
            "type": "surface"
           }
          ],
          "table": [
           {
            "cells": {
             "fill": {
              "color": "#EBF0F8"
             },
             "line": {
              "color": "white"
             }
            },
            "header": {
             "fill": {
              "color": "#C8D4E3"
             },
             "line": {
              "color": "white"
             }
            },
            "type": "table"
           }
          ]
         },
         "layout": {
          "annotationdefaults": {
           "arrowcolor": "#2a3f5f",
           "arrowhead": 0,
           "arrowwidth": 1
          },
          "autotypenumbers": "strict",
          "coloraxis": {
           "colorbar": {
            "outlinewidth": 0,
            "ticks": ""
           }
          },
          "colorscale": {
           "diverging": [
            [
             0,
             "#8e0152"
            ],
            [
             0.1,
             "#c51b7d"
            ],
            [
             0.2,
             "#de77ae"
            ],
            [
             0.3,
             "#f1b6da"
            ],
            [
             0.4,
             "#fde0ef"
            ],
            [
             0.5,
             "#f7f7f7"
            ],
            [
             0.6,
             "#e6f5d0"
            ],
            [
             0.7,
             "#b8e186"
            ],
            [
             0.8,
             "#7fbc41"
            ],
            [
             0.9,
             "#4d9221"
            ],
            [
             1,
             "#276419"
            ]
           ],
           "sequential": [
            [
             0,
             "#0d0887"
            ],
            [
             0.1111111111111111,
             "#46039f"
            ],
            [
             0.2222222222222222,
             "#7201a8"
            ],
            [
             0.3333333333333333,
             "#9c179e"
            ],
            [
             0.4444444444444444,
             "#bd3786"
            ],
            [
             0.5555555555555556,
             "#d8576b"
            ],
            [
             0.6666666666666666,
             "#ed7953"
            ],
            [
             0.7777777777777778,
             "#fb9f3a"
            ],
            [
             0.8888888888888888,
             "#fdca26"
            ],
            [
             1,
             "#f0f921"
            ]
           ],
           "sequentialminus": [
            [
             0,
             "#0d0887"
            ],
            [
             0.1111111111111111,
             "#46039f"
            ],
            [
             0.2222222222222222,
             "#7201a8"
            ],
            [
             0.3333333333333333,
             "#9c179e"
            ],
            [
             0.4444444444444444,
             "#bd3786"
            ],
            [
             0.5555555555555556,
             "#d8576b"
            ],
            [
             0.6666666666666666,
             "#ed7953"
            ],
            [
             0.7777777777777778,
             "#fb9f3a"
            ],
            [
             0.8888888888888888,
             "#fdca26"
            ],
            [
             1,
             "#f0f921"
            ]
           ]
          },
          "colorway": [
           "#636efa",
           "#EF553B",
           "#00cc96",
           "#ab63fa",
           "#FFA15A",
           "#19d3f3",
           "#FF6692",
           "#B6E880",
           "#FF97FF",
           "#FECB52"
          ],
          "font": {
           "color": "#2a3f5f"
          },
          "geo": {
           "bgcolor": "white",
           "lakecolor": "white",
           "landcolor": "#E5ECF6",
           "showlakes": true,
           "showland": true,
           "subunitcolor": "white"
          },
          "hoverlabel": {
           "align": "left"
          },
          "hovermode": "closest",
          "mapbox": {
           "style": "light"
          },
          "paper_bgcolor": "white",
          "plot_bgcolor": "#E5ECF6",
          "polar": {
           "angularaxis": {
            "gridcolor": "white",
            "linecolor": "white",
            "ticks": ""
           },
           "bgcolor": "#E5ECF6",
           "radialaxis": {
            "gridcolor": "white",
            "linecolor": "white",
            "ticks": ""
           }
          },
          "scene": {
           "xaxis": {
            "backgroundcolor": "#E5ECF6",
            "gridcolor": "white",
            "gridwidth": 2,
            "linecolor": "white",
            "showbackground": true,
            "ticks": "",
            "zerolinecolor": "white"
           },
           "yaxis": {
            "backgroundcolor": "#E5ECF6",
            "gridcolor": "white",
            "gridwidth": 2,
            "linecolor": "white",
            "showbackground": true,
            "ticks": "",
            "zerolinecolor": "white"
           },
           "zaxis": {
            "backgroundcolor": "#E5ECF6",
            "gridcolor": "white",
            "gridwidth": 2,
            "linecolor": "white",
            "showbackground": true,
            "ticks": "",
            "zerolinecolor": "white"
           }
          },
          "shapedefaults": {
           "line": {
            "color": "#2a3f5f"
           }
          },
          "ternary": {
           "aaxis": {
            "gridcolor": "white",
            "linecolor": "white",
            "ticks": ""
           },
           "baxis": {
            "gridcolor": "white",
            "linecolor": "white",
            "ticks": ""
           },
           "bgcolor": "#E5ECF6",
           "caxis": {
            "gridcolor": "white",
            "linecolor": "white",
            "ticks": ""
           }
          },
          "title": {
           "x": 0.05
          },
          "xaxis": {
           "automargin": true,
           "gridcolor": "white",
           "linecolor": "white",
           "ticks": "",
           "title": {
            "standoff": 15
           },
           "zerolinecolor": "white",
           "zerolinewidth": 2
          },
          "yaxis": {
           "automargin": true,
           "gridcolor": "white",
           "linecolor": "white",
           "ticks": "",
           "title": {
            "standoff": 15
           },
           "zerolinecolor": "white",
           "zerolinewidth": 2
          }
         }
        },
        "title": {
         "font": {
          "color": "#4D5663"
         },
         "text": "Top 100 trigrams after removing stop words"
        },
        "xaxis": {
         "gridcolor": "#E1E5ED",
         "linecolor": "black",
         "showgrid": true,
         "tickfont": {
          "color": "#4D5663"
         },
         "title": {
          "font": {
           "color": "#4D5663"
          },
          "text": ""
         },
         "zerolinecolor": "#E1E5ED"
        },
        "yaxis": {
         "gridcolor": "#E1E5ED",
         "linecolor": "black",
         "showgrid": true,
         "tickfont": {
          "color": "#4D5663"
         },
         "title": {
          "font": {
           "color": "#4D5663"
          },
          "text": "Count"
         },
         "zerolinecolor": "#E1E5ED"
        }
       }
      },
      "text/html": [
       "<div>                            <div id=\"e0b474a0-ca53-428b-8c8c-c9f1d1652a30\" class=\"plotly-graph-div\" style=\"height:525px; width:100%;\"></div>            <script type=\"text/javascript\">                require([\"plotly\"], function(Plotly) {                    window.PLOTLYENV=window.PLOTLYENV || {};\n",
       "                    window.PLOTLYENV.BASE_URL='https://plot.ly';                                    if (document.getElementById(\"e0b474a0-ca53-428b-8c8c-c9f1d1652a30\")) {                    Plotly.newPlot(                        \"e0b474a0-ca53-428b-8c8c-c9f1d1652a30\",                        [{\"marker\":{\"color\":\"rgba(255, 153, 51, 0.6)\",\"line\":{\"color\":\"rgba(255, 153, 51, 1.0)\",\"width\":1}},\"name\":\"count\",\"orientation\":\"v\",\"text\":\"\",\"type\":\"bar\",\"x\":[\"use social medium\",\"social medium platform\",\"social medium use\",\"social medium site\",\"social medium user\",\"social medium marketing\",\"social medium service\",\"social networking service\",\"social medium also\",\"social medium post\",\"content social medium\",\"social medium become\",\"social networking site\",\"common sense medium\",\"effect social medium\",\"medium social medium\",\"social medium example\",\"post social medium\",\"social medium social\",\"social medium account\",\"social medium tool\",\"mobile social medium\",\"increase political polarization\",\"many social medium\",\"activitie social medium\",\"social medium extremely\",\"share personal information\",\"social medium allow\",\"shape collective memory\",\"rise social medium\",\"relationship social medium\",\"user social medium\",\"popular social medium\",\"medium extremely important\",\"social medium firm\",\"social medium may\",\"type social medium\",\"social medium usage\",\"social medium website\",\"dedicated video platform\",\"social medium outlet\",\"use social networking\",\"think social medium\",\"live country atom\",\"error many error\",\"experiment design survey\",\"atom composing crystal\",\"extend sample population\",\"also subject error\",\"experimental study involve\",\"generate statistical datum\",\"additional measurement use\",\"involve experimental manipulation\",\"error classify random\",\"census datum collect\",\"bias type analyst\",\"diverse group people\",\"classify random noise\",\"develop specific experiment\",\"determine manipulation modify\",\"collect statistician collect\",\"contrast observational study\",\"design survey sample\",\"country atom composing\",\"datum also subject\",\"datum collect statistician\",\"datum develop specific\",\"involve take measurement\",\"value measurement contrast\",\"manipulating system take\",\"statistical datum also\",\"use procedure determine\",\"use datum analysis\",\"type analyst report\",\"take measurement system\",\"take additional measurement\",\"systematic bias type\",\"system take additional\",\"system study manipulating\",\"subject error many\",\"study population diverse\",\"study manipulating system\",\"study involve take\",\"study involve experimental\",\"specific experiment design\",\"manipulation modify value\",\"sample population whole\",\"relationship data set\",\"random noise systematic\",\"procedure determine manipulation\",\"people live country\",\"observational study involve\",\"noise systematic bias\",\"modify value measurement\",\"measurement use procedure\",\"measurement system study\",\"measurement process generate\",\"measurement contrast observational\",\"many error classify\",\"process generate statistical\"],\"y\":[48,27,17,15,11,9,7,6,6,6,5,5,5,5,5,5,4,4,4,4,4,4,4,4,4,3,3,3,3,3,3,3,3,3,3,3,3,3,3,3,3,3,3,2,2,2,2,2,2,2,2,2,2,2,2,2,2,2,2,2,2,2,2,2,2,2,2,2,2,2,2,2,2,2,2,2,2,2,2,2,2,2,2,2,2,2,2,2,2,2,2,2,2,2,2,2,2,2,2,2]}],                        {\"legend\":{\"bgcolor\":\"#F5F6F9\",\"font\":{\"color\":\"#4D5663\"}},\"paper_bgcolor\":\"#F5F6F9\",\"plot_bgcolor\":\"#F5F6F9\",\"template\":{\"data\":{\"bar\":[{\"error_x\":{\"color\":\"#2a3f5f\"},\"error_y\":{\"color\":\"#2a3f5f\"},\"marker\":{\"line\":{\"color\":\"#E5ECF6\",\"width\":0.5},\"pattern\":{\"fillmode\":\"overlay\",\"size\":10,\"solidity\":0.2}},\"type\":\"bar\"}],\"barpolar\":[{\"marker\":{\"line\":{\"color\":\"#E5ECF6\",\"width\":0.5},\"pattern\":{\"fillmode\":\"overlay\",\"size\":10,\"solidity\":0.2}},\"type\":\"barpolar\"}],\"carpet\":[{\"aaxis\":{\"endlinecolor\":\"#2a3f5f\",\"gridcolor\":\"white\",\"linecolor\":\"white\",\"minorgridcolor\":\"white\",\"startlinecolor\":\"#2a3f5f\"},\"baxis\":{\"endlinecolor\":\"#2a3f5f\",\"gridcolor\":\"white\",\"linecolor\":\"white\",\"minorgridcolor\":\"white\",\"startlinecolor\":\"#2a3f5f\"},\"type\":\"carpet\"}],\"choropleth\":[{\"colorbar\":{\"outlinewidth\":0,\"ticks\":\"\"},\"type\":\"choropleth\"}],\"contour\":[{\"colorbar\":{\"outlinewidth\":0,\"ticks\":\"\"},\"colorscale\":[[0.0,\"#0d0887\"],[0.1111111111111111,\"#46039f\"],[0.2222222222222222,\"#7201a8\"],[0.3333333333333333,\"#9c179e\"],[0.4444444444444444,\"#bd3786\"],[0.5555555555555556,\"#d8576b\"],[0.6666666666666666,\"#ed7953\"],[0.7777777777777778,\"#fb9f3a\"],[0.8888888888888888,\"#fdca26\"],[1.0,\"#f0f921\"]],\"type\":\"contour\"}],\"contourcarpet\":[{\"colorbar\":{\"outlinewidth\":0,\"ticks\":\"\"},\"type\":\"contourcarpet\"}],\"heatmap\":[{\"colorbar\":{\"outlinewidth\":0,\"ticks\":\"\"},\"colorscale\":[[0.0,\"#0d0887\"],[0.1111111111111111,\"#46039f\"],[0.2222222222222222,\"#7201a8\"],[0.3333333333333333,\"#9c179e\"],[0.4444444444444444,\"#bd3786\"],[0.5555555555555556,\"#d8576b\"],[0.6666666666666666,\"#ed7953\"],[0.7777777777777778,\"#fb9f3a\"],[0.8888888888888888,\"#fdca26\"],[1.0,\"#f0f921\"]],\"type\":\"heatmap\"}],\"heatmapgl\":[{\"colorbar\":{\"outlinewidth\":0,\"ticks\":\"\"},\"colorscale\":[[0.0,\"#0d0887\"],[0.1111111111111111,\"#46039f\"],[0.2222222222222222,\"#7201a8\"],[0.3333333333333333,\"#9c179e\"],[0.4444444444444444,\"#bd3786\"],[0.5555555555555556,\"#d8576b\"],[0.6666666666666666,\"#ed7953\"],[0.7777777777777778,\"#fb9f3a\"],[0.8888888888888888,\"#fdca26\"],[1.0,\"#f0f921\"]],\"type\":\"heatmapgl\"}],\"histogram\":[{\"marker\":{\"pattern\":{\"fillmode\":\"overlay\",\"size\":10,\"solidity\":0.2}},\"type\":\"histogram\"}],\"histogram2d\":[{\"colorbar\":{\"outlinewidth\":0,\"ticks\":\"\"},\"colorscale\":[[0.0,\"#0d0887\"],[0.1111111111111111,\"#46039f\"],[0.2222222222222222,\"#7201a8\"],[0.3333333333333333,\"#9c179e\"],[0.4444444444444444,\"#bd3786\"],[0.5555555555555556,\"#d8576b\"],[0.6666666666666666,\"#ed7953\"],[0.7777777777777778,\"#fb9f3a\"],[0.8888888888888888,\"#fdca26\"],[1.0,\"#f0f921\"]],\"type\":\"histogram2d\"}],\"histogram2dcontour\":[{\"colorbar\":{\"outlinewidth\":0,\"ticks\":\"\"},\"colorscale\":[[0.0,\"#0d0887\"],[0.1111111111111111,\"#46039f\"],[0.2222222222222222,\"#7201a8\"],[0.3333333333333333,\"#9c179e\"],[0.4444444444444444,\"#bd3786\"],[0.5555555555555556,\"#d8576b\"],[0.6666666666666666,\"#ed7953\"],[0.7777777777777778,\"#fb9f3a\"],[0.8888888888888888,\"#fdca26\"],[1.0,\"#f0f921\"]],\"type\":\"histogram2dcontour\"}],\"mesh3d\":[{\"colorbar\":{\"outlinewidth\":0,\"ticks\":\"\"},\"type\":\"mesh3d\"}],\"parcoords\":[{\"line\":{\"colorbar\":{\"outlinewidth\":0,\"ticks\":\"\"}},\"type\":\"parcoords\"}],\"pie\":[{\"automargin\":true,\"type\":\"pie\"}],\"scatter\":[{\"marker\":{\"colorbar\":{\"outlinewidth\":0,\"ticks\":\"\"}},\"type\":\"scatter\"}],\"scatter3d\":[{\"line\":{\"colorbar\":{\"outlinewidth\":0,\"ticks\":\"\"}},\"marker\":{\"colorbar\":{\"outlinewidth\":0,\"ticks\":\"\"}},\"type\":\"scatter3d\"}],\"scattercarpet\":[{\"marker\":{\"colorbar\":{\"outlinewidth\":0,\"ticks\":\"\"}},\"type\":\"scattercarpet\"}],\"scattergeo\":[{\"marker\":{\"colorbar\":{\"outlinewidth\":0,\"ticks\":\"\"}},\"type\":\"scattergeo\"}],\"scattergl\":[{\"marker\":{\"colorbar\":{\"outlinewidth\":0,\"ticks\":\"\"}},\"type\":\"scattergl\"}],\"scattermapbox\":[{\"marker\":{\"colorbar\":{\"outlinewidth\":0,\"ticks\":\"\"}},\"type\":\"scattermapbox\"}],\"scatterpolar\":[{\"marker\":{\"colorbar\":{\"outlinewidth\":0,\"ticks\":\"\"}},\"type\":\"scatterpolar\"}],\"scatterpolargl\":[{\"marker\":{\"colorbar\":{\"outlinewidth\":0,\"ticks\":\"\"}},\"type\":\"scatterpolargl\"}],\"scatterternary\":[{\"marker\":{\"colorbar\":{\"outlinewidth\":0,\"ticks\":\"\"}},\"type\":\"scatterternary\"}],\"surface\":[{\"colorbar\":{\"outlinewidth\":0,\"ticks\":\"\"},\"colorscale\":[[0.0,\"#0d0887\"],[0.1111111111111111,\"#46039f\"],[0.2222222222222222,\"#7201a8\"],[0.3333333333333333,\"#9c179e\"],[0.4444444444444444,\"#bd3786\"],[0.5555555555555556,\"#d8576b\"],[0.6666666666666666,\"#ed7953\"],[0.7777777777777778,\"#fb9f3a\"],[0.8888888888888888,\"#fdca26\"],[1.0,\"#f0f921\"]],\"type\":\"surface\"}],\"table\":[{\"cells\":{\"fill\":{\"color\":\"#EBF0F8\"},\"line\":{\"color\":\"white\"}},\"header\":{\"fill\":{\"color\":\"#C8D4E3\"},\"line\":{\"color\":\"white\"}},\"type\":\"table\"}]},\"layout\":{\"annotationdefaults\":{\"arrowcolor\":\"#2a3f5f\",\"arrowhead\":0,\"arrowwidth\":1},\"autotypenumbers\":\"strict\",\"coloraxis\":{\"colorbar\":{\"outlinewidth\":0,\"ticks\":\"\"}},\"colorscale\":{\"diverging\":[[0,\"#8e0152\"],[0.1,\"#c51b7d\"],[0.2,\"#de77ae\"],[0.3,\"#f1b6da\"],[0.4,\"#fde0ef\"],[0.5,\"#f7f7f7\"],[0.6,\"#e6f5d0\"],[0.7,\"#b8e186\"],[0.8,\"#7fbc41\"],[0.9,\"#4d9221\"],[1,\"#276419\"]],\"sequential\":[[0.0,\"#0d0887\"],[0.1111111111111111,\"#46039f\"],[0.2222222222222222,\"#7201a8\"],[0.3333333333333333,\"#9c179e\"],[0.4444444444444444,\"#bd3786\"],[0.5555555555555556,\"#d8576b\"],[0.6666666666666666,\"#ed7953\"],[0.7777777777777778,\"#fb9f3a\"],[0.8888888888888888,\"#fdca26\"],[1.0,\"#f0f921\"]],\"sequentialminus\":[[0.0,\"#0d0887\"],[0.1111111111111111,\"#46039f\"],[0.2222222222222222,\"#7201a8\"],[0.3333333333333333,\"#9c179e\"],[0.4444444444444444,\"#bd3786\"],[0.5555555555555556,\"#d8576b\"],[0.6666666666666666,\"#ed7953\"],[0.7777777777777778,\"#fb9f3a\"],[0.8888888888888888,\"#fdca26\"],[1.0,\"#f0f921\"]]},\"colorway\":[\"#636efa\",\"#EF553B\",\"#00cc96\",\"#ab63fa\",\"#FFA15A\",\"#19d3f3\",\"#FF6692\",\"#B6E880\",\"#FF97FF\",\"#FECB52\"],\"font\":{\"color\":\"#2a3f5f\"},\"geo\":{\"bgcolor\":\"white\",\"lakecolor\":\"white\",\"landcolor\":\"#E5ECF6\",\"showlakes\":true,\"showland\":true,\"subunitcolor\":\"white\"},\"hoverlabel\":{\"align\":\"left\"},\"hovermode\":\"closest\",\"mapbox\":{\"style\":\"light\"},\"paper_bgcolor\":\"white\",\"plot_bgcolor\":\"#E5ECF6\",\"polar\":{\"angularaxis\":{\"gridcolor\":\"white\",\"linecolor\":\"white\",\"ticks\":\"\"},\"bgcolor\":\"#E5ECF6\",\"radialaxis\":{\"gridcolor\":\"white\",\"linecolor\":\"white\",\"ticks\":\"\"}},\"scene\":{\"xaxis\":{\"backgroundcolor\":\"#E5ECF6\",\"gridcolor\":\"white\",\"gridwidth\":2,\"linecolor\":\"white\",\"showbackground\":true,\"ticks\":\"\",\"zerolinecolor\":\"white\"},\"yaxis\":{\"backgroundcolor\":\"#E5ECF6\",\"gridcolor\":\"white\",\"gridwidth\":2,\"linecolor\":\"white\",\"showbackground\":true,\"ticks\":\"\",\"zerolinecolor\":\"white\"},\"zaxis\":{\"backgroundcolor\":\"#E5ECF6\",\"gridcolor\":\"white\",\"gridwidth\":2,\"linecolor\":\"white\",\"showbackground\":true,\"ticks\":\"\",\"zerolinecolor\":\"white\"}},\"shapedefaults\":{\"line\":{\"color\":\"#2a3f5f\"}},\"ternary\":{\"aaxis\":{\"gridcolor\":\"white\",\"linecolor\":\"white\",\"ticks\":\"\"},\"baxis\":{\"gridcolor\":\"white\",\"linecolor\":\"white\",\"ticks\":\"\"},\"bgcolor\":\"#E5ECF6\",\"caxis\":{\"gridcolor\":\"white\",\"linecolor\":\"white\",\"ticks\":\"\"}},\"title\":{\"x\":0.05},\"xaxis\":{\"automargin\":true,\"gridcolor\":\"white\",\"linecolor\":\"white\",\"ticks\":\"\",\"title\":{\"standoff\":15},\"zerolinecolor\":\"white\",\"zerolinewidth\":2},\"yaxis\":{\"automargin\":true,\"gridcolor\":\"white\",\"linecolor\":\"white\",\"ticks\":\"\",\"title\":{\"standoff\":15},\"zerolinecolor\":\"white\",\"zerolinewidth\":2}}},\"title\":{\"font\":{\"color\":\"#4D5663\"},\"text\":\"Top 100 trigrams after removing stop words\"},\"xaxis\":{\"gridcolor\":\"#E1E5ED\",\"linecolor\":\"black\",\"showgrid\":true,\"tickfont\":{\"color\":\"#4D5663\"},\"title\":{\"font\":{\"color\":\"#4D5663\"},\"text\":\"\"},\"zerolinecolor\":\"#E1E5ED\"},\"yaxis\":{\"gridcolor\":\"#E1E5ED\",\"linecolor\":\"black\",\"showgrid\":true,\"tickfont\":{\"color\":\"#4D5663\"},\"title\":{\"font\":{\"color\":\"#4D5663\"},\"text\":\"Count\"},\"zerolinecolor\":\"#E1E5ED\"}},                        {\"showLink\": true, \"linkText\": \"Export to plot.ly\", \"plotlyServerURL\": \"https://plot.ly\", \"responsive\": true}                    ).then(function(){\n",
       "                            \n",
       "var gd = document.getElementById('e0b474a0-ca53-428b-8c8c-c9f1d1652a30');\n",
       "var x = new MutationObserver(function (mutations, observer) {{\n",
       "        var display = window.getComputedStyle(gd).display;\n",
       "        if (!display || display === 'none') {{\n",
       "            console.log([gd, 'removed!']);\n",
       "            Plotly.purge(gd);\n",
       "            observer.disconnect();\n",
       "        }}\n",
       "}});\n",
       "\n",
       "// Listen for the removal of the full notebook cells\n",
       "var notebookContainer = gd.closest('#notebook-container');\n",
       "if (notebookContainer) {{\n",
       "    x.observe(notebookContainer, {childList: true});\n",
       "}}\n",
       "\n",
       "// Listen for the clearing of the current output cell\n",
       "var outputEl = gd.closest('.output');\n",
       "if (outputEl) {{\n",
       "    x.observe(outputEl, {childList: true});\n",
       "}}\n",
       "\n",
       "                        })                };                });            </script>        </div>"
      ]
     },
     "metadata": {},
     "output_type": "display_data"
    }
   ],
   "source": [
    "plot_model(plot='trigram')"
   ]
  },
  {
   "cell_type": "markdown",
   "metadata": {
    "id": "DMk8G16bFwQj"
   },
   "source": [
    "## **Frequency Distribution of Topic 1**"
   ]
  },
  {
   "cell_type": "code",
   "execution_count": 14,
   "metadata": {
    "colab": {
     "base_uri": "https://localhost:8080/",
     "height": 542
    },
    "id": "WVtHhwql2_2F",
    "outputId": "98db24fe-b998-4bb9-8877-b9c33370abd3",
    "scrolled": true
   },
   "outputs": [
    {
     "data": {
      "text/html": [
       "        <script type=\"text/javascript\">\n",
       "        window.PlotlyConfig = {MathJaxConfig: 'local'};\n",
       "        if (window.MathJax) {MathJax.Hub.Config({SVG: {font: \"STIX-Web\"}});}\n",
       "        if (typeof require !== 'undefined') {\n",
       "        require.undef(\"plotly\");\n",
       "        requirejs.config({\n",
       "            paths: {\n",
       "                'plotly': ['https://cdn.plot.ly/plotly-2.2.0.min']\n",
       "            }\n",
       "        });\n",
       "        require(['plotly'], function(Plotly) {\n",
       "            window._Plotly = Plotly;\n",
       "        });\n",
       "        }\n",
       "        </script>\n",
       "        "
      ]
     },
     "metadata": {},
     "output_type": "display_data"
    },
    {
     "data": {
      "application/vnd.plotly.v1+json": {
       "config": {
        "linkText": "Export to plot.ly",
        "plotlyServerURL": "https://plot.ly",
        "showLink": true
       },
       "data": [
        {
         "marker": {
          "color": "rgba(255, 153, 51, 0.6)",
          "line": {
           "color": "rgba(255, 153, 51, 1.0)",
           "width": 1
          }
         },
         "name": "count",
         "orientation": "v",
         "text": "",
         "type": "bar",
         "x": [
          "statistic",
          "statistical",
          "datum",
          "use",
          "sample",
          "population",
          "study",
          "probability",
          "error",
          "method",
          "value",
          "variable",
          "analysis",
          "also",
          "type",
          "test",
          "include",
          "measurement",
          "give",
          "interval",
          "model",
          "may",
          "make",
          "random",
          "estimator",
          "estimate",
          "parameter",
          "distribution",
          "inference",
          "mathematical",
          "hypothesis",
          "call",
          "null_hypothesis",
          "data",
          "apply",
          "often",
          "correlation",
          "set",
          "experiment",
          "experimental",
          "early",
          "relationship",
          "people",
          "business",
          "large",
          "involve",
          "true",
          "example",
          "result",
          "significance",
          "develop",
          "problem",
          "procedure",
          "theory",
          "describe",
          "standard",
          "reject",
          "collect",
          "science",
          "unknown",
          "estimation",
          "case",
          "discipline",
          "change",
          "difference",
          "true_value",
          "decision",
          "design",
          "draw",
          "technique",
          "linear_regression",
          "refer",
          "process",
          "research",
          "inferential",
          "question",
          "social",
          "property",
          "transformation",
          "observation",
          "many",
          "take",
          "statistician",
          "computer",
          "term",
          "summarize",
          "system",
          "sense",
          "tool",
          "collection",
          "however",
          "concept",
          "conclusion",
          "represent",
          "define",
          "deviation",
          "observational",
          "well",
          "mean",
          "work"
         ],
         "y": [
          65,
          64,
          58,
          52,
          41,
          33,
          32,
          31,
          29,
          26,
          26,
          25,
          22,
          22,
          21,
          21,
          19,
          19,
          19,
          17,
          16,
          16,
          16,
          15,
          15,
          14,
          14,
          14,
          13,
          13,
          12,
          12,
          12,
          12,
          12,
          11,
          11,
          11,
          11,
          10,
          9,
          9,
          9,
          9,
          8,
          8,
          8,
          8,
          8,
          8,
          8,
          8,
          8,
          8,
          8,
          8,
          8,
          8,
          8,
          7,
          7,
          7,
          7,
          7,
          7,
          7,
          7,
          7,
          7,
          7,
          7,
          7,
          7,
          7,
          7,
          7,
          7,
          7,
          7,
          7,
          7,
          7,
          6,
          6,
          6,
          6,
          6,
          6,
          6,
          6,
          6,
          6,
          6,
          6,
          6,
          6,
          6,
          6,
          6,
          6
         ]
        }
       ],
       "layout": {
        "legend": {
         "bgcolor": "#F5F6F9",
         "font": {
          "color": "#4D5663"
         }
        },
        "paper_bgcolor": "#F5F6F9",
        "plot_bgcolor": "#F5F6F9",
        "template": {
         "data": {
          "bar": [
           {
            "error_x": {
             "color": "#2a3f5f"
            },
            "error_y": {
             "color": "#2a3f5f"
            },
            "marker": {
             "line": {
              "color": "#E5ECF6",
              "width": 0.5
             },
             "pattern": {
              "fillmode": "overlay",
              "size": 10,
              "solidity": 0.2
             }
            },
            "type": "bar"
           }
          ],
          "barpolar": [
           {
            "marker": {
             "line": {
              "color": "#E5ECF6",
              "width": 0.5
             },
             "pattern": {
              "fillmode": "overlay",
              "size": 10,
              "solidity": 0.2
             }
            },
            "type": "barpolar"
           }
          ],
          "carpet": [
           {
            "aaxis": {
             "endlinecolor": "#2a3f5f",
             "gridcolor": "white",
             "linecolor": "white",
             "minorgridcolor": "white",
             "startlinecolor": "#2a3f5f"
            },
            "baxis": {
             "endlinecolor": "#2a3f5f",
             "gridcolor": "white",
             "linecolor": "white",
             "minorgridcolor": "white",
             "startlinecolor": "#2a3f5f"
            },
            "type": "carpet"
           }
          ],
          "choropleth": [
           {
            "colorbar": {
             "outlinewidth": 0,
             "ticks": ""
            },
            "type": "choropleth"
           }
          ],
          "contour": [
           {
            "colorbar": {
             "outlinewidth": 0,
             "ticks": ""
            },
            "colorscale": [
             [
              0,
              "#0d0887"
             ],
             [
              0.1111111111111111,
              "#46039f"
             ],
             [
              0.2222222222222222,
              "#7201a8"
             ],
             [
              0.3333333333333333,
              "#9c179e"
             ],
             [
              0.4444444444444444,
              "#bd3786"
             ],
             [
              0.5555555555555556,
              "#d8576b"
             ],
             [
              0.6666666666666666,
              "#ed7953"
             ],
             [
              0.7777777777777778,
              "#fb9f3a"
             ],
             [
              0.8888888888888888,
              "#fdca26"
             ],
             [
              1,
              "#f0f921"
             ]
            ],
            "type": "contour"
           }
          ],
          "contourcarpet": [
           {
            "colorbar": {
             "outlinewidth": 0,
             "ticks": ""
            },
            "type": "contourcarpet"
           }
          ],
          "heatmap": [
           {
            "colorbar": {
             "outlinewidth": 0,
             "ticks": ""
            },
            "colorscale": [
             [
              0,
              "#0d0887"
             ],
             [
              0.1111111111111111,
              "#46039f"
             ],
             [
              0.2222222222222222,
              "#7201a8"
             ],
             [
              0.3333333333333333,
              "#9c179e"
             ],
             [
              0.4444444444444444,
              "#bd3786"
             ],
             [
              0.5555555555555556,
              "#d8576b"
             ],
             [
              0.6666666666666666,
              "#ed7953"
             ],
             [
              0.7777777777777778,
              "#fb9f3a"
             ],
             [
              0.8888888888888888,
              "#fdca26"
             ],
             [
              1,
              "#f0f921"
             ]
            ],
            "type": "heatmap"
           }
          ],
          "heatmapgl": [
           {
            "colorbar": {
             "outlinewidth": 0,
             "ticks": ""
            },
            "colorscale": [
             [
              0,
              "#0d0887"
             ],
             [
              0.1111111111111111,
              "#46039f"
             ],
             [
              0.2222222222222222,
              "#7201a8"
             ],
             [
              0.3333333333333333,
              "#9c179e"
             ],
             [
              0.4444444444444444,
              "#bd3786"
             ],
             [
              0.5555555555555556,
              "#d8576b"
             ],
             [
              0.6666666666666666,
              "#ed7953"
             ],
             [
              0.7777777777777778,
              "#fb9f3a"
             ],
             [
              0.8888888888888888,
              "#fdca26"
             ],
             [
              1,
              "#f0f921"
             ]
            ],
            "type": "heatmapgl"
           }
          ],
          "histogram": [
           {
            "marker": {
             "pattern": {
              "fillmode": "overlay",
              "size": 10,
              "solidity": 0.2
             }
            },
            "type": "histogram"
           }
          ],
          "histogram2d": [
           {
            "colorbar": {
             "outlinewidth": 0,
             "ticks": ""
            },
            "colorscale": [
             [
              0,
              "#0d0887"
             ],
             [
              0.1111111111111111,
              "#46039f"
             ],
             [
              0.2222222222222222,
              "#7201a8"
             ],
             [
              0.3333333333333333,
              "#9c179e"
             ],
             [
              0.4444444444444444,
              "#bd3786"
             ],
             [
              0.5555555555555556,
              "#d8576b"
             ],
             [
              0.6666666666666666,
              "#ed7953"
             ],
             [
              0.7777777777777778,
              "#fb9f3a"
             ],
             [
              0.8888888888888888,
              "#fdca26"
             ],
             [
              1,
              "#f0f921"
             ]
            ],
            "type": "histogram2d"
           }
          ],
          "histogram2dcontour": [
           {
            "colorbar": {
             "outlinewidth": 0,
             "ticks": ""
            },
            "colorscale": [
             [
              0,
              "#0d0887"
             ],
             [
              0.1111111111111111,
              "#46039f"
             ],
             [
              0.2222222222222222,
              "#7201a8"
             ],
             [
              0.3333333333333333,
              "#9c179e"
             ],
             [
              0.4444444444444444,
              "#bd3786"
             ],
             [
              0.5555555555555556,
              "#d8576b"
             ],
             [
              0.6666666666666666,
              "#ed7953"
             ],
             [
              0.7777777777777778,
              "#fb9f3a"
             ],
             [
              0.8888888888888888,
              "#fdca26"
             ],
             [
              1,
              "#f0f921"
             ]
            ],
            "type": "histogram2dcontour"
           }
          ],
          "mesh3d": [
           {
            "colorbar": {
             "outlinewidth": 0,
             "ticks": ""
            },
            "type": "mesh3d"
           }
          ],
          "parcoords": [
           {
            "line": {
             "colorbar": {
              "outlinewidth": 0,
              "ticks": ""
             }
            },
            "type": "parcoords"
           }
          ],
          "pie": [
           {
            "automargin": true,
            "type": "pie"
           }
          ],
          "scatter": [
           {
            "marker": {
             "colorbar": {
              "outlinewidth": 0,
              "ticks": ""
             }
            },
            "type": "scatter"
           }
          ],
          "scatter3d": [
           {
            "line": {
             "colorbar": {
              "outlinewidth": 0,
              "ticks": ""
             }
            },
            "marker": {
             "colorbar": {
              "outlinewidth": 0,
              "ticks": ""
             }
            },
            "type": "scatter3d"
           }
          ],
          "scattercarpet": [
           {
            "marker": {
             "colorbar": {
              "outlinewidth": 0,
              "ticks": ""
             }
            },
            "type": "scattercarpet"
           }
          ],
          "scattergeo": [
           {
            "marker": {
             "colorbar": {
              "outlinewidth": 0,
              "ticks": ""
             }
            },
            "type": "scattergeo"
           }
          ],
          "scattergl": [
           {
            "marker": {
             "colorbar": {
              "outlinewidth": 0,
              "ticks": ""
             }
            },
            "type": "scattergl"
           }
          ],
          "scattermapbox": [
           {
            "marker": {
             "colorbar": {
              "outlinewidth": 0,
              "ticks": ""
             }
            },
            "type": "scattermapbox"
           }
          ],
          "scatterpolar": [
           {
            "marker": {
             "colorbar": {
              "outlinewidth": 0,
              "ticks": ""
             }
            },
            "type": "scatterpolar"
           }
          ],
          "scatterpolargl": [
           {
            "marker": {
             "colorbar": {
              "outlinewidth": 0,
              "ticks": ""
             }
            },
            "type": "scatterpolargl"
           }
          ],
          "scatterternary": [
           {
            "marker": {
             "colorbar": {
              "outlinewidth": 0,
              "ticks": ""
             }
            },
            "type": "scatterternary"
           }
          ],
          "surface": [
           {
            "colorbar": {
             "outlinewidth": 0,
             "ticks": ""
            },
            "colorscale": [
             [
              0,
              "#0d0887"
             ],
             [
              0.1111111111111111,
              "#46039f"
             ],
             [
              0.2222222222222222,
              "#7201a8"
             ],
             [
              0.3333333333333333,
              "#9c179e"
             ],
             [
              0.4444444444444444,
              "#bd3786"
             ],
             [
              0.5555555555555556,
              "#d8576b"
             ],
             [
              0.6666666666666666,
              "#ed7953"
             ],
             [
              0.7777777777777778,
              "#fb9f3a"
             ],
             [
              0.8888888888888888,
              "#fdca26"
             ],
             [
              1,
              "#f0f921"
             ]
            ],
            "type": "surface"
           }
          ],
          "table": [
           {
            "cells": {
             "fill": {
              "color": "#EBF0F8"
             },
             "line": {
              "color": "white"
             }
            },
            "header": {
             "fill": {
              "color": "#C8D4E3"
             },
             "line": {
              "color": "white"
             }
            },
            "type": "table"
           }
          ]
         },
         "layout": {
          "annotationdefaults": {
           "arrowcolor": "#2a3f5f",
           "arrowhead": 0,
           "arrowwidth": 1
          },
          "autotypenumbers": "strict",
          "coloraxis": {
           "colorbar": {
            "outlinewidth": 0,
            "ticks": ""
           }
          },
          "colorscale": {
           "diverging": [
            [
             0,
             "#8e0152"
            ],
            [
             0.1,
             "#c51b7d"
            ],
            [
             0.2,
             "#de77ae"
            ],
            [
             0.3,
             "#f1b6da"
            ],
            [
             0.4,
             "#fde0ef"
            ],
            [
             0.5,
             "#f7f7f7"
            ],
            [
             0.6,
             "#e6f5d0"
            ],
            [
             0.7,
             "#b8e186"
            ],
            [
             0.8,
             "#7fbc41"
            ],
            [
             0.9,
             "#4d9221"
            ],
            [
             1,
             "#276419"
            ]
           ],
           "sequential": [
            [
             0,
             "#0d0887"
            ],
            [
             0.1111111111111111,
             "#46039f"
            ],
            [
             0.2222222222222222,
             "#7201a8"
            ],
            [
             0.3333333333333333,
             "#9c179e"
            ],
            [
             0.4444444444444444,
             "#bd3786"
            ],
            [
             0.5555555555555556,
             "#d8576b"
            ],
            [
             0.6666666666666666,
             "#ed7953"
            ],
            [
             0.7777777777777778,
             "#fb9f3a"
            ],
            [
             0.8888888888888888,
             "#fdca26"
            ],
            [
             1,
             "#f0f921"
            ]
           ],
           "sequentialminus": [
            [
             0,
             "#0d0887"
            ],
            [
             0.1111111111111111,
             "#46039f"
            ],
            [
             0.2222222222222222,
             "#7201a8"
            ],
            [
             0.3333333333333333,
             "#9c179e"
            ],
            [
             0.4444444444444444,
             "#bd3786"
            ],
            [
             0.5555555555555556,
             "#d8576b"
            ],
            [
             0.6666666666666666,
             "#ed7953"
            ],
            [
             0.7777777777777778,
             "#fb9f3a"
            ],
            [
             0.8888888888888888,
             "#fdca26"
            ],
            [
             1,
             "#f0f921"
            ]
           ]
          },
          "colorway": [
           "#636efa",
           "#EF553B",
           "#00cc96",
           "#ab63fa",
           "#FFA15A",
           "#19d3f3",
           "#FF6692",
           "#B6E880",
           "#FF97FF",
           "#FECB52"
          ],
          "font": {
           "color": "#2a3f5f"
          },
          "geo": {
           "bgcolor": "white",
           "lakecolor": "white",
           "landcolor": "#E5ECF6",
           "showlakes": true,
           "showland": true,
           "subunitcolor": "white"
          },
          "hoverlabel": {
           "align": "left"
          },
          "hovermode": "closest",
          "mapbox": {
           "style": "light"
          },
          "paper_bgcolor": "white",
          "plot_bgcolor": "#E5ECF6",
          "polar": {
           "angularaxis": {
            "gridcolor": "white",
            "linecolor": "white",
            "ticks": ""
           },
           "bgcolor": "#E5ECF6",
           "radialaxis": {
            "gridcolor": "white",
            "linecolor": "white",
            "ticks": ""
           }
          },
          "scene": {
           "xaxis": {
            "backgroundcolor": "#E5ECF6",
            "gridcolor": "white",
            "gridwidth": 2,
            "linecolor": "white",
            "showbackground": true,
            "ticks": "",
            "zerolinecolor": "white"
           },
           "yaxis": {
            "backgroundcolor": "#E5ECF6",
            "gridcolor": "white",
            "gridwidth": 2,
            "linecolor": "white",
            "showbackground": true,
            "ticks": "",
            "zerolinecolor": "white"
           },
           "zaxis": {
            "backgroundcolor": "#E5ECF6",
            "gridcolor": "white",
            "gridwidth": 2,
            "linecolor": "white",
            "showbackground": true,
            "ticks": "",
            "zerolinecolor": "white"
           }
          },
          "shapedefaults": {
           "line": {
            "color": "#2a3f5f"
           }
          },
          "ternary": {
           "aaxis": {
            "gridcolor": "white",
            "linecolor": "white",
            "ticks": ""
           },
           "baxis": {
            "gridcolor": "white",
            "linecolor": "white",
            "ticks": ""
           },
           "bgcolor": "#E5ECF6",
           "caxis": {
            "gridcolor": "white",
            "linecolor": "white",
            "ticks": ""
           }
          },
          "title": {
           "x": 0.05
          },
          "xaxis": {
           "automargin": true,
           "gridcolor": "white",
           "linecolor": "white",
           "ticks": "",
           "title": {
            "standoff": 15
           },
           "zerolinecolor": "white",
           "zerolinewidth": 2
          },
          "yaxis": {
           "automargin": true,
           "gridcolor": "white",
           "linecolor": "white",
           "ticks": "",
           "title": {
            "standoff": 15
           },
           "zerolinecolor": "white",
           "zerolinewidth": 2
          }
         }
        },
        "title": {
         "font": {
          "color": "#4D5663"
         },
         "text": "Topic 1: Top 100 words after removing stop words"
        },
        "xaxis": {
         "gridcolor": "#E1E5ED",
         "linecolor": "black",
         "showgrid": true,
         "tickfont": {
          "color": "#4D5663"
         },
         "title": {
          "font": {
           "color": "#4D5663"
          },
          "text": ""
         },
         "zerolinecolor": "#E1E5ED"
        },
        "yaxis": {
         "gridcolor": "#E1E5ED",
         "linecolor": "black",
         "showgrid": true,
         "tickfont": {
          "color": "#4D5663"
         },
         "title": {
          "font": {
           "color": "#4D5663"
          },
          "text": "Count"
         },
         "zerolinecolor": "#E1E5ED"
        }
       }
      },
      "text/html": [
       "<div>                            <div id=\"2cb92f14-e3f2-473f-9caf-ba8215637617\" class=\"plotly-graph-div\" style=\"height:525px; width:100%;\"></div>            <script type=\"text/javascript\">                require([\"plotly\"], function(Plotly) {                    window.PLOTLYENV=window.PLOTLYENV || {};\n",
       "                    window.PLOTLYENV.BASE_URL='https://plot.ly';                                    if (document.getElementById(\"2cb92f14-e3f2-473f-9caf-ba8215637617\")) {                    Plotly.newPlot(                        \"2cb92f14-e3f2-473f-9caf-ba8215637617\",                        [{\"marker\":{\"color\":\"rgba(255, 153, 51, 0.6)\",\"line\":{\"color\":\"rgba(255, 153, 51, 1.0)\",\"width\":1}},\"name\":\"count\",\"orientation\":\"v\",\"text\":\"\",\"type\":\"bar\",\"x\":[\"statistic\",\"statistical\",\"datum\",\"use\",\"sample\",\"population\",\"study\",\"probability\",\"error\",\"method\",\"value\",\"variable\",\"analysis\",\"also\",\"type\",\"test\",\"include\",\"measurement\",\"give\",\"interval\",\"model\",\"may\",\"make\",\"random\",\"estimator\",\"estimate\",\"parameter\",\"distribution\",\"inference\",\"mathematical\",\"hypothesis\",\"call\",\"null_hypothesis\",\"data\",\"apply\",\"often\",\"correlation\",\"set\",\"experiment\",\"experimental\",\"early\",\"relationship\",\"people\",\"business\",\"large\",\"involve\",\"true\",\"example\",\"result\",\"significance\",\"develop\",\"problem\",\"procedure\",\"theory\",\"describe\",\"standard\",\"reject\",\"collect\",\"science\",\"unknown\",\"estimation\",\"case\",\"discipline\",\"change\",\"difference\",\"true_value\",\"decision\",\"design\",\"draw\",\"technique\",\"linear_regression\",\"refer\",\"process\",\"research\",\"inferential\",\"question\",\"social\",\"property\",\"transformation\",\"observation\",\"many\",\"take\",\"statistician\",\"computer\",\"term\",\"summarize\",\"system\",\"sense\",\"tool\",\"collection\",\"however\",\"concept\",\"conclusion\",\"represent\",\"define\",\"deviation\",\"observational\",\"well\",\"mean\",\"work\"],\"y\":[65,64,58,52,41,33,32,31,29,26,26,25,22,22,21,21,19,19,19,17,16,16,16,15,15,14,14,14,13,13,12,12,12,12,12,11,11,11,11,10,9,9,9,9,8,8,8,8,8,8,8,8,8,8,8,8,8,8,8,7,7,7,7,7,7,7,7,7,7,7,7,7,7,7,7,7,7,7,7,7,7,7,6,6,6,6,6,6,6,6,6,6,6,6,6,6,6,6,6,6]}],                        {\"legend\":{\"bgcolor\":\"#F5F6F9\",\"font\":{\"color\":\"#4D5663\"}},\"paper_bgcolor\":\"#F5F6F9\",\"plot_bgcolor\":\"#F5F6F9\",\"template\":{\"data\":{\"bar\":[{\"error_x\":{\"color\":\"#2a3f5f\"},\"error_y\":{\"color\":\"#2a3f5f\"},\"marker\":{\"line\":{\"color\":\"#E5ECF6\",\"width\":0.5},\"pattern\":{\"fillmode\":\"overlay\",\"size\":10,\"solidity\":0.2}},\"type\":\"bar\"}],\"barpolar\":[{\"marker\":{\"line\":{\"color\":\"#E5ECF6\",\"width\":0.5},\"pattern\":{\"fillmode\":\"overlay\",\"size\":10,\"solidity\":0.2}},\"type\":\"barpolar\"}],\"carpet\":[{\"aaxis\":{\"endlinecolor\":\"#2a3f5f\",\"gridcolor\":\"white\",\"linecolor\":\"white\",\"minorgridcolor\":\"white\",\"startlinecolor\":\"#2a3f5f\"},\"baxis\":{\"endlinecolor\":\"#2a3f5f\",\"gridcolor\":\"white\",\"linecolor\":\"white\",\"minorgridcolor\":\"white\",\"startlinecolor\":\"#2a3f5f\"},\"type\":\"carpet\"}],\"choropleth\":[{\"colorbar\":{\"outlinewidth\":0,\"ticks\":\"\"},\"type\":\"choropleth\"}],\"contour\":[{\"colorbar\":{\"outlinewidth\":0,\"ticks\":\"\"},\"colorscale\":[[0.0,\"#0d0887\"],[0.1111111111111111,\"#46039f\"],[0.2222222222222222,\"#7201a8\"],[0.3333333333333333,\"#9c179e\"],[0.4444444444444444,\"#bd3786\"],[0.5555555555555556,\"#d8576b\"],[0.6666666666666666,\"#ed7953\"],[0.7777777777777778,\"#fb9f3a\"],[0.8888888888888888,\"#fdca26\"],[1.0,\"#f0f921\"]],\"type\":\"contour\"}],\"contourcarpet\":[{\"colorbar\":{\"outlinewidth\":0,\"ticks\":\"\"},\"type\":\"contourcarpet\"}],\"heatmap\":[{\"colorbar\":{\"outlinewidth\":0,\"ticks\":\"\"},\"colorscale\":[[0.0,\"#0d0887\"],[0.1111111111111111,\"#46039f\"],[0.2222222222222222,\"#7201a8\"],[0.3333333333333333,\"#9c179e\"],[0.4444444444444444,\"#bd3786\"],[0.5555555555555556,\"#d8576b\"],[0.6666666666666666,\"#ed7953\"],[0.7777777777777778,\"#fb9f3a\"],[0.8888888888888888,\"#fdca26\"],[1.0,\"#f0f921\"]],\"type\":\"heatmap\"}],\"heatmapgl\":[{\"colorbar\":{\"outlinewidth\":0,\"ticks\":\"\"},\"colorscale\":[[0.0,\"#0d0887\"],[0.1111111111111111,\"#46039f\"],[0.2222222222222222,\"#7201a8\"],[0.3333333333333333,\"#9c179e\"],[0.4444444444444444,\"#bd3786\"],[0.5555555555555556,\"#d8576b\"],[0.6666666666666666,\"#ed7953\"],[0.7777777777777778,\"#fb9f3a\"],[0.8888888888888888,\"#fdca26\"],[1.0,\"#f0f921\"]],\"type\":\"heatmapgl\"}],\"histogram\":[{\"marker\":{\"pattern\":{\"fillmode\":\"overlay\",\"size\":10,\"solidity\":0.2}},\"type\":\"histogram\"}],\"histogram2d\":[{\"colorbar\":{\"outlinewidth\":0,\"ticks\":\"\"},\"colorscale\":[[0.0,\"#0d0887\"],[0.1111111111111111,\"#46039f\"],[0.2222222222222222,\"#7201a8\"],[0.3333333333333333,\"#9c179e\"],[0.4444444444444444,\"#bd3786\"],[0.5555555555555556,\"#d8576b\"],[0.6666666666666666,\"#ed7953\"],[0.7777777777777778,\"#fb9f3a\"],[0.8888888888888888,\"#fdca26\"],[1.0,\"#f0f921\"]],\"type\":\"histogram2d\"}],\"histogram2dcontour\":[{\"colorbar\":{\"outlinewidth\":0,\"ticks\":\"\"},\"colorscale\":[[0.0,\"#0d0887\"],[0.1111111111111111,\"#46039f\"],[0.2222222222222222,\"#7201a8\"],[0.3333333333333333,\"#9c179e\"],[0.4444444444444444,\"#bd3786\"],[0.5555555555555556,\"#d8576b\"],[0.6666666666666666,\"#ed7953\"],[0.7777777777777778,\"#fb9f3a\"],[0.8888888888888888,\"#fdca26\"],[1.0,\"#f0f921\"]],\"type\":\"histogram2dcontour\"}],\"mesh3d\":[{\"colorbar\":{\"outlinewidth\":0,\"ticks\":\"\"},\"type\":\"mesh3d\"}],\"parcoords\":[{\"line\":{\"colorbar\":{\"outlinewidth\":0,\"ticks\":\"\"}},\"type\":\"parcoords\"}],\"pie\":[{\"automargin\":true,\"type\":\"pie\"}],\"scatter\":[{\"marker\":{\"colorbar\":{\"outlinewidth\":0,\"ticks\":\"\"}},\"type\":\"scatter\"}],\"scatter3d\":[{\"line\":{\"colorbar\":{\"outlinewidth\":0,\"ticks\":\"\"}},\"marker\":{\"colorbar\":{\"outlinewidth\":0,\"ticks\":\"\"}},\"type\":\"scatter3d\"}],\"scattercarpet\":[{\"marker\":{\"colorbar\":{\"outlinewidth\":0,\"ticks\":\"\"}},\"type\":\"scattercarpet\"}],\"scattergeo\":[{\"marker\":{\"colorbar\":{\"outlinewidth\":0,\"ticks\":\"\"}},\"type\":\"scattergeo\"}],\"scattergl\":[{\"marker\":{\"colorbar\":{\"outlinewidth\":0,\"ticks\":\"\"}},\"type\":\"scattergl\"}],\"scattermapbox\":[{\"marker\":{\"colorbar\":{\"outlinewidth\":0,\"ticks\":\"\"}},\"type\":\"scattermapbox\"}],\"scatterpolar\":[{\"marker\":{\"colorbar\":{\"outlinewidth\":0,\"ticks\":\"\"}},\"type\":\"scatterpolar\"}],\"scatterpolargl\":[{\"marker\":{\"colorbar\":{\"outlinewidth\":0,\"ticks\":\"\"}},\"type\":\"scatterpolargl\"}],\"scatterternary\":[{\"marker\":{\"colorbar\":{\"outlinewidth\":0,\"ticks\":\"\"}},\"type\":\"scatterternary\"}],\"surface\":[{\"colorbar\":{\"outlinewidth\":0,\"ticks\":\"\"},\"colorscale\":[[0.0,\"#0d0887\"],[0.1111111111111111,\"#46039f\"],[0.2222222222222222,\"#7201a8\"],[0.3333333333333333,\"#9c179e\"],[0.4444444444444444,\"#bd3786\"],[0.5555555555555556,\"#d8576b\"],[0.6666666666666666,\"#ed7953\"],[0.7777777777777778,\"#fb9f3a\"],[0.8888888888888888,\"#fdca26\"],[1.0,\"#f0f921\"]],\"type\":\"surface\"}],\"table\":[{\"cells\":{\"fill\":{\"color\":\"#EBF0F8\"},\"line\":{\"color\":\"white\"}},\"header\":{\"fill\":{\"color\":\"#C8D4E3\"},\"line\":{\"color\":\"white\"}},\"type\":\"table\"}]},\"layout\":{\"annotationdefaults\":{\"arrowcolor\":\"#2a3f5f\",\"arrowhead\":0,\"arrowwidth\":1},\"autotypenumbers\":\"strict\",\"coloraxis\":{\"colorbar\":{\"outlinewidth\":0,\"ticks\":\"\"}},\"colorscale\":{\"diverging\":[[0,\"#8e0152\"],[0.1,\"#c51b7d\"],[0.2,\"#de77ae\"],[0.3,\"#f1b6da\"],[0.4,\"#fde0ef\"],[0.5,\"#f7f7f7\"],[0.6,\"#e6f5d0\"],[0.7,\"#b8e186\"],[0.8,\"#7fbc41\"],[0.9,\"#4d9221\"],[1,\"#276419\"]],\"sequential\":[[0.0,\"#0d0887\"],[0.1111111111111111,\"#46039f\"],[0.2222222222222222,\"#7201a8\"],[0.3333333333333333,\"#9c179e\"],[0.4444444444444444,\"#bd3786\"],[0.5555555555555556,\"#d8576b\"],[0.6666666666666666,\"#ed7953\"],[0.7777777777777778,\"#fb9f3a\"],[0.8888888888888888,\"#fdca26\"],[1.0,\"#f0f921\"]],\"sequentialminus\":[[0.0,\"#0d0887\"],[0.1111111111111111,\"#46039f\"],[0.2222222222222222,\"#7201a8\"],[0.3333333333333333,\"#9c179e\"],[0.4444444444444444,\"#bd3786\"],[0.5555555555555556,\"#d8576b\"],[0.6666666666666666,\"#ed7953\"],[0.7777777777777778,\"#fb9f3a\"],[0.8888888888888888,\"#fdca26\"],[1.0,\"#f0f921\"]]},\"colorway\":[\"#636efa\",\"#EF553B\",\"#00cc96\",\"#ab63fa\",\"#FFA15A\",\"#19d3f3\",\"#FF6692\",\"#B6E880\",\"#FF97FF\",\"#FECB52\"],\"font\":{\"color\":\"#2a3f5f\"},\"geo\":{\"bgcolor\":\"white\",\"lakecolor\":\"white\",\"landcolor\":\"#E5ECF6\",\"showlakes\":true,\"showland\":true,\"subunitcolor\":\"white\"},\"hoverlabel\":{\"align\":\"left\"},\"hovermode\":\"closest\",\"mapbox\":{\"style\":\"light\"},\"paper_bgcolor\":\"white\",\"plot_bgcolor\":\"#E5ECF6\",\"polar\":{\"angularaxis\":{\"gridcolor\":\"white\",\"linecolor\":\"white\",\"ticks\":\"\"},\"bgcolor\":\"#E5ECF6\",\"radialaxis\":{\"gridcolor\":\"white\",\"linecolor\":\"white\",\"ticks\":\"\"}},\"scene\":{\"xaxis\":{\"backgroundcolor\":\"#E5ECF6\",\"gridcolor\":\"white\",\"gridwidth\":2,\"linecolor\":\"white\",\"showbackground\":true,\"ticks\":\"\",\"zerolinecolor\":\"white\"},\"yaxis\":{\"backgroundcolor\":\"#E5ECF6\",\"gridcolor\":\"white\",\"gridwidth\":2,\"linecolor\":\"white\",\"showbackground\":true,\"ticks\":\"\",\"zerolinecolor\":\"white\"},\"zaxis\":{\"backgroundcolor\":\"#E5ECF6\",\"gridcolor\":\"white\",\"gridwidth\":2,\"linecolor\":\"white\",\"showbackground\":true,\"ticks\":\"\",\"zerolinecolor\":\"white\"}},\"shapedefaults\":{\"line\":{\"color\":\"#2a3f5f\"}},\"ternary\":{\"aaxis\":{\"gridcolor\":\"white\",\"linecolor\":\"white\",\"ticks\":\"\"},\"baxis\":{\"gridcolor\":\"white\",\"linecolor\":\"white\",\"ticks\":\"\"},\"bgcolor\":\"#E5ECF6\",\"caxis\":{\"gridcolor\":\"white\",\"linecolor\":\"white\",\"ticks\":\"\"}},\"title\":{\"x\":0.05},\"xaxis\":{\"automargin\":true,\"gridcolor\":\"white\",\"linecolor\":\"white\",\"ticks\":\"\",\"title\":{\"standoff\":15},\"zerolinecolor\":\"white\",\"zerolinewidth\":2},\"yaxis\":{\"automargin\":true,\"gridcolor\":\"white\",\"linecolor\":\"white\",\"ticks\":\"\",\"title\":{\"standoff\":15},\"zerolinecolor\":\"white\",\"zerolinewidth\":2}}},\"title\":{\"font\":{\"color\":\"#4D5663\"},\"text\":\"Topic 1: Top 100 words after removing stop words\"},\"xaxis\":{\"gridcolor\":\"#E1E5ED\",\"linecolor\":\"black\",\"showgrid\":true,\"tickfont\":{\"color\":\"#4D5663\"},\"title\":{\"font\":{\"color\":\"#4D5663\"},\"text\":\"\"},\"zerolinecolor\":\"#E1E5ED\"},\"yaxis\":{\"gridcolor\":\"#E1E5ED\",\"linecolor\":\"black\",\"showgrid\":true,\"tickfont\":{\"color\":\"#4D5663\"},\"title\":{\"font\":{\"color\":\"#4D5663\"},\"text\":\"Count\"},\"zerolinecolor\":\"#E1E5ED\"}},                        {\"showLink\": true, \"linkText\": \"Export to plot.ly\", \"plotlyServerURL\": \"https://plot.ly\", \"responsive\": true}                    ).then(function(){\n",
       "                            \n",
       "var gd = document.getElementById('2cb92f14-e3f2-473f-9caf-ba8215637617');\n",
       "var x = new MutationObserver(function (mutations, observer) {{\n",
       "        var display = window.getComputedStyle(gd).display;\n",
       "        if (!display || display === 'none') {{\n",
       "            console.log([gd, 'removed!']);\n",
       "            Plotly.purge(gd);\n",
       "            observer.disconnect();\n",
       "        }}\n",
       "}});\n",
       "\n",
       "// Listen for the removal of the full notebook cells\n",
       "var notebookContainer = gd.closest('#notebook-container');\n",
       "if (notebookContainer) {{\n",
       "    x.observe(notebookContainer, {childList: true});\n",
       "}}\n",
       "\n",
       "// Listen for the clearing of the current output cell\n",
       "var outputEl = gd.closest('.output');\n",
       "if (outputEl) {{\n",
       "    x.observe(outputEl, {childList: true});\n",
       "}}\n",
       "\n",
       "                        })                };                });            </script>        </div>"
      ]
     },
     "metadata": {},
     "output_type": "display_data"
    }
   ],
   "source": [
    "plot_model(lda2, plot = 'frequency', topic_num = 'Topic 1')"
   ]
  },
  {
   "cell_type": "markdown",
   "metadata": {
    "id": "-VaXXrDSEWyX"
   },
   "source": [
    "## **Topic Distribution**"
   ]
  },
  {
   "cell_type": "code",
   "execution_count": 15,
   "metadata": {
    "colab": {
     "base_uri": "https://localhost:8080/",
     "height": 542
    },
    "id": "a3wjCytjEUsk",
    "outputId": "c580427a-e618-4c0a-8f5f-9e36527468f0"
   },
   "outputs": [
    {
     "data": {
      "text/html": [
       "        <script type=\"text/javascript\">\n",
       "        window.PlotlyConfig = {MathJaxConfig: 'local'};\n",
       "        if (window.MathJax) {MathJax.Hub.Config({SVG: {font: \"STIX-Web\"}});}\n",
       "        if (typeof require !== 'undefined') {\n",
       "        require.undef(\"plotly\");\n",
       "        requirejs.config({\n",
       "            paths: {\n",
       "                'plotly': ['https://cdn.plot.ly/plotly-2.2.0.min']\n",
       "            }\n",
       "        });\n",
       "        require(['plotly'], function(Plotly) {\n",
       "            window._Plotly = Plotly;\n",
       "        });\n",
       "        }\n",
       "        </script>\n",
       "        "
      ]
     },
     "metadata": {},
     "output_type": "display_data"
    },
    {
     "data": {
      "application/vnd.plotly.v1+json": {
       "config": {
        "plotlyServerURL": "https://plot.ly"
       },
       "data": [
        {
         "alignmentgroup": "True",
         "customdata": [
          [
           "social, medium, use, political, people, user, information, study, find, also"
          ],
          [
           "statistic, statistical, datum, use, sample, population, study, probability, error, value"
          ],
          [
           "social, medium, use, user, platform, content, also, service, many, share"
          ],
          [
           "politic, political, state, view, conflict, formation, early, social, human, argue"
          ],
          [
           "political, democracy, society, state, government, power, right, social, include, system"
          ]
         ],
         "hovertemplate": "Topic=%{x}<br>Documents=%{y}<br>Keyword=%{customdata[0]}<extra></extra>",
         "legendgroup": "",
         "marker": {
          "color": "#636efa",
          "pattern": {
           "shape": ""
          }
         },
         "name": "",
         "offsetgroup": "",
         "orientation": "v",
         "showlegend": false,
         "textposition": "auto",
         "type": "bar",
         "x": [
          "Topic 0",
          "Topic 1",
          "Topic 2",
          "Topic 3",
          "Topic 4"
         ],
         "xaxis": "x",
         "y": [
          5,
          7,
          3,
          1,
          3
         ],
         "yaxis": "y"
        }
       ],
       "layout": {
        "barmode": "relative",
        "legend": {
         "tracegroupgap": 0
        },
        "template": {
         "data": {
          "bar": [
           {
            "error_x": {
             "color": "#2a3f5f"
            },
            "error_y": {
             "color": "#2a3f5f"
            },
            "marker": {
             "line": {
              "color": "#E5ECF6",
              "width": 0.5
             },
             "pattern": {
              "fillmode": "overlay",
              "size": 10,
              "solidity": 0.2
             }
            },
            "type": "bar"
           }
          ],
          "barpolar": [
           {
            "marker": {
             "line": {
              "color": "#E5ECF6",
              "width": 0.5
             },
             "pattern": {
              "fillmode": "overlay",
              "size": 10,
              "solidity": 0.2
             }
            },
            "type": "barpolar"
           }
          ],
          "carpet": [
           {
            "aaxis": {
             "endlinecolor": "#2a3f5f",
             "gridcolor": "white",
             "linecolor": "white",
             "minorgridcolor": "white",
             "startlinecolor": "#2a3f5f"
            },
            "baxis": {
             "endlinecolor": "#2a3f5f",
             "gridcolor": "white",
             "linecolor": "white",
             "minorgridcolor": "white",
             "startlinecolor": "#2a3f5f"
            },
            "type": "carpet"
           }
          ],
          "choropleth": [
           {
            "colorbar": {
             "outlinewidth": 0,
             "ticks": ""
            },
            "type": "choropleth"
           }
          ],
          "contour": [
           {
            "colorbar": {
             "outlinewidth": 0,
             "ticks": ""
            },
            "colorscale": [
             [
              0,
              "#0d0887"
             ],
             [
              0.1111111111111111,
              "#46039f"
             ],
             [
              0.2222222222222222,
              "#7201a8"
             ],
             [
              0.3333333333333333,
              "#9c179e"
             ],
             [
              0.4444444444444444,
              "#bd3786"
             ],
             [
              0.5555555555555556,
              "#d8576b"
             ],
             [
              0.6666666666666666,
              "#ed7953"
             ],
             [
              0.7777777777777778,
              "#fb9f3a"
             ],
             [
              0.8888888888888888,
              "#fdca26"
             ],
             [
              1,
              "#f0f921"
             ]
            ],
            "type": "contour"
           }
          ],
          "contourcarpet": [
           {
            "colorbar": {
             "outlinewidth": 0,
             "ticks": ""
            },
            "type": "contourcarpet"
           }
          ],
          "heatmap": [
           {
            "colorbar": {
             "outlinewidth": 0,
             "ticks": ""
            },
            "colorscale": [
             [
              0,
              "#0d0887"
             ],
             [
              0.1111111111111111,
              "#46039f"
             ],
             [
              0.2222222222222222,
              "#7201a8"
             ],
             [
              0.3333333333333333,
              "#9c179e"
             ],
             [
              0.4444444444444444,
              "#bd3786"
             ],
             [
              0.5555555555555556,
              "#d8576b"
             ],
             [
              0.6666666666666666,
              "#ed7953"
             ],
             [
              0.7777777777777778,
              "#fb9f3a"
             ],
             [
              0.8888888888888888,
              "#fdca26"
             ],
             [
              1,
              "#f0f921"
             ]
            ],
            "type": "heatmap"
           }
          ],
          "heatmapgl": [
           {
            "colorbar": {
             "outlinewidth": 0,
             "ticks": ""
            },
            "colorscale": [
             [
              0,
              "#0d0887"
             ],
             [
              0.1111111111111111,
              "#46039f"
             ],
             [
              0.2222222222222222,
              "#7201a8"
             ],
             [
              0.3333333333333333,
              "#9c179e"
             ],
             [
              0.4444444444444444,
              "#bd3786"
             ],
             [
              0.5555555555555556,
              "#d8576b"
             ],
             [
              0.6666666666666666,
              "#ed7953"
             ],
             [
              0.7777777777777778,
              "#fb9f3a"
             ],
             [
              0.8888888888888888,
              "#fdca26"
             ],
             [
              1,
              "#f0f921"
             ]
            ],
            "type": "heatmapgl"
           }
          ],
          "histogram": [
           {
            "marker": {
             "pattern": {
              "fillmode": "overlay",
              "size": 10,
              "solidity": 0.2
             }
            },
            "type": "histogram"
           }
          ],
          "histogram2d": [
           {
            "colorbar": {
             "outlinewidth": 0,
             "ticks": ""
            },
            "colorscale": [
             [
              0,
              "#0d0887"
             ],
             [
              0.1111111111111111,
              "#46039f"
             ],
             [
              0.2222222222222222,
              "#7201a8"
             ],
             [
              0.3333333333333333,
              "#9c179e"
             ],
             [
              0.4444444444444444,
              "#bd3786"
             ],
             [
              0.5555555555555556,
              "#d8576b"
             ],
             [
              0.6666666666666666,
              "#ed7953"
             ],
             [
              0.7777777777777778,
              "#fb9f3a"
             ],
             [
              0.8888888888888888,
              "#fdca26"
             ],
             [
              1,
              "#f0f921"
             ]
            ],
            "type": "histogram2d"
           }
          ],
          "histogram2dcontour": [
           {
            "colorbar": {
             "outlinewidth": 0,
             "ticks": ""
            },
            "colorscale": [
             [
              0,
              "#0d0887"
             ],
             [
              0.1111111111111111,
              "#46039f"
             ],
             [
              0.2222222222222222,
              "#7201a8"
             ],
             [
              0.3333333333333333,
              "#9c179e"
             ],
             [
              0.4444444444444444,
              "#bd3786"
             ],
             [
              0.5555555555555556,
              "#d8576b"
             ],
             [
              0.6666666666666666,
              "#ed7953"
             ],
             [
              0.7777777777777778,
              "#fb9f3a"
             ],
             [
              0.8888888888888888,
              "#fdca26"
             ],
             [
              1,
              "#f0f921"
             ]
            ],
            "type": "histogram2dcontour"
           }
          ],
          "mesh3d": [
           {
            "colorbar": {
             "outlinewidth": 0,
             "ticks": ""
            },
            "type": "mesh3d"
           }
          ],
          "parcoords": [
           {
            "line": {
             "colorbar": {
              "outlinewidth": 0,
              "ticks": ""
             }
            },
            "type": "parcoords"
           }
          ],
          "pie": [
           {
            "automargin": true,
            "type": "pie"
           }
          ],
          "scatter": [
           {
            "marker": {
             "colorbar": {
              "outlinewidth": 0,
              "ticks": ""
             }
            },
            "type": "scatter"
           }
          ],
          "scatter3d": [
           {
            "line": {
             "colorbar": {
              "outlinewidth": 0,
              "ticks": ""
             }
            },
            "marker": {
             "colorbar": {
              "outlinewidth": 0,
              "ticks": ""
             }
            },
            "type": "scatter3d"
           }
          ],
          "scattercarpet": [
           {
            "marker": {
             "colorbar": {
              "outlinewidth": 0,
              "ticks": ""
             }
            },
            "type": "scattercarpet"
           }
          ],
          "scattergeo": [
           {
            "marker": {
             "colorbar": {
              "outlinewidth": 0,
              "ticks": ""
             }
            },
            "type": "scattergeo"
           }
          ],
          "scattergl": [
           {
            "marker": {
             "colorbar": {
              "outlinewidth": 0,
              "ticks": ""
             }
            },
            "type": "scattergl"
           }
          ],
          "scattermapbox": [
           {
            "marker": {
             "colorbar": {
              "outlinewidth": 0,
              "ticks": ""
             }
            },
            "type": "scattermapbox"
           }
          ],
          "scatterpolar": [
           {
            "marker": {
             "colorbar": {
              "outlinewidth": 0,
              "ticks": ""
             }
            },
            "type": "scatterpolar"
           }
          ],
          "scatterpolargl": [
           {
            "marker": {
             "colorbar": {
              "outlinewidth": 0,
              "ticks": ""
             }
            },
            "type": "scatterpolargl"
           }
          ],
          "scatterternary": [
           {
            "marker": {
             "colorbar": {
              "outlinewidth": 0,
              "ticks": ""
             }
            },
            "type": "scatterternary"
           }
          ],
          "surface": [
           {
            "colorbar": {
             "outlinewidth": 0,
             "ticks": ""
            },
            "colorscale": [
             [
              0,
              "#0d0887"
             ],
             [
              0.1111111111111111,
              "#46039f"
             ],
             [
              0.2222222222222222,
              "#7201a8"
             ],
             [
              0.3333333333333333,
              "#9c179e"
             ],
             [
              0.4444444444444444,
              "#bd3786"
             ],
             [
              0.5555555555555556,
              "#d8576b"
             ],
             [
              0.6666666666666666,
              "#ed7953"
             ],
             [
              0.7777777777777778,
              "#fb9f3a"
             ],
             [
              0.8888888888888888,
              "#fdca26"
             ],
             [
              1,
              "#f0f921"
             ]
            ],
            "type": "surface"
           }
          ],
          "table": [
           {
            "cells": {
             "fill": {
              "color": "#EBF0F8"
             },
             "line": {
              "color": "white"
             }
            },
            "header": {
             "fill": {
              "color": "#C8D4E3"
             },
             "line": {
              "color": "white"
             }
            },
            "type": "table"
           }
          ]
         },
         "layout": {
          "annotationdefaults": {
           "arrowcolor": "#2a3f5f",
           "arrowhead": 0,
           "arrowwidth": 1
          },
          "autotypenumbers": "strict",
          "coloraxis": {
           "colorbar": {
            "outlinewidth": 0,
            "ticks": ""
           }
          },
          "colorscale": {
           "diverging": [
            [
             0,
             "#8e0152"
            ],
            [
             0.1,
             "#c51b7d"
            ],
            [
             0.2,
             "#de77ae"
            ],
            [
             0.3,
             "#f1b6da"
            ],
            [
             0.4,
             "#fde0ef"
            ],
            [
             0.5,
             "#f7f7f7"
            ],
            [
             0.6,
             "#e6f5d0"
            ],
            [
             0.7,
             "#b8e186"
            ],
            [
             0.8,
             "#7fbc41"
            ],
            [
             0.9,
             "#4d9221"
            ],
            [
             1,
             "#276419"
            ]
           ],
           "sequential": [
            [
             0,
             "#0d0887"
            ],
            [
             0.1111111111111111,
             "#46039f"
            ],
            [
             0.2222222222222222,
             "#7201a8"
            ],
            [
             0.3333333333333333,
             "#9c179e"
            ],
            [
             0.4444444444444444,
             "#bd3786"
            ],
            [
             0.5555555555555556,
             "#d8576b"
            ],
            [
             0.6666666666666666,
             "#ed7953"
            ],
            [
             0.7777777777777778,
             "#fb9f3a"
            ],
            [
             0.8888888888888888,
             "#fdca26"
            ],
            [
             1,
             "#f0f921"
            ]
           ],
           "sequentialminus": [
            [
             0,
             "#0d0887"
            ],
            [
             0.1111111111111111,
             "#46039f"
            ],
            [
             0.2222222222222222,
             "#7201a8"
            ],
            [
             0.3333333333333333,
             "#9c179e"
            ],
            [
             0.4444444444444444,
             "#bd3786"
            ],
            [
             0.5555555555555556,
             "#d8576b"
            ],
            [
             0.6666666666666666,
             "#ed7953"
            ],
            [
             0.7777777777777778,
             "#fb9f3a"
            ],
            [
             0.8888888888888888,
             "#fdca26"
            ],
            [
             1,
             "#f0f921"
            ]
           ]
          },
          "colorway": [
           "#636efa",
           "#EF553B",
           "#00cc96",
           "#ab63fa",
           "#FFA15A",
           "#19d3f3",
           "#FF6692",
           "#B6E880",
           "#FF97FF",
           "#FECB52"
          ],
          "font": {
           "color": "#2a3f5f"
          },
          "geo": {
           "bgcolor": "white",
           "lakecolor": "white",
           "landcolor": "#E5ECF6",
           "showlakes": true,
           "showland": true,
           "subunitcolor": "white"
          },
          "hoverlabel": {
           "align": "left"
          },
          "hovermode": "closest",
          "mapbox": {
           "style": "light"
          },
          "paper_bgcolor": "white",
          "plot_bgcolor": "#E5ECF6",
          "polar": {
           "angularaxis": {
            "gridcolor": "white",
            "linecolor": "white",
            "ticks": ""
           },
           "bgcolor": "#E5ECF6",
           "radialaxis": {
            "gridcolor": "white",
            "linecolor": "white",
            "ticks": ""
           }
          },
          "scene": {
           "xaxis": {
            "backgroundcolor": "#E5ECF6",
            "gridcolor": "white",
            "gridwidth": 2,
            "linecolor": "white",
            "showbackground": true,
            "ticks": "",
            "zerolinecolor": "white"
           },
           "yaxis": {
            "backgroundcolor": "#E5ECF6",
            "gridcolor": "white",
            "gridwidth": 2,
            "linecolor": "white",
            "showbackground": true,
            "ticks": "",
            "zerolinecolor": "white"
           },
           "zaxis": {
            "backgroundcolor": "#E5ECF6",
            "gridcolor": "white",
            "gridwidth": 2,
            "linecolor": "white",
            "showbackground": true,
            "ticks": "",
            "zerolinecolor": "white"
           }
          },
          "shapedefaults": {
           "line": {
            "color": "#2a3f5f"
           }
          },
          "ternary": {
           "aaxis": {
            "gridcolor": "white",
            "linecolor": "white",
            "ticks": ""
           },
           "baxis": {
            "gridcolor": "white",
            "linecolor": "white",
            "ticks": ""
           },
           "bgcolor": "#E5ECF6",
           "caxis": {
            "gridcolor": "white",
            "linecolor": "white",
            "ticks": ""
           }
          },
          "title": {
           "x": 0.05
          },
          "xaxis": {
           "automargin": true,
           "gridcolor": "white",
           "linecolor": "white",
           "ticks": "",
           "title": {
            "standoff": 15
           },
           "zerolinecolor": "white",
           "zerolinewidth": 2
          },
          "yaxis": {
           "automargin": true,
           "gridcolor": "white",
           "linecolor": "white",
           "ticks": "",
           "title": {
            "standoff": 15
           },
           "zerolinecolor": "white",
           "zerolinewidth": 2
          }
         }
        },
        "title": {
         "text": "Document Distribution by Topics"
        },
        "xaxis": {
         "anchor": "y",
         "domain": [
          0,
          1
         ],
         "title": {
          "text": "Topic"
         }
        },
        "yaxis": {
         "anchor": "x",
         "domain": [
          0,
          1
         ],
         "title": {
          "text": "Documents"
         }
        }
       }
      },
      "text/html": [
       "<div>                            <div id=\"83a405ed-3b70-4039-b0a1-0743c5293ba0\" class=\"plotly-graph-div\" style=\"height:525px; width:100%;\"></div>            <script type=\"text/javascript\">                require([\"plotly\"], function(Plotly) {                    window.PLOTLYENV=window.PLOTLYENV || {};                                    if (document.getElementById(\"83a405ed-3b70-4039-b0a1-0743c5293ba0\")) {                    Plotly.newPlot(                        \"83a405ed-3b70-4039-b0a1-0743c5293ba0\",                        [{\"alignmentgroup\":\"True\",\"customdata\":[[\"social, medium, use, political, people, user, information, study, find, also\"],[\"statistic, statistical, datum, use, sample, population, study, probability, error, value\"],[\"social, medium, use, user, platform, content, also, service, many, share\"],[\"politic, political, state, view, conflict, formation, early, social, human, argue\"],[\"political, democracy, society, state, government, power, right, social, include, system\"]],\"hovertemplate\":\"Topic=%{x}<br>Documents=%{y}<br>Keyword=%{customdata[0]}<extra></extra>\",\"legendgroup\":\"\",\"marker\":{\"color\":\"#636efa\",\"pattern\":{\"shape\":\"\"}},\"name\":\"\",\"offsetgroup\":\"\",\"orientation\":\"v\",\"showlegend\":false,\"textposition\":\"auto\",\"type\":\"bar\",\"x\":[\"Topic 0\",\"Topic 1\",\"Topic 2\",\"Topic 3\",\"Topic 4\"],\"xaxis\":\"x\",\"y\":[5,7,3,1,3],\"yaxis\":\"y\"}],                        {\"barmode\":\"relative\",\"legend\":{\"tracegroupgap\":0},\"template\":{\"data\":{\"bar\":[{\"error_x\":{\"color\":\"#2a3f5f\"},\"error_y\":{\"color\":\"#2a3f5f\"},\"marker\":{\"line\":{\"color\":\"#E5ECF6\",\"width\":0.5},\"pattern\":{\"fillmode\":\"overlay\",\"size\":10,\"solidity\":0.2}},\"type\":\"bar\"}],\"barpolar\":[{\"marker\":{\"line\":{\"color\":\"#E5ECF6\",\"width\":0.5},\"pattern\":{\"fillmode\":\"overlay\",\"size\":10,\"solidity\":0.2}},\"type\":\"barpolar\"}],\"carpet\":[{\"aaxis\":{\"endlinecolor\":\"#2a3f5f\",\"gridcolor\":\"white\",\"linecolor\":\"white\",\"minorgridcolor\":\"white\",\"startlinecolor\":\"#2a3f5f\"},\"baxis\":{\"endlinecolor\":\"#2a3f5f\",\"gridcolor\":\"white\",\"linecolor\":\"white\",\"minorgridcolor\":\"white\",\"startlinecolor\":\"#2a3f5f\"},\"type\":\"carpet\"}],\"choropleth\":[{\"colorbar\":{\"outlinewidth\":0,\"ticks\":\"\"},\"type\":\"choropleth\"}],\"contour\":[{\"colorbar\":{\"outlinewidth\":0,\"ticks\":\"\"},\"colorscale\":[[0.0,\"#0d0887\"],[0.1111111111111111,\"#46039f\"],[0.2222222222222222,\"#7201a8\"],[0.3333333333333333,\"#9c179e\"],[0.4444444444444444,\"#bd3786\"],[0.5555555555555556,\"#d8576b\"],[0.6666666666666666,\"#ed7953\"],[0.7777777777777778,\"#fb9f3a\"],[0.8888888888888888,\"#fdca26\"],[1.0,\"#f0f921\"]],\"type\":\"contour\"}],\"contourcarpet\":[{\"colorbar\":{\"outlinewidth\":0,\"ticks\":\"\"},\"type\":\"contourcarpet\"}],\"heatmap\":[{\"colorbar\":{\"outlinewidth\":0,\"ticks\":\"\"},\"colorscale\":[[0.0,\"#0d0887\"],[0.1111111111111111,\"#46039f\"],[0.2222222222222222,\"#7201a8\"],[0.3333333333333333,\"#9c179e\"],[0.4444444444444444,\"#bd3786\"],[0.5555555555555556,\"#d8576b\"],[0.6666666666666666,\"#ed7953\"],[0.7777777777777778,\"#fb9f3a\"],[0.8888888888888888,\"#fdca26\"],[1.0,\"#f0f921\"]],\"type\":\"heatmap\"}],\"heatmapgl\":[{\"colorbar\":{\"outlinewidth\":0,\"ticks\":\"\"},\"colorscale\":[[0.0,\"#0d0887\"],[0.1111111111111111,\"#46039f\"],[0.2222222222222222,\"#7201a8\"],[0.3333333333333333,\"#9c179e\"],[0.4444444444444444,\"#bd3786\"],[0.5555555555555556,\"#d8576b\"],[0.6666666666666666,\"#ed7953\"],[0.7777777777777778,\"#fb9f3a\"],[0.8888888888888888,\"#fdca26\"],[1.0,\"#f0f921\"]],\"type\":\"heatmapgl\"}],\"histogram\":[{\"marker\":{\"pattern\":{\"fillmode\":\"overlay\",\"size\":10,\"solidity\":0.2}},\"type\":\"histogram\"}],\"histogram2d\":[{\"colorbar\":{\"outlinewidth\":0,\"ticks\":\"\"},\"colorscale\":[[0.0,\"#0d0887\"],[0.1111111111111111,\"#46039f\"],[0.2222222222222222,\"#7201a8\"],[0.3333333333333333,\"#9c179e\"],[0.4444444444444444,\"#bd3786\"],[0.5555555555555556,\"#d8576b\"],[0.6666666666666666,\"#ed7953\"],[0.7777777777777778,\"#fb9f3a\"],[0.8888888888888888,\"#fdca26\"],[1.0,\"#f0f921\"]],\"type\":\"histogram2d\"}],\"histogram2dcontour\":[{\"colorbar\":{\"outlinewidth\":0,\"ticks\":\"\"},\"colorscale\":[[0.0,\"#0d0887\"],[0.1111111111111111,\"#46039f\"],[0.2222222222222222,\"#7201a8\"],[0.3333333333333333,\"#9c179e\"],[0.4444444444444444,\"#bd3786\"],[0.5555555555555556,\"#d8576b\"],[0.6666666666666666,\"#ed7953\"],[0.7777777777777778,\"#fb9f3a\"],[0.8888888888888888,\"#fdca26\"],[1.0,\"#f0f921\"]],\"type\":\"histogram2dcontour\"}],\"mesh3d\":[{\"colorbar\":{\"outlinewidth\":0,\"ticks\":\"\"},\"type\":\"mesh3d\"}],\"parcoords\":[{\"line\":{\"colorbar\":{\"outlinewidth\":0,\"ticks\":\"\"}},\"type\":\"parcoords\"}],\"pie\":[{\"automargin\":true,\"type\":\"pie\"}],\"scatter\":[{\"marker\":{\"colorbar\":{\"outlinewidth\":0,\"ticks\":\"\"}},\"type\":\"scatter\"}],\"scatter3d\":[{\"line\":{\"colorbar\":{\"outlinewidth\":0,\"ticks\":\"\"}},\"marker\":{\"colorbar\":{\"outlinewidth\":0,\"ticks\":\"\"}},\"type\":\"scatter3d\"}],\"scattercarpet\":[{\"marker\":{\"colorbar\":{\"outlinewidth\":0,\"ticks\":\"\"}},\"type\":\"scattercarpet\"}],\"scattergeo\":[{\"marker\":{\"colorbar\":{\"outlinewidth\":0,\"ticks\":\"\"}},\"type\":\"scattergeo\"}],\"scattergl\":[{\"marker\":{\"colorbar\":{\"outlinewidth\":0,\"ticks\":\"\"}},\"type\":\"scattergl\"}],\"scattermapbox\":[{\"marker\":{\"colorbar\":{\"outlinewidth\":0,\"ticks\":\"\"}},\"type\":\"scattermapbox\"}],\"scatterpolar\":[{\"marker\":{\"colorbar\":{\"outlinewidth\":0,\"ticks\":\"\"}},\"type\":\"scatterpolar\"}],\"scatterpolargl\":[{\"marker\":{\"colorbar\":{\"outlinewidth\":0,\"ticks\":\"\"}},\"type\":\"scatterpolargl\"}],\"scatterternary\":[{\"marker\":{\"colorbar\":{\"outlinewidth\":0,\"ticks\":\"\"}},\"type\":\"scatterternary\"}],\"surface\":[{\"colorbar\":{\"outlinewidth\":0,\"ticks\":\"\"},\"colorscale\":[[0.0,\"#0d0887\"],[0.1111111111111111,\"#46039f\"],[0.2222222222222222,\"#7201a8\"],[0.3333333333333333,\"#9c179e\"],[0.4444444444444444,\"#bd3786\"],[0.5555555555555556,\"#d8576b\"],[0.6666666666666666,\"#ed7953\"],[0.7777777777777778,\"#fb9f3a\"],[0.8888888888888888,\"#fdca26\"],[1.0,\"#f0f921\"]],\"type\":\"surface\"}],\"table\":[{\"cells\":{\"fill\":{\"color\":\"#EBF0F8\"},\"line\":{\"color\":\"white\"}},\"header\":{\"fill\":{\"color\":\"#C8D4E3\"},\"line\":{\"color\":\"white\"}},\"type\":\"table\"}]},\"layout\":{\"annotationdefaults\":{\"arrowcolor\":\"#2a3f5f\",\"arrowhead\":0,\"arrowwidth\":1},\"autotypenumbers\":\"strict\",\"coloraxis\":{\"colorbar\":{\"outlinewidth\":0,\"ticks\":\"\"}},\"colorscale\":{\"diverging\":[[0,\"#8e0152\"],[0.1,\"#c51b7d\"],[0.2,\"#de77ae\"],[0.3,\"#f1b6da\"],[0.4,\"#fde0ef\"],[0.5,\"#f7f7f7\"],[0.6,\"#e6f5d0\"],[0.7,\"#b8e186\"],[0.8,\"#7fbc41\"],[0.9,\"#4d9221\"],[1,\"#276419\"]],\"sequential\":[[0.0,\"#0d0887\"],[0.1111111111111111,\"#46039f\"],[0.2222222222222222,\"#7201a8\"],[0.3333333333333333,\"#9c179e\"],[0.4444444444444444,\"#bd3786\"],[0.5555555555555556,\"#d8576b\"],[0.6666666666666666,\"#ed7953\"],[0.7777777777777778,\"#fb9f3a\"],[0.8888888888888888,\"#fdca26\"],[1.0,\"#f0f921\"]],\"sequentialminus\":[[0.0,\"#0d0887\"],[0.1111111111111111,\"#46039f\"],[0.2222222222222222,\"#7201a8\"],[0.3333333333333333,\"#9c179e\"],[0.4444444444444444,\"#bd3786\"],[0.5555555555555556,\"#d8576b\"],[0.6666666666666666,\"#ed7953\"],[0.7777777777777778,\"#fb9f3a\"],[0.8888888888888888,\"#fdca26\"],[1.0,\"#f0f921\"]]},\"colorway\":[\"#636efa\",\"#EF553B\",\"#00cc96\",\"#ab63fa\",\"#FFA15A\",\"#19d3f3\",\"#FF6692\",\"#B6E880\",\"#FF97FF\",\"#FECB52\"],\"font\":{\"color\":\"#2a3f5f\"},\"geo\":{\"bgcolor\":\"white\",\"lakecolor\":\"white\",\"landcolor\":\"#E5ECF6\",\"showlakes\":true,\"showland\":true,\"subunitcolor\":\"white\"},\"hoverlabel\":{\"align\":\"left\"},\"hovermode\":\"closest\",\"mapbox\":{\"style\":\"light\"},\"paper_bgcolor\":\"white\",\"plot_bgcolor\":\"#E5ECF6\",\"polar\":{\"angularaxis\":{\"gridcolor\":\"white\",\"linecolor\":\"white\",\"ticks\":\"\"},\"bgcolor\":\"#E5ECF6\",\"radialaxis\":{\"gridcolor\":\"white\",\"linecolor\":\"white\",\"ticks\":\"\"}},\"scene\":{\"xaxis\":{\"backgroundcolor\":\"#E5ECF6\",\"gridcolor\":\"white\",\"gridwidth\":2,\"linecolor\":\"white\",\"showbackground\":true,\"ticks\":\"\",\"zerolinecolor\":\"white\"},\"yaxis\":{\"backgroundcolor\":\"#E5ECF6\",\"gridcolor\":\"white\",\"gridwidth\":2,\"linecolor\":\"white\",\"showbackground\":true,\"ticks\":\"\",\"zerolinecolor\":\"white\"},\"zaxis\":{\"backgroundcolor\":\"#E5ECF6\",\"gridcolor\":\"white\",\"gridwidth\":2,\"linecolor\":\"white\",\"showbackground\":true,\"ticks\":\"\",\"zerolinecolor\":\"white\"}},\"shapedefaults\":{\"line\":{\"color\":\"#2a3f5f\"}},\"ternary\":{\"aaxis\":{\"gridcolor\":\"white\",\"linecolor\":\"white\",\"ticks\":\"\"},\"baxis\":{\"gridcolor\":\"white\",\"linecolor\":\"white\",\"ticks\":\"\"},\"bgcolor\":\"#E5ECF6\",\"caxis\":{\"gridcolor\":\"white\",\"linecolor\":\"white\",\"ticks\":\"\"}},\"title\":{\"x\":0.05},\"xaxis\":{\"automargin\":true,\"gridcolor\":\"white\",\"linecolor\":\"white\",\"ticks\":\"\",\"title\":{\"standoff\":15},\"zerolinecolor\":\"white\",\"zerolinewidth\":2},\"yaxis\":{\"automargin\":true,\"gridcolor\":\"white\",\"linecolor\":\"white\",\"ticks\":\"\",\"title\":{\"standoff\":15},\"zerolinecolor\":\"white\",\"zerolinewidth\":2}}},\"title\":{\"text\":\"Document Distribution by Topics\"},\"xaxis\":{\"anchor\":\"y\",\"domain\":[0.0,1.0],\"title\":{\"text\":\"Topic\"}},\"yaxis\":{\"anchor\":\"x\",\"domain\":[0.0,1.0],\"title\":{\"text\":\"Documents\"}}},                        {\"responsive\": true}                    ).then(function(){\n",
       "                            \n",
       "var gd = document.getElementById('83a405ed-3b70-4039-b0a1-0743c5293ba0');\n",
       "var x = new MutationObserver(function (mutations, observer) {{\n",
       "        var display = window.getComputedStyle(gd).display;\n",
       "        if (!display || display === 'none') {{\n",
       "            console.log([gd, 'removed!']);\n",
       "            Plotly.purge(gd);\n",
       "            observer.disconnect();\n",
       "        }}\n",
       "}});\n",
       "\n",
       "// Listen for the removal of the full notebook cells\n",
       "var notebookContainer = gd.closest('#notebook-container');\n",
       "if (notebookContainer) {{\n",
       "    x.observe(notebookContainer, {childList: true});\n",
       "}}\n",
       "\n",
       "// Listen for the clearing of the current output cell\n",
       "var outputEl = gd.closest('.output');\n",
       "if (outputEl) {{\n",
       "    x.observe(outputEl, {childList: true});\n",
       "}}\n",
       "\n",
       "                        })                };                });            </script>        </div>"
      ]
     },
     "metadata": {},
     "output_type": "display_data"
    }
   ],
   "source": [
    "plot_model(lda2, plot = 'topic_distribution')"
   ]
  },
  {
   "cell_type": "markdown",
   "metadata": {
    "id": "zmmYfYZqEkrM"
   },
   "source": [
    "## T-distributed Stochastic Neighbor Embedding (t-SNE)"
   ]
  },
  {
   "cell_type": "code",
   "execution_count": 16,
   "metadata": {
    "colab": {
     "base_uri": "https://localhost:8080/",
     "height": 817
    },
    "id": "qxwVM5vQ2_5g",
    "outputId": "f359d82b-c801-42b0-87ac-21a92db02eb5"
   },
   "outputs": [
    {
     "data": {
      "text/html": [
       "        <script type=\"text/javascript\">\n",
       "        window.PlotlyConfig = {MathJaxConfig: 'local'};\n",
       "        if (window.MathJax) {MathJax.Hub.Config({SVG: {font: \"STIX-Web\"}});}\n",
       "        if (typeof require !== 'undefined') {\n",
       "        require.undef(\"plotly\");\n",
       "        requirejs.config({\n",
       "            paths: {\n",
       "                'plotly': ['https://cdn.plot.ly/plotly-2.2.0.min']\n",
       "            }\n",
       "        });\n",
       "        require(['plotly'], function(Plotly) {\n",
       "            window._Plotly = Plotly;\n",
       "        });\n",
       "        }\n",
       "        </script>\n",
       "        "
      ]
     },
     "metadata": {},
     "output_type": "display_data"
    },
    {
     "data": {
      "application/vnd.plotly.v1+json": {
       "config": {
        "plotlyServerURL": "https://plot.ly"
       },
       "data": [
        {
         "hovertemplate": "Dominant_Topic=Topic 0<br>0=%{x}<br>1=%{y}<br>2=%{z}<extra></extra>",
         "legendgroup": "Topic 0",
         "marker": {
          "color": "#636efa",
          "opacity": 0.7,
          "symbol": "circle"
         },
         "mode": "markers",
         "name": "Topic 0",
         "scene": "scene",
         "showlegend": true,
         "type": "scatter3d",
         "x": [
          -228.33029174804688,
          -241.5866241455078,
          167.17994689941406,
          -22.738876342773438,
          27.44887351989746
         ],
         "y": [
          -25.849552154541016,
          -108.38814544677734,
          44.92215347290039,
          -137.71189880371094,
          -329.288330078125
         ],
         "z": [
          -175.1072540283203,
          68.35385131835938,
          46.55760192871094,
          -38.91766357421875,
          54.81953811645508
         ]
        },
        {
         "hovertemplate": "Dominant_Topic=Topic 1<br>0=%{x}<br>1=%{y}<br>2=%{z}<extra></extra>",
         "legendgroup": "Topic 1",
         "marker": {
          "color": "#EF553B",
          "opacity": 0.7,
          "symbol": "circle"
         },
         "mode": "markers",
         "name": "Topic 1",
         "scene": "scene",
         "showlegend": true,
         "type": "scatter3d",
         "x": [
          -195.61875915527344,
          71.10994720458984,
          -20.58960723876953,
          46.91556930541992,
          -187.71392822265625,
          -60.519081115722656,
          42.87724304199219
         ],
         "y": [
          258.5166015625,
          54.23604202270508,
          -212.83815002441406,
          12.853919982910156,
          -5.280338764190674,
          73.91358184814453,
          299.4561462402344
         ],
         "z": [
          -48.712310791015625,
          253.65771484375,
          -253.50680541992188,
          -240.502197265625,
          284.5818786621094,
          -1.0465025901794434,
          427.0712890625
         ]
        },
        {
         "hovertemplate": "Dominant_Topic=Topic 2<br>0=%{x}<br>1=%{y}<br>2=%{z}<extra></extra>",
         "legendgroup": "Topic 2",
         "marker": {
          "color": "#00cc96",
          "opacity": 0.7,
          "symbol": "circle"
         },
         "mode": "markers",
         "name": "Topic 2",
         "scene": "scene",
         "showlegend": true,
         "type": "scatter3d",
         "x": [
          215.88665771484375,
          35.624847412109375,
          -25.438932418823242
         ],
         "y": [
          -163.01513671875,
          239.24085998535156,
          -187.67233276367188
         ],
         "z": [
          153.53900146484375,
          -157.87374877929688,
          258.2616882324219
         ]
        },
        {
         "hovertemplate": "Dominant_Topic=Topic 3<br>0=%{x}<br>1=%{y}<br>2=%{z}<extra></extra>",
         "legendgroup": "Topic 3",
         "marker": {
          "color": "#ab63fa",
          "opacity": 0.7,
          "symbol": "circle"
         },
         "mode": "markers",
         "name": "Topic 3",
         "scene": "scene",
         "showlegend": true,
         "type": "scatter3d",
         "x": [
          273.2940673828125
         ],
         "y": [
          3.0068068504333496
         ],
         "z": [
          -144.5681610107422
         ]
        },
        {
         "hovertemplate": "Dominant_Topic=Topic 4<br>0=%{x}<br>1=%{y}<br>2=%{z}<extra></extra>",
         "legendgroup": "Topic 4",
         "marker": {
          "color": "#FFA15A",
          "opacity": 0.7,
          "symbol": "circle"
         },
         "mode": "markers",
         "name": "Topic 4",
         "scene": "scene",
         "showlegend": true,
         "type": "scatter3d",
         "x": [
          1191.24072265625,
          -2265.898681640625,
          -115.76669311523438
         ],
         "y": [
          1254.0037841796875,
          -786.2311401367188,
          208.7386932373047
         ],
         "z": [
          -147.64759826660156,
          54.859130859375,
          180.04452514648438
         ]
        }
       ],
       "layout": {
        "height": 800,
        "legend": {
         "title": {
          "text": "Dominant_Topic"
         },
         "tracegroupgap": 0
        },
        "scene": {
         "domain": {
          "x": [
           0,
           1
          ],
          "y": [
           0,
           1
          ]
         },
         "xaxis": {
          "title": {
           "text": "0"
          }
         },
         "yaxis": {
          "title": {
           "text": "1"
          }
         },
         "zaxis": {
          "title": {
           "text": "2"
          }
         }
        },
        "template": {
         "data": {
          "bar": [
           {
            "error_x": {
             "color": "#2a3f5f"
            },
            "error_y": {
             "color": "#2a3f5f"
            },
            "marker": {
             "line": {
              "color": "#E5ECF6",
              "width": 0.5
             },
             "pattern": {
              "fillmode": "overlay",
              "size": 10,
              "solidity": 0.2
             }
            },
            "type": "bar"
           }
          ],
          "barpolar": [
           {
            "marker": {
             "line": {
              "color": "#E5ECF6",
              "width": 0.5
             },
             "pattern": {
              "fillmode": "overlay",
              "size": 10,
              "solidity": 0.2
             }
            },
            "type": "barpolar"
           }
          ],
          "carpet": [
           {
            "aaxis": {
             "endlinecolor": "#2a3f5f",
             "gridcolor": "white",
             "linecolor": "white",
             "minorgridcolor": "white",
             "startlinecolor": "#2a3f5f"
            },
            "baxis": {
             "endlinecolor": "#2a3f5f",
             "gridcolor": "white",
             "linecolor": "white",
             "minorgridcolor": "white",
             "startlinecolor": "#2a3f5f"
            },
            "type": "carpet"
           }
          ],
          "choropleth": [
           {
            "colorbar": {
             "outlinewidth": 0,
             "ticks": ""
            },
            "type": "choropleth"
           }
          ],
          "contour": [
           {
            "colorbar": {
             "outlinewidth": 0,
             "ticks": ""
            },
            "colorscale": [
             [
              0,
              "#0d0887"
             ],
             [
              0.1111111111111111,
              "#46039f"
             ],
             [
              0.2222222222222222,
              "#7201a8"
             ],
             [
              0.3333333333333333,
              "#9c179e"
             ],
             [
              0.4444444444444444,
              "#bd3786"
             ],
             [
              0.5555555555555556,
              "#d8576b"
             ],
             [
              0.6666666666666666,
              "#ed7953"
             ],
             [
              0.7777777777777778,
              "#fb9f3a"
             ],
             [
              0.8888888888888888,
              "#fdca26"
             ],
             [
              1,
              "#f0f921"
             ]
            ],
            "type": "contour"
           }
          ],
          "contourcarpet": [
           {
            "colorbar": {
             "outlinewidth": 0,
             "ticks": ""
            },
            "type": "contourcarpet"
           }
          ],
          "heatmap": [
           {
            "colorbar": {
             "outlinewidth": 0,
             "ticks": ""
            },
            "colorscale": [
             [
              0,
              "#0d0887"
             ],
             [
              0.1111111111111111,
              "#46039f"
             ],
             [
              0.2222222222222222,
              "#7201a8"
             ],
             [
              0.3333333333333333,
              "#9c179e"
             ],
             [
              0.4444444444444444,
              "#bd3786"
             ],
             [
              0.5555555555555556,
              "#d8576b"
             ],
             [
              0.6666666666666666,
              "#ed7953"
             ],
             [
              0.7777777777777778,
              "#fb9f3a"
             ],
             [
              0.8888888888888888,
              "#fdca26"
             ],
             [
              1,
              "#f0f921"
             ]
            ],
            "type": "heatmap"
           }
          ],
          "heatmapgl": [
           {
            "colorbar": {
             "outlinewidth": 0,
             "ticks": ""
            },
            "colorscale": [
             [
              0,
              "#0d0887"
             ],
             [
              0.1111111111111111,
              "#46039f"
             ],
             [
              0.2222222222222222,
              "#7201a8"
             ],
             [
              0.3333333333333333,
              "#9c179e"
             ],
             [
              0.4444444444444444,
              "#bd3786"
             ],
             [
              0.5555555555555556,
              "#d8576b"
             ],
             [
              0.6666666666666666,
              "#ed7953"
             ],
             [
              0.7777777777777778,
              "#fb9f3a"
             ],
             [
              0.8888888888888888,
              "#fdca26"
             ],
             [
              1,
              "#f0f921"
             ]
            ],
            "type": "heatmapgl"
           }
          ],
          "histogram": [
           {
            "marker": {
             "pattern": {
              "fillmode": "overlay",
              "size": 10,
              "solidity": 0.2
             }
            },
            "type": "histogram"
           }
          ],
          "histogram2d": [
           {
            "colorbar": {
             "outlinewidth": 0,
             "ticks": ""
            },
            "colorscale": [
             [
              0,
              "#0d0887"
             ],
             [
              0.1111111111111111,
              "#46039f"
             ],
             [
              0.2222222222222222,
              "#7201a8"
             ],
             [
              0.3333333333333333,
              "#9c179e"
             ],
             [
              0.4444444444444444,
              "#bd3786"
             ],
             [
              0.5555555555555556,
              "#d8576b"
             ],
             [
              0.6666666666666666,
              "#ed7953"
             ],
             [
              0.7777777777777778,
              "#fb9f3a"
             ],
             [
              0.8888888888888888,
              "#fdca26"
             ],
             [
              1,
              "#f0f921"
             ]
            ],
            "type": "histogram2d"
           }
          ],
          "histogram2dcontour": [
           {
            "colorbar": {
             "outlinewidth": 0,
             "ticks": ""
            },
            "colorscale": [
             [
              0,
              "#0d0887"
             ],
             [
              0.1111111111111111,
              "#46039f"
             ],
             [
              0.2222222222222222,
              "#7201a8"
             ],
             [
              0.3333333333333333,
              "#9c179e"
             ],
             [
              0.4444444444444444,
              "#bd3786"
             ],
             [
              0.5555555555555556,
              "#d8576b"
             ],
             [
              0.6666666666666666,
              "#ed7953"
             ],
             [
              0.7777777777777778,
              "#fb9f3a"
             ],
             [
              0.8888888888888888,
              "#fdca26"
             ],
             [
              1,
              "#f0f921"
             ]
            ],
            "type": "histogram2dcontour"
           }
          ],
          "mesh3d": [
           {
            "colorbar": {
             "outlinewidth": 0,
             "ticks": ""
            },
            "type": "mesh3d"
           }
          ],
          "parcoords": [
           {
            "line": {
             "colorbar": {
              "outlinewidth": 0,
              "ticks": ""
             }
            },
            "type": "parcoords"
           }
          ],
          "pie": [
           {
            "automargin": true,
            "type": "pie"
           }
          ],
          "scatter": [
           {
            "marker": {
             "colorbar": {
              "outlinewidth": 0,
              "ticks": ""
             }
            },
            "type": "scatter"
           }
          ],
          "scatter3d": [
           {
            "line": {
             "colorbar": {
              "outlinewidth": 0,
              "ticks": ""
             }
            },
            "marker": {
             "colorbar": {
              "outlinewidth": 0,
              "ticks": ""
             }
            },
            "type": "scatter3d"
           }
          ],
          "scattercarpet": [
           {
            "marker": {
             "colorbar": {
              "outlinewidth": 0,
              "ticks": ""
             }
            },
            "type": "scattercarpet"
           }
          ],
          "scattergeo": [
           {
            "marker": {
             "colorbar": {
              "outlinewidth": 0,
              "ticks": ""
             }
            },
            "type": "scattergeo"
           }
          ],
          "scattergl": [
           {
            "marker": {
             "colorbar": {
              "outlinewidth": 0,
              "ticks": ""
             }
            },
            "type": "scattergl"
           }
          ],
          "scattermapbox": [
           {
            "marker": {
             "colorbar": {
              "outlinewidth": 0,
              "ticks": ""
             }
            },
            "type": "scattermapbox"
           }
          ],
          "scatterpolar": [
           {
            "marker": {
             "colorbar": {
              "outlinewidth": 0,
              "ticks": ""
             }
            },
            "type": "scatterpolar"
           }
          ],
          "scatterpolargl": [
           {
            "marker": {
             "colorbar": {
              "outlinewidth": 0,
              "ticks": ""
             }
            },
            "type": "scatterpolargl"
           }
          ],
          "scatterternary": [
           {
            "marker": {
             "colorbar": {
              "outlinewidth": 0,
              "ticks": ""
             }
            },
            "type": "scatterternary"
           }
          ],
          "surface": [
           {
            "colorbar": {
             "outlinewidth": 0,
             "ticks": ""
            },
            "colorscale": [
             [
              0,
              "#0d0887"
             ],
             [
              0.1111111111111111,
              "#46039f"
             ],
             [
              0.2222222222222222,
              "#7201a8"
             ],
             [
              0.3333333333333333,
              "#9c179e"
             ],
             [
              0.4444444444444444,
              "#bd3786"
             ],
             [
              0.5555555555555556,
              "#d8576b"
             ],
             [
              0.6666666666666666,
              "#ed7953"
             ],
             [
              0.7777777777777778,
              "#fb9f3a"
             ],
             [
              0.8888888888888888,
              "#fdca26"
             ],
             [
              1,
              "#f0f921"
             ]
            ],
            "type": "surface"
           }
          ],
          "table": [
           {
            "cells": {
             "fill": {
              "color": "#EBF0F8"
             },
             "line": {
              "color": "white"
             }
            },
            "header": {
             "fill": {
              "color": "#C8D4E3"
             },
             "line": {
              "color": "white"
             }
            },
            "type": "table"
           }
          ]
         },
         "layout": {
          "annotationdefaults": {
           "arrowcolor": "#2a3f5f",
           "arrowhead": 0,
           "arrowwidth": 1
          },
          "autotypenumbers": "strict",
          "coloraxis": {
           "colorbar": {
            "outlinewidth": 0,
            "ticks": ""
           }
          },
          "colorscale": {
           "diverging": [
            [
             0,
             "#8e0152"
            ],
            [
             0.1,
             "#c51b7d"
            ],
            [
             0.2,
             "#de77ae"
            ],
            [
             0.3,
             "#f1b6da"
            ],
            [
             0.4,
             "#fde0ef"
            ],
            [
             0.5,
             "#f7f7f7"
            ],
            [
             0.6,
             "#e6f5d0"
            ],
            [
             0.7,
             "#b8e186"
            ],
            [
             0.8,
             "#7fbc41"
            ],
            [
             0.9,
             "#4d9221"
            ],
            [
             1,
             "#276419"
            ]
           ],
           "sequential": [
            [
             0,
             "#0d0887"
            ],
            [
             0.1111111111111111,
             "#46039f"
            ],
            [
             0.2222222222222222,
             "#7201a8"
            ],
            [
             0.3333333333333333,
             "#9c179e"
            ],
            [
             0.4444444444444444,
             "#bd3786"
            ],
            [
             0.5555555555555556,
             "#d8576b"
            ],
            [
             0.6666666666666666,
             "#ed7953"
            ],
            [
             0.7777777777777778,
             "#fb9f3a"
            ],
            [
             0.8888888888888888,
             "#fdca26"
            ],
            [
             1,
             "#f0f921"
            ]
           ],
           "sequentialminus": [
            [
             0,
             "#0d0887"
            ],
            [
             0.1111111111111111,
             "#46039f"
            ],
            [
             0.2222222222222222,
             "#7201a8"
            ],
            [
             0.3333333333333333,
             "#9c179e"
            ],
            [
             0.4444444444444444,
             "#bd3786"
            ],
            [
             0.5555555555555556,
             "#d8576b"
            ],
            [
             0.6666666666666666,
             "#ed7953"
            ],
            [
             0.7777777777777778,
             "#fb9f3a"
            ],
            [
             0.8888888888888888,
             "#fdca26"
            ],
            [
             1,
             "#f0f921"
            ]
           ]
          },
          "colorway": [
           "#636efa",
           "#EF553B",
           "#00cc96",
           "#ab63fa",
           "#FFA15A",
           "#19d3f3",
           "#FF6692",
           "#B6E880",
           "#FF97FF",
           "#FECB52"
          ],
          "font": {
           "color": "#2a3f5f"
          },
          "geo": {
           "bgcolor": "white",
           "lakecolor": "white",
           "landcolor": "#E5ECF6",
           "showlakes": true,
           "showland": true,
           "subunitcolor": "white"
          },
          "hoverlabel": {
           "align": "left"
          },
          "hovermode": "closest",
          "mapbox": {
           "style": "light"
          },
          "paper_bgcolor": "white",
          "plot_bgcolor": "#E5ECF6",
          "polar": {
           "angularaxis": {
            "gridcolor": "white",
            "linecolor": "white",
            "ticks": ""
           },
           "bgcolor": "#E5ECF6",
           "radialaxis": {
            "gridcolor": "white",
            "linecolor": "white",
            "ticks": ""
           }
          },
          "scene": {
           "xaxis": {
            "backgroundcolor": "#E5ECF6",
            "gridcolor": "white",
            "gridwidth": 2,
            "linecolor": "white",
            "showbackground": true,
            "ticks": "",
            "zerolinecolor": "white"
           },
           "yaxis": {
            "backgroundcolor": "#E5ECF6",
            "gridcolor": "white",
            "gridwidth": 2,
            "linecolor": "white",
            "showbackground": true,
            "ticks": "",
            "zerolinecolor": "white"
           },
           "zaxis": {
            "backgroundcolor": "#E5ECF6",
            "gridcolor": "white",
            "gridwidth": 2,
            "linecolor": "white",
            "showbackground": true,
            "ticks": "",
            "zerolinecolor": "white"
           }
          },
          "shapedefaults": {
           "line": {
            "color": "#2a3f5f"
           }
          },
          "ternary": {
           "aaxis": {
            "gridcolor": "white",
            "linecolor": "white",
            "ticks": ""
           },
           "baxis": {
            "gridcolor": "white",
            "linecolor": "white",
            "ticks": ""
           },
           "bgcolor": "#E5ECF6",
           "caxis": {
            "gridcolor": "white",
            "linecolor": "white",
            "ticks": ""
           }
          },
          "title": {
           "x": 0.05
          },
          "xaxis": {
           "automargin": true,
           "gridcolor": "white",
           "linecolor": "white",
           "ticks": "",
           "title": {
            "standoff": 15
           },
           "zerolinecolor": "white",
           "zerolinewidth": 2
          },
          "yaxis": {
           "automargin": true,
           "gridcolor": "white",
           "linecolor": "white",
           "ticks": "",
           "title": {
            "standoff": 15
           },
           "zerolinecolor": "white",
           "zerolinewidth": 2
          }
         }
        },
        "title": {
         "text": "3d TSNE Plot for Topic Model"
        },
        "width": 900
       }
      },
      "text/html": [
       "<div>                            <div id=\"fa1a00a2-824b-4a8b-96af-9c860b9b06bd\" class=\"plotly-graph-div\" style=\"height:800px; width:900px;\"></div>            <script type=\"text/javascript\">                require([\"plotly\"], function(Plotly) {                    window.PLOTLYENV=window.PLOTLYENV || {};                                    if (document.getElementById(\"fa1a00a2-824b-4a8b-96af-9c860b9b06bd\")) {                    Plotly.newPlot(                        \"fa1a00a2-824b-4a8b-96af-9c860b9b06bd\",                        [{\"hovertemplate\":\"Dominant_Topic=Topic 0<br>0=%{x}<br>1=%{y}<br>2=%{z}<extra></extra>\",\"legendgroup\":\"Topic 0\",\"marker\":{\"color\":\"#636efa\",\"opacity\":0.7,\"symbol\":\"circle\"},\"mode\":\"markers\",\"name\":\"Topic 0\",\"scene\":\"scene\",\"showlegend\":true,\"type\":\"scatter3d\",\"x\":[-228.33029174804688,-241.5866241455078,167.17994689941406,-22.738876342773438,27.44887351989746],\"y\":[-25.849552154541016,-108.38814544677734,44.92215347290039,-137.71189880371094,-329.288330078125],\"z\":[-175.1072540283203,68.35385131835938,46.55760192871094,-38.91766357421875,54.81953811645508]},{\"hovertemplate\":\"Dominant_Topic=Topic 1<br>0=%{x}<br>1=%{y}<br>2=%{z}<extra></extra>\",\"legendgroup\":\"Topic 1\",\"marker\":{\"color\":\"#EF553B\",\"opacity\":0.7,\"symbol\":\"circle\"},\"mode\":\"markers\",\"name\":\"Topic 1\",\"scene\":\"scene\",\"showlegend\":true,\"type\":\"scatter3d\",\"x\":[-195.61875915527344,71.10994720458984,-20.58960723876953,46.91556930541992,-187.71392822265625,-60.519081115722656,42.87724304199219],\"y\":[258.5166015625,54.23604202270508,-212.83815002441406,12.853919982910156,-5.280338764190674,73.91358184814453,299.4561462402344],\"z\":[-48.712310791015625,253.65771484375,-253.50680541992188,-240.502197265625,284.5818786621094,-1.0465025901794434,427.0712890625]},{\"hovertemplate\":\"Dominant_Topic=Topic 2<br>0=%{x}<br>1=%{y}<br>2=%{z}<extra></extra>\",\"legendgroup\":\"Topic 2\",\"marker\":{\"color\":\"#00cc96\",\"opacity\":0.7,\"symbol\":\"circle\"},\"mode\":\"markers\",\"name\":\"Topic 2\",\"scene\":\"scene\",\"showlegend\":true,\"type\":\"scatter3d\",\"x\":[215.88665771484375,35.624847412109375,-25.438932418823242],\"y\":[-163.01513671875,239.24085998535156,-187.67233276367188],\"z\":[153.53900146484375,-157.87374877929688,258.2616882324219]},{\"hovertemplate\":\"Dominant_Topic=Topic 3<br>0=%{x}<br>1=%{y}<br>2=%{z}<extra></extra>\",\"legendgroup\":\"Topic 3\",\"marker\":{\"color\":\"#ab63fa\",\"opacity\":0.7,\"symbol\":\"circle\"},\"mode\":\"markers\",\"name\":\"Topic 3\",\"scene\":\"scene\",\"showlegend\":true,\"type\":\"scatter3d\",\"x\":[273.2940673828125],\"y\":[3.0068068504333496],\"z\":[-144.5681610107422]},{\"hovertemplate\":\"Dominant_Topic=Topic 4<br>0=%{x}<br>1=%{y}<br>2=%{z}<extra></extra>\",\"legendgroup\":\"Topic 4\",\"marker\":{\"color\":\"#FFA15A\",\"opacity\":0.7,\"symbol\":\"circle\"},\"mode\":\"markers\",\"name\":\"Topic 4\",\"scene\":\"scene\",\"showlegend\":true,\"type\":\"scatter3d\",\"x\":[1191.24072265625,-2265.898681640625,-115.76669311523438],\"y\":[1254.0037841796875,-786.2311401367188,208.7386932373047],\"z\":[-147.64759826660156,54.859130859375,180.04452514648438]}],                        {\"height\":800,\"legend\":{\"title\":{\"text\":\"Dominant_Topic\"},\"tracegroupgap\":0},\"scene\":{\"domain\":{\"x\":[0.0,1.0],\"y\":[0.0,1.0]},\"xaxis\":{\"title\":{\"text\":\"0\"}},\"yaxis\":{\"title\":{\"text\":\"1\"}},\"zaxis\":{\"title\":{\"text\":\"2\"}}},\"template\":{\"data\":{\"bar\":[{\"error_x\":{\"color\":\"#2a3f5f\"},\"error_y\":{\"color\":\"#2a3f5f\"},\"marker\":{\"line\":{\"color\":\"#E5ECF6\",\"width\":0.5},\"pattern\":{\"fillmode\":\"overlay\",\"size\":10,\"solidity\":0.2}},\"type\":\"bar\"}],\"barpolar\":[{\"marker\":{\"line\":{\"color\":\"#E5ECF6\",\"width\":0.5},\"pattern\":{\"fillmode\":\"overlay\",\"size\":10,\"solidity\":0.2}},\"type\":\"barpolar\"}],\"carpet\":[{\"aaxis\":{\"endlinecolor\":\"#2a3f5f\",\"gridcolor\":\"white\",\"linecolor\":\"white\",\"minorgridcolor\":\"white\",\"startlinecolor\":\"#2a3f5f\"},\"baxis\":{\"endlinecolor\":\"#2a3f5f\",\"gridcolor\":\"white\",\"linecolor\":\"white\",\"minorgridcolor\":\"white\",\"startlinecolor\":\"#2a3f5f\"},\"type\":\"carpet\"}],\"choropleth\":[{\"colorbar\":{\"outlinewidth\":0,\"ticks\":\"\"},\"type\":\"choropleth\"}],\"contour\":[{\"colorbar\":{\"outlinewidth\":0,\"ticks\":\"\"},\"colorscale\":[[0.0,\"#0d0887\"],[0.1111111111111111,\"#46039f\"],[0.2222222222222222,\"#7201a8\"],[0.3333333333333333,\"#9c179e\"],[0.4444444444444444,\"#bd3786\"],[0.5555555555555556,\"#d8576b\"],[0.6666666666666666,\"#ed7953\"],[0.7777777777777778,\"#fb9f3a\"],[0.8888888888888888,\"#fdca26\"],[1.0,\"#f0f921\"]],\"type\":\"contour\"}],\"contourcarpet\":[{\"colorbar\":{\"outlinewidth\":0,\"ticks\":\"\"},\"type\":\"contourcarpet\"}],\"heatmap\":[{\"colorbar\":{\"outlinewidth\":0,\"ticks\":\"\"},\"colorscale\":[[0.0,\"#0d0887\"],[0.1111111111111111,\"#46039f\"],[0.2222222222222222,\"#7201a8\"],[0.3333333333333333,\"#9c179e\"],[0.4444444444444444,\"#bd3786\"],[0.5555555555555556,\"#d8576b\"],[0.6666666666666666,\"#ed7953\"],[0.7777777777777778,\"#fb9f3a\"],[0.8888888888888888,\"#fdca26\"],[1.0,\"#f0f921\"]],\"type\":\"heatmap\"}],\"heatmapgl\":[{\"colorbar\":{\"outlinewidth\":0,\"ticks\":\"\"},\"colorscale\":[[0.0,\"#0d0887\"],[0.1111111111111111,\"#46039f\"],[0.2222222222222222,\"#7201a8\"],[0.3333333333333333,\"#9c179e\"],[0.4444444444444444,\"#bd3786\"],[0.5555555555555556,\"#d8576b\"],[0.6666666666666666,\"#ed7953\"],[0.7777777777777778,\"#fb9f3a\"],[0.8888888888888888,\"#fdca26\"],[1.0,\"#f0f921\"]],\"type\":\"heatmapgl\"}],\"histogram\":[{\"marker\":{\"pattern\":{\"fillmode\":\"overlay\",\"size\":10,\"solidity\":0.2}},\"type\":\"histogram\"}],\"histogram2d\":[{\"colorbar\":{\"outlinewidth\":0,\"ticks\":\"\"},\"colorscale\":[[0.0,\"#0d0887\"],[0.1111111111111111,\"#46039f\"],[0.2222222222222222,\"#7201a8\"],[0.3333333333333333,\"#9c179e\"],[0.4444444444444444,\"#bd3786\"],[0.5555555555555556,\"#d8576b\"],[0.6666666666666666,\"#ed7953\"],[0.7777777777777778,\"#fb9f3a\"],[0.8888888888888888,\"#fdca26\"],[1.0,\"#f0f921\"]],\"type\":\"histogram2d\"}],\"histogram2dcontour\":[{\"colorbar\":{\"outlinewidth\":0,\"ticks\":\"\"},\"colorscale\":[[0.0,\"#0d0887\"],[0.1111111111111111,\"#46039f\"],[0.2222222222222222,\"#7201a8\"],[0.3333333333333333,\"#9c179e\"],[0.4444444444444444,\"#bd3786\"],[0.5555555555555556,\"#d8576b\"],[0.6666666666666666,\"#ed7953\"],[0.7777777777777778,\"#fb9f3a\"],[0.8888888888888888,\"#fdca26\"],[1.0,\"#f0f921\"]],\"type\":\"histogram2dcontour\"}],\"mesh3d\":[{\"colorbar\":{\"outlinewidth\":0,\"ticks\":\"\"},\"type\":\"mesh3d\"}],\"parcoords\":[{\"line\":{\"colorbar\":{\"outlinewidth\":0,\"ticks\":\"\"}},\"type\":\"parcoords\"}],\"pie\":[{\"automargin\":true,\"type\":\"pie\"}],\"scatter\":[{\"marker\":{\"colorbar\":{\"outlinewidth\":0,\"ticks\":\"\"}},\"type\":\"scatter\"}],\"scatter3d\":[{\"line\":{\"colorbar\":{\"outlinewidth\":0,\"ticks\":\"\"}},\"marker\":{\"colorbar\":{\"outlinewidth\":0,\"ticks\":\"\"}},\"type\":\"scatter3d\"}],\"scattercarpet\":[{\"marker\":{\"colorbar\":{\"outlinewidth\":0,\"ticks\":\"\"}},\"type\":\"scattercarpet\"}],\"scattergeo\":[{\"marker\":{\"colorbar\":{\"outlinewidth\":0,\"ticks\":\"\"}},\"type\":\"scattergeo\"}],\"scattergl\":[{\"marker\":{\"colorbar\":{\"outlinewidth\":0,\"ticks\":\"\"}},\"type\":\"scattergl\"}],\"scattermapbox\":[{\"marker\":{\"colorbar\":{\"outlinewidth\":0,\"ticks\":\"\"}},\"type\":\"scattermapbox\"}],\"scatterpolar\":[{\"marker\":{\"colorbar\":{\"outlinewidth\":0,\"ticks\":\"\"}},\"type\":\"scatterpolar\"}],\"scatterpolargl\":[{\"marker\":{\"colorbar\":{\"outlinewidth\":0,\"ticks\":\"\"}},\"type\":\"scatterpolargl\"}],\"scatterternary\":[{\"marker\":{\"colorbar\":{\"outlinewidth\":0,\"ticks\":\"\"}},\"type\":\"scatterternary\"}],\"surface\":[{\"colorbar\":{\"outlinewidth\":0,\"ticks\":\"\"},\"colorscale\":[[0.0,\"#0d0887\"],[0.1111111111111111,\"#46039f\"],[0.2222222222222222,\"#7201a8\"],[0.3333333333333333,\"#9c179e\"],[0.4444444444444444,\"#bd3786\"],[0.5555555555555556,\"#d8576b\"],[0.6666666666666666,\"#ed7953\"],[0.7777777777777778,\"#fb9f3a\"],[0.8888888888888888,\"#fdca26\"],[1.0,\"#f0f921\"]],\"type\":\"surface\"}],\"table\":[{\"cells\":{\"fill\":{\"color\":\"#EBF0F8\"},\"line\":{\"color\":\"white\"}},\"header\":{\"fill\":{\"color\":\"#C8D4E3\"},\"line\":{\"color\":\"white\"}},\"type\":\"table\"}]},\"layout\":{\"annotationdefaults\":{\"arrowcolor\":\"#2a3f5f\",\"arrowhead\":0,\"arrowwidth\":1},\"autotypenumbers\":\"strict\",\"coloraxis\":{\"colorbar\":{\"outlinewidth\":0,\"ticks\":\"\"}},\"colorscale\":{\"diverging\":[[0,\"#8e0152\"],[0.1,\"#c51b7d\"],[0.2,\"#de77ae\"],[0.3,\"#f1b6da\"],[0.4,\"#fde0ef\"],[0.5,\"#f7f7f7\"],[0.6,\"#e6f5d0\"],[0.7,\"#b8e186\"],[0.8,\"#7fbc41\"],[0.9,\"#4d9221\"],[1,\"#276419\"]],\"sequential\":[[0.0,\"#0d0887\"],[0.1111111111111111,\"#46039f\"],[0.2222222222222222,\"#7201a8\"],[0.3333333333333333,\"#9c179e\"],[0.4444444444444444,\"#bd3786\"],[0.5555555555555556,\"#d8576b\"],[0.6666666666666666,\"#ed7953\"],[0.7777777777777778,\"#fb9f3a\"],[0.8888888888888888,\"#fdca26\"],[1.0,\"#f0f921\"]],\"sequentialminus\":[[0.0,\"#0d0887\"],[0.1111111111111111,\"#46039f\"],[0.2222222222222222,\"#7201a8\"],[0.3333333333333333,\"#9c179e\"],[0.4444444444444444,\"#bd3786\"],[0.5555555555555556,\"#d8576b\"],[0.6666666666666666,\"#ed7953\"],[0.7777777777777778,\"#fb9f3a\"],[0.8888888888888888,\"#fdca26\"],[1.0,\"#f0f921\"]]},\"colorway\":[\"#636efa\",\"#EF553B\",\"#00cc96\",\"#ab63fa\",\"#FFA15A\",\"#19d3f3\",\"#FF6692\",\"#B6E880\",\"#FF97FF\",\"#FECB52\"],\"font\":{\"color\":\"#2a3f5f\"},\"geo\":{\"bgcolor\":\"white\",\"lakecolor\":\"white\",\"landcolor\":\"#E5ECF6\",\"showlakes\":true,\"showland\":true,\"subunitcolor\":\"white\"},\"hoverlabel\":{\"align\":\"left\"},\"hovermode\":\"closest\",\"mapbox\":{\"style\":\"light\"},\"paper_bgcolor\":\"white\",\"plot_bgcolor\":\"#E5ECF6\",\"polar\":{\"angularaxis\":{\"gridcolor\":\"white\",\"linecolor\":\"white\",\"ticks\":\"\"},\"bgcolor\":\"#E5ECF6\",\"radialaxis\":{\"gridcolor\":\"white\",\"linecolor\":\"white\",\"ticks\":\"\"}},\"scene\":{\"xaxis\":{\"backgroundcolor\":\"#E5ECF6\",\"gridcolor\":\"white\",\"gridwidth\":2,\"linecolor\":\"white\",\"showbackground\":true,\"ticks\":\"\",\"zerolinecolor\":\"white\"},\"yaxis\":{\"backgroundcolor\":\"#E5ECF6\",\"gridcolor\":\"white\",\"gridwidth\":2,\"linecolor\":\"white\",\"showbackground\":true,\"ticks\":\"\",\"zerolinecolor\":\"white\"},\"zaxis\":{\"backgroundcolor\":\"#E5ECF6\",\"gridcolor\":\"white\",\"gridwidth\":2,\"linecolor\":\"white\",\"showbackground\":true,\"ticks\":\"\",\"zerolinecolor\":\"white\"}},\"shapedefaults\":{\"line\":{\"color\":\"#2a3f5f\"}},\"ternary\":{\"aaxis\":{\"gridcolor\":\"white\",\"linecolor\":\"white\",\"ticks\":\"\"},\"baxis\":{\"gridcolor\":\"white\",\"linecolor\":\"white\",\"ticks\":\"\"},\"bgcolor\":\"#E5ECF6\",\"caxis\":{\"gridcolor\":\"white\",\"linecolor\":\"white\",\"ticks\":\"\"}},\"title\":{\"x\":0.05},\"xaxis\":{\"automargin\":true,\"gridcolor\":\"white\",\"linecolor\":\"white\",\"ticks\":\"\",\"title\":{\"standoff\":15},\"zerolinecolor\":\"white\",\"zerolinewidth\":2},\"yaxis\":{\"automargin\":true,\"gridcolor\":\"white\",\"linecolor\":\"white\",\"ticks\":\"\",\"title\":{\"standoff\":15},\"zerolinecolor\":\"white\",\"zerolinewidth\":2}}},\"title\":{\"text\":\"3d TSNE Plot for Topic Model\"},\"width\":900},                        {\"responsive\": true}                    ).then(function(){\n",
       "                            \n",
       "var gd = document.getElementById('fa1a00a2-824b-4a8b-96af-9c860b9b06bd');\n",
       "var x = new MutationObserver(function (mutations, observer) {{\n",
       "        var display = window.getComputedStyle(gd).display;\n",
       "        if (!display || display === 'none') {{\n",
       "            console.log([gd, 'removed!']);\n",
       "            Plotly.purge(gd);\n",
       "            observer.disconnect();\n",
       "        }}\n",
       "}});\n",
       "\n",
       "// Listen for the removal of the full notebook cells\n",
       "var notebookContainer = gd.closest('#notebook-container');\n",
       "if (notebookContainer) {{\n",
       "    x.observe(notebookContainer, {childList: true});\n",
       "}}\n",
       "\n",
       "// Listen for the clearing of the current output cell\n",
       "var outputEl = gd.closest('.output');\n",
       "if (outputEl) {{\n",
       "    x.observe(outputEl, {childList: true});\n",
       "}}\n",
       "\n",
       "                        })                };                });            </script>        </div>"
      ]
     },
     "metadata": {},
     "output_type": "display_data"
    }
   ],
   "source": [
    "plot_model(lda2, plot = 'tsne')"
   ]
  },
  {
   "cell_type": "markdown",
   "metadata": {
    "id": "TqCXbKigE6m5"
   },
   "source": [
    "### **Uniform Manifold Approximation and Projection Plot**"
   ]
  },
  {
   "cell_type": "code",
   "execution_count": 17,
   "metadata": {
    "colab": {
     "base_uri": "https://localhost:8080/",
     "height": 372
    },
    "id": "Dw0hs9v3E4gZ",
    "outputId": "c0fb0831-1d9d-4ecd-8bd6-f8244e75b116"
   },
   "outputs": [
    {
     "data": {
      "text/html": [
       "        <script type=\"text/javascript\">\n",
       "        window.PlotlyConfig = {MathJaxConfig: 'local'};\n",
       "        if (window.MathJax) {MathJax.Hub.Config({SVG: {font: \"STIX-Web\"}});}\n",
       "        if (typeof require !== 'undefined') {\n",
       "        require.undef(\"plotly\");\n",
       "        requirejs.config({\n",
       "            paths: {\n",
       "                'plotly': ['https://cdn.plot.ly/plotly-2.2.0.min']\n",
       "            }\n",
       "        });\n",
       "        require(['plotly'], function(Plotly) {\n",
       "            window._Plotly = Plotly;\n",
       "        });\n",
       "        }\n",
       "        </script>\n",
       "        "
      ]
     },
     "metadata": {},
     "output_type": "display_data"
    },
    {
     "data": {
      "image/png": "[encoded data removed]",
      "text/plain": [
       "<Figure size 720x432 with 1 Axes>"
      ]
     },
     "metadata": {},
     "output_type": "display_data"
    }
   ],
   "source": [
    "plot_model(lda2, plot = 'umap')"
   ]
  },
  {
   "cell_type": "markdown",
   "metadata": {
    "id": "PsY4VQt6FF4L"
   },
   "source": [
    "## **Evaluate Model**"
   ]
  },
  {
   "cell_type": "code",
   "execution_count": 18,
   "metadata": {
    "colab": {
     "base_uri": "https://localhost:8080/",
     "height": 113,
     "referenced_widgets": [
      "2034a722188f47508243f78c18a8572b",
      "f2976b29065740e8bfbd37b0e8c1e6e9",
      "a9f6f6f6a6bc49fd98dfbe3b44e29d63",
      "adce8e06645a481c9d149a60ca045963",
      "bf7f82c65f42432eafc41dee56cd041b",
      "910cb37cbcde4592b88f34dd68f1e36e",
      "4ca3574427af425d8682de862e2bd7ca",
      "523c1327e232428899cbcff56c3b309c",
      "44a0d93c3fdb43b9a0c0250a12c60375",
      "11cb2eaf21284be19ab8e683f082163d",
      "72f263de0f6a41db9a9034ec95c92a59",
      "324422b052604b97adc6570b0000f9a2",
      "f2e718f159ab4982a58bdf66f75dd8d1"
     ]
    },
    "id": "zUgrVm76E4jB",
    "outputId": "5e27ff6c-435e-4f2c-babe-a7a6a654857a"
   },
   "outputs": [
    {
     "data": {
      "application/vnd.jupyter.widget-view+json": {
       "model_id": "7a0b9a789fe645279767a269ebaa8d8b",
       "version_major": 2,
       "version_minor": 0
      },
      "text/plain": [
       "interactive(children=(ToggleButtons(description='Plot Type:', icons=('',), options=(('Frequency Plot', 'freque…"
      ]
     },
     "metadata": {},
     "output_type": "display_data"
    }
   ],
   "source": [
    "evaluate_model(lda2)"
   ]
  },
  {
   "cell_type": "markdown",
   "metadata": {
    "id": "HTaBx0OaFN_f"
   },
   "source": [
    "## **Saving the model**"
   ]
  },
  {
   "cell_type": "code",
   "execution_count": 21,
   "metadata": {
    "id": "Rc_7BUK5K1LG"
   },
   "outputs": [
    {
     "name": "stdout",
     "output_type": "stream",
     "text": [
      "Model Succesfully Saved\n"
     ]
    },
    {
     "data": {
      "text/plain": [
       "(<gensim.models.ldamulticore.LdaMulticore at 0x1c50ffb5070>,\n",
       " 'Final LDA Model.pkl')"
      ]
     },
     "execution_count": 21,
     "metadata": {},
     "output_type": "execute_result"
    }
   ],
   "source": [
    "save_model(lda2,'Final LDA Model')"
   ]
  },
  {
   "cell_type": "markdown",
   "metadata": {
    "id": "uuwFxjDvK51k"
   },
   "source": [
    "## **Loading the model**"
   ]
  },
  {
   "cell_type": "code",
   "execution_count": 3,
   "metadata": {
    "id": "QpuYbi6tE4mi"
   },
   "outputs": [
    {
     "name": "stdout",
     "output_type": "stream",
     "text": [
      "Model Sucessfully Loaded\n"
     ]
    }
   ],
   "source": [
    "saved_lda = load_model('Final LDA Model')"
   ]
  },
  {
   "cell_type": "code",
   "execution_count": 23,
   "metadata": {
    "id": "5LlhH0KqFZu9"
   },
   "outputs": [
    {
     "name": "stdout",
     "output_type": "stream",
     "text": [
      "LdaModel(num_terms=2861, num_topics=5, decay=0.5, chunksize=100)\n"
     ]
    }
   ],
   "source": [
    "print(saved_lda)"
   ]
  },
  {
   "cell_type": "markdown",
   "metadata": {},
   "source": [
    "## Model Building(classification)"
   ]
  },
  {
   "cell_type": "code",
   "execution_count": 19,
   "metadata": {},
   "outputs": [],
   "source": [
    "from pycaret.classification import *"
   ]
  },
  {
   "cell_type": "markdown",
   "metadata": {},
   "source": [
    "clf1 = setup(data = data, \n",
    "             target = 'Dominant_Topic',\n",
    "             numeric_imputation = 'mean',session_id = 250,fold=4,ignore_features = ['Researches','Statistic','Social_medium','Politic','Democracy','Perc_Dominant_Topic'],silent = True)"
   ]
  },
  {
   "cell_type": "markdown",
   "metadata": {},
   "source": [
    "compare_models()"
   ]
  },
  {
   "cell_type": "code",
   "execution_count": 20,
   "metadata": {},
   "outputs": [
    {
     "data": {
      "text/html": [
       "<style  type=\"text/css\" >\n",
       "#T_b3d1da62_ed43_11eb_bfbd_5c3a45949134row44_col1{\n",
       "            background-color:  lightgreen;\n",
       "        }</style><table id=\"T_b3d1da62_ed43_11eb_bfbd_5c3a45949134\" ><thead>    <tr>        <th class=\"blank level0\" ></th>        <th class=\"col_heading level0 col0\" >Description</th>        <th class=\"col_heading level0 col1\" >Value</th>    </tr></thead><tbody>\n",
       "                <tr>\n",
       "                        <th id=\"T_b3d1da62_ed43_11eb_bfbd_5c3a45949134level0_row0\" class=\"row_heading level0 row0\" >0</th>\n",
       "                        <td id=\"T_b3d1da62_ed43_11eb_bfbd_5c3a45949134row0_col0\" class=\"data row0 col0\" >session_id</td>\n",
       "                        <td id=\"T_b3d1da62_ed43_11eb_bfbd_5c3a45949134row0_col1\" class=\"data row0 col1\" >784</td>\n",
       "            </tr>\n",
       "            <tr>\n",
       "                        <th id=\"T_b3d1da62_ed43_11eb_bfbd_5c3a45949134level0_row1\" class=\"row_heading level0 row1\" >1</th>\n",
       "                        <td id=\"T_b3d1da62_ed43_11eb_bfbd_5c3a45949134row1_col0\" class=\"data row1 col0\" >Target</td>\n",
       "                        <td id=\"T_b3d1da62_ed43_11eb_bfbd_5c3a45949134row1_col1\" class=\"data row1 col1\" >Dominant_Topic</td>\n",
       "            </tr>\n",
       "            <tr>\n",
       "                        <th id=\"T_b3d1da62_ed43_11eb_bfbd_5c3a45949134level0_row2\" class=\"row_heading level0 row2\" >2</th>\n",
       "                        <td id=\"T_b3d1da62_ed43_11eb_bfbd_5c3a45949134row2_col0\" class=\"data row2 col0\" >Target Type</td>\n",
       "                        <td id=\"T_b3d1da62_ed43_11eb_bfbd_5c3a45949134row2_col1\" class=\"data row2 col1\" >Multiclass</td>\n",
       "            </tr>\n",
       "            <tr>\n",
       "                        <th id=\"T_b3d1da62_ed43_11eb_bfbd_5c3a45949134level0_row3\" class=\"row_heading level0 row3\" >3</th>\n",
       "                        <td id=\"T_b3d1da62_ed43_11eb_bfbd_5c3a45949134row3_col0\" class=\"data row3 col0\" >Label Encoded</td>\n",
       "                        <td id=\"T_b3d1da62_ed43_11eb_bfbd_5c3a45949134row3_col1\" class=\"data row3 col1\" >Democracy: 0, Politic: 1, Researches: 2, Social_medium: 3, Statistic: 4</td>\n",
       "            </tr>\n",
       "            <tr>\n",
       "                        <th id=\"T_b3d1da62_ed43_11eb_bfbd_5c3a45949134level0_row4\" class=\"row_heading level0 row4\" >4</th>\n",
       "                        <td id=\"T_b3d1da62_ed43_11eb_bfbd_5c3a45949134row4_col0\" class=\"data row4 col0\" >Original Data</td>\n",
       "                        <td id=\"T_b3d1da62_ed43_11eb_bfbd_5c3a45949134row4_col1\" class=\"data row4 col1\" >(19, 8)</td>\n",
       "            </tr>\n",
       "            <tr>\n",
       "                        <th id=\"T_b3d1da62_ed43_11eb_bfbd_5c3a45949134level0_row5\" class=\"row_heading level0 row5\" >5</th>\n",
       "                        <td id=\"T_b3d1da62_ed43_11eb_bfbd_5c3a45949134row5_col0\" class=\"data row5 col0\" >Missing Values</td>\n",
       "                        <td id=\"T_b3d1da62_ed43_11eb_bfbd_5c3a45949134row5_col1\" class=\"data row5 col1\" >False</td>\n",
       "            </tr>\n",
       "            <tr>\n",
       "                        <th id=\"T_b3d1da62_ed43_11eb_bfbd_5c3a45949134level0_row6\" class=\"row_heading level0 row6\" >6</th>\n",
       "                        <td id=\"T_b3d1da62_ed43_11eb_bfbd_5c3a45949134row6_col0\" class=\"data row6 col0\" >Numeric Features</td>\n",
       "                        <td id=\"T_b3d1da62_ed43_11eb_bfbd_5c3a45949134row6_col1\" class=\"data row6 col1\" >6</td>\n",
       "            </tr>\n",
       "            <tr>\n",
       "                        <th id=\"T_b3d1da62_ed43_11eb_bfbd_5c3a45949134level0_row7\" class=\"row_heading level0 row7\" >7</th>\n",
       "                        <td id=\"T_b3d1da62_ed43_11eb_bfbd_5c3a45949134row7_col0\" class=\"data row7 col0\" >Categorical Features</td>\n",
       "                        <td id=\"T_b3d1da62_ed43_11eb_bfbd_5c3a45949134row7_col1\" class=\"data row7 col1\" >1</td>\n",
       "            </tr>\n",
       "            <tr>\n",
       "                        <th id=\"T_b3d1da62_ed43_11eb_bfbd_5c3a45949134level0_row8\" class=\"row_heading level0 row8\" >8</th>\n",
       "                        <td id=\"T_b3d1da62_ed43_11eb_bfbd_5c3a45949134row8_col0\" class=\"data row8 col0\" >Ordinal Features</td>\n",
       "                        <td id=\"T_b3d1da62_ed43_11eb_bfbd_5c3a45949134row8_col1\" class=\"data row8 col1\" >False</td>\n",
       "            </tr>\n",
       "            <tr>\n",
       "                        <th id=\"T_b3d1da62_ed43_11eb_bfbd_5c3a45949134level0_row9\" class=\"row_heading level0 row9\" >9</th>\n",
       "                        <td id=\"T_b3d1da62_ed43_11eb_bfbd_5c3a45949134row9_col0\" class=\"data row9 col0\" >High Cardinality Features</td>\n",
       "                        <td id=\"T_b3d1da62_ed43_11eb_bfbd_5c3a45949134row9_col1\" class=\"data row9 col1\" >False</td>\n",
       "            </tr>\n",
       "            <tr>\n",
       "                        <th id=\"T_b3d1da62_ed43_11eb_bfbd_5c3a45949134level0_row10\" class=\"row_heading level0 row10\" >10</th>\n",
       "                        <td id=\"T_b3d1da62_ed43_11eb_bfbd_5c3a45949134row10_col0\" class=\"data row10 col0\" >High Cardinality Method</td>\n",
       "                        <td id=\"T_b3d1da62_ed43_11eb_bfbd_5c3a45949134row10_col1\" class=\"data row10 col1\" >None</td>\n",
       "            </tr>\n",
       "            <tr>\n",
       "                        <th id=\"T_b3d1da62_ed43_11eb_bfbd_5c3a45949134level0_row11\" class=\"row_heading level0 row11\" >11</th>\n",
       "                        <td id=\"T_b3d1da62_ed43_11eb_bfbd_5c3a45949134row11_col0\" class=\"data row11 col0\" >Transformed Train Set</td>\n",
       "                        <td id=\"T_b3d1da62_ed43_11eb_bfbd_5c3a45949134row11_col1\" class=\"data row11 col1\" >(13, 17)</td>\n",
       "            </tr>\n",
       "            <tr>\n",
       "                        <th id=\"T_b3d1da62_ed43_11eb_bfbd_5c3a45949134level0_row12\" class=\"row_heading level0 row12\" >12</th>\n",
       "                        <td id=\"T_b3d1da62_ed43_11eb_bfbd_5c3a45949134row12_col0\" class=\"data row12 col0\" >Transformed Test Set</td>\n",
       "                        <td id=\"T_b3d1da62_ed43_11eb_bfbd_5c3a45949134row12_col1\" class=\"data row12 col1\" >(6, 17)</td>\n",
       "            </tr>\n",
       "            <tr>\n",
       "                        <th id=\"T_b3d1da62_ed43_11eb_bfbd_5c3a45949134level0_row13\" class=\"row_heading level0 row13\" >13</th>\n",
       "                        <td id=\"T_b3d1da62_ed43_11eb_bfbd_5c3a45949134row13_col0\" class=\"data row13 col0\" >Shuffle Train-Test</td>\n",
       "                        <td id=\"T_b3d1da62_ed43_11eb_bfbd_5c3a45949134row13_col1\" class=\"data row13 col1\" >True</td>\n",
       "            </tr>\n",
       "            <tr>\n",
       "                        <th id=\"T_b3d1da62_ed43_11eb_bfbd_5c3a45949134level0_row14\" class=\"row_heading level0 row14\" >14</th>\n",
       "                        <td id=\"T_b3d1da62_ed43_11eb_bfbd_5c3a45949134row14_col0\" class=\"data row14 col0\" >Stratify Train-Test</td>\n",
       "                        <td id=\"T_b3d1da62_ed43_11eb_bfbd_5c3a45949134row14_col1\" class=\"data row14 col1\" >False</td>\n",
       "            </tr>\n",
       "            <tr>\n",
       "                        <th id=\"T_b3d1da62_ed43_11eb_bfbd_5c3a45949134level0_row15\" class=\"row_heading level0 row15\" >15</th>\n",
       "                        <td id=\"T_b3d1da62_ed43_11eb_bfbd_5c3a45949134row15_col0\" class=\"data row15 col0\" >Fold Generator</td>\n",
       "                        <td id=\"T_b3d1da62_ed43_11eb_bfbd_5c3a45949134row15_col1\" class=\"data row15 col1\" >StratifiedKFold</td>\n",
       "            </tr>\n",
       "            <tr>\n",
       "                        <th id=\"T_b3d1da62_ed43_11eb_bfbd_5c3a45949134level0_row16\" class=\"row_heading level0 row16\" >16</th>\n",
       "                        <td id=\"T_b3d1da62_ed43_11eb_bfbd_5c3a45949134row16_col0\" class=\"data row16 col0\" >Fold Number</td>\n",
       "                        <td id=\"T_b3d1da62_ed43_11eb_bfbd_5c3a45949134row16_col1\" class=\"data row16 col1\" >4</td>\n",
       "            </tr>\n",
       "            <tr>\n",
       "                        <th id=\"T_b3d1da62_ed43_11eb_bfbd_5c3a45949134level0_row17\" class=\"row_heading level0 row17\" >17</th>\n",
       "                        <td id=\"T_b3d1da62_ed43_11eb_bfbd_5c3a45949134row17_col0\" class=\"data row17 col0\" >CPU Jobs</td>\n",
       "                        <td id=\"T_b3d1da62_ed43_11eb_bfbd_5c3a45949134row17_col1\" class=\"data row17 col1\" >-1</td>\n",
       "            </tr>\n",
       "            <tr>\n",
       "                        <th id=\"T_b3d1da62_ed43_11eb_bfbd_5c3a45949134level0_row18\" class=\"row_heading level0 row18\" >18</th>\n",
       "                        <td id=\"T_b3d1da62_ed43_11eb_bfbd_5c3a45949134row18_col0\" class=\"data row18 col0\" >Use GPU</td>\n",
       "                        <td id=\"T_b3d1da62_ed43_11eb_bfbd_5c3a45949134row18_col1\" class=\"data row18 col1\" >False</td>\n",
       "            </tr>\n",
       "            <tr>\n",
       "                        <th id=\"T_b3d1da62_ed43_11eb_bfbd_5c3a45949134level0_row19\" class=\"row_heading level0 row19\" >19</th>\n",
       "                        <td id=\"T_b3d1da62_ed43_11eb_bfbd_5c3a45949134row19_col0\" class=\"data row19 col0\" >Log Experiment</td>\n",
       "                        <td id=\"T_b3d1da62_ed43_11eb_bfbd_5c3a45949134row19_col1\" class=\"data row19 col1\" >False</td>\n",
       "            </tr>\n",
       "            <tr>\n",
       "                        <th id=\"T_b3d1da62_ed43_11eb_bfbd_5c3a45949134level0_row20\" class=\"row_heading level0 row20\" >20</th>\n",
       "                        <td id=\"T_b3d1da62_ed43_11eb_bfbd_5c3a45949134row20_col0\" class=\"data row20 col0\" >Experiment Name</td>\n",
       "                        <td id=\"T_b3d1da62_ed43_11eb_bfbd_5c3a45949134row20_col1\" class=\"data row20 col1\" >clf-default-name</td>\n",
       "            </tr>\n",
       "            <tr>\n",
       "                        <th id=\"T_b3d1da62_ed43_11eb_bfbd_5c3a45949134level0_row21\" class=\"row_heading level0 row21\" >21</th>\n",
       "                        <td id=\"T_b3d1da62_ed43_11eb_bfbd_5c3a45949134row21_col0\" class=\"data row21 col0\" >USI</td>\n",
       "                        <td id=\"T_b3d1da62_ed43_11eb_bfbd_5c3a45949134row21_col1\" class=\"data row21 col1\" >7779</td>\n",
       "            </tr>\n",
       "            <tr>\n",
       "                        <th id=\"T_b3d1da62_ed43_11eb_bfbd_5c3a45949134level0_row22\" class=\"row_heading level0 row22\" >22</th>\n",
       "                        <td id=\"T_b3d1da62_ed43_11eb_bfbd_5c3a45949134row22_col0\" class=\"data row22 col0\" >Imputation Type</td>\n",
       "                        <td id=\"T_b3d1da62_ed43_11eb_bfbd_5c3a45949134row22_col1\" class=\"data row22 col1\" >simple</td>\n",
       "            </tr>\n",
       "            <tr>\n",
       "                        <th id=\"T_b3d1da62_ed43_11eb_bfbd_5c3a45949134level0_row23\" class=\"row_heading level0 row23\" >23</th>\n",
       "                        <td id=\"T_b3d1da62_ed43_11eb_bfbd_5c3a45949134row23_col0\" class=\"data row23 col0\" >Iterative Imputation Iteration</td>\n",
       "                        <td id=\"T_b3d1da62_ed43_11eb_bfbd_5c3a45949134row23_col1\" class=\"data row23 col1\" >None</td>\n",
       "            </tr>\n",
       "            <tr>\n",
       "                        <th id=\"T_b3d1da62_ed43_11eb_bfbd_5c3a45949134level0_row24\" class=\"row_heading level0 row24\" >24</th>\n",
       "                        <td id=\"T_b3d1da62_ed43_11eb_bfbd_5c3a45949134row24_col0\" class=\"data row24 col0\" >Numeric Imputer</td>\n",
       "                        <td id=\"T_b3d1da62_ed43_11eb_bfbd_5c3a45949134row24_col1\" class=\"data row24 col1\" >mean</td>\n",
       "            </tr>\n",
       "            <tr>\n",
       "                        <th id=\"T_b3d1da62_ed43_11eb_bfbd_5c3a45949134level0_row25\" class=\"row_heading level0 row25\" >25</th>\n",
       "                        <td id=\"T_b3d1da62_ed43_11eb_bfbd_5c3a45949134row25_col0\" class=\"data row25 col0\" >Iterative Imputation Numeric Model</td>\n",
       "                        <td id=\"T_b3d1da62_ed43_11eb_bfbd_5c3a45949134row25_col1\" class=\"data row25 col1\" >None</td>\n",
       "            </tr>\n",
       "            <tr>\n",
       "                        <th id=\"T_b3d1da62_ed43_11eb_bfbd_5c3a45949134level0_row26\" class=\"row_heading level0 row26\" >26</th>\n",
       "                        <td id=\"T_b3d1da62_ed43_11eb_bfbd_5c3a45949134row26_col0\" class=\"data row26 col0\" >Categorical Imputer</td>\n",
       "                        <td id=\"T_b3d1da62_ed43_11eb_bfbd_5c3a45949134row26_col1\" class=\"data row26 col1\" >constant</td>\n",
       "            </tr>\n",
       "            <tr>\n",
       "                        <th id=\"T_b3d1da62_ed43_11eb_bfbd_5c3a45949134level0_row27\" class=\"row_heading level0 row27\" >27</th>\n",
       "                        <td id=\"T_b3d1da62_ed43_11eb_bfbd_5c3a45949134row27_col0\" class=\"data row27 col0\" >Iterative Imputation Categorical Model</td>\n",
       "                        <td id=\"T_b3d1da62_ed43_11eb_bfbd_5c3a45949134row27_col1\" class=\"data row27 col1\" >None</td>\n",
       "            </tr>\n",
       "            <tr>\n",
       "                        <th id=\"T_b3d1da62_ed43_11eb_bfbd_5c3a45949134level0_row28\" class=\"row_heading level0 row28\" >28</th>\n",
       "                        <td id=\"T_b3d1da62_ed43_11eb_bfbd_5c3a45949134row28_col0\" class=\"data row28 col0\" >Unknown Categoricals Handling</td>\n",
       "                        <td id=\"T_b3d1da62_ed43_11eb_bfbd_5c3a45949134row28_col1\" class=\"data row28 col1\" >least_frequent</td>\n",
       "            </tr>\n",
       "            <tr>\n",
       "                        <th id=\"T_b3d1da62_ed43_11eb_bfbd_5c3a45949134level0_row29\" class=\"row_heading level0 row29\" >29</th>\n",
       "                        <td id=\"T_b3d1da62_ed43_11eb_bfbd_5c3a45949134row29_col0\" class=\"data row29 col0\" >Normalize</td>\n",
       "                        <td id=\"T_b3d1da62_ed43_11eb_bfbd_5c3a45949134row29_col1\" class=\"data row29 col1\" >False</td>\n",
       "            </tr>\n",
       "            <tr>\n",
       "                        <th id=\"T_b3d1da62_ed43_11eb_bfbd_5c3a45949134level0_row30\" class=\"row_heading level0 row30\" >30</th>\n",
       "                        <td id=\"T_b3d1da62_ed43_11eb_bfbd_5c3a45949134row30_col0\" class=\"data row30 col0\" >Normalize Method</td>\n",
       "                        <td id=\"T_b3d1da62_ed43_11eb_bfbd_5c3a45949134row30_col1\" class=\"data row30 col1\" >None</td>\n",
       "            </tr>\n",
       "            <tr>\n",
       "                        <th id=\"T_b3d1da62_ed43_11eb_bfbd_5c3a45949134level0_row31\" class=\"row_heading level0 row31\" >31</th>\n",
       "                        <td id=\"T_b3d1da62_ed43_11eb_bfbd_5c3a45949134row31_col0\" class=\"data row31 col0\" >Transformation</td>\n",
       "                        <td id=\"T_b3d1da62_ed43_11eb_bfbd_5c3a45949134row31_col1\" class=\"data row31 col1\" >False</td>\n",
       "            </tr>\n",
       "            <tr>\n",
       "                        <th id=\"T_b3d1da62_ed43_11eb_bfbd_5c3a45949134level0_row32\" class=\"row_heading level0 row32\" >32</th>\n",
       "                        <td id=\"T_b3d1da62_ed43_11eb_bfbd_5c3a45949134row32_col0\" class=\"data row32 col0\" >Transformation Method</td>\n",
       "                        <td id=\"T_b3d1da62_ed43_11eb_bfbd_5c3a45949134row32_col1\" class=\"data row32 col1\" >None</td>\n",
       "            </tr>\n",
       "            <tr>\n",
       "                        <th id=\"T_b3d1da62_ed43_11eb_bfbd_5c3a45949134level0_row33\" class=\"row_heading level0 row33\" >33</th>\n",
       "                        <td id=\"T_b3d1da62_ed43_11eb_bfbd_5c3a45949134row33_col0\" class=\"data row33 col0\" >PCA</td>\n",
       "                        <td id=\"T_b3d1da62_ed43_11eb_bfbd_5c3a45949134row33_col1\" class=\"data row33 col1\" >False</td>\n",
       "            </tr>\n",
       "            <tr>\n",
       "                        <th id=\"T_b3d1da62_ed43_11eb_bfbd_5c3a45949134level0_row34\" class=\"row_heading level0 row34\" >34</th>\n",
       "                        <td id=\"T_b3d1da62_ed43_11eb_bfbd_5c3a45949134row34_col0\" class=\"data row34 col0\" >PCA Method</td>\n",
       "                        <td id=\"T_b3d1da62_ed43_11eb_bfbd_5c3a45949134row34_col1\" class=\"data row34 col1\" >None</td>\n",
       "            </tr>\n",
       "            <tr>\n",
       "                        <th id=\"T_b3d1da62_ed43_11eb_bfbd_5c3a45949134level0_row35\" class=\"row_heading level0 row35\" >35</th>\n",
       "                        <td id=\"T_b3d1da62_ed43_11eb_bfbd_5c3a45949134row35_col0\" class=\"data row35 col0\" >PCA Components</td>\n",
       "                        <td id=\"T_b3d1da62_ed43_11eb_bfbd_5c3a45949134row35_col1\" class=\"data row35 col1\" >None</td>\n",
       "            </tr>\n",
       "            <tr>\n",
       "                        <th id=\"T_b3d1da62_ed43_11eb_bfbd_5c3a45949134level0_row36\" class=\"row_heading level0 row36\" >36</th>\n",
       "                        <td id=\"T_b3d1da62_ed43_11eb_bfbd_5c3a45949134row36_col0\" class=\"data row36 col0\" >Ignore Low Variance</td>\n",
       "                        <td id=\"T_b3d1da62_ed43_11eb_bfbd_5c3a45949134row36_col1\" class=\"data row36 col1\" >False</td>\n",
       "            </tr>\n",
       "            <tr>\n",
       "                        <th id=\"T_b3d1da62_ed43_11eb_bfbd_5c3a45949134level0_row37\" class=\"row_heading level0 row37\" >37</th>\n",
       "                        <td id=\"T_b3d1da62_ed43_11eb_bfbd_5c3a45949134row37_col0\" class=\"data row37 col0\" >Combine Rare Levels</td>\n",
       "                        <td id=\"T_b3d1da62_ed43_11eb_bfbd_5c3a45949134row37_col1\" class=\"data row37 col1\" >False</td>\n",
       "            </tr>\n",
       "            <tr>\n",
       "                        <th id=\"T_b3d1da62_ed43_11eb_bfbd_5c3a45949134level0_row38\" class=\"row_heading level0 row38\" >38</th>\n",
       "                        <td id=\"T_b3d1da62_ed43_11eb_bfbd_5c3a45949134row38_col0\" class=\"data row38 col0\" >Rare Level Threshold</td>\n",
       "                        <td id=\"T_b3d1da62_ed43_11eb_bfbd_5c3a45949134row38_col1\" class=\"data row38 col1\" >None</td>\n",
       "            </tr>\n",
       "            <tr>\n",
       "                        <th id=\"T_b3d1da62_ed43_11eb_bfbd_5c3a45949134level0_row39\" class=\"row_heading level0 row39\" >39</th>\n",
       "                        <td id=\"T_b3d1da62_ed43_11eb_bfbd_5c3a45949134row39_col0\" class=\"data row39 col0\" >Numeric Binning</td>\n",
       "                        <td id=\"T_b3d1da62_ed43_11eb_bfbd_5c3a45949134row39_col1\" class=\"data row39 col1\" >False</td>\n",
       "            </tr>\n",
       "            <tr>\n",
       "                        <th id=\"T_b3d1da62_ed43_11eb_bfbd_5c3a45949134level0_row40\" class=\"row_heading level0 row40\" >40</th>\n",
       "                        <td id=\"T_b3d1da62_ed43_11eb_bfbd_5c3a45949134row40_col0\" class=\"data row40 col0\" >Remove Outliers</td>\n",
       "                        <td id=\"T_b3d1da62_ed43_11eb_bfbd_5c3a45949134row40_col1\" class=\"data row40 col1\" >False</td>\n",
       "            </tr>\n",
       "            <tr>\n",
       "                        <th id=\"T_b3d1da62_ed43_11eb_bfbd_5c3a45949134level0_row41\" class=\"row_heading level0 row41\" >41</th>\n",
       "                        <td id=\"T_b3d1da62_ed43_11eb_bfbd_5c3a45949134row41_col0\" class=\"data row41 col0\" >Outliers Threshold</td>\n",
       "                        <td id=\"T_b3d1da62_ed43_11eb_bfbd_5c3a45949134row41_col1\" class=\"data row41 col1\" >None</td>\n",
       "            </tr>\n",
       "            <tr>\n",
       "                        <th id=\"T_b3d1da62_ed43_11eb_bfbd_5c3a45949134level0_row42\" class=\"row_heading level0 row42\" >42</th>\n",
       "                        <td id=\"T_b3d1da62_ed43_11eb_bfbd_5c3a45949134row42_col0\" class=\"data row42 col0\" >Remove Multicollinearity</td>\n",
       "                        <td id=\"T_b3d1da62_ed43_11eb_bfbd_5c3a45949134row42_col1\" class=\"data row42 col1\" >False</td>\n",
       "            </tr>\n",
       "            <tr>\n",
       "                        <th id=\"T_b3d1da62_ed43_11eb_bfbd_5c3a45949134level0_row43\" class=\"row_heading level0 row43\" >43</th>\n",
       "                        <td id=\"T_b3d1da62_ed43_11eb_bfbd_5c3a45949134row43_col0\" class=\"data row43 col0\" >Multicollinearity Threshold</td>\n",
       "                        <td id=\"T_b3d1da62_ed43_11eb_bfbd_5c3a45949134row43_col1\" class=\"data row43 col1\" >None</td>\n",
       "            </tr>\n",
       "            <tr>\n",
       "                        <th id=\"T_b3d1da62_ed43_11eb_bfbd_5c3a45949134level0_row44\" class=\"row_heading level0 row44\" >44</th>\n",
       "                        <td id=\"T_b3d1da62_ed43_11eb_bfbd_5c3a45949134row44_col0\" class=\"data row44 col0\" >Remove Perfect Collinearity</td>\n",
       "                        <td id=\"T_b3d1da62_ed43_11eb_bfbd_5c3a45949134row44_col1\" class=\"data row44 col1\" >True</td>\n",
       "            </tr>\n",
       "            <tr>\n",
       "                        <th id=\"T_b3d1da62_ed43_11eb_bfbd_5c3a45949134level0_row45\" class=\"row_heading level0 row45\" >45</th>\n",
       "                        <td id=\"T_b3d1da62_ed43_11eb_bfbd_5c3a45949134row45_col0\" class=\"data row45 col0\" >Clustering</td>\n",
       "                        <td id=\"T_b3d1da62_ed43_11eb_bfbd_5c3a45949134row45_col1\" class=\"data row45 col1\" >False</td>\n",
       "            </tr>\n",
       "            <tr>\n",
       "                        <th id=\"T_b3d1da62_ed43_11eb_bfbd_5c3a45949134level0_row46\" class=\"row_heading level0 row46\" >46</th>\n",
       "                        <td id=\"T_b3d1da62_ed43_11eb_bfbd_5c3a45949134row46_col0\" class=\"data row46 col0\" >Clustering Iteration</td>\n",
       "                        <td id=\"T_b3d1da62_ed43_11eb_bfbd_5c3a45949134row46_col1\" class=\"data row46 col1\" >None</td>\n",
       "            </tr>\n",
       "            <tr>\n",
       "                        <th id=\"T_b3d1da62_ed43_11eb_bfbd_5c3a45949134level0_row47\" class=\"row_heading level0 row47\" >47</th>\n",
       "                        <td id=\"T_b3d1da62_ed43_11eb_bfbd_5c3a45949134row47_col0\" class=\"data row47 col0\" >Polynomial Features</td>\n",
       "                        <td id=\"T_b3d1da62_ed43_11eb_bfbd_5c3a45949134row47_col1\" class=\"data row47 col1\" >False</td>\n",
       "            </tr>\n",
       "            <tr>\n",
       "                        <th id=\"T_b3d1da62_ed43_11eb_bfbd_5c3a45949134level0_row48\" class=\"row_heading level0 row48\" >48</th>\n",
       "                        <td id=\"T_b3d1da62_ed43_11eb_bfbd_5c3a45949134row48_col0\" class=\"data row48 col0\" >Polynomial Degree</td>\n",
       "                        <td id=\"T_b3d1da62_ed43_11eb_bfbd_5c3a45949134row48_col1\" class=\"data row48 col1\" >None</td>\n",
       "            </tr>\n",
       "            <tr>\n",
       "                        <th id=\"T_b3d1da62_ed43_11eb_bfbd_5c3a45949134level0_row49\" class=\"row_heading level0 row49\" >49</th>\n",
       "                        <td id=\"T_b3d1da62_ed43_11eb_bfbd_5c3a45949134row49_col0\" class=\"data row49 col0\" >Trignometry Features</td>\n",
       "                        <td id=\"T_b3d1da62_ed43_11eb_bfbd_5c3a45949134row49_col1\" class=\"data row49 col1\" >False</td>\n",
       "            </tr>\n",
       "            <tr>\n",
       "                        <th id=\"T_b3d1da62_ed43_11eb_bfbd_5c3a45949134level0_row50\" class=\"row_heading level0 row50\" >50</th>\n",
       "                        <td id=\"T_b3d1da62_ed43_11eb_bfbd_5c3a45949134row50_col0\" class=\"data row50 col0\" >Polynomial Threshold</td>\n",
       "                        <td id=\"T_b3d1da62_ed43_11eb_bfbd_5c3a45949134row50_col1\" class=\"data row50 col1\" >None</td>\n",
       "            </tr>\n",
       "            <tr>\n",
       "                        <th id=\"T_b3d1da62_ed43_11eb_bfbd_5c3a45949134level0_row51\" class=\"row_heading level0 row51\" >51</th>\n",
       "                        <td id=\"T_b3d1da62_ed43_11eb_bfbd_5c3a45949134row51_col0\" class=\"data row51 col0\" >Group Features</td>\n",
       "                        <td id=\"T_b3d1da62_ed43_11eb_bfbd_5c3a45949134row51_col1\" class=\"data row51 col1\" >False</td>\n",
       "            </tr>\n",
       "            <tr>\n",
       "                        <th id=\"T_b3d1da62_ed43_11eb_bfbd_5c3a45949134level0_row52\" class=\"row_heading level0 row52\" >52</th>\n",
       "                        <td id=\"T_b3d1da62_ed43_11eb_bfbd_5c3a45949134row52_col0\" class=\"data row52 col0\" >Feature Selection</td>\n",
       "                        <td id=\"T_b3d1da62_ed43_11eb_bfbd_5c3a45949134row52_col1\" class=\"data row52 col1\" >False</td>\n",
       "            </tr>\n",
       "            <tr>\n",
       "                        <th id=\"T_b3d1da62_ed43_11eb_bfbd_5c3a45949134level0_row53\" class=\"row_heading level0 row53\" >53</th>\n",
       "                        <td id=\"T_b3d1da62_ed43_11eb_bfbd_5c3a45949134row53_col0\" class=\"data row53 col0\" >Feature Selection Method</td>\n",
       "                        <td id=\"T_b3d1da62_ed43_11eb_bfbd_5c3a45949134row53_col1\" class=\"data row53 col1\" >classic</td>\n",
       "            </tr>\n",
       "            <tr>\n",
       "                        <th id=\"T_b3d1da62_ed43_11eb_bfbd_5c3a45949134level0_row54\" class=\"row_heading level0 row54\" >54</th>\n",
       "                        <td id=\"T_b3d1da62_ed43_11eb_bfbd_5c3a45949134row54_col0\" class=\"data row54 col0\" >Features Selection Threshold</td>\n",
       "                        <td id=\"T_b3d1da62_ed43_11eb_bfbd_5c3a45949134row54_col1\" class=\"data row54 col1\" >None</td>\n",
       "            </tr>\n",
       "            <tr>\n",
       "                        <th id=\"T_b3d1da62_ed43_11eb_bfbd_5c3a45949134level0_row55\" class=\"row_heading level0 row55\" >55</th>\n",
       "                        <td id=\"T_b3d1da62_ed43_11eb_bfbd_5c3a45949134row55_col0\" class=\"data row55 col0\" >Feature Interaction</td>\n",
       "                        <td id=\"T_b3d1da62_ed43_11eb_bfbd_5c3a45949134row55_col1\" class=\"data row55 col1\" >False</td>\n",
       "            </tr>\n",
       "            <tr>\n",
       "                        <th id=\"T_b3d1da62_ed43_11eb_bfbd_5c3a45949134level0_row56\" class=\"row_heading level0 row56\" >56</th>\n",
       "                        <td id=\"T_b3d1da62_ed43_11eb_bfbd_5c3a45949134row56_col0\" class=\"data row56 col0\" >Feature Ratio</td>\n",
       "                        <td id=\"T_b3d1da62_ed43_11eb_bfbd_5c3a45949134row56_col1\" class=\"data row56 col1\" >False</td>\n",
       "            </tr>\n",
       "            <tr>\n",
       "                        <th id=\"T_b3d1da62_ed43_11eb_bfbd_5c3a45949134level0_row57\" class=\"row_heading level0 row57\" >57</th>\n",
       "                        <td id=\"T_b3d1da62_ed43_11eb_bfbd_5c3a45949134row57_col0\" class=\"data row57 col0\" >Interaction Threshold</td>\n",
       "                        <td id=\"T_b3d1da62_ed43_11eb_bfbd_5c3a45949134row57_col1\" class=\"data row57 col1\" >None</td>\n",
       "            </tr>\n",
       "            <tr>\n",
       "                        <th id=\"T_b3d1da62_ed43_11eb_bfbd_5c3a45949134level0_row58\" class=\"row_heading level0 row58\" >58</th>\n",
       "                        <td id=\"T_b3d1da62_ed43_11eb_bfbd_5c3a45949134row58_col0\" class=\"data row58 col0\" >Fix Imbalance</td>\n",
       "                        <td id=\"T_b3d1da62_ed43_11eb_bfbd_5c3a45949134row58_col1\" class=\"data row58 col1\" >False</td>\n",
       "            </tr>\n",
       "            <tr>\n",
       "                        <th id=\"T_b3d1da62_ed43_11eb_bfbd_5c3a45949134level0_row59\" class=\"row_heading level0 row59\" >59</th>\n",
       "                        <td id=\"T_b3d1da62_ed43_11eb_bfbd_5c3a45949134row59_col0\" class=\"data row59 col0\" >Fix Imbalance Method</td>\n",
       "                        <td id=\"T_b3d1da62_ed43_11eb_bfbd_5c3a45949134row59_col1\" class=\"data row59 col1\" >SMOTE</td>\n",
       "            </tr>\n",
       "    </tbody></table>"
      ],
      "text/plain": [
       "<pandas.io.formats.style.Styler at 0x161fa97b7f0>"
      ]
     },
     "metadata": {},
     "output_type": "display_data"
    }
   ],
   "source": [
    "clf = setup(data = data, \n",
    "             target = 'Dominant_Topic',\n",
    "             numeric_imputation = 'mean',session_id = 784,fold= 4,silent = True)"
   ]
  },
  {
   "cell_type": "code",
   "execution_count": 21,
   "metadata": {},
   "outputs": [
    {
     "data": {
      "text/html": [
       "<style  type=\"text/css\" >\n",
       "    #T_c7debdfc_ed43_11eb_9a5c_5c3a45949134 th {\n",
       "          text-align: left;\n",
       "    }#T_c7debdfc_ed43_11eb_9a5c_5c3a45949134row0_col0,#T_c7debdfc_ed43_11eb_9a5c_5c3a45949134row0_col2,#T_c7debdfc_ed43_11eb_9a5c_5c3a45949134row0_col4,#T_c7debdfc_ed43_11eb_9a5c_5c3a45949134row0_col5,#T_c7debdfc_ed43_11eb_9a5c_5c3a45949134row0_col6,#T_c7debdfc_ed43_11eb_9a5c_5c3a45949134row0_col7,#T_c7debdfc_ed43_11eb_9a5c_5c3a45949134row1_col0,#T_c7debdfc_ed43_11eb_9a5c_5c3a45949134row1_col2,#T_c7debdfc_ed43_11eb_9a5c_5c3a45949134row1_col4,#T_c7debdfc_ed43_11eb_9a5c_5c3a45949134row1_col5,#T_c7debdfc_ed43_11eb_9a5c_5c3a45949134row1_col6,#T_c7debdfc_ed43_11eb_9a5c_5c3a45949134row1_col7,#T_c7debdfc_ed43_11eb_9a5c_5c3a45949134row2_col0,#T_c7debdfc_ed43_11eb_9a5c_5c3a45949134row2_col2,#T_c7debdfc_ed43_11eb_9a5c_5c3a45949134row2_col4,#T_c7debdfc_ed43_11eb_9a5c_5c3a45949134row2_col5,#T_c7debdfc_ed43_11eb_9a5c_5c3a45949134row2_col6,#T_c7debdfc_ed43_11eb_9a5c_5c3a45949134row2_col7,#T_c7debdfc_ed43_11eb_9a5c_5c3a45949134row3_col0,#T_c7debdfc_ed43_11eb_9a5c_5c3a45949134row3_col2,#T_c7debdfc_ed43_11eb_9a5c_5c3a45949134row3_col4,#T_c7debdfc_ed43_11eb_9a5c_5c3a45949134row3_col5,#T_c7debdfc_ed43_11eb_9a5c_5c3a45949134row3_col6,#T_c7debdfc_ed43_11eb_9a5c_5c3a45949134row3_col7,#T_c7debdfc_ed43_11eb_9a5c_5c3a45949134row4_col0,#T_c7debdfc_ed43_11eb_9a5c_5c3a45949134row4_col2,#T_c7debdfc_ed43_11eb_9a5c_5c3a45949134row4_col3,#T_c7debdfc_ed43_11eb_9a5c_5c3a45949134row5_col0,#T_c7debdfc_ed43_11eb_9a5c_5c3a45949134row5_col2,#T_c7debdfc_ed43_11eb_9a5c_5c3a45949134row5_col4,#T_c7debdfc_ed43_11eb_9a5c_5c3a45949134row5_col5,#T_c7debdfc_ed43_11eb_9a5c_5c3a45949134row5_col6,#T_c7debdfc_ed43_11eb_9a5c_5c3a45949134row5_col7,#T_c7debdfc_ed43_11eb_9a5c_5c3a45949134row6_col0,#T_c7debdfc_ed43_11eb_9a5c_5c3a45949134row6_col1,#T_c7debdfc_ed43_11eb_9a5c_5c3a45949134row6_col2,#T_c7debdfc_ed43_11eb_9a5c_5c3a45949134row6_col3,#T_c7debdfc_ed43_11eb_9a5c_5c3a45949134row6_col4,#T_c7debdfc_ed43_11eb_9a5c_5c3a45949134row6_col5,#T_c7debdfc_ed43_11eb_9a5c_5c3a45949134row6_col6,#T_c7debdfc_ed43_11eb_9a5c_5c3a45949134row6_col7,#T_c7debdfc_ed43_11eb_9a5c_5c3a45949134row7_col0,#T_c7debdfc_ed43_11eb_9a5c_5c3a45949134row7_col1,#T_c7debdfc_ed43_11eb_9a5c_5c3a45949134row7_col2,#T_c7debdfc_ed43_11eb_9a5c_5c3a45949134row7_col3,#T_c7debdfc_ed43_11eb_9a5c_5c3a45949134row7_col4,#T_c7debdfc_ed43_11eb_9a5c_5c3a45949134row7_col5,#T_c7debdfc_ed43_11eb_9a5c_5c3a45949134row7_col6,#T_c7debdfc_ed43_11eb_9a5c_5c3a45949134row7_col7,#T_c7debdfc_ed43_11eb_9a5c_5c3a45949134row8_col0,#T_c7debdfc_ed43_11eb_9a5c_5c3a45949134row8_col1,#T_c7debdfc_ed43_11eb_9a5c_5c3a45949134row8_col2,#T_c7debdfc_ed43_11eb_9a5c_5c3a45949134row8_col3,#T_c7debdfc_ed43_11eb_9a5c_5c3a45949134row8_col4,#T_c7debdfc_ed43_11eb_9a5c_5c3a45949134row8_col5,#T_c7debdfc_ed43_11eb_9a5c_5c3a45949134row8_col6,#T_c7debdfc_ed43_11eb_9a5c_5c3a45949134row8_col7,#T_c7debdfc_ed43_11eb_9a5c_5c3a45949134row9_col0,#T_c7debdfc_ed43_11eb_9a5c_5c3a45949134row9_col1,#T_c7debdfc_ed43_11eb_9a5c_5c3a45949134row9_col3,#T_c7debdfc_ed43_11eb_9a5c_5c3a45949134row9_col4,#T_c7debdfc_ed43_11eb_9a5c_5c3a45949134row9_col5,#T_c7debdfc_ed43_11eb_9a5c_5c3a45949134row9_col6,#T_c7debdfc_ed43_11eb_9a5c_5c3a45949134row9_col7,#T_c7debdfc_ed43_11eb_9a5c_5c3a45949134row10_col0,#T_c7debdfc_ed43_11eb_9a5c_5c3a45949134row10_col1,#T_c7debdfc_ed43_11eb_9a5c_5c3a45949134row10_col2,#T_c7debdfc_ed43_11eb_9a5c_5c3a45949134row10_col3,#T_c7debdfc_ed43_11eb_9a5c_5c3a45949134row10_col4,#T_c7debdfc_ed43_11eb_9a5c_5c3a45949134row10_col5,#T_c7debdfc_ed43_11eb_9a5c_5c3a45949134row10_col6,#T_c7debdfc_ed43_11eb_9a5c_5c3a45949134row10_col7,#T_c7debdfc_ed43_11eb_9a5c_5c3a45949134row11_col0,#T_c7debdfc_ed43_11eb_9a5c_5c3a45949134row11_col1,#T_c7debdfc_ed43_11eb_9a5c_5c3a45949134row11_col2,#T_c7debdfc_ed43_11eb_9a5c_5c3a45949134row11_col3,#T_c7debdfc_ed43_11eb_9a5c_5c3a45949134row11_col4,#T_c7debdfc_ed43_11eb_9a5c_5c3a45949134row11_col5,#T_c7debdfc_ed43_11eb_9a5c_5c3a45949134row11_col6,#T_c7debdfc_ed43_11eb_9a5c_5c3a45949134row11_col7,#T_c7debdfc_ed43_11eb_9a5c_5c3a45949134row12_col0,#T_c7debdfc_ed43_11eb_9a5c_5c3a45949134row12_col1,#T_c7debdfc_ed43_11eb_9a5c_5c3a45949134row12_col2,#T_c7debdfc_ed43_11eb_9a5c_5c3a45949134row12_col3,#T_c7debdfc_ed43_11eb_9a5c_5c3a45949134row12_col4,#T_c7debdfc_ed43_11eb_9a5c_5c3a45949134row12_col5,#T_c7debdfc_ed43_11eb_9a5c_5c3a45949134row12_col6,#T_c7debdfc_ed43_11eb_9a5c_5c3a45949134row12_col7,#T_c7debdfc_ed43_11eb_9a5c_5c3a45949134row13_col0,#T_c7debdfc_ed43_11eb_9a5c_5c3a45949134row13_col1,#T_c7debdfc_ed43_11eb_9a5c_5c3a45949134row13_col2,#T_c7debdfc_ed43_11eb_9a5c_5c3a45949134row13_col3,#T_c7debdfc_ed43_11eb_9a5c_5c3a45949134row13_col4,#T_c7debdfc_ed43_11eb_9a5c_5c3a45949134row13_col5,#T_c7debdfc_ed43_11eb_9a5c_5c3a45949134row13_col6,#T_c7debdfc_ed43_11eb_9a5c_5c3a45949134row13_col7{\n",
       "            text-align:  left;\n",
       "            text-align:  left;\n",
       "        }#T_c7debdfc_ed43_11eb_9a5c_5c3a45949134row0_col1,#T_c7debdfc_ed43_11eb_9a5c_5c3a45949134row0_col3,#T_c7debdfc_ed43_11eb_9a5c_5c3a45949134row1_col1,#T_c7debdfc_ed43_11eb_9a5c_5c3a45949134row1_col3,#T_c7debdfc_ed43_11eb_9a5c_5c3a45949134row2_col1,#T_c7debdfc_ed43_11eb_9a5c_5c3a45949134row2_col3,#T_c7debdfc_ed43_11eb_9a5c_5c3a45949134row3_col1,#T_c7debdfc_ed43_11eb_9a5c_5c3a45949134row3_col3,#T_c7debdfc_ed43_11eb_9a5c_5c3a45949134row4_col1,#T_c7debdfc_ed43_11eb_9a5c_5c3a45949134row4_col4,#T_c7debdfc_ed43_11eb_9a5c_5c3a45949134row4_col5,#T_c7debdfc_ed43_11eb_9a5c_5c3a45949134row4_col6,#T_c7debdfc_ed43_11eb_9a5c_5c3a45949134row4_col7,#T_c7debdfc_ed43_11eb_9a5c_5c3a45949134row5_col1,#T_c7debdfc_ed43_11eb_9a5c_5c3a45949134row5_col3,#T_c7debdfc_ed43_11eb_9a5c_5c3a45949134row9_col2{\n",
       "            text-align:  left;\n",
       "            text-align:  left;\n",
       "            background-color:  yellow;\n",
       "        }#T_c7debdfc_ed43_11eb_9a5c_5c3a45949134row0_col8,#T_c7debdfc_ed43_11eb_9a5c_5c3a45949134row1_col8,#T_c7debdfc_ed43_11eb_9a5c_5c3a45949134row2_col8,#T_c7debdfc_ed43_11eb_9a5c_5c3a45949134row3_col8,#T_c7debdfc_ed43_11eb_9a5c_5c3a45949134row4_col8,#T_c7debdfc_ed43_11eb_9a5c_5c3a45949134row5_col8,#T_c7debdfc_ed43_11eb_9a5c_5c3a45949134row6_col8,#T_c7debdfc_ed43_11eb_9a5c_5c3a45949134row7_col8,#T_c7debdfc_ed43_11eb_9a5c_5c3a45949134row8_col8,#T_c7debdfc_ed43_11eb_9a5c_5c3a45949134row9_col8,#T_c7debdfc_ed43_11eb_9a5c_5c3a45949134row10_col8,#T_c7debdfc_ed43_11eb_9a5c_5c3a45949134row12_col8,#T_c7debdfc_ed43_11eb_9a5c_5c3a45949134row13_col8{\n",
       "            text-align:  left;\n",
       "            text-align:  left;\n",
       "            background-color:  lightgrey;\n",
       "        }#T_c7debdfc_ed43_11eb_9a5c_5c3a45949134row11_col8{\n",
       "            text-align:  left;\n",
       "            text-align:  left;\n",
       "            background-color:  yellow;\n",
       "            background-color:  lightgrey;\n",
       "        }</style><table id=\"T_c7debdfc_ed43_11eb_9a5c_5c3a45949134\" ><thead>    <tr>        <th class=\"blank level0\" ></th>        <th class=\"col_heading level0 col0\" >Model</th>        <th class=\"col_heading level0 col1\" >Accuracy</th>        <th class=\"col_heading level0 col2\" >AUC</th>        <th class=\"col_heading level0 col3\" >Recall</th>        <th class=\"col_heading level0 col4\" >Prec.</th>        <th class=\"col_heading level0 col5\" >F1</th>        <th class=\"col_heading level0 col6\" >Kappa</th>        <th class=\"col_heading level0 col7\" >MCC</th>        <th class=\"col_heading level0 col8\" >TT (Sec)</th>    </tr></thead><tbody>\n",
       "                <tr>\n",
       "                        <th id=\"T_c7debdfc_ed43_11eb_9a5c_5c3a45949134level0_row0\" class=\"row_heading level0 row0\" >dt</th>\n",
       "                        <td id=\"T_c7debdfc_ed43_11eb_9a5c_5c3a45949134row0_col0\" class=\"data row0 col0\" >Decision Tree Classifier</td>\n",
       "                        <td id=\"T_c7debdfc_ed43_11eb_9a5c_5c3a45949134row0_col1\" class=\"data row0 col1\" >0.9375</td>\n",
       "                        <td id=\"T_c7debdfc_ed43_11eb_9a5c_5c3a45949134row0_col2\" class=\"data row0 col2\" >0.1667</td>\n",
       "                        <td id=\"T_c7debdfc_ed43_11eb_9a5c_5c3a45949134row0_col3\" class=\"data row0 col3\" >0.9375</td>\n",
       "                        <td id=\"T_c7debdfc_ed43_11eb_9a5c_5c3a45949134row0_col4\" class=\"data row0 col4\" >0.9062</td>\n",
       "                        <td id=\"T_c7debdfc_ed43_11eb_9a5c_5c3a45949134row0_col5\" class=\"data row0 col5\" >0.9167</td>\n",
       "                        <td id=\"T_c7debdfc_ed43_11eb_9a5c_5c3a45949134row0_col6\" class=\"data row0 col6\" >0.9167</td>\n",
       "                        <td id=\"T_c7debdfc_ed43_11eb_9a5c_5c3a45949134row0_col7\" class=\"data row0 col7\" >0.9326</td>\n",
       "                        <td id=\"T_c7debdfc_ed43_11eb_9a5c_5c3a45949134row0_col8\" class=\"data row0 col8\" >0.0200</td>\n",
       "            </tr>\n",
       "            <tr>\n",
       "                        <th id=\"T_c7debdfc_ed43_11eb_9a5c_5c3a45949134level0_row1\" class=\"row_heading level0 row1\" >svm</th>\n",
       "                        <td id=\"T_c7debdfc_ed43_11eb_9a5c_5c3a45949134row1_col0\" class=\"data row1 col0\" >SVM - Linear Kernel</td>\n",
       "                        <td id=\"T_c7debdfc_ed43_11eb_9a5c_5c3a45949134row1_col1\" class=\"data row1 col1\" >0.9375</td>\n",
       "                        <td id=\"T_c7debdfc_ed43_11eb_9a5c_5c3a45949134row1_col2\" class=\"data row1 col2\" >0.0000</td>\n",
       "                        <td id=\"T_c7debdfc_ed43_11eb_9a5c_5c3a45949134row1_col3\" class=\"data row1 col3\" >0.9375</td>\n",
       "                        <td id=\"T_c7debdfc_ed43_11eb_9a5c_5c3a45949134row1_col4\" class=\"data row1 col4\" >0.9062</td>\n",
       "                        <td id=\"T_c7debdfc_ed43_11eb_9a5c_5c3a45949134row1_col5\" class=\"data row1 col5\" >0.9167</td>\n",
       "                        <td id=\"T_c7debdfc_ed43_11eb_9a5c_5c3a45949134row1_col6\" class=\"data row1 col6\" >0.9167</td>\n",
       "                        <td id=\"T_c7debdfc_ed43_11eb_9a5c_5c3a45949134row1_col7\" class=\"data row1 col7\" >0.9326</td>\n",
       "                        <td id=\"T_c7debdfc_ed43_11eb_9a5c_5c3a45949134row1_col8\" class=\"data row1 col8\" >0.0200</td>\n",
       "            </tr>\n",
       "            <tr>\n",
       "                        <th id=\"T_c7debdfc_ed43_11eb_9a5c_5c3a45949134level0_row2\" class=\"row_heading level0 row2\" >ridge</th>\n",
       "                        <td id=\"T_c7debdfc_ed43_11eb_9a5c_5c3a45949134row2_col0\" class=\"data row2 col0\" >Ridge Classifier</td>\n",
       "                        <td id=\"T_c7debdfc_ed43_11eb_9a5c_5c3a45949134row2_col1\" class=\"data row2 col1\" >0.9375</td>\n",
       "                        <td id=\"T_c7debdfc_ed43_11eb_9a5c_5c3a45949134row2_col2\" class=\"data row2 col2\" >0.0000</td>\n",
       "                        <td id=\"T_c7debdfc_ed43_11eb_9a5c_5c3a45949134row2_col3\" class=\"data row2 col3\" >0.9375</td>\n",
       "                        <td id=\"T_c7debdfc_ed43_11eb_9a5c_5c3a45949134row2_col4\" class=\"data row2 col4\" >0.9062</td>\n",
       "                        <td id=\"T_c7debdfc_ed43_11eb_9a5c_5c3a45949134row2_col5\" class=\"data row2 col5\" >0.9167</td>\n",
       "                        <td id=\"T_c7debdfc_ed43_11eb_9a5c_5c3a45949134row2_col6\" class=\"data row2 col6\" >0.9167</td>\n",
       "                        <td id=\"T_c7debdfc_ed43_11eb_9a5c_5c3a45949134row2_col7\" class=\"data row2 col7\" >0.9326</td>\n",
       "                        <td id=\"T_c7debdfc_ed43_11eb_9a5c_5c3a45949134row2_col8\" class=\"data row2 col8\" >0.0325</td>\n",
       "            </tr>\n",
       "            <tr>\n",
       "                        <th id=\"T_c7debdfc_ed43_11eb_9a5c_5c3a45949134level0_row3\" class=\"row_heading level0 row3\" >gbc</th>\n",
       "                        <td id=\"T_c7debdfc_ed43_11eb_9a5c_5c3a45949134row3_col0\" class=\"data row3 col0\" >Gradient Boosting Classifier</td>\n",
       "                        <td id=\"T_c7debdfc_ed43_11eb_9a5c_5c3a45949134row3_col1\" class=\"data row3 col1\" >0.9375</td>\n",
       "                        <td id=\"T_c7debdfc_ed43_11eb_9a5c_5c3a45949134row3_col2\" class=\"data row3 col2\" >0.1667</td>\n",
       "                        <td id=\"T_c7debdfc_ed43_11eb_9a5c_5c3a45949134row3_col3\" class=\"data row3 col3\" >0.9375</td>\n",
       "                        <td id=\"T_c7debdfc_ed43_11eb_9a5c_5c3a45949134row3_col4\" class=\"data row3 col4\" >0.9062</td>\n",
       "                        <td id=\"T_c7debdfc_ed43_11eb_9a5c_5c3a45949134row3_col5\" class=\"data row3 col5\" >0.9167</td>\n",
       "                        <td id=\"T_c7debdfc_ed43_11eb_9a5c_5c3a45949134row3_col6\" class=\"data row3 col6\" >0.9167</td>\n",
       "                        <td id=\"T_c7debdfc_ed43_11eb_9a5c_5c3a45949134row3_col7\" class=\"data row3 col7\" >0.9326</td>\n",
       "                        <td id=\"T_c7debdfc_ed43_11eb_9a5c_5c3a45949134row3_col8\" class=\"data row3 col8\" >0.1925</td>\n",
       "            </tr>\n",
       "            <tr>\n",
       "                        <th id=\"T_c7debdfc_ed43_11eb_9a5c_5c3a45949134level0_row4\" class=\"row_heading level0 row4\" >lda</th>\n",
       "                        <td id=\"T_c7debdfc_ed43_11eb_9a5c_5c3a45949134row4_col0\" class=\"data row4 col0\" >Linear Discriminant Analysis</td>\n",
       "                        <td id=\"T_c7debdfc_ed43_11eb_9a5c_5c3a45949134row4_col1\" class=\"data row4 col1\" >0.9375</td>\n",
       "                        <td id=\"T_c7debdfc_ed43_11eb_9a5c_5c3a45949134row4_col2\" class=\"data row4 col2\" >0.1562</td>\n",
       "                        <td id=\"T_c7debdfc_ed43_11eb_9a5c_5c3a45949134row4_col3\" class=\"data row4 col3\" >0.9000</td>\n",
       "                        <td id=\"T_c7debdfc_ed43_11eb_9a5c_5c3a45949134row4_col4\" class=\"data row4 col4\" >0.9375</td>\n",
       "                        <td id=\"T_c7debdfc_ed43_11eb_9a5c_5c3a45949134row4_col5\" class=\"data row4 col5\" >0.9375</td>\n",
       "                        <td id=\"T_c7debdfc_ed43_11eb_9a5c_5c3a45949134row4_col6\" class=\"data row4 col6\" >0.9231</td>\n",
       "                        <td id=\"T_c7debdfc_ed43_11eb_9a5c_5c3a45949134row4_col7\" class=\"data row4 col7\" >0.9375</td>\n",
       "                        <td id=\"T_c7debdfc_ed43_11eb_9a5c_5c3a45949134row4_col8\" class=\"data row4 col8\" >0.0175</td>\n",
       "            </tr>\n",
       "            <tr>\n",
       "                        <th id=\"T_c7debdfc_ed43_11eb_9a5c_5c3a45949134level0_row5\" class=\"row_heading level0 row5\" >et</th>\n",
       "                        <td id=\"T_c7debdfc_ed43_11eb_9a5c_5c3a45949134row5_col0\" class=\"data row5 col0\" >Extra Trees Classifier</td>\n",
       "                        <td id=\"T_c7debdfc_ed43_11eb_9a5c_5c3a45949134row5_col1\" class=\"data row5 col1\" >0.9375</td>\n",
       "                        <td id=\"T_c7debdfc_ed43_11eb_9a5c_5c3a45949134row5_col2\" class=\"data row5 col2\" >0.1458</td>\n",
       "                        <td id=\"T_c7debdfc_ed43_11eb_9a5c_5c3a45949134row5_col3\" class=\"data row5 col3\" >0.9375</td>\n",
       "                        <td id=\"T_c7debdfc_ed43_11eb_9a5c_5c3a45949134row5_col4\" class=\"data row5 col4\" >0.9062</td>\n",
       "                        <td id=\"T_c7debdfc_ed43_11eb_9a5c_5c3a45949134row5_col5\" class=\"data row5 col5\" >0.9167</td>\n",
       "                        <td id=\"T_c7debdfc_ed43_11eb_9a5c_5c3a45949134row5_col6\" class=\"data row5 col6\" >0.9167</td>\n",
       "                        <td id=\"T_c7debdfc_ed43_11eb_9a5c_5c3a45949134row5_col7\" class=\"data row5 col7\" >0.9326</td>\n",
       "                        <td id=\"T_c7debdfc_ed43_11eb_9a5c_5c3a45949134row5_col8\" class=\"data row5 col8\" >0.1475</td>\n",
       "            </tr>\n",
       "            <tr>\n",
       "                        <th id=\"T_c7debdfc_ed43_11eb_9a5c_5c3a45949134level0_row6\" class=\"row_heading level0 row6\" >xgboost</th>\n",
       "                        <td id=\"T_c7debdfc_ed43_11eb_9a5c_5c3a45949134row6_col0\" class=\"data row6 col0\" >Extreme Gradient Boosting</td>\n",
       "                        <td id=\"T_c7debdfc_ed43_11eb_9a5c_5c3a45949134row6_col1\" class=\"data row6 col1\" >0.8542</td>\n",
       "                        <td id=\"T_c7debdfc_ed43_11eb_9a5c_5c3a45949134row6_col2\" class=\"data row6 col2\" >0.1667</td>\n",
       "                        <td id=\"T_c7debdfc_ed43_11eb_9a5c_5c3a45949134row6_col3\" class=\"data row6 col3\" >0.8125</td>\n",
       "                        <td id=\"T_c7debdfc_ed43_11eb_9a5c_5c3a45949134row6_col4\" class=\"data row6 col4\" >0.8229</td>\n",
       "                        <td id=\"T_c7debdfc_ed43_11eb_9a5c_5c3a45949134row6_col5\" class=\"data row6 col5\" >0.8333</td>\n",
       "                        <td id=\"T_c7debdfc_ed43_11eb_9a5c_5c3a45949134row6_col6\" class=\"data row6 col6\" >0.8095</td>\n",
       "                        <td id=\"T_c7debdfc_ed43_11eb_9a5c_5c3a45949134row6_col7\" class=\"data row6 col7\" >0.8492</td>\n",
       "                        <td id=\"T_c7debdfc_ed43_11eb_9a5c_5c3a45949134row6_col8\" class=\"data row6 col8\" >0.1725</td>\n",
       "            </tr>\n",
       "            <tr>\n",
       "                        <th id=\"T_c7debdfc_ed43_11eb_9a5c_5c3a45949134level0_row7\" class=\"row_heading level0 row7\" >rf</th>\n",
       "                        <td id=\"T_c7debdfc_ed43_11eb_9a5c_5c3a45949134row7_col0\" class=\"data row7 col0\" >Random Forest Classifier</td>\n",
       "                        <td id=\"T_c7debdfc_ed43_11eb_9a5c_5c3a45949134row7_col1\" class=\"data row7 col1\" >0.7708</td>\n",
       "                        <td id=\"T_c7debdfc_ed43_11eb_9a5c_5c3a45949134row7_col2\" class=\"data row7 col2\" >0.1667</td>\n",
       "                        <td id=\"T_c7debdfc_ed43_11eb_9a5c_5c3a45949134row7_col3\" class=\"data row7 col3\" >0.7292</td>\n",
       "                        <td id=\"T_c7debdfc_ed43_11eb_9a5c_5c3a45949134row7_col4\" class=\"data row7 col4\" >0.6979</td>\n",
       "                        <td id=\"T_c7debdfc_ed43_11eb_9a5c_5c3a45949134row7_col5\" class=\"data row7 col5\" >0.7222</td>\n",
       "                        <td id=\"T_c7debdfc_ed43_11eb_9a5c_5c3a45949134row7_col6\" class=\"data row7 col6\" >0.6845</td>\n",
       "                        <td id=\"T_c7debdfc_ed43_11eb_9a5c_5c3a45949134row7_col7\" class=\"data row7 col7\" >0.7523</td>\n",
       "                        <td id=\"T_c7debdfc_ed43_11eb_9a5c_5c3a45949134row7_col8\" class=\"data row7 col8\" >0.1575</td>\n",
       "            </tr>\n",
       "            <tr>\n",
       "                        <th id=\"T_c7debdfc_ed43_11eb_9a5c_5c3a45949134level0_row8\" class=\"row_heading level0 row8\" >ada</th>\n",
       "                        <td id=\"T_c7debdfc_ed43_11eb_9a5c_5c3a45949134row8_col0\" class=\"data row8 col0\" >Ada Boost Classifier</td>\n",
       "                        <td id=\"T_c7debdfc_ed43_11eb_9a5c_5c3a45949134row8_col1\" class=\"data row8 col1\" >0.7708</td>\n",
       "                        <td id=\"T_c7debdfc_ed43_11eb_9a5c_5c3a45949134row8_col2\" class=\"data row8 col2\" >0.1667</td>\n",
       "                        <td id=\"T_c7debdfc_ed43_11eb_9a5c_5c3a45949134row8_col3\" class=\"data row8 col3\" >0.7708</td>\n",
       "                        <td id=\"T_c7debdfc_ed43_11eb_9a5c_5c3a45949134row8_col4\" class=\"data row8 col4\" >0.6562</td>\n",
       "                        <td id=\"T_c7debdfc_ed43_11eb_9a5c_5c3a45949134row8_col5\" class=\"data row8 col5\" >0.6944</td>\n",
       "                        <td id=\"T_c7debdfc_ed43_11eb_9a5c_5c3a45949134row8_col6\" class=\"data row8 col6\" >0.6667</td>\n",
       "                        <td id=\"T_c7debdfc_ed43_11eb_9a5c_5c3a45949134row8_col7\" class=\"data row8 col7\" >0.7388</td>\n",
       "                        <td id=\"T_c7debdfc_ed43_11eb_9a5c_5c3a45949134row8_col8\" class=\"data row8 col8\" >0.0750</td>\n",
       "            </tr>\n",
       "            <tr>\n",
       "                        <th id=\"T_c7debdfc_ed43_11eb_9a5c_5c3a45949134level0_row9\" class=\"row_heading level0 row9\" >lr</th>\n",
       "                        <td id=\"T_c7debdfc_ed43_11eb_9a5c_5c3a45949134row9_col0\" class=\"data row9 col0\" >Logistic Regression</td>\n",
       "                        <td id=\"T_c7debdfc_ed43_11eb_9a5c_5c3a45949134row9_col1\" class=\"data row9 col1\" >0.6250</td>\n",
       "                        <td id=\"T_c7debdfc_ed43_11eb_9a5c_5c3a45949134row9_col2\" class=\"data row9 col2\" >0.1875</td>\n",
       "                        <td id=\"T_c7debdfc_ed43_11eb_9a5c_5c3a45949134row9_col3\" class=\"data row9 col3\" >0.6250</td>\n",
       "                        <td id=\"T_c7debdfc_ed43_11eb_9a5c_5c3a45949134row9_col4\" class=\"data row9 col4\" >0.4583</td>\n",
       "                        <td id=\"T_c7debdfc_ed43_11eb_9a5c_5c3a45949134row9_col5\" class=\"data row9 col5\" >0.5104</td>\n",
       "                        <td id=\"T_c7debdfc_ed43_11eb_9a5c_5c3a45949134row9_col6\" class=\"data row9 col6\" >0.4583</td>\n",
       "                        <td id=\"T_c7debdfc_ed43_11eb_9a5c_5c3a45949134row9_col7\" class=\"data row9 col7\" >0.5771</td>\n",
       "                        <td id=\"T_c7debdfc_ed43_11eb_9a5c_5c3a45949134row9_col8\" class=\"data row9 col8\" >2.4750</td>\n",
       "            </tr>\n",
       "            <tr>\n",
       "                        <th id=\"T_c7debdfc_ed43_11eb_9a5c_5c3a45949134level0_row10\" class=\"row_heading level0 row10\" >knn</th>\n",
       "                        <td id=\"T_c7debdfc_ed43_11eb_9a5c_5c3a45949134row10_col0\" class=\"data row10 col0\" >K Neighbors Classifier</td>\n",
       "                        <td id=\"T_c7debdfc_ed43_11eb_9a5c_5c3a45949134row10_col1\" class=\"data row10 col1\" >0.6250</td>\n",
       "                        <td id=\"T_c7debdfc_ed43_11eb_9a5c_5c3a45949134row10_col2\" class=\"data row10 col2\" >0.1250</td>\n",
       "                        <td id=\"T_c7debdfc_ed43_11eb_9a5c_5c3a45949134row10_col3\" class=\"data row10 col3\" >0.5833</td>\n",
       "                        <td id=\"T_c7debdfc_ed43_11eb_9a5c_5c3a45949134row10_col4\" class=\"data row10 col4\" >0.5000</td>\n",
       "                        <td id=\"T_c7debdfc_ed43_11eb_9a5c_5c3a45949134row10_col5\" class=\"data row10 col5\" >0.5382</td>\n",
       "                        <td id=\"T_c7debdfc_ed43_11eb_9a5c_5c3a45949134row10_col6\" class=\"data row10 col6\" >0.4762</td>\n",
       "                        <td id=\"T_c7debdfc_ed43_11eb_9a5c_5c3a45949134row10_col7\" class=\"data row10 col7\" >0.5907</td>\n",
       "                        <td id=\"T_c7debdfc_ed43_11eb_9a5c_5c3a45949134row10_col8\" class=\"data row10 col8\" >1.9025</td>\n",
       "            </tr>\n",
       "            <tr>\n",
       "                        <th id=\"T_c7debdfc_ed43_11eb_9a5c_5c3a45949134level0_row11\" class=\"row_heading level0 row11\" >nb</th>\n",
       "                        <td id=\"T_c7debdfc_ed43_11eb_9a5c_5c3a45949134row11_col0\" class=\"data row11 col0\" >Naive Bayes</td>\n",
       "                        <td id=\"T_c7debdfc_ed43_11eb_9a5c_5c3a45949134row11_col1\" class=\"data row11 col1\" >0.6250</td>\n",
       "                        <td id=\"T_c7debdfc_ed43_11eb_9a5c_5c3a45949134row11_col2\" class=\"data row11 col2\" >0.1667</td>\n",
       "                        <td id=\"T_c7debdfc_ed43_11eb_9a5c_5c3a45949134row11_col3\" class=\"data row11 col3\" >0.6250</td>\n",
       "                        <td id=\"T_c7debdfc_ed43_11eb_9a5c_5c3a45949134row11_col4\" class=\"data row11 col4\" >0.4583</td>\n",
       "                        <td id=\"T_c7debdfc_ed43_11eb_9a5c_5c3a45949134row11_col5\" class=\"data row11 col5\" >0.5104</td>\n",
       "                        <td id=\"T_c7debdfc_ed43_11eb_9a5c_5c3a45949134row11_col6\" class=\"data row11 col6\" >0.4583</td>\n",
       "                        <td id=\"T_c7debdfc_ed43_11eb_9a5c_5c3a45949134row11_col7\" class=\"data row11 col7\" >0.5771</td>\n",
       "                        <td id=\"T_c7debdfc_ed43_11eb_9a5c_5c3a45949134row11_col8\" class=\"data row11 col8\" >0.0150</td>\n",
       "            </tr>\n",
       "            <tr>\n",
       "                        <th id=\"T_c7debdfc_ed43_11eb_9a5c_5c3a45949134level0_row12\" class=\"row_heading level0 row12\" >lightgbm</th>\n",
       "                        <td id=\"T_c7debdfc_ed43_11eb_9a5c_5c3a45949134row12_col0\" class=\"data row12 col0\" >Light Gradient Boosting Machine</td>\n",
       "                        <td id=\"T_c7debdfc_ed43_11eb_9a5c_5c3a45949134row12_col1\" class=\"data row12 col1\" >0.3125</td>\n",
       "                        <td id=\"T_c7debdfc_ed43_11eb_9a5c_5c3a45949134row12_col2\" class=\"data row12 col2\" >0.1250</td>\n",
       "                        <td id=\"T_c7debdfc_ed43_11eb_9a5c_5c3a45949134row12_col3\" class=\"data row12 col3\" >0.3125</td>\n",
       "                        <td id=\"T_c7debdfc_ed43_11eb_9a5c_5c3a45949134row12_col4\" class=\"data row12 col4\" >0.0990</td>\n",
       "                        <td id=\"T_c7debdfc_ed43_11eb_9a5c_5c3a45949134row12_col5\" class=\"data row12 col5\" >0.1500</td>\n",
       "                        <td id=\"T_c7debdfc_ed43_11eb_9a5c_5c3a45949134row12_col6\" class=\"data row12 col6\" >0.0000</td>\n",
       "                        <td id=\"T_c7debdfc_ed43_11eb_9a5c_5c3a45949134row12_col7\" class=\"data row12 col7\" >0.0000</td>\n",
       "                        <td id=\"T_c7debdfc_ed43_11eb_9a5c_5c3a45949134row12_col8\" class=\"data row12 col8\" >0.5050</td>\n",
       "            </tr>\n",
       "            <tr>\n",
       "                        <th id=\"T_c7debdfc_ed43_11eb_9a5c_5c3a45949134level0_row13\" class=\"row_heading level0 row13\" >qda</th>\n",
       "                        <td id=\"T_c7debdfc_ed43_11eb_9a5c_5c3a45949134row13_col0\" class=\"data row13 col0\" >Quadratic Discriminant Analysis</td>\n",
       "                        <td id=\"T_c7debdfc_ed43_11eb_9a5c_5c3a45949134row13_col1\" class=\"data row13 col1\" >0.0000</td>\n",
       "                        <td id=\"T_c7debdfc_ed43_11eb_9a5c_5c3a45949134row13_col2\" class=\"data row13 col2\" >0.0000</td>\n",
       "                        <td id=\"T_c7debdfc_ed43_11eb_9a5c_5c3a45949134row13_col3\" class=\"data row13 col3\" >0.0000</td>\n",
       "                        <td id=\"T_c7debdfc_ed43_11eb_9a5c_5c3a45949134row13_col4\" class=\"data row13 col4\" >0.0000</td>\n",
       "                        <td id=\"T_c7debdfc_ed43_11eb_9a5c_5c3a45949134row13_col5\" class=\"data row13 col5\" >0.0000</td>\n",
       "                        <td id=\"T_c7debdfc_ed43_11eb_9a5c_5c3a45949134row13_col6\" class=\"data row13 col6\" >0.0000</td>\n",
       "                        <td id=\"T_c7debdfc_ed43_11eb_9a5c_5c3a45949134row13_col7\" class=\"data row13 col7\" >0.0000</td>\n",
       "                        <td id=\"T_c7debdfc_ed43_11eb_9a5c_5c3a45949134row13_col8\" class=\"data row13 col8\" >0.0175</td>\n",
       "            </tr>\n",
       "    </tbody></table>"
      ],
      "text/plain": [
       "<pandas.io.formats.style.Styler at 0x161fa5bf220>"
      ]
     },
     "metadata": {},
     "output_type": "display_data"
    },
    {
     "data": {
      "text/plain": [
       "DecisionTreeClassifier(ccp_alpha=0.0, class_weight=None, criterion='gini',\n",
       "                       max_depth=None, max_features=None, max_leaf_nodes=None,\n",
       "                       min_impurity_decrease=0.0, min_impurity_split=None,\n",
       "                       min_samples_leaf=1, min_samples_split=2,\n",
       "                       min_weight_fraction_leaf=0.0, presort='deprecated',\n",
       "                       random_state=784, splitter='best')"
      ]
     },
     "execution_count": 21,
     "metadata": {},
     "output_type": "execute_result"
    }
   ],
   "source": [
    "#Compare the models\n",
    "compare_models()"
   ]
  },
  {
   "cell_type": "code",
   "execution_count": 22,
   "metadata": {},
   "outputs": [
    {
     "data": {
      "text/html": [
       "<style  type=\"text/css\" >\n",
       "#T_cbbabb40_ed43_11eb_b0e8_5c3a45949134row4_col0,#T_cbbabb40_ed43_11eb_b0e8_5c3a45949134row4_col1,#T_cbbabb40_ed43_11eb_b0e8_5c3a45949134row4_col2,#T_cbbabb40_ed43_11eb_b0e8_5c3a45949134row4_col3,#T_cbbabb40_ed43_11eb_b0e8_5c3a45949134row4_col4,#T_cbbabb40_ed43_11eb_b0e8_5c3a45949134row4_col5,#T_cbbabb40_ed43_11eb_b0e8_5c3a45949134row4_col6{\n",
       "            background:  yellow;\n",
       "        }</style><table id=\"T_cbbabb40_ed43_11eb_b0e8_5c3a45949134\" ><thead>    <tr>        <th class=\"blank level0\" ></th>        <th class=\"col_heading level0 col0\" >Accuracy</th>        <th class=\"col_heading level0 col1\" >AUC</th>        <th class=\"col_heading level0 col2\" >Recall</th>        <th class=\"col_heading level0 col3\" >Prec.</th>        <th class=\"col_heading level0 col4\" >F1</th>        <th class=\"col_heading level0 col5\" >Kappa</th>        <th class=\"col_heading level0 col6\" >MCC</th>    </tr></thead><tbody>\n",
       "                <tr>\n",
       "                        <th id=\"T_cbbabb40_ed43_11eb_b0e8_5c3a45949134level0_row0\" class=\"row_heading level0 row0\" >0</th>\n",
       "                        <td id=\"T_cbbabb40_ed43_11eb_b0e8_5c3a45949134row0_col0\" class=\"data row0 col0\" >0.7500</td>\n",
       "                        <td id=\"T_cbbabb40_ed43_11eb_b0e8_5c3a45949134row0_col1\" class=\"data row0 col1\" >0.6250</td>\n",
       "                        <td id=\"T_cbbabb40_ed43_11eb_b0e8_5c3a45949134row0_col2\" class=\"data row0 col2\" >0.6000</td>\n",
       "                        <td id=\"T_cbbabb40_ed43_11eb_b0e8_5c3a45949134row0_col3\" class=\"data row0 col3\" >0.7500</td>\n",
       "                        <td id=\"T_cbbabb40_ed43_11eb_b0e8_5c3a45949134row0_col4\" class=\"data row0 col4\" >0.7500</td>\n",
       "                        <td id=\"T_cbbabb40_ed43_11eb_b0e8_5c3a45949134row0_col5\" class=\"data row0 col5\" >0.6923</td>\n",
       "                        <td id=\"T_cbbabb40_ed43_11eb_b0e8_5c3a45949134row0_col6\" class=\"data row0 col6\" >0.7500</td>\n",
       "            </tr>\n",
       "            <tr>\n",
       "                        <th id=\"T_cbbabb40_ed43_11eb_b0e8_5c3a45949134level0_row1\" class=\"row_heading level0 row1\" >1</th>\n",
       "                        <td id=\"T_cbbabb40_ed43_11eb_b0e8_5c3a45949134row1_col0\" class=\"data row1 col0\" >1.0000</td>\n",
       "                        <td id=\"T_cbbabb40_ed43_11eb_b0e8_5c3a45949134row1_col1\" class=\"data row1 col1\" >0.0000</td>\n",
       "                        <td id=\"T_cbbabb40_ed43_11eb_b0e8_5c3a45949134row1_col2\" class=\"data row1 col2\" >1.0000</td>\n",
       "                        <td id=\"T_cbbabb40_ed43_11eb_b0e8_5c3a45949134row1_col3\" class=\"data row1 col3\" >1.0000</td>\n",
       "                        <td id=\"T_cbbabb40_ed43_11eb_b0e8_5c3a45949134row1_col4\" class=\"data row1 col4\" >1.0000</td>\n",
       "                        <td id=\"T_cbbabb40_ed43_11eb_b0e8_5c3a45949134row1_col5\" class=\"data row1 col5\" >1.0000</td>\n",
       "                        <td id=\"T_cbbabb40_ed43_11eb_b0e8_5c3a45949134row1_col6\" class=\"data row1 col6\" >1.0000</td>\n",
       "            </tr>\n",
       "            <tr>\n",
       "                        <th id=\"T_cbbabb40_ed43_11eb_b0e8_5c3a45949134level0_row2\" class=\"row_heading level0 row2\" >2</th>\n",
       "                        <td id=\"T_cbbabb40_ed43_11eb_b0e8_5c3a45949134row2_col0\" class=\"data row2 col0\" >1.0000</td>\n",
       "                        <td id=\"T_cbbabb40_ed43_11eb_b0e8_5c3a45949134row2_col1\" class=\"data row2 col1\" >0.0000</td>\n",
       "                        <td id=\"T_cbbabb40_ed43_11eb_b0e8_5c3a45949134row2_col2\" class=\"data row2 col2\" >1.0000</td>\n",
       "                        <td id=\"T_cbbabb40_ed43_11eb_b0e8_5c3a45949134row2_col3\" class=\"data row2 col3\" >1.0000</td>\n",
       "                        <td id=\"T_cbbabb40_ed43_11eb_b0e8_5c3a45949134row2_col4\" class=\"data row2 col4\" >1.0000</td>\n",
       "                        <td id=\"T_cbbabb40_ed43_11eb_b0e8_5c3a45949134row2_col5\" class=\"data row2 col5\" >1.0000</td>\n",
       "                        <td id=\"T_cbbabb40_ed43_11eb_b0e8_5c3a45949134row2_col6\" class=\"data row2 col6\" >1.0000</td>\n",
       "            </tr>\n",
       "            <tr>\n",
       "                        <th id=\"T_cbbabb40_ed43_11eb_b0e8_5c3a45949134level0_row3\" class=\"row_heading level0 row3\" >3</th>\n",
       "                        <td id=\"T_cbbabb40_ed43_11eb_b0e8_5c3a45949134row3_col0\" class=\"data row3 col0\" >1.0000</td>\n",
       "                        <td id=\"T_cbbabb40_ed43_11eb_b0e8_5c3a45949134row3_col1\" class=\"data row3 col1\" >0.0000</td>\n",
       "                        <td id=\"T_cbbabb40_ed43_11eb_b0e8_5c3a45949134row3_col2\" class=\"data row3 col2\" >1.0000</td>\n",
       "                        <td id=\"T_cbbabb40_ed43_11eb_b0e8_5c3a45949134row3_col3\" class=\"data row3 col3\" >1.0000</td>\n",
       "                        <td id=\"T_cbbabb40_ed43_11eb_b0e8_5c3a45949134row3_col4\" class=\"data row3 col4\" >1.0000</td>\n",
       "                        <td id=\"T_cbbabb40_ed43_11eb_b0e8_5c3a45949134row3_col5\" class=\"data row3 col5\" >1.0000</td>\n",
       "                        <td id=\"T_cbbabb40_ed43_11eb_b0e8_5c3a45949134row3_col6\" class=\"data row3 col6\" >1.0000</td>\n",
       "            </tr>\n",
       "            <tr>\n",
       "                        <th id=\"T_cbbabb40_ed43_11eb_b0e8_5c3a45949134level0_row4\" class=\"row_heading level0 row4\" >Mean</th>\n",
       "                        <td id=\"T_cbbabb40_ed43_11eb_b0e8_5c3a45949134row4_col0\" class=\"data row4 col0\" >0.9375</td>\n",
       "                        <td id=\"T_cbbabb40_ed43_11eb_b0e8_5c3a45949134row4_col1\" class=\"data row4 col1\" >0.1562</td>\n",
       "                        <td id=\"T_cbbabb40_ed43_11eb_b0e8_5c3a45949134row4_col2\" class=\"data row4 col2\" >0.9000</td>\n",
       "                        <td id=\"T_cbbabb40_ed43_11eb_b0e8_5c3a45949134row4_col3\" class=\"data row4 col3\" >0.9375</td>\n",
       "                        <td id=\"T_cbbabb40_ed43_11eb_b0e8_5c3a45949134row4_col4\" class=\"data row4 col4\" >0.9375</td>\n",
       "                        <td id=\"T_cbbabb40_ed43_11eb_b0e8_5c3a45949134row4_col5\" class=\"data row4 col5\" >0.9231</td>\n",
       "                        <td id=\"T_cbbabb40_ed43_11eb_b0e8_5c3a45949134row4_col6\" class=\"data row4 col6\" >0.9375</td>\n",
       "            </tr>\n",
       "            <tr>\n",
       "                        <th id=\"T_cbbabb40_ed43_11eb_b0e8_5c3a45949134level0_row5\" class=\"row_heading level0 row5\" >SD</th>\n",
       "                        <td id=\"T_cbbabb40_ed43_11eb_b0e8_5c3a45949134row5_col0\" class=\"data row5 col0\" >0.1083</td>\n",
       "                        <td id=\"T_cbbabb40_ed43_11eb_b0e8_5c3a45949134row5_col1\" class=\"data row5 col1\" >0.2706</td>\n",
       "                        <td id=\"T_cbbabb40_ed43_11eb_b0e8_5c3a45949134row5_col2\" class=\"data row5 col2\" >0.1732</td>\n",
       "                        <td id=\"T_cbbabb40_ed43_11eb_b0e8_5c3a45949134row5_col3\" class=\"data row5 col3\" >0.1083</td>\n",
       "                        <td id=\"T_cbbabb40_ed43_11eb_b0e8_5c3a45949134row5_col4\" class=\"data row5 col4\" >0.1083</td>\n",
       "                        <td id=\"T_cbbabb40_ed43_11eb_b0e8_5c3a45949134row5_col5\" class=\"data row5 col5\" >0.1332</td>\n",
       "                        <td id=\"T_cbbabb40_ed43_11eb_b0e8_5c3a45949134row5_col6\" class=\"data row5 col6\" >0.1083</td>\n",
       "            </tr>\n",
       "    </tbody></table>"
      ],
      "text/plain": [
       "<pandas.io.formats.style.Styler at 0x161f40fbc10>"
      ]
     },
     "metadata": {},
     "output_type": "display_data"
    }
   ],
   "source": [
    "#create model\n",
    "lda= create_model('lda') "
   ]
  },
  {
   "cell_type": "code",
   "execution_count": 25,
   "metadata": {},
   "outputs": [
    {
     "data": {
      "text/html": [
       "<style  type=\"text/css\" >\n",
       "#T_e7c47b20_ed43_11eb_abbd_5c3a45949134row4_col0,#T_e7c47b20_ed43_11eb_abbd_5c3a45949134row4_col1,#T_e7c47b20_ed43_11eb_abbd_5c3a45949134row4_col2,#T_e7c47b20_ed43_11eb_abbd_5c3a45949134row4_col3,#T_e7c47b20_ed43_11eb_abbd_5c3a45949134row4_col4,#T_e7c47b20_ed43_11eb_abbd_5c3a45949134row4_col5,#T_e7c47b20_ed43_11eb_abbd_5c3a45949134row4_col6{\n",
       "            background:  yellow;\n",
       "        }</style><table id=\"T_e7c47b20_ed43_11eb_abbd_5c3a45949134\" ><thead>    <tr>        <th class=\"blank level0\" ></th>        <th class=\"col_heading level0 col0\" >Accuracy</th>        <th class=\"col_heading level0 col1\" >AUC</th>        <th class=\"col_heading level0 col2\" >Recall</th>        <th class=\"col_heading level0 col3\" >Prec.</th>        <th class=\"col_heading level0 col4\" >F1</th>        <th class=\"col_heading level0 col5\" >Kappa</th>        <th class=\"col_heading level0 col6\" >MCC</th>    </tr></thead><tbody>\n",
       "                <tr>\n",
       "                        <th id=\"T_e7c47b20_ed43_11eb_abbd_5c3a45949134level0_row0\" class=\"row_heading level0 row0\" >0</th>\n",
       "                        <td id=\"T_e7c47b20_ed43_11eb_abbd_5c3a45949134row0_col0\" class=\"data row0 col0\" >0.7500</td>\n",
       "                        <td id=\"T_e7c47b20_ed43_11eb_abbd_5c3a45949134row0_col1\" class=\"data row0 col1\" >0.8333</td>\n",
       "                        <td id=\"T_e7c47b20_ed43_11eb_abbd_5c3a45949134row0_col2\" class=\"data row0 col2\" >0.7500</td>\n",
       "                        <td id=\"T_e7c47b20_ed43_11eb_abbd_5c3a45949134row0_col3\" class=\"data row0 col3\" >0.6250</td>\n",
       "                        <td id=\"T_e7c47b20_ed43_11eb_abbd_5c3a45949134row0_col4\" class=\"data row0 col4\" >0.6667</td>\n",
       "                        <td id=\"T_e7c47b20_ed43_11eb_abbd_5c3a45949134row0_col5\" class=\"data row0 col5\" >0.6667</td>\n",
       "                        <td id=\"T_e7c47b20_ed43_11eb_abbd_5c3a45949134row0_col6\" class=\"data row0 col6\" >0.7303</td>\n",
       "            </tr>\n",
       "            <tr>\n",
       "                        <th id=\"T_e7c47b20_ed43_11eb_abbd_5c3a45949134level0_row1\" class=\"row_heading level0 row1\" >1</th>\n",
       "                        <td id=\"T_e7c47b20_ed43_11eb_abbd_5c3a45949134row1_col0\" class=\"data row1 col0\" >1.0000</td>\n",
       "                        <td id=\"T_e7c47b20_ed43_11eb_abbd_5c3a45949134row1_col1\" class=\"data row1 col1\" >0.0000</td>\n",
       "                        <td id=\"T_e7c47b20_ed43_11eb_abbd_5c3a45949134row1_col2\" class=\"data row1 col2\" >1.0000</td>\n",
       "                        <td id=\"T_e7c47b20_ed43_11eb_abbd_5c3a45949134row1_col3\" class=\"data row1 col3\" >1.0000</td>\n",
       "                        <td id=\"T_e7c47b20_ed43_11eb_abbd_5c3a45949134row1_col4\" class=\"data row1 col4\" >1.0000</td>\n",
       "                        <td id=\"T_e7c47b20_ed43_11eb_abbd_5c3a45949134row1_col5\" class=\"data row1 col5\" >1.0000</td>\n",
       "                        <td id=\"T_e7c47b20_ed43_11eb_abbd_5c3a45949134row1_col6\" class=\"data row1 col6\" >1.0000</td>\n",
       "            </tr>\n",
       "            <tr>\n",
       "                        <th id=\"T_e7c47b20_ed43_11eb_abbd_5c3a45949134level0_row2\" class=\"row_heading level0 row2\" >2</th>\n",
       "                        <td id=\"T_e7c47b20_ed43_11eb_abbd_5c3a45949134row2_col0\" class=\"data row2 col0\" >1.0000</td>\n",
       "                        <td id=\"T_e7c47b20_ed43_11eb_abbd_5c3a45949134row2_col1\" class=\"data row2 col1\" >0.0000</td>\n",
       "                        <td id=\"T_e7c47b20_ed43_11eb_abbd_5c3a45949134row2_col2\" class=\"data row2 col2\" >1.0000</td>\n",
       "                        <td id=\"T_e7c47b20_ed43_11eb_abbd_5c3a45949134row2_col3\" class=\"data row2 col3\" >1.0000</td>\n",
       "                        <td id=\"T_e7c47b20_ed43_11eb_abbd_5c3a45949134row2_col4\" class=\"data row2 col4\" >1.0000</td>\n",
       "                        <td id=\"T_e7c47b20_ed43_11eb_abbd_5c3a45949134row2_col5\" class=\"data row2 col5\" >1.0000</td>\n",
       "                        <td id=\"T_e7c47b20_ed43_11eb_abbd_5c3a45949134row2_col6\" class=\"data row2 col6\" >1.0000</td>\n",
       "            </tr>\n",
       "            <tr>\n",
       "                        <th id=\"T_e7c47b20_ed43_11eb_abbd_5c3a45949134level0_row3\" class=\"row_heading level0 row3\" >3</th>\n",
       "                        <td id=\"T_e7c47b20_ed43_11eb_abbd_5c3a45949134row3_col0\" class=\"data row3 col0\" >1.0000</td>\n",
       "                        <td id=\"T_e7c47b20_ed43_11eb_abbd_5c3a45949134row3_col1\" class=\"data row3 col1\" >0.0000</td>\n",
       "                        <td id=\"T_e7c47b20_ed43_11eb_abbd_5c3a45949134row3_col2\" class=\"data row3 col2\" >1.0000</td>\n",
       "                        <td id=\"T_e7c47b20_ed43_11eb_abbd_5c3a45949134row3_col3\" class=\"data row3 col3\" >1.0000</td>\n",
       "                        <td id=\"T_e7c47b20_ed43_11eb_abbd_5c3a45949134row3_col4\" class=\"data row3 col4\" >1.0000</td>\n",
       "                        <td id=\"T_e7c47b20_ed43_11eb_abbd_5c3a45949134row3_col5\" class=\"data row3 col5\" >1.0000</td>\n",
       "                        <td id=\"T_e7c47b20_ed43_11eb_abbd_5c3a45949134row3_col6\" class=\"data row3 col6\" >1.0000</td>\n",
       "            </tr>\n",
       "            <tr>\n",
       "                        <th id=\"T_e7c47b20_ed43_11eb_abbd_5c3a45949134level0_row4\" class=\"row_heading level0 row4\" >Mean</th>\n",
       "                        <td id=\"T_e7c47b20_ed43_11eb_abbd_5c3a45949134row4_col0\" class=\"data row4 col0\" >0.9375</td>\n",
       "                        <td id=\"T_e7c47b20_ed43_11eb_abbd_5c3a45949134row4_col1\" class=\"data row4 col1\" >0.2083</td>\n",
       "                        <td id=\"T_e7c47b20_ed43_11eb_abbd_5c3a45949134row4_col2\" class=\"data row4 col2\" >0.9375</td>\n",
       "                        <td id=\"T_e7c47b20_ed43_11eb_abbd_5c3a45949134row4_col3\" class=\"data row4 col3\" >0.9062</td>\n",
       "                        <td id=\"T_e7c47b20_ed43_11eb_abbd_5c3a45949134row4_col4\" class=\"data row4 col4\" >0.9167</td>\n",
       "                        <td id=\"T_e7c47b20_ed43_11eb_abbd_5c3a45949134row4_col5\" class=\"data row4 col5\" >0.9167</td>\n",
       "                        <td id=\"T_e7c47b20_ed43_11eb_abbd_5c3a45949134row4_col6\" class=\"data row4 col6\" >0.9326</td>\n",
       "            </tr>\n",
       "            <tr>\n",
       "                        <th id=\"T_e7c47b20_ed43_11eb_abbd_5c3a45949134level0_row5\" class=\"row_heading level0 row5\" >SD</th>\n",
       "                        <td id=\"T_e7c47b20_ed43_11eb_abbd_5c3a45949134row5_col0\" class=\"data row5 col0\" >0.1083</td>\n",
       "                        <td id=\"T_e7c47b20_ed43_11eb_abbd_5c3a45949134row5_col1\" class=\"data row5 col1\" >0.3608</td>\n",
       "                        <td id=\"T_e7c47b20_ed43_11eb_abbd_5c3a45949134row5_col2\" class=\"data row5 col2\" >0.1083</td>\n",
       "                        <td id=\"T_e7c47b20_ed43_11eb_abbd_5c3a45949134row5_col3\" class=\"data row5 col3\" >0.1624</td>\n",
       "                        <td id=\"T_e7c47b20_ed43_11eb_abbd_5c3a45949134row5_col4\" class=\"data row5 col4\" >0.1443</td>\n",
       "                        <td id=\"T_e7c47b20_ed43_11eb_abbd_5c3a45949134row5_col5\" class=\"data row5 col5\" >0.1443</td>\n",
       "                        <td id=\"T_e7c47b20_ed43_11eb_abbd_5c3a45949134row5_col6\" class=\"data row5 col6\" >0.1168</td>\n",
       "            </tr>\n",
       "    </tbody></table>"
      ],
      "text/plain": [
       "<pandas.io.formats.style.Styler at 0x161f29ff8e0>"
      ]
     },
     "metadata": {},
     "output_type": "display_data"
    }
   ],
   "source": [
    "#tunning\n",
    "tuned_lda= tune_model(lda)"
   ]
  },
  {
   "cell_type": "code",
   "execution_count": 26,
   "metadata": {},
   "outputs": [
    {
     "data": {
      "text/html": [
       "<style  type=\"text/css\" >\n",
       "</style><table id=\"T_edd3ce19_ed43_11eb_929e_5c3a45949134\" ><thead>    <tr>        <th class=\"blank level0\" ></th>        <th class=\"col_heading level0 col0\" >Model</th>        <th class=\"col_heading level0 col1\" >Accuracy</th>        <th class=\"col_heading level0 col2\" >AUC</th>        <th class=\"col_heading level0 col3\" >Recall</th>        <th class=\"col_heading level0 col4\" >Prec.</th>        <th class=\"col_heading level0 col5\" >F1</th>        <th class=\"col_heading level0 col6\" >Kappa</th>        <th class=\"col_heading level0 col7\" >MCC</th>    </tr></thead><tbody>\n",
       "                <tr>\n",
       "                        <th id=\"T_edd3ce19_ed43_11eb_929e_5c3a45949134level0_row0\" class=\"row_heading level0 row0\" >0</th>\n",
       "                        <td id=\"T_edd3ce19_ed43_11eb_929e_5c3a45949134row0_col0\" class=\"data row0 col0\" >Linear Discriminant Analysis</td>\n",
       "                        <td id=\"T_edd3ce19_ed43_11eb_929e_5c3a45949134row0_col1\" class=\"data row0 col1\" >1.0000</td>\n",
       "                        <td id=\"T_edd3ce19_ed43_11eb_929e_5c3a45949134row0_col2\" class=\"data row0 col2\" >0</td>\n",
       "                        <td id=\"T_edd3ce19_ed43_11eb_929e_5c3a45949134row0_col3\" class=\"data row0 col3\" >1.0000</td>\n",
       "                        <td id=\"T_edd3ce19_ed43_11eb_929e_5c3a45949134row0_col4\" class=\"data row0 col4\" >1.0000</td>\n",
       "                        <td id=\"T_edd3ce19_ed43_11eb_929e_5c3a45949134row0_col5\" class=\"data row0 col5\" >1.0000</td>\n",
       "                        <td id=\"T_edd3ce19_ed43_11eb_929e_5c3a45949134row0_col6\" class=\"data row0 col6\" >1.0000</td>\n",
       "                        <td id=\"T_edd3ce19_ed43_11eb_929e_5c3a45949134row0_col7\" class=\"data row0 col7\" >1.0000</td>\n",
       "            </tr>\n",
       "    </tbody></table>"
      ],
      "text/plain": [
       "<pandas.io.formats.style.Styler at 0x161f4bfa220>"
      ]
     },
     "metadata": {},
     "output_type": "display_data"
    }
   ],
   "source": [
    "pred_model = predict_model(tuned_lda)"
   ]
  },
  {
   "cell_type": "code",
   "execution_count": 27,
   "metadata": {},
   "outputs": [
    {
     "data": {
      "text/plain": [
       "LinearDiscriminantAnalysis(n_components=None, priors=None, shrinkage=0.001,\n",
       "                           solver='lsqr', store_covariance=False, tol=0.0001)"
      ]
     },
     "execution_count": 27,
     "metadata": {},
     "output_type": "execute_result"
    }
   ],
   "source": [
    "final_model= finalize_model(tuned_lda)\n",
    "final_model"
   ]
  },
  {
   "cell_type": "code",
   "execution_count": 39,
   "metadata": {},
   "outputs": [],
   "source": [
    "#interpret_model(tuned_et)"
   ]
  },
  {
   "cell_type": "markdown",
   "metadata": {},
   "source": [
    "## Blending"
   ]
  },
  {
   "cell_type": "code",
   "execution_count": null,
   "metadata": {},
   "outputs": [],
   "source": [
    "#top3 = compare_models(n_select = 3)\n",
    "#blender = blend_models(top3)"
   ]
  },
  {
   "cell_type": "code",
   "execution_count": 29,
   "metadata": {},
   "outputs": [
    {
     "data": {
      "text/html": [
       "<style  type=\"text/css\" >\n",
       "#T_04a84490_ed44_11eb_9d04_5c3a45949134row4_col0,#T_04a84490_ed44_11eb_9d04_5c3a45949134row4_col1,#T_04a84490_ed44_11eb_9d04_5c3a45949134row4_col2,#T_04a84490_ed44_11eb_9d04_5c3a45949134row4_col3,#T_04a84490_ed44_11eb_9d04_5c3a45949134row4_col4,#T_04a84490_ed44_11eb_9d04_5c3a45949134row4_col5,#T_04a84490_ed44_11eb_9d04_5c3a45949134row4_col6{\n",
       "            background:  yellow;\n",
       "        }</style><table id=\"T_04a84490_ed44_11eb_9d04_5c3a45949134\" ><thead>    <tr>        <th class=\"blank level0\" ></th>        <th class=\"col_heading level0 col0\" >Accuracy</th>        <th class=\"col_heading level0 col1\" >AUC</th>        <th class=\"col_heading level0 col2\" >Recall</th>        <th class=\"col_heading level0 col3\" >Prec.</th>        <th class=\"col_heading level0 col4\" >F1</th>        <th class=\"col_heading level0 col5\" >Kappa</th>        <th class=\"col_heading level0 col6\" >MCC</th>    </tr></thead><tbody>\n",
       "                <tr>\n",
       "                        <th id=\"T_04a84490_ed44_11eb_9d04_5c3a45949134level0_row0\" class=\"row_heading level0 row0\" >0</th>\n",
       "                        <td id=\"T_04a84490_ed44_11eb_9d04_5c3a45949134row0_col0\" class=\"data row0 col0\" >0.7500</td>\n",
       "                        <td id=\"T_04a84490_ed44_11eb_9d04_5c3a45949134row0_col1\" class=\"data row0 col1\" >0.6667</td>\n",
       "                        <td id=\"T_04a84490_ed44_11eb_9d04_5c3a45949134row0_col2\" class=\"data row0 col2\" >0.7500</td>\n",
       "                        <td id=\"T_04a84490_ed44_11eb_9d04_5c3a45949134row0_col3\" class=\"data row0 col3\" >0.6250</td>\n",
       "                        <td id=\"T_04a84490_ed44_11eb_9d04_5c3a45949134row0_col4\" class=\"data row0 col4\" >0.6667</td>\n",
       "                        <td id=\"T_04a84490_ed44_11eb_9d04_5c3a45949134row0_col5\" class=\"data row0 col5\" >0.6667</td>\n",
       "                        <td id=\"T_04a84490_ed44_11eb_9d04_5c3a45949134row0_col6\" class=\"data row0 col6\" >0.7303</td>\n",
       "            </tr>\n",
       "            <tr>\n",
       "                        <th id=\"T_04a84490_ed44_11eb_9d04_5c3a45949134level0_row1\" class=\"row_heading level0 row1\" >1</th>\n",
       "                        <td id=\"T_04a84490_ed44_11eb_9d04_5c3a45949134row1_col0\" class=\"data row1 col0\" >1.0000</td>\n",
       "                        <td id=\"T_04a84490_ed44_11eb_9d04_5c3a45949134row1_col1\" class=\"data row1 col1\" >0.0000</td>\n",
       "                        <td id=\"T_04a84490_ed44_11eb_9d04_5c3a45949134row1_col2\" class=\"data row1 col2\" >1.0000</td>\n",
       "                        <td id=\"T_04a84490_ed44_11eb_9d04_5c3a45949134row1_col3\" class=\"data row1 col3\" >1.0000</td>\n",
       "                        <td id=\"T_04a84490_ed44_11eb_9d04_5c3a45949134row1_col4\" class=\"data row1 col4\" >1.0000</td>\n",
       "                        <td id=\"T_04a84490_ed44_11eb_9d04_5c3a45949134row1_col5\" class=\"data row1 col5\" >1.0000</td>\n",
       "                        <td id=\"T_04a84490_ed44_11eb_9d04_5c3a45949134row1_col6\" class=\"data row1 col6\" >1.0000</td>\n",
       "            </tr>\n",
       "            <tr>\n",
       "                        <th id=\"T_04a84490_ed44_11eb_9d04_5c3a45949134level0_row2\" class=\"row_heading level0 row2\" >2</th>\n",
       "                        <td id=\"T_04a84490_ed44_11eb_9d04_5c3a45949134row2_col0\" class=\"data row2 col0\" >1.0000</td>\n",
       "                        <td id=\"T_04a84490_ed44_11eb_9d04_5c3a45949134row2_col1\" class=\"data row2 col1\" >0.0000</td>\n",
       "                        <td id=\"T_04a84490_ed44_11eb_9d04_5c3a45949134row2_col2\" class=\"data row2 col2\" >1.0000</td>\n",
       "                        <td id=\"T_04a84490_ed44_11eb_9d04_5c3a45949134row2_col3\" class=\"data row2 col3\" >1.0000</td>\n",
       "                        <td id=\"T_04a84490_ed44_11eb_9d04_5c3a45949134row2_col4\" class=\"data row2 col4\" >1.0000</td>\n",
       "                        <td id=\"T_04a84490_ed44_11eb_9d04_5c3a45949134row2_col5\" class=\"data row2 col5\" >1.0000</td>\n",
       "                        <td id=\"T_04a84490_ed44_11eb_9d04_5c3a45949134row2_col6\" class=\"data row2 col6\" >1.0000</td>\n",
       "            </tr>\n",
       "            <tr>\n",
       "                        <th id=\"T_04a84490_ed44_11eb_9d04_5c3a45949134level0_row3\" class=\"row_heading level0 row3\" >3</th>\n",
       "                        <td id=\"T_04a84490_ed44_11eb_9d04_5c3a45949134row3_col0\" class=\"data row3 col0\" >1.0000</td>\n",
       "                        <td id=\"T_04a84490_ed44_11eb_9d04_5c3a45949134row3_col1\" class=\"data row3 col1\" >0.0000</td>\n",
       "                        <td id=\"T_04a84490_ed44_11eb_9d04_5c3a45949134row3_col2\" class=\"data row3 col2\" >1.0000</td>\n",
       "                        <td id=\"T_04a84490_ed44_11eb_9d04_5c3a45949134row3_col3\" class=\"data row3 col3\" >1.0000</td>\n",
       "                        <td id=\"T_04a84490_ed44_11eb_9d04_5c3a45949134row3_col4\" class=\"data row3 col4\" >1.0000</td>\n",
       "                        <td id=\"T_04a84490_ed44_11eb_9d04_5c3a45949134row3_col5\" class=\"data row3 col5\" >1.0000</td>\n",
       "                        <td id=\"T_04a84490_ed44_11eb_9d04_5c3a45949134row3_col6\" class=\"data row3 col6\" >1.0000</td>\n",
       "            </tr>\n",
       "            <tr>\n",
       "                        <th id=\"T_04a84490_ed44_11eb_9d04_5c3a45949134level0_row4\" class=\"row_heading level0 row4\" >Mean</th>\n",
       "                        <td id=\"T_04a84490_ed44_11eb_9d04_5c3a45949134row4_col0\" class=\"data row4 col0\" >0.9375</td>\n",
       "                        <td id=\"T_04a84490_ed44_11eb_9d04_5c3a45949134row4_col1\" class=\"data row4 col1\" >0.1667</td>\n",
       "                        <td id=\"T_04a84490_ed44_11eb_9d04_5c3a45949134row4_col2\" class=\"data row4 col2\" >0.9375</td>\n",
       "                        <td id=\"T_04a84490_ed44_11eb_9d04_5c3a45949134row4_col3\" class=\"data row4 col3\" >0.9062</td>\n",
       "                        <td id=\"T_04a84490_ed44_11eb_9d04_5c3a45949134row4_col4\" class=\"data row4 col4\" >0.9167</td>\n",
       "                        <td id=\"T_04a84490_ed44_11eb_9d04_5c3a45949134row4_col5\" class=\"data row4 col5\" >0.9167</td>\n",
       "                        <td id=\"T_04a84490_ed44_11eb_9d04_5c3a45949134row4_col6\" class=\"data row4 col6\" >0.9326</td>\n",
       "            </tr>\n",
       "            <tr>\n",
       "                        <th id=\"T_04a84490_ed44_11eb_9d04_5c3a45949134level0_row5\" class=\"row_heading level0 row5\" >SD</th>\n",
       "                        <td id=\"T_04a84490_ed44_11eb_9d04_5c3a45949134row5_col0\" class=\"data row5 col0\" >0.1083</td>\n",
       "                        <td id=\"T_04a84490_ed44_11eb_9d04_5c3a45949134row5_col1\" class=\"data row5 col1\" >0.2887</td>\n",
       "                        <td id=\"T_04a84490_ed44_11eb_9d04_5c3a45949134row5_col2\" class=\"data row5 col2\" >0.1083</td>\n",
       "                        <td id=\"T_04a84490_ed44_11eb_9d04_5c3a45949134row5_col3\" class=\"data row5 col3\" >0.1624</td>\n",
       "                        <td id=\"T_04a84490_ed44_11eb_9d04_5c3a45949134row5_col4\" class=\"data row5 col4\" >0.1443</td>\n",
       "                        <td id=\"T_04a84490_ed44_11eb_9d04_5c3a45949134row5_col5\" class=\"data row5 col5\" >0.1443</td>\n",
       "                        <td id=\"T_04a84490_ed44_11eb_9d04_5c3a45949134row5_col6\" class=\"data row5 col6\" >0.1168</td>\n",
       "            </tr>\n",
       "    </tbody></table>"
      ],
      "text/plain": [
       "<pandas.io.formats.style.Styler at 0x161f430aaf0>"
      ]
     },
     "metadata": {},
     "output_type": "display_data"
    }
   ],
   "source": [
    "dt = create_model('et');      \n",
    "gbc  = create_model('gbc');            \n",
    "\n",
    "#blending 3 models\n",
    "blend = blend_models(estimator_list=[tuned_lda,dt,gbc])"
   ]
  },
  {
   "cell_type": "code",
   "execution_count": 35,
   "metadata": {
    "scrolled": true
   },
   "outputs": [
    {
     "data": {
      "image/png": "[encoded data removed]",
      "text/plain": [
       "<Figure size 576x396 with 1 Axes>"
      ]
     },
     "metadata": {},
     "output_type": "display_data"
    }
   ],
   "source": [
    "plot_model(estimator = tuned_lda, plot = 'confusion_matrix')"
   ]
  },
  {
   "cell_type": "code",
   "execution_count": 36,
   "metadata": {},
   "outputs": [
    {
     "data": {
      "image/png": "[encoded data removed]",
      "text/plain": [
       "<Figure size 576x396 with 1 Axes>"
      ]
     },
     "metadata": {},
     "output_type": "display_data"
    }
   ],
   "source": [
    "plot_model(estimator = tuned_lda, plot = 'learning')\n"
   ]
  },
  {
   "cell_type": "markdown",
   "metadata": {},
   "source": [
    "## Evaluate Model"
   ]
  },
  {
   "cell_type": "code",
   "execution_count": 37,
   "metadata": {},
   "outputs": [
    {
     "data": {
      "application/vnd.jupyter.widget-view+json": {
       "model_id": "852e66737ac842c4b649efbcc7cf912a",
       "version_major": 2,
       "version_minor": 0
      },
      "text/plain": [
       "interactive(children=(ToggleButtons(description='Plot Type:', icons=('',), options=(('Hyperparameters', 'param…"
      ]
     },
     "metadata": {},
     "output_type": "display_data"
    }
   ],
   "source": [
    "evaluate_model(tuned_lda)"
   ]
  },
  {
   "cell_type": "markdown",
   "metadata": {},
   "source": [
    "## Save The Model"
   ]
  },
  {
   "cell_type": "code",
   "execution_count": 61,
   "metadata": {},
   "outputs": [
    {
     "name": "stdout",
     "output_type": "stream",
     "text": [
      "Transformation Pipeline and Model Successfully Saved\n"
     ]
    },
    {
     "data": {
      "text/plain": [
       "(Pipeline(memory=None,\n",
       "          steps=[('dtypes',\n",
       "                  DataTypes_Auto_infer(categorical_features=[],\n",
       "                                       display_types=False, features_todrop=[],\n",
       "                                       id_columns=[],\n",
       "                                       ml_usecase='classification',\n",
       "                                       numerical_features=[],\n",
       "                                       target='Dominant_Topic',\n",
       "                                       time_features=[])),\n",
       "                 ('imputer',\n",
       "                  Simple_Imputer(categorical_strategy='not_available',\n",
       "                                 fill_value_categorical=None,\n",
       "                                 fill_value_numerical=None,\n",
       "                                 nume...\n",
       "                  ExtraTreesClassifier(bootstrap=False, ccp_alpha=0.0,\n",
       "                                       class_weight='balanced',\n",
       "                                       criterion='entropy', max_depth=8,\n",
       "                                       max_features='log2', max_leaf_nodes=None,\n",
       "                                       max_samples=None,\n",
       "                                       min_impurity_decrease=0.0005,\n",
       "                                       min_impurity_split=None,\n",
       "                                       min_samples_leaf=2, min_samples_split=7,\n",
       "                                       min_weight_fraction_leaf=0.0,\n",
       "                                       n_estimators=170, n_jobs=-1,\n",
       "                                       oob_score=False, random_state=784,\n",
       "                                       verbose=0, warm_start=False)]],\n",
       "          verbose=False),\n",
       " 'Final_Model.pkl')"
      ]
     },
     "execution_count": 61,
     "metadata": {},
     "output_type": "execute_result"
    }
   ],
   "source": [
    "save_model(tuned_et,'Final_Model')"
   ]
  },
  {
   "cell_type": "markdown",
   "metadata": {},
   "source": [
    "## Load The Model"
   ]
  },
  {
   "cell_type": "code",
   "execution_count": 62,
   "metadata": {},
   "outputs": [
    {
     "name": "stdout",
     "output_type": "stream",
     "text": [
      "Transformation Pipeline and Model Successfully Loaded\n"
     ]
    }
   ],
   "source": [
    "saved_lda = load_model('Final_Model')"
   ]
  },
  {
   "cell_type": "markdown",
   "metadata": {},
   "source": [
    " ## Deploy Model"
   ]
  },
  {
   "cell_type": "code",
   "execution_count": 65,
   "metadata": {
    "collapsed": true
   },
   "outputs": [
    {
     "ename": "ImportError",
     "evalue": "azure-storage-blob library not found. pip install azure-storage-blob to use deploy_model function with Azure.",
     "output_type": "error",
     "traceback": [
      "\u001b[1;31m---------------------------------------------------------------------------\u001b[0m",
      "\u001b[1;31mModuleNotFoundError\u001b[0m                       Traceback (most recent call last)",
      "\u001b[1;32m~\\anaconda3\\lib\\site-packages\\pycaret\\internal\\persistence.py\u001b[0m in \u001b[0;36mdeploy_model\u001b[1;34m(model, model_name, authentication, platform, prep_pipe_)\u001b[0m\n\u001b[0;32m    216\u001b[0m         \u001b[1;32mtry\u001b[0m\u001b[1;33m:\u001b[0m\u001b[1;33m\u001b[0m\u001b[1;33m\u001b[0m\u001b[0m\n\u001b[1;32m--> 217\u001b[1;33m             \u001b[1;32mimport\u001b[0m \u001b[0mazure\u001b[0m\u001b[1;33m.\u001b[0m\u001b[0mstorage\u001b[0m\u001b[1;33m.\u001b[0m\u001b[0mblob\u001b[0m\u001b[1;33m\u001b[0m\u001b[1;33m\u001b[0m\u001b[0m\n\u001b[0m\u001b[0;32m    218\u001b[0m         \u001b[1;32mexcept\u001b[0m \u001b[0mModuleNotFoundError\u001b[0m\u001b[1;33m:\u001b[0m\u001b[1;33m\u001b[0m\u001b[1;33m\u001b[0m\u001b[0m\n",
      "\u001b[1;31mModuleNotFoundError\u001b[0m: No module named 'azure'",
      "\nDuring handling of the above exception, another exception occurred:\n",
      "\u001b[1;31mImportError\u001b[0m                               Traceback (most recent call last)",
      "\u001b[1;32m<ipython-input-65-98888a899286>\u001b[0m in \u001b[0;36m<module>\u001b[1;34m\u001b[0m\n\u001b[0;32m      1\u001b[0m \u001b[1;32mimport\u001b[0m \u001b[0mos\u001b[0m\u001b[1;33m\u001b[0m\u001b[1;33m\u001b[0m\u001b[0m\n\u001b[0;32m      2\u001b[0m \u001b[0mos\u001b[0m\u001b[1;33m.\u001b[0m\u001b[0menviron\u001b[0m\u001b[1;33m[\u001b[0m\u001b[1;34m\"AZURE_STORAGE_CONNECTION_STRING\"\u001b[0m\u001b[1;33m]\u001b[0m \u001b[1;33m=\u001b[0m \u001b[0mstr\u001b[0m\u001b[1;33m(\u001b[0m\u001b[1;34m\"bar\"\u001b[0m\u001b[1;33m)\u001b[0m\u001b[1;33m\u001b[0m\u001b[1;33m\u001b[0m\u001b[0m\n\u001b[1;32m----> 3\u001b[1;33m \u001b[0mdeploy_model\u001b[0m\u001b[1;33m(\u001b[0m\u001b[0mmodel\u001b[0m \u001b[1;33m=\u001b[0m \u001b[0mtuned_et\u001b[0m\u001b[1;33m,\u001b[0m \u001b[0mmodel_name\u001b[0m \u001b[1;33m=\u001b[0m \u001b[1;34m'et-deployment'\u001b[0m\u001b[1;33m,\u001b[0m \u001b[0mplatform\u001b[0m \u001b[1;33m=\u001b[0m \u001b[1;34m'azure'\u001b[0m\u001b[1;33m,\u001b[0m \u001b[0mauthentication\u001b[0m \u001b[1;33m=\u001b[0m \u001b[1;33m{\u001b[0m\u001b[1;34m'container'\u001b[0m\u001b[1;33m:\u001b[0m \u001b[1;34m'azure-container-name'\u001b[0m\u001b[1;33m}\u001b[0m\u001b[1;33m)\u001b[0m\u001b[1;33m\u001b[0m\u001b[1;33m\u001b[0m\u001b[0m\n\u001b[0m",
      "\u001b[1;32m~\\anaconda3\\lib\\site-packages\\pycaret\\classification.py\u001b[0m in \u001b[0;36mdeploy_model\u001b[1;34m(model, model_name, authentication, platform)\u001b[0m\n\u001b[0;32m   2092\u001b[0m     \"\"\"\n\u001b[0;32m   2093\u001b[0m \u001b[1;33m\u001b[0m\u001b[0m\n\u001b[1;32m-> 2094\u001b[1;33m     return pycaret.internal.tabular.deploy_model(\n\u001b[0m\u001b[0;32m   2095\u001b[0m         \u001b[0mmodel\u001b[0m\u001b[1;33m=\u001b[0m\u001b[0mmodel\u001b[0m\u001b[1;33m,\u001b[0m\u001b[1;33m\u001b[0m\u001b[1;33m\u001b[0m\u001b[0m\n\u001b[0;32m   2096\u001b[0m         \u001b[0mmodel_name\u001b[0m\u001b[1;33m=\u001b[0m\u001b[0mmodel_name\u001b[0m\u001b[1;33m,\u001b[0m\u001b[1;33m\u001b[0m\u001b[1;33m\u001b[0m\u001b[0m\n",
      "\u001b[1;32m~\\anaconda3\\lib\\site-packages\\pycaret\\internal\\tabular.py\u001b[0m in \u001b[0;36mdeploy_model\u001b[1;34m(model, model_name, authentication, platform)\u001b[0m\n\u001b[0;32m   8874\u001b[0m     \u001b[1;32mimport\u001b[0m \u001b[0mpycaret\u001b[0m\u001b[1;33m.\u001b[0m\u001b[0minternal\u001b[0m\u001b[1;33m.\u001b[0m\u001b[0mpersistence\u001b[0m\u001b[1;33m\u001b[0m\u001b[1;33m\u001b[0m\u001b[0m\n\u001b[0;32m   8875\u001b[0m \u001b[1;33m\u001b[0m\u001b[0m\n\u001b[1;32m-> 8876\u001b[1;33m     return pycaret.internal.persistence.deploy_model(\n\u001b[0m\u001b[0;32m   8877\u001b[0m         \u001b[0mmodel\u001b[0m\u001b[1;33m,\u001b[0m \u001b[0mmodel_name\u001b[0m\u001b[1;33m,\u001b[0m \u001b[0mauthentication\u001b[0m\u001b[1;33m,\u001b[0m \u001b[0mplatform\u001b[0m\u001b[1;33m,\u001b[0m \u001b[0mprep_pipe\u001b[0m\u001b[1;33m\u001b[0m\u001b[1;33m\u001b[0m\u001b[0m\n\u001b[0;32m   8878\u001b[0m     )\n",
      "\u001b[1;32m~\\anaconda3\\lib\\site-packages\\pycaret\\internal\\persistence.py\u001b[0m in \u001b[0;36mdeploy_model\u001b[1;34m(model, model_name, authentication, platform, prep_pipe_)\u001b[0m\n\u001b[0;32m    220\u001b[0m                 \u001b[1;34m\"azure-storage-blob library not found. pip install azure-storage-blob to use deploy_model function with Azure.\"\u001b[0m\u001b[1;33m\u001b[0m\u001b[1;33m\u001b[0m\u001b[0m\n\u001b[0;32m    221\u001b[0m             )\n\u001b[1;32m--> 222\u001b[1;33m             raise ImportError(\n\u001b[0m\u001b[0;32m    223\u001b[0m                 \u001b[1;34m\"azure-storage-blob library not found. pip install azure-storage-blob to use deploy_model function with Azure.\"\u001b[0m\u001b[1;33m\u001b[0m\u001b[1;33m\u001b[0m\u001b[0m\n\u001b[0;32m    224\u001b[0m             )\n",
      "\u001b[1;31mImportError\u001b[0m: azure-storage-blob library not found. pip install azure-storage-blob to use deploy_model function with Azure."
     ]
    }
   ],
   "source": [
    "\n",
    "import os\n",
    "os.environ[\"AZURE_STORAGE_CONNECTION_STRING\"] = str(\"bar\")\n",
    "deploy_model(model = tuned_et, model_name = 'et-deployment', platform = 'azure', authentication = {'container': 'azure-container-name'})"
   ]
  }
 ],
 "metadata": {
  "colab": {
   "collapsed_sections": [],
   "name": "Topic modeling  using pycaret.ipynb",
   "provenance": []
  },
  "kernelspec": {
   "display_name": "Python 3",
   "language": "python",
   "name": "python3"
  },
  "language_info": {
   "codemirror_mode": {
    "name": "ipython",
    "version": 3
   },
   "file_extension": ".py",
   "mimetype": "text/x-python",
   "name": "python",
   "nbconvert_exporter": "python",
   "pygments_lexer": "ipython3",
   "version": "3.8.5"
  },
  "widgets": {
   "application/vnd.jupyter.widget-state+json": {
    "11cb2eaf21284be19ab8e683f082163d": {
     "model_module": "@jupyter-widgets/base",
     "model_name": "LayoutModel",
     "state": {
      "_model_module": "@jupyter-widgets/base",
      "_model_module_version": "1.2.0",
      "_model_name": "LayoutModel",
      "_view_count": null,
      "_view_module": "@jupyter-widgets/base",
      "_view_module_version": "1.2.0",
      "_view_name": "LayoutView",
      "align_content": null,
      "align_items": null,
      "align_self": null,
      "border": null,
      "bottom": null,
      "display": null,
      "flex": null,
      "flex_flow": null,
      "grid_area": null,
      "grid_auto_columns": null,
      "grid_auto_flow": null,
      "grid_auto_rows": null,
      "grid_column": null,
      "grid_gap": null,
      "grid_row": null,
      "grid_template_areas": null,
      "grid_template_columns": null,
      "grid_template_rows": null,
      "height": null,
      "justify_content": null,
      "justify_items": null,
      "left": null,
      "margin": null,
      "max_height": null,
      "max_width": null,
      "min_height": null,
      "min_width": null,
      "object_fit": null,
      "object_position": null,
      "order": null,
      "overflow": null,
      "overflow_x": null,
      "overflow_y": null,
      "padding": null,
      "right": null,
      "top": null,
      "visibility": null,
      "width": null
     }
    },
    "2034a722188f47508243f78c18a8572b": {
     "model_module": "@jupyter-widgets/controls",
     "model_name": "VBoxModel",
     "state": {
      "_dom_classes": [
       "widget-interact"
      ],
      "_model_module": "@jupyter-widgets/controls",
      "_model_module_version": "1.5.0",
      "_model_name": "VBoxModel",
      "_view_count": null,
      "_view_module": "@jupyter-widgets/controls",
      "_view_module_version": "1.5.0",
      "_view_name": "VBoxView",
      "box_style": "",
      "children": [
       "IPY_MODEL_a9f6f6f6a6bc49fd98dfbe3b44e29d63",
       "IPY_MODEL_adce8e06645a481c9d149a60ca045963",
       "IPY_MODEL_bf7f82c65f42432eafc41dee56cd041b",
       "IPY_MODEL_910cb37cbcde4592b88f34dd68f1e36e"
      ],
      "layout": "IPY_MODEL_f2976b29065740e8bfbd37b0e8c1e6e9"
     }
    },
    "324422b052604b97adc6570b0000f9a2": {
     "model_module": "@jupyter-widgets/base",
     "model_name": "LayoutModel",
     "state": {
      "_model_module": "@jupyter-widgets/base",
      "_model_module_version": "1.2.0",
      "_model_name": "LayoutModel",
      "_view_count": null,
      "_view_module": "@jupyter-widgets/base",
      "_view_module_version": "1.2.0",
      "_view_name": "LayoutView",
      "align_content": null,
      "align_items": null,
      "align_self": null,
      "border": null,
      "bottom": null,
      "display": null,
      "flex": null,
      "flex_flow": null,
      "grid_area": null,
      "grid_auto_columns": null,
      "grid_auto_flow": null,
      "grid_auto_rows": null,
      "grid_column": null,
      "grid_gap": null,
      "grid_row": null,
      "grid_template_areas": null,
      "grid_template_columns": null,
      "grid_template_rows": null,
      "height": null,
      "justify_content": null,
      "justify_items": null,
      "left": null,
      "margin": null,
      "max_height": null,
      "max_width": null,
      "min_height": null,
      "min_width": null,
      "object_fit": null,
      "object_position": null,
      "order": null,
      "overflow": null,
      "overflow_x": null,
      "overflow_y": null,
      "padding": null,
      "right": null,
      "top": null,
      "visibility": null,
      "width": null
     }
    },
    "3f34b93ff5b6405c929aaf9eacdca757": {
     "model_module": "@jupyter-widgets/controls",
     "model_name": "IntProgressModel",
     "state": {
      "_dom_classes": [],
      "_model_module": "@jupyter-widgets/controls",
      "_model_module_version": "1.5.0",
      "_model_name": "IntProgressModel",
      "_view_count": null,
      "_view_module": "@jupyter-widgets/controls",
      "_view_module_version": "1.5.0",
      "_view_name": "ProgressView",
      "bar_style": "",
      "description": "Processing: ",
      "description_tooltip": null,
      "layout": "IPY_MODEL_eb87395d8e1d44bcb40e096a9d0b5cac",
      "max": 11,
      "min": 0,
      "orientation": "horizontal",
      "style": "IPY_MODEL_d9c2e47984b54929a0314ca5609c3bfe",
      "value": 11
     }
    },
    "44a0d93c3fdb43b9a0c0250a12c60375": {
     "model_module": "@jupyter-widgets/controls",
     "model_name": "DescriptionStyleModel",
     "state": {
      "_model_module": "@jupyter-widgets/controls",
      "_model_module_version": "1.5.0",
      "_model_name": "DescriptionStyleModel",
      "_view_count": null,
      "_view_module": "@jupyter-widgets/base",
      "_view_module_version": "1.2.0",
      "_view_name": "StyleView",
      "description_width": ""
     }
    },
    "4bcee0b386c0469ab82fcec5b37e31f8": {
     "model_module": "@jupyter-widgets/controls",
     "model_name": "ProgressStyleModel",
     "state": {
      "_model_module": "@jupyter-widgets/controls",
      "_model_module_version": "1.5.0",
      "_model_name": "ProgressStyleModel",
      "_view_count": null,
      "_view_module": "@jupyter-widgets/base",
      "_view_module_version": "1.2.0",
      "_view_name": "StyleView",
      "bar_color": null,
      "description_width": ""
     }
    },
    "4ca3574427af425d8682de862e2bd7ca": {
     "model_module": "@jupyter-widgets/controls",
     "model_name": "ToggleButtonsStyleModel",
     "state": {
      "_model_module": "@jupyter-widgets/controls",
      "_model_module_version": "1.5.0",
      "_model_name": "ToggleButtonsStyleModel",
      "_view_count": null,
      "_view_module": "@jupyter-widgets/base",
      "_view_module_version": "1.2.0",
      "_view_name": "StyleView",
      "button_width": "",
      "description_width": "",
      "font_weight": ""
     }
    },
    "523c1327e232428899cbcff56c3b309c": {
     "model_module": "@jupyter-widgets/base",
     "model_name": "LayoutModel",
     "state": {
      "_model_module": "@jupyter-widgets/base",
      "_model_module_version": "1.2.0",
      "_model_name": "LayoutModel",
      "_view_count": null,
      "_view_module": "@jupyter-widgets/base",
      "_view_module_version": "1.2.0",
      "_view_name": "LayoutView",
      "align_content": null,
      "align_items": null,
      "align_self": null,
      "border": null,
      "bottom": null,
      "display": null,
      "flex": null,
      "flex_flow": null,
      "grid_area": null,
      "grid_auto_columns": null,
      "grid_auto_flow": null,
      "grid_auto_rows": null,
      "grid_column": null,
      "grid_gap": null,
      "grid_row": null,
      "grid_template_areas": null,
      "grid_template_columns": null,
      "grid_template_rows": null,
      "height": null,
      "justify_content": null,
      "justify_items": null,
      "left": null,
      "margin": null,
      "max_height": null,
      "max_width": null,
      "min_height": null,
      "min_width": null,
      "object_fit": null,
      "object_position": null,
      "order": null,
      "overflow": null,
      "overflow_x": null,
      "overflow_y": null,
      "padding": null,
      "right": null,
      "top": null,
      "visibility": null,
      "width": null
     }
    },
    "55d42d7608ab4b55b29d385b657c7a73": {
     "model_module": "@jupyter-widgets/controls",
     "model_name": "IntProgressModel",
     "state": {
      "_dom_classes": [],
      "_model_module": "@jupyter-widgets/controls",
      "_model_module_version": "1.5.0",
      "_model_name": "IntProgressModel",
      "_view_count": null,
      "_view_module": "@jupyter-widgets/controls",
      "_view_module_version": "1.5.0",
      "_view_name": "ProgressView",
      "bar_style": "",
      "description": "Processing: ",
      "description_tooltip": null,
      "layout": "IPY_MODEL_e11b102edd994be8969aa9f041b9317a",
      "max": 11,
      "min": 0,
      "orientation": "horizontal",
      "style": "IPY_MODEL_4bcee0b386c0469ab82fcec5b37e31f8",
      "value": 11
     }
    },
    "72f263de0f6a41db9a9034ec95c92a59": {
     "model_module": "@jupyter-widgets/controls",
     "model_name": "ButtonStyleModel",
     "state": {
      "_model_module": "@jupyter-widgets/controls",
      "_model_module_version": "1.5.0",
      "_model_name": "ButtonStyleModel",
      "_view_count": null,
      "_view_module": "@jupyter-widgets/base",
      "_view_module_version": "1.2.0",
      "_view_name": "StyleView",
      "button_color": null,
      "font_weight": ""
     }
    },
    "910cb37cbcde4592b88f34dd68f1e36e": {
     "model_module": "@jupyter-widgets/output",
     "model_name": "OutputModel",
     "state": {
      "_dom_classes": [],
      "_model_module": "@jupyter-widgets/output",
      "_model_module_version": "1.0.0",
      "_model_name": "OutputModel",
      "_view_count": null,
      "_view_module": "@jupyter-widgets/output",
      "_view_module_version": "1.0.0",
      "_view_name": "OutputView",
      "layout": "IPY_MODEL_f2e718f159ab4982a58bdf66f75dd8d1",
      "msg_id": "",
      "outputs": []
     }
    },
    "a9f6f6f6a6bc49fd98dfbe3b44e29d63": {
     "model_module": "@jupyter-widgets/controls",
     "model_name": "ToggleButtonsModel",
     "state": {
      "_dom_classes": [],
      "_model_module": "@jupyter-widgets/controls",
      "_model_module_version": "1.5.0",
      "_model_name": "ToggleButtonsModel",
      "_options_labels": [
       "Frequency Plot",
       "Bigrams",
       "Trigrams",
       "Sentiment Polarity",
       "Word Cloud"
      ],
      "_view_count": null,
      "_view_module": "@jupyter-widgets/controls",
      "_view_module_version": "1.5.0",
      "_view_name": "ToggleButtonsView",
      "button_style": "",
      "description": "Plot Type:",
      "description_tooltip": null,
      "disabled": false,
      "icons": [
       ""
      ],
      "index": 3,
      "layout": "IPY_MODEL_523c1327e232428899cbcff56c3b309c",
      "style": "IPY_MODEL_4ca3574427af425d8682de862e2bd7ca",
      "tooltips": []
     }
    },
    "adce8e06645a481c9d149a60ca045963": {
     "model_module": "@jupyter-widgets/controls",
     "model_name": "DropdownModel",
     "state": {
      "_dom_classes": [],
      "_model_module": "@jupyter-widgets/controls",
      "_model_module_version": "1.5.0",
      "_model_name": "DropdownModel",
      "_options_labels": [
       "Topic 0",
       "Topic 1",
       "Topic 2",
       "Topic 3",
       "Topic 4"
      ],
      "_view_count": null,
      "_view_module": "@jupyter-widgets/controls",
      "_view_module_version": "1.5.0",
      "_view_name": "DropdownView",
      "description": "Topic #:",
      "description_tooltip": null,
      "disabled": false,
      "index": 0,
      "layout": "IPY_MODEL_11cb2eaf21284be19ab8e683f082163d",
      "style": "IPY_MODEL_44a0d93c3fdb43b9a0c0250a12c60375"
     }
    },
    "bf7f82c65f42432eafc41dee56cd041b": {
     "model_module": "@jupyter-widgets/controls",
     "model_name": "ButtonModel",
     "state": {
      "_dom_classes": [],
      "_model_module": "@jupyter-widgets/controls",
      "_model_module_version": "1.5.0",
      "_model_name": "ButtonModel",
      "_view_count": null,
      "_view_module": "@jupyter-widgets/controls",
      "_view_module_version": "1.5.0",
      "_view_name": "ButtonView",
      "button_style": "",
      "description": "Run Interact",
      "disabled": false,
      "icon": "",
      "layout": "IPY_MODEL_324422b052604b97adc6570b0000f9a2",
      "style": "IPY_MODEL_72f263de0f6a41db9a9034ec95c92a59",
      "tooltip": ""
     }
    },
    "d9c2e47984b54929a0314ca5609c3bfe": {
     "model_module": "@jupyter-widgets/controls",
     "model_name": "ProgressStyleModel",
     "state": {
      "_model_module": "@jupyter-widgets/controls",
      "_model_module_version": "1.5.0",
      "_model_name": "ProgressStyleModel",
      "_view_count": null,
      "_view_module": "@jupyter-widgets/base",
      "_view_module_version": "1.2.0",
      "_view_name": "StyleView",
      "bar_color": null,
      "description_width": ""
     }
    },
    "e11b102edd994be8969aa9f041b9317a": {
     "model_module": "@jupyter-widgets/base",
     "model_name": "LayoutModel",
     "state": {
      "_model_module": "@jupyter-widgets/base",
      "_model_module_version": "1.2.0",
      "_model_name": "LayoutModel",
      "_view_count": null,
      "_view_module": "@jupyter-widgets/base",
      "_view_module_version": "1.2.0",
      "_view_name": "LayoutView",
      "align_content": null,
      "align_items": null,
      "align_self": null,
      "border": null,
      "bottom": null,
      "display": null,
      "flex": null,
      "flex_flow": null,
      "grid_area": null,
      "grid_auto_columns": null,
      "grid_auto_flow": null,
      "grid_auto_rows": null,
      "grid_column": null,
      "grid_gap": null,
      "grid_row": null,
      "grid_template_areas": null,
      "grid_template_columns": null,
      "grid_template_rows": null,
      "height": null,
      "justify_content": null,
      "justify_items": null,
      "left": null,
      "margin": null,
      "max_height": null,
      "max_width": null,
      "min_height": null,
      "min_width": null,
      "object_fit": null,
      "object_position": null,
      "order": null,
      "overflow": null,
      "overflow_x": null,
      "overflow_y": null,
      "padding": null,
      "right": null,
      "top": null,
      "visibility": null,
      "width": null
     }
    },
    "eb87395d8e1d44bcb40e096a9d0b5cac": {
     "model_module": "@jupyter-widgets/base",
     "model_name": "LayoutModel",
     "state": {
      "_model_module": "@jupyter-widgets/base",
      "_model_module_version": "1.2.0",
      "_model_name": "LayoutModel",
      "_view_count": null,
      "_view_module": "@jupyter-widgets/base",
      "_view_module_version": "1.2.0",
      "_view_name": "LayoutView",
      "align_content": null,
      "align_items": null,
      "align_self": null,
      "border": null,
      "bottom": null,
      "display": null,
      "flex": null,
      "flex_flow": null,
      "grid_area": null,
      "grid_auto_columns": null,
      "grid_auto_flow": null,
      "grid_auto_rows": null,
      "grid_column": null,
      "grid_gap": null,
      "grid_row": null,
      "grid_template_areas": null,
      "grid_template_columns": null,
      "grid_template_rows": null,
      "height": null,
      "justify_content": null,
      "justify_items": null,
      "left": null,
      "margin": null,
      "max_height": null,
      "max_width": null,
      "min_height": null,
      "min_width": null,
      "object_fit": null,
      "object_position": null,
      "order": null,
      "overflow": null,
      "overflow_x": null,
      "overflow_y": null,
      "padding": null,
      "right": null,
      "top": null,
      "visibility": null,
      "width": null
     }
    },
    "f2976b29065740e8bfbd37b0e8c1e6e9": {
     "model_module": "@jupyter-widgets/base",
     "model_name": "LayoutModel",
     "state": {
      "_model_module": "@jupyter-widgets/base",
      "_model_module_version": "1.2.0",
      "_model_name": "LayoutModel",
      "_view_count": null,
      "_view_module": "@jupyter-widgets/base",
      "_view_module_version": "1.2.0",
      "_view_name": "LayoutView",
      "align_content": null,
      "align_items": null,
      "align_self": null,
      "border": null,
      "bottom": null,
      "display": null,
      "flex": null,
      "flex_flow": null,
      "grid_area": null,
      "grid_auto_columns": null,
      "grid_auto_flow": null,
      "grid_auto_rows": null,
      "grid_column": null,
      "grid_gap": null,
      "grid_row": null,
      "grid_template_areas": null,
      "grid_template_columns": null,
      "grid_template_rows": null,
      "height": null,
      "justify_content": null,
      "justify_items": null,
      "left": null,
      "margin": null,
      "max_height": null,
      "max_width": null,
      "min_height": null,
      "min_width": null,
      "object_fit": null,
      "object_position": null,
      "order": null,
      "overflow": null,
      "overflow_x": null,
      "overflow_y": null,
      "padding": null,
      "right": null,
      "top": null,
      "visibility": null,
      "width": null
     }
    },
    "f2e718f159ab4982a58bdf66f75dd8d1": {
     "model_module": "@jupyter-widgets/base",
     "model_name": "LayoutModel",
     "state": {
      "_model_module": "@jupyter-widgets/base",
      "_model_module_version": "1.2.0",
      "_model_name": "LayoutModel",
      "_view_count": null,
      "_view_module": "@jupyter-widgets/base",
      "_view_module_version": "1.2.0",
      "_view_name": "LayoutView",
      "align_content": null,
      "align_items": null,
      "align_self": null,
      "border": null,
      "bottom": null,
      "display": null,
      "flex": null,
      "flex_flow": null,
      "grid_area": null,
      "grid_auto_columns": null,
      "grid_auto_flow": null,
      "grid_auto_rows": null,
      "grid_column": null,
      "grid_gap": null,
      "grid_row": null,
      "grid_template_areas": null,
      "grid_template_columns": null,
      "grid_template_rows": null,
      "height": null,
      "justify_content": null,
      "justify_items": null,
      "left": null,
      "margin": null,
      "max_height": null,
      "max_width": null,
      "min_height": null,
      "min_width": null,
      "object_fit": null,
      "object_position": null,
      "order": null,
      "overflow": null,
      "overflow_x": null,
      "overflow_y": null,
      "padding": null,
      "right": null,
      "top": null,
      "visibility": null,
      "width": null
     }
    }
   }
  }
 },
 "nbformat": 4,
 "nbformat_minor": 1
}
